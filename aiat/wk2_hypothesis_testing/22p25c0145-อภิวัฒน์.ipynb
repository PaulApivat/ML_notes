{
 "cells": [
  {
   "cell_type": "code",
   "execution_count": null,
   "metadata": {},
   "outputs": [],
   "source": [
    "# ผูจ้ดัการฝ่ายการตลาดแชมพูยี่ห้อหน่ึงตอ้งการศึกษาอิทธิพลของระดบั ช้นั วางสินคา้ที่มีต่อยอดขาย ผลิตภณั ฑข์องตน \n",
    "# โดยเชื่อว่าผลิตภณั ฑข์องตนที่วางช้นั ระดบั สายตาจะมียอดขายสูงกว่าที่วางระดบั ต่า กว่าสายตา \n",
    "# จากการสุ่มห้างสรรพสินคา้มา 10 แห่งแล้วบนั ทึกยอดขายในช่วง 2 สัปดาห์ \n",
    "# โดย สัปดาห์หน่ึงวางบนช้ันระดับสายตา และอีกสัปดาห์หน่ึงวางระดบั ต่า กว่าสายตาความเชื่อของ \n",
    "# ผจู้ดัการฝ่ายการตลาดผนู้้ีถูกตอ้งหรือไม่โดยขอ้มูลที่บนั ทึก(หน่วย: พันบาท/สัปดาห์) มีดงัน้ี \n",
    "\n"
   ]
  },
  {
   "cell_type": "code",
   "execution_count": 19,
   "metadata": {},
   "outputs": [
    {
     "data": {
      "text/html": [
       "<div>\n",
       "<style scoped>\n",
       "    .dataframe tbody tr th:only-of-type {\n",
       "        vertical-align: middle;\n",
       "    }\n",
       "\n",
       "    .dataframe tbody tr th {\n",
       "        vertical-align: top;\n",
       "    }\n",
       "\n",
       "    .dataframe thead th {\n",
       "        text-align: right;\n",
       "    }\n",
       "</style>\n",
       "<table border=\"1\" class=\"dataframe\">\n",
       "  <thead>\n",
       "    <tr style=\"text-align: right;\">\n",
       "      <th></th>\n",
       "      <th>ห้าง 1</th>\n",
       "      <th>ห้าง 2</th>\n",
       "      <th>ห้าง 3</th>\n",
       "      <th>ห้าง 4</th>\n",
       "      <th>ห้าง 5</th>\n",
       "      <th>ห้าง 6</th>\n",
       "      <th>ห้าง 7</th>\n",
       "      <th>ห้าง 8</th>\n",
       "      <th>ห้าง 9</th>\n",
       "      <th>ห้าง 10</th>\n",
       "    </tr>\n",
       "  </thead>\n",
       "  <tbody>\n",
       "    <tr>\n",
       "      <th>ระดับสายตา(X1)</th>\n",
       "      <td>181</td>\n",
       "      <td>172</td>\n",
       "      <td>190</td>\n",
       "      <td>187</td>\n",
       "      <td>210</td>\n",
       "      <td>202</td>\n",
       "      <td>166</td>\n",
       "      <td>173</td>\n",
       "      <td>183</td>\n",
       "      <td>184</td>\n",
       "    </tr>\n",
       "    <tr>\n",
       "      <th>ต่ำกว่าระดับสายตา(X2)</th>\n",
       "      <td>178</td>\n",
       "      <td>172</td>\n",
       "      <td>185</td>\n",
       "      <td>184</td>\n",
       "      <td>201</td>\n",
       "      <td>201</td>\n",
       "      <td>160</td>\n",
       "      <td>168</td>\n",
       "      <td>180</td>\n",
       "      <td>179</td>\n",
       "    </tr>\n",
       "    <tr>\n",
       "      <th>ผลต่าง(D)</th>\n",
       "      <td>3</td>\n",
       "      <td>0</td>\n",
       "      <td>5</td>\n",
       "      <td>3</td>\n",
       "      <td>9</td>\n",
       "      <td>1</td>\n",
       "      <td>6</td>\n",
       "      <td>5</td>\n",
       "      <td>3</td>\n",
       "      <td>5</td>\n",
       "    </tr>\n",
       "  </tbody>\n",
       "</table>\n",
       "</div>"
      ],
      "text/plain": [
       "                       ห้าง 1  ห้าง 2  ห้าง 3  ห้าง 4  ห้าง 5  ห้าง 6  ห้าง 7  \\\n",
       "ระดับสายตา(X1)            181     172     190     187     210     202     166   \n",
       "ต่ำกว่าระดับสายตา(X2)     178     172     185     184     201     201     160   \n",
       "ผลต่าง(D)                   3       0       5       3       9       1       6   \n",
       "\n",
       "                       ห้าง 8  ห้าง 9  ห้าง 10  \n",
       "ระดับสายตา(X1)            173     183      184  \n",
       "ต่ำกว่าระดับสายตา(X2)     168     180      179  \n",
       "ผลต่าง(D)                   5       3        5  "
      ]
     },
     "execution_count": 19,
     "metadata": {},
     "output_type": "execute_result"
    }
   ],
   "source": [
    "import pandas as pd\n",
    "\n",
    "values = [(181,172,190,187,210,202,166,173,183,184),\n",
    "        (178,172,185,184,201,201,160,168,180,179)]\n",
    "\n",
    "df = pd.DataFrame(values, columns = ['ห้าง 1', 'ห้าง 2', 'ห้าง 3', 'ห้าง 4', 'ห้าง 5', 'ห้าง 6', 'ห้าง 7', 'ห้าง 8', 'ห้าง 9', 'ห้าง 10'],\n",
    "                 index = ['ระดับสายตา(X1)', 'ต่ำกว่าระดับสายตา(X2)'])\n",
    "\n",
    "# find difference using .loc()\n",
    "df.loc['ผลต่าง(D)'] = df.loc['ระดับสายตา(X1)']-df.loc['ต่ำกว่าระดับสายตา(X2)']\n",
    "\n",
    "df\n"
   ]
  },
  {
   "cell_type": "code",
   "execution_count": null,
   "metadata": {},
   "outputs": [],
   "source": [
    "# ถ้าให้ Mu_D แทน ผลต่างยอดขายผลิตภัณฑ์ที่วางในระดบั สายตาและต่า กวา่ สายตา \n",
    "# 1.1 ขอ้ใดถูกตอ้งเกี่ยวกบั ต้งัสมมติฐาน\n",
    "\n",
    "# คำตอบ\n",
    "\n",
    "B)     \n",
    "       Null Hypothesis (HO): Mu_D = 0\n",
    "Alternative Hypothesis (H1): Mu_D > 0"
   ]
  },
  {
   "cell_type": "code",
   "execution_count": null,
   "metadata": {},
   "outputs": [],
   "source": [
    "# 1.2 จากขอ้มูลผลต่างตวัอยา่ งจะเลือกสถิติทดสอบในขอ้ใด \n",
    "\n",
    "# คำตอบ\n",
    "\n",
    "C) \n",
    "\n",
    "t-test กรณีผลต่างค่าเฉลี่ยประชากร2 กลุ่ม กรณีท้งัสองกลุ่มเป็นอิสระต่อกัน\n"
   ]
  },
  {
   "cell_type": "code",
   "execution_count": 22,
   "metadata": {},
   "outputs": [
    {
     "data": {
      "text/plain": [
       "Ttest_indResult(statistic=0.6742850048342911, pvalue=0.5086980853323941)"
      ]
     },
     "execution_count": 22,
     "metadata": {},
     "output_type": "execute_result"
    }
   ],
   "source": [
    "# 1.3 จากขอ้มูลผลต่างตวัอยา่ งจงคา นวณค่า p-value ที่ได้จาก สถิติทดสอบในข้อ 1.2 (ทศนิยม 5  ตา แหน่ง) \n",
    "\n",
    "from scipy import stats\n",
    "import numpy as np\n",
    "\n",
    "values[0]  # ระดับสายตา(X1)\n",
    "values[1]  # ต่ำกว่าระดับสายตา(X2)\n",
    "\n",
    "# คำตอบ\n",
    "stats.ttest_ind(values[0], values[1], equal_var=True)"
   ]
  },
  {
   "cell_type": "code",
   "execution_count": null,
   "metadata": {},
   "outputs": [],
   "source": [
    "# 1.4 ถา้กา หนด ระดบั นยัสา คญั เท่ากบั 0.01 จากข้อ1.1 -1.3 \n",
    "# ความเชื่อของผู้จัดการฝ่ ายการตลาดถูกต้องหรือไม่ เพราะเหตุใด\n",
    "\n",
    "# คำตอบ\n",
    "\n",
    "At p-value < 0.01, we fail to reject the Null Hypothesis. The difference between 'ระดับสายตา(X1)'\n",
    "and 'ต่ำกว่าระดับสายตา(X2)' is not big enough to conclude a meaningful difference. "
   ]
  }
 ],
 "metadata": {
  "kernelspec": {
   "display_name": "Python 3",
   "language": "python",
   "name": "python3"
  },
  "language_info": {
   "codemirror_mode": {
    "name": "ipython",
    "version": 3
   },
   "file_extension": ".py",
   "mimetype": "text/x-python",
   "name": "python",
   "nbconvert_exporter": "python",
   "pygments_lexer": "ipython3",
   "version": "3.8.3"
  }
 },
 "nbformat": 4,
 "nbformat_minor": 4
}
