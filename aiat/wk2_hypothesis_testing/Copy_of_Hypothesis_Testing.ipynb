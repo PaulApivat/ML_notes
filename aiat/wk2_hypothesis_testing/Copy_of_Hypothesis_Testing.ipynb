{
  "nbformat": 4,
  "nbformat_minor": 0,
  "metadata": {
    "colab": {
      "name": "Copy of Hypothesis Testing.ipynb",
      "provenance": [],
      "collapsed_sections": []
    },
    "kernelspec": {
      "name": "python3",
      "display_name": "Python 3"
    }
  },
  "cells": [
    {
      "cell_type": "markdown",
      "metadata": {
        "id": "SBhfOoW9pyDN"
      },
      "source": [
        "\n",
        "**Hypothesis Testing Steps:**\n",
        "1.   Set assumption (One-tail or two tail test)\n",
        "2.   Set level of significance (alpha) \n",
        "3.   Select a statistical test (z-test, t-test, f-test, chi-square)\n",
        "4.   Draw the conclusion based on p-value \n",
        "\n",
        "\n",
        "\n",
        "\n",
        "\n",
        "\n"
      ]
    },
    {
      "cell_type": "markdown",
      "metadata": {
        "id": "bLrdmR4_rWpv"
      },
      "source": [
        "**Hypothesis testing for a population mean** \n",
        "\n",
        "***Condition:*** The sample randomly selected from normal distribution.\n",
        "\n",
        "scipy.stats.ttest_1samp(a, popmean, axis=0, nan_policy='propagate')\n",
        "\n",
        "Calculate the T-test for the mean of ONE group of scores.\n",
        "\n",
        "This is a two-sided test for the null hypothesis that the expected value (mean) of a sample of independent observations a is equal to the given population mean, popmean."
      ]
    },
    {
      "cell_type": "code",
      "metadata": {
        "id": "B943_2Vmperx",
        "outputId": "e01f1dbb-39bb-40fd-e989-16f867e40902",
        "colab": {
          "base_uri": "https://localhost:8080/",
          "height": 68
        }
      },
      "source": [
        "# Draw samples from a normal distribution \n",
        "from scipy import stats\n",
        "import numpy as np\n",
        "np.random.seed(7654567)  # fix seed to get the same result\n",
        "rvs = stats.norm.rvs(loc=5, scale=10, size=(50,1))\n",
        "rvsmean=np.mean(rvs)\n",
        "print(rvsmean)\n",
        "# 1. Set assumption: mu=5.0 vs H1: mu!=5 (Two-tail testing)\n",
        "mu0=5.0\n",
        "tail=2 # Valid value of tail are -1,1,2\n",
        "\n",
        "# 2. Set level of significance:\n",
        "alpha = 0.01\n",
        "\n",
        "# 3. Select a statistical test: t-test\n",
        "tval,pval =stats.ttest_1samp(rvs,mu0)\n",
        "\n",
        "# 4. Draw the conclusion based on p-value.  \n",
        "print('p-value is : %f' % pval)\n",
        "if pval<alpha:\n",
        "    print(\" Reject the null hypothesis (H0)\")\n",
        "else:\n",
        "    print(\" Fail to reject the null hypothesis (H0)\")"
      ],
      "execution_count": 1,
      "outputs": [
        {
          "output_type": "stream",
          "text": [
            "2.9945846047438582\n",
            "p-value is : 0.107147\n",
            " Fail to reject the null hypothesis (H0)\n"
          ],
          "name": "stdout"
        }
      ]
    },
    {
      "cell_type": "code",
      "metadata": {
        "id": "_An4bUmsuSFT",
        "outputId": "eae67c8d-9687-4293-b689-227bcc0aadbc",
        "colab": {
          "base_uri": "https://localhost:8080/",
          "height": 51
        }
      },
      "source": [
        "# 1. Set assumption: mu=0.0 vs H1: mu > 0 (One-tail testing)\n",
        "mu0=3\n",
        "tail=1 # Valid value of tail are -1,1,2\n",
        "\n",
        "# 2. Set level of significance:\n",
        "alpha = 0.05\n",
        "\n",
        "# 3. Select a statistical test: t-test\n",
        "tval,pval =stats.ttest_1samp(rvs,mu0)\n",
        "\n",
        "# 4. Draw the conclusion based on p-value.\n",
        "pval=pval/2.0 \n",
        "if tail==-1.0:\n",
        "    print(\"p-value: %f\" % pval)\n",
        "    if (pval<alpha and tval <0) :\n",
        "        print(\" Reject the null hypothesis (H0)\")\n",
        "    else:\n",
        "        print(\" Fail to reject the null hypothesis (H0)\")\n",
        "else : \n",
        "    print(\"p-value: %f\" % pval)\n",
        "    if (pval<alpha and tval > 0) :\n",
        "        print(\" Reject the null hypothesis (H0)\")\n",
        "    else:\n",
        "        print(\" Fail to reject the null hypothesis (H0)\")"
      ],
      "execution_count": 3,
      "outputs": [
        {
          "output_type": "stream",
          "text": [
            "p-value: 0.498241\n",
            " Fail to reject the null hypothesis (H0)\n"
          ],
          "name": "stdout"
        }
      ]
    },
    {
      "cell_type": "code",
      "metadata": {
        "id": "E-UZecADwhgE",
        "outputId": "6fed2f60-e785-4722-f1f2-7ba3627db03a",
        "colab": {
          "base_uri": "https://localhost:8080/",
          "height": 68
        }
      },
      "source": [
        "samp=[8.6,6.4,7.2,10.5,8.7,10.7,5.4,5.7,3.9,4.5,3.6,7.6,6.8,10.9,10.2,7.9,9.4,7.9]\n",
        "samp_mean=np.mean(samp)\n",
        "print('Sample mean is %f' % samp_mean)\n",
        "from scipy.stats import ttest_1samp\n",
        "\n",
        "# 1. Set assumption: mu=9.4 vs H1: mu < 9.4 (One-tail testing)\n",
        "mu0=9.4\n",
        "tail=-1 # Valid value of tail are -1,1,2\n",
        "\n",
        "# 2. Set level of significance:\n",
        "alpha = 0.01\n",
        "\n",
        "# 3. Select a statistical test: t-test\n",
        "tval,pval =stats.ttest_1samp(samp,mu0)\n",
        "\n",
        "# 4. Draw the conclusion based on p-value.\n",
        "if tail==-1.0:\n",
        "    pval=pval/2.0\n",
        "    print(\"p-value: %f\" % pval)\n",
        "    if (pval<alpha and tval <0) :\n",
        "        print(\" Reject the null hypothesis (H0)\")\n",
        "    else:\n",
        "        print(\" Fail to reject the null hypothesis (H0)\")\n",
        "elif (tail==1.0) : \n",
        "    pval=pval/2.0\n",
        "    print(\"p-value: %f\" % pval)\n",
        "    if (pval<alpha and tval > 0) :\n",
        "        print(\" Reject the null hypothesis (H0)\")\n",
        "    else:\n",
        "        print(\" Fail to reject the null hypothesis (H0)\")\n",
        "else:\n",
        "    print(\"p-value: %f\" % pval)\n",
        "    if pval<alpha:\n",
        "        print(\" Reject the null hypothesis (H0)\")\n",
        "    else:\n",
        "        print(\" Fail to reject the null hypothesis (H0)\")"
      ],
      "execution_count": 5,
      "outputs": [
        {
          "output_type": "stream",
          "text": [
            "Sample mean is 7.550000\n",
            "p-value: 0.001749\n",
            " Reject the null hypothesis (H0)\n"
          ],
          "name": "stdout"
        }
      ]
    },
    {
      "cell_type": "markdown",
      "metadata": {
        "id": "ADqtvRIhDYnM"
      },
      "source": [
        "**INDEPDENT T-TEST USING SCIPY.STATS**\n",
        "\n",
        "This method conducts the independent sample t-test and returns only the t test statistic and it's associated p-value.\n",
        "Calculate the T-test for the means of two independent samples of scores.\n",
        "This is a two-sided test for the null hypothesis that 2 independent samples have identical average (expected) values. This test assumes that the populations have identical variances by default."
      ]
    },
    {
      "cell_type": "code",
      "metadata": {
        "id": "puzXt6SnCAYS",
        "outputId": "ffafcfa9-d6e0-4ae3-d10e-6e249d415f5f",
        "colab": {
          "base_uri": "https://localhost:8080/",
          "height": 34
        }
      },
      "source": [
        "acer=[81,86,71,77,80,81,75,72,98,74]\n",
        "hp=[89,65,69,64,57,58,55,57,65,68,72,71,69]\n",
        "stats.ttest_ind(acer,hp,equal_var=True)"
      ],
      "execution_count": 6,
      "outputs": [
        {
          "output_type": "execute_result",
          "data": {
            "text/plain": [
              "Ttest_indResult(statistic=3.7272668623325207, pvalue=0.0012447850703981899)"
            ]
          },
          "metadata": {
            "tags": []
          },
          "execution_count": 6
        }
      ]
    },
    {
      "cell_type": "markdown",
      "metadata": {
        "id": "2BMXFbxpJBgR"
      },
      "source": [
        "**ASSUMPTION CHECK**\n",
        "\n",
        "Idependence\n",
        "\n",
        "Normality\n",
        "\n",
        "Homogeneity Of Varaince"
      ]
    },
    {
      "cell_type": "code",
      "metadata": {
        "id": "i0GQwqsYH7CS",
        "outputId": "81f75702-81b8-45c8-e07e-72a4ca123b96",
        "colab": {
          "base_uri": "https://localhost:8080/",
          "height": 34
        }
      },
      "source": [
        "wval,pval=stats.shapiro(acer)\n",
        "print('p-value for normality test of Male:  %f' % pval)"
      ],
      "execution_count": 7,
      "outputs": [
        {
          "output_type": "stream",
          "text": [
            "p-value for normality test of Male:  0.122289\n"
          ],
          "name": "stdout"
        }
      ]
    },
    {
      "cell_type": "code",
      "metadata": {
        "id": "zS3AosF2IK_B",
        "outputId": "03f6c30a-47f8-48a3-a5ab-92fcede2b488",
        "colab": {
          "base_uri": "https://localhost:8080/",
          "height": 34
        }
      },
      "source": [
        "wval,pval=stats.shapiro(hp)\n",
        "print('p-value for normality test of Male:  %f' % pval)"
      ],
      "execution_count": 8,
      "outputs": [
        {
          "output_type": "stream",
          "text": [
            "p-value for normality test of Male:  0.075686\n"
          ],
          "name": "stdout"
        }
      ]
    },
    {
      "cell_type": "code",
      "metadata": {
        "id": "jTYqb48dIQ8k",
        "outputId": "d2ca6ced-f715-4ab3-e652-0223481eb659",
        "colab": {
          "base_uri": "https://localhost:8080/",
          "height": 34
        }
      },
      "source": [
        "stats.levene(acer,hp)"
      ],
      "execution_count": 9,
      "outputs": [
        {
          "output_type": "execute_result",
          "data": {
            "text/plain": [
              "LeveneResult(statistic=0.06067964761070495, pvalue=0.8078167782407861)"
            ]
          },
          "metadata": {
            "tags": []
          },
          "execution_count": 9
        }
      ]
    },
    {
      "cell_type": "code",
      "metadata": {
        "id": "FW4GlJ9cKxED"
      },
      "source": [
        ""
      ],
      "execution_count": null,
      "outputs": []
    }
  ]
}