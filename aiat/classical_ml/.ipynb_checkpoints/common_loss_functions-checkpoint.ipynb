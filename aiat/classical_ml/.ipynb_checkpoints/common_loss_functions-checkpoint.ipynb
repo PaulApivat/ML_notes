{
 "cells": [
  {
   "cell_type": "code",
   "execution_count": 2,
   "metadata": {},
   "outputs": [
    {
     "name": "stdout",
     "output_type": "stream",
     "text": [
      "d is: ['0.00000000', '0.16600000', '0.33300000']\n",
      "p is: ['0.00000000', '0.25400000', '0.99800000']\n",
      "rms error is:0.3872849941150143\n"
     ]
    }
   ],
   "source": [
    "# Regression Losses\n",
    "\n",
    "# Mean Square Error MSE (L2 loss)\n",
    "\n",
    "import numpy as np\n",
    "\n",
    "y_hat = np.array([0.000, 0.166, 0.333])\n",
    "y_true = np.array([0.000, 0.254, 0.998])\n",
    "\n",
    "def rmse(predictions, targets):\n",
    "    differences = predictions - targets\n",
    "    differences_squared = differences**2\n",
    "    mean_of_differences_squared = differences_squared.mean()\n",
    "    rmse_val = np.sqrt(mean_of_differences_squared)\n",
    "    return rmse_val\n",
    "\n",
    "print(\"d is: \" + str([\"%.8f\" % elem for elem in y_hat]))\n",
    "print(\"p is: \" + str([\"%.8f\" % elem for elem in y_true]))\n",
    "\n",
    "rmse_val = rmse(y_hat, y_true)\n",
    "print(\"rms error is:\" + str(rmse_val))\n",
    "\n",
    "# source: https://towardsdatascience.com/common-loss-functions-in-machine-learning-46af0ffc4d23#:~:text=It's%20a%20method%20of%20evaluating,reduce%20the%20error%20in%20prediction."
   ]
  },
  {
   "cell_type": "code",
   "execution_count": 3,
   "metadata": {},
   "outputs": [
    {
     "name": "stdout",
     "output_type": "stream",
     "text": [
      "d is: ['0.00000000', '0.16600000', '0.33300000']\n",
      "p is: ['0.00000000', '0.25400000', '0.99800000']\n",
      "mae error is: 0.251\n"
     ]
    }
   ],
   "source": [
    "# Regression Losses\n",
    "\n",
    "# Mean Absolute Error MAE (L1 loss)\n",
    "\n",
    "\n",
    "y_hat = np.array([0.000, 0.166, 0.333])\n",
    "y_true = np.array([0.000, 0.254, 0.998])\n",
    "\n",
    "print(\"d is: \" + str([\"%.8f\" % elem for elem in y_hat]))\n",
    "print(\"p is: \" + str([\"%.8f\" % elem for elem in y_true]))\n",
    "\n",
    "def mae(predictions, targets):\n",
    "    differences = predictions - targets\n",
    "    absolute_differences = np.absolute(differences)\n",
    "    mean_absolute_differences = absolute_differences.mean()\n",
    "    return mean_absolute_differences\n",
    "\n",
    "mae_val = mae(y_hat, y_true)\n",
    "print(\"mae error is: \" + str(mae_val))"
   ]
  },
  {
   "cell_type": "code",
   "execution_count": 22,
   "metadata": {},
   "outputs": [
    {
     "data": {
      "text/html": [
       "<div>\n",
       "<style scoped>\n",
       "    .dataframe tbody tr th:only-of-type {\n",
       "        vertical-align: middle;\n",
       "    }\n",
       "\n",
       "    .dataframe tbody tr th {\n",
       "        vertical-align: top;\n",
       "    }\n",
       "\n",
       "    .dataframe thead th {\n",
       "        text-align: right;\n",
       "    }\n",
       "</style>\n",
       "<table border=\"1\" class=\"dataframe\">\n",
       "  <thead>\n",
       "    <tr style=\"text-align: right;\">\n",
       "      <th></th>\n",
       "      <th>Image#1</th>\n",
       "      <th>Image#2</th>\n",
       "      <th>Image#3</th>\n",
       "    </tr>\n",
       "  </thead>\n",
       "  <tbody>\n",
       "    <tr>\n",
       "      <th>Dog</th>\n",
       "      <td>-0.39</td>\n",
       "      <td>-4.61</td>\n",
       "      <td>1.03</td>\n",
       "    </tr>\n",
       "    <tr>\n",
       "      <th>Cat</th>\n",
       "      <td>1.49</td>\n",
       "      <td>3.28</td>\n",
       "      <td>-2.37</td>\n",
       "    </tr>\n",
       "    <tr>\n",
       "      <th>Horse</th>\n",
       "      <td>4.21</td>\n",
       "      <td>1.46</td>\n",
       "      <td>-2.27</td>\n",
       "    </tr>\n",
       "  </tbody>\n",
       "</table>\n",
       "</div>"
      ],
      "text/plain": [
       "       Image#1  Image#2  Image#3\n",
       "Dog      -0.39    -4.61     1.03\n",
       "Cat       1.49     3.28    -2.37\n",
       "Horse     4.21     1.46    -2.27"
      ]
     },
     "execution_count": 22,
     "metadata": {},
     "output_type": "execute_result"
    }
   ],
   "source": [
    "# Classification Losses\n",
    "# Support Vector Machines\n",
    "\n",
    "# First: Create List of Tuples\n",
    "# Second: Create dataframe from List of Tuples with Columns & Row names\n",
    "\n",
    "import pandas as pd\n",
    "\n",
    "animals = [(-0.39, -4.61, 1.03),\n",
    "           (1.49, 3.28, -2.37),\n",
    "           (4.21, 1.46, -2.27)]\n",
    "\n",
    "df = pd.DataFrame(animals, columns = ['Image#1', 'Image#2', 'Image#3'],\n",
    "                 index = ['Dog', 'Cat', 'Horse'])\n",
    "\n",
    "df\n"
   ]
  },
  {
   "cell_type": "code",
   "execution_count": 24,
   "metadata": {},
   "outputs": [
    {
     "data": {
      "text/plain": [
       "-2.37"
      ]
     },
     "execution_count": 24,
     "metadata": {},
     "output_type": "execute_result"
    }
   ],
   "source": [
    "# selecting specific cells in pandas dataframe\n",
    "# iloc is row-first\n",
    "# [1] = second row (second tuple)\n",
    "# [2] = third value in the tuple\n",
    "\n",
    "df.iloc[1][2]"
   ]
  },
  {
   "cell_type": "code",
   "execution_count": 11,
   "metadata": {},
   "outputs": [
    {
     "data": {
      "text/plain": [
       "8.48"
      ]
     },
     "execution_count": 11,
     "metadata": {},
     "output_type": "execute_result"
    }
   ],
   "source": [
    "# Hinge Loss for 3 training examples:\n",
    "\n",
    "# 1st training example: high loss very wrong prediction (8.48)\n",
    "max(0, (1.49) - (-0.39) + 1) + max(0, (4.21) - (-0.39) + 1)\n",
    "\n",
    "# 2nd training example: zero loss as correct prediction (0)\n",
    "max(0, (-4.61) - (3.28) + 1) + max(0, (1.46) - (3.28) + 1)\n",
    "\n",
    "# 3rd training example: high loss as very wrong prediction (5.2)\n",
    "max(0, (1.03) - (-2.27) + 1) + max(0, (-2.37) - (-2.27) + 1)"
   ]
  },
  {
   "cell_type": "code",
   "execution_count": 25,
   "metadata": {},
   "outputs": [
    {
     "data": {
      "text/plain": [
       "8.48"
      ]
     },
     "execution_count": 25,
     "metadata": {},
     "output_type": "execute_result"
    }
   ],
   "source": [
    "# 1st training example: high loss very wrong prediction (8.48) using .iloc method\n",
    "max(0, (df.iloc[1][0]) - (df.iloc[0][0]) + 1) + max(0, (df.iloc[2][0]) - (df.iloc[0][0]) + 1)"
   ]
  },
  {
   "cell_type": "code",
   "execution_count": 4,
   "metadata": {},
   "outputs": [
    {
     "name": "stdout",
     "output_type": "stream",
     "text": [
      "Cross entropy loss is: 0.7135329699138555\n"
     ]
    }
   ],
   "source": [
    "# Cross Entropy Loss / Negative Log Likelihood\n",
    "\n",
    "predictions = np.array([[0.25, 0.25, 0.25, 0.25],\n",
    "                       [0.01, 0.01, 0.01, 0.96]])\n",
    "\n",
    "targets = np.array([[0,0,0,1],\n",
    "                    [0,0,0,1]])\n",
    "\n",
    "def cross_entropy(predictions, targets, epsilon=1e-10):\n",
    "    predictions = np.clip(predictions, epsilon, 1. - epsilon)\n",
    "    N = predictions.shape[0]\n",
    "    ce_loss = -np.sum(np.sum(targets * np.log(predictions + 1e-5)))/N\n",
    "    return ce_loss\n",
    "\n",
    "cross_entropy_loss = cross_entropy(predictions, targets)\n",
    "print(\"Cross entropy loss is: \" + str(cross_entropy_loss))"
   ]
  }
 ],
 "metadata": {
  "kernelspec": {
   "display_name": "Python 3",
   "language": "python",
   "name": "python3"
  },
  "language_info": {
   "codemirror_mode": {
    "name": "ipython",
    "version": 3
   },
   "file_extension": ".py",
   "mimetype": "text/x-python",
   "name": "python",
   "nbconvert_exporter": "python",
   "pygments_lexer": "ipython3",
   "version": "3.8.3"
  }
 },
 "nbformat": 4,
 "nbformat_minor": 4
}
