{
  "nbformat": 4,
  "nbformat_minor": 0,
  "metadata": {
    "colab": {
      "name": "RF step by step.ipynb",
      "provenance": []
    },
    "kernelspec": {
      "name": "python3",
      "display_name": "Python 3"
    }
  },
  "cells": [
    {
      "cell_type": "markdown",
      "metadata": {
        "id": "UFINGsKDcXeL"
      },
      "source": [
        "### 0 import decision tree algorithm and load data"
      ]
    },
    {
      "cell_type": "code",
      "metadata": {
        "id": "CV0rgGbZI2IU"
      },
      "source": [
        "from sklearn.tree import DecisionTreeClassifier\n",
        "from sklearn.datasets import load_digits"
      ],
      "execution_count": null,
      "outputs": []
    },
    {
      "cell_type": "code",
      "metadata": {
        "id": "6mqDzNU_HpVF"
      },
      "source": [
        "digits = load_digits()"
      ],
      "execution_count": null,
      "outputs": []
    },
    {
      "cell_type": "code",
      "metadata": {
        "id": "Z9AKwrc3IBxs"
      },
      "source": [
        "digits.data.shape"
      ],
      "execution_count": null,
      "outputs": []
    },
    {
      "cell_type": "code",
      "metadata": {
        "id": "QFJ19mcuICiv"
      },
      "source": [
        "digits.target"
      ],
      "execution_count": null,
      "outputs": []
    },
    {
      "cell_type": "code",
      "metadata": {
        "id": "lJ7Sh8VAIcNP"
      },
      "source": [
        "digits.target.shape"
      ],
      "execution_count": null,
      "outputs": []
    },
    {
      "cell_type": "markdown",
      "metadata": {
        "id": "2XT4gUZTI_tx"
      },
      "source": [
        "#### 0.1 split data into train and validation"
      ]
    },
    {
      "cell_type": "code",
      "metadata": {
        "id": "7V68kk8AJX9f"
      },
      "source": [
        "from sklearn.model_selection import train_test_split"
      ],
      "execution_count": null,
      "outputs": []
    },
    {
      "cell_type": "code",
      "metadata": {
        "id": "h4KzKifwJJbR"
      },
      "source": [
        "X_train, X_test, y_train, y_test = train_test_split(digits.data, digits.target, test_size=0.2, random_state=6)"
      ],
      "execution_count": null,
      "outputs": []
    },
    {
      "cell_type": "code",
      "metadata": {
        "id": "Jvncu7Q_Jk1a"
      },
      "source": [
        "y_test"
      ],
      "execution_count": null,
      "outputs": []
    },
    {
      "cell_type": "markdown",
      "metadata": {
        "id": "qA42mPojJtNN"
      },
      "source": [
        "#### 0.2 test decision tree performance"
      ]
    },
    {
      "cell_type": "code",
      "metadata": {
        "id": "LsBKcdNvKLXO"
      },
      "source": [
        "tree = DecisionTreeClassifier(random_state=0)"
      ],
      "execution_count": null,
      "outputs": []
    },
    {
      "cell_type": "code",
      "metadata": {
        "id": "9H9NBhtsJqEA"
      },
      "source": [
        "tree.fit(X_train, y_train)"
      ],
      "execution_count": null,
      "outputs": []
    },
    {
      "cell_type": "code",
      "metadata": {
        "id": "qQ95qKg8JmbJ"
      },
      "source": [
        "tree.score(X_test,y_test)"
      ],
      "execution_count": null,
      "outputs": []
    },
    {
      "cell_type": "markdown",
      "metadata": {
        "id": "6n3ffM-kKuqk"
      },
      "source": [
        "### 1 Bootstrap sampling the training data"
      ]
    },
    {
      "cell_type": "code",
      "metadata": {
        "id": "EmmwDL0BKpRi"
      },
      "source": [
        "N = 5  # number of trees in the forest"
      ],
      "execution_count": null,
      "outputs": []
    },
    {
      "cell_type": "code",
      "metadata": {
        "id": "sfgulUP2LkQC"
      },
      "source": [
        "training_data = list()\n",
        "for i in range(N):\n",
        "    X_sp, X_dp, y_sp, y_dp = train_test_split(X_train, y_train, test_size=0.2, random_state = i+6)\n",
        "    training_data.append({'X':X_sp,'y':y_sp})"
      ],
      "execution_count": null,
      "outputs": []
    },
    {
      "cell_type": "markdown",
      "metadata": {
        "id": "Mw7wa0dbMnPR"
      },
      "source": [
        "### 2 Train separately"
      ]
    },
    {
      "cell_type": "code",
      "metadata": {
        "id": "fYu5jkrSMJ68"
      },
      "source": [
        "classifier_forest = list()\n",
        "for i in range(N):\n",
        "    tree = DecisionTreeClassifier(max_features='sqrt',random_state=i+2)\n",
        "    tree.fit(training_data[i]['X'], training_data[i]['y'])\n",
        "    classifier_forest.append(tree)"
      ],
      "execution_count": null,
      "outputs": []
    },
    {
      "cell_type": "markdown",
      "metadata": {
        "id": "84jMnZUqPNml"
      },
      "source": [
        "### 3 To predict, aggregating"
      ]
    },
    {
      "cell_type": "code",
      "metadata": {
        "id": "LIUJjxuqMamF"
      },
      "source": [
        "prediction = list()\n",
        "for i in range(N):\n",
        "    pred = classifier_forest[i].predict(X_test)\n",
        "    #print(pred)\n",
        "    prediction.append(pred)"
      ],
      "execution_count": null,
      "outputs": []
    },
    {
      "cell_type": "code",
      "metadata": {
        "id": "r_qjIhQhQx1l"
      },
      "source": [
        "from scipy import stats\n",
        "import numpy as np"
      ],
      "execution_count": null,
      "outputs": []
    },
    {
      "cell_type": "code",
      "metadata": {
        "id": "nn1pBS36TE8G"
      },
      "source": [
        "m = stats.mode(np.array(prediction))"
      ],
      "execution_count": null,
      "outputs": []
    },
    {
      "cell_type": "code",
      "metadata": {
        "id": "XzyunAqFUznt"
      },
      "source": [
        "m"
      ],
      "execution_count": null,
      "outputs": []
    },
    {
      "cell_type": "markdown",
      "metadata": {
        "id": "_Byr_FJtUbme"
      },
      "source": [
        "### 4 Evaluation"
      ]
    },
    {
      "cell_type": "code",
      "metadata": {
        "id": "rwwtz-2QUSTv"
      },
      "source": [
        "from sklearn.metrics import accuracy_score"
      ],
      "execution_count": null,
      "outputs": []
    },
    {
      "cell_type": "code",
      "metadata": {
        "id": "MHRr17nXUS_Y"
      },
      "source": [
        "accuracy_score(y_test, m.mode.squeeze())"
      ],
      "execution_count": null,
      "outputs": []
    },
    {
      "cell_type": "code",
      "metadata": {
        "id": "IdsS6T5CX8fm"
      },
      "source": [
        ""
      ],
      "execution_count": null,
      "outputs": []
    }
  ]
}