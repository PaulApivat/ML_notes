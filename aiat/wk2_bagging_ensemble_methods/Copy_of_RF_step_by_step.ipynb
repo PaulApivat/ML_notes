{
  "nbformat": 4,
  "nbformat_minor": 0,
  "metadata": {
    "colab": {
      "name": "Copy of RF step by step.ipynb",
      "provenance": [],
      "collapsed_sections": []
    },
    "kernelspec": {
      "name": "python3",
      "display_name": "Python 3"
    }
  },
  "cells": [
    {
      "cell_type": "markdown",
      "metadata": {
        "id": "UFINGsKDcXeL"
      },
      "source": [
        "### 0 import decision tree algorithm and load data"
      ]
    },
    {
      "cell_type": "code",
      "metadata": {
        "id": "CV0rgGbZI2IU"
      },
      "source": [
        "from sklearn.tree import DecisionTreeClassifier\n",
        "from sklearn.datasets import load_digits"
      ],
      "execution_count": 1,
      "outputs": []
    },
    {
      "cell_type": "code",
      "metadata": {
        "id": "6mqDzNU_HpVF"
      },
      "source": [
        "digits = load_digits()"
      ],
      "execution_count": 2,
      "outputs": []
    },
    {
      "cell_type": "code",
      "metadata": {
        "id": "Z9AKwrc3IBxs",
        "outputId": "d3c9e138-d153-4e34-bf52-d8d3c2ce2095",
        "colab": {
          "base_uri": "https://localhost:8080/",
          "height": 34
        }
      },
      "source": [
        "digits.data.shape"
      ],
      "execution_count": 3,
      "outputs": [
        {
          "output_type": "execute_result",
          "data": {
            "text/plain": [
              "(1797, 64)"
            ]
          },
          "metadata": {
            "tags": []
          },
          "execution_count": 3
        }
      ]
    },
    {
      "cell_type": "code",
      "metadata": {
        "id": "QFJ19mcuICiv",
        "outputId": "e45f9d53-db12-49b9-f4f6-bb09785284c7",
        "colab": {
          "base_uri": "https://localhost:8080/",
          "height": 34
        }
      },
      "source": [
        "digits.target"
      ],
      "execution_count": 4,
      "outputs": [
        {
          "output_type": "execute_result",
          "data": {
            "text/plain": [
              "array([0, 1, 2, ..., 8, 9, 8])"
            ]
          },
          "metadata": {
            "tags": []
          },
          "execution_count": 4
        }
      ]
    },
    {
      "cell_type": "code",
      "metadata": {
        "id": "lJ7Sh8VAIcNP",
        "outputId": "1351616b-e996-4d90-ac59-c9e2f19cd4ae",
        "colab": {
          "base_uri": "https://localhost:8080/",
          "height": 34
        }
      },
      "source": [
        "digits.target.shape"
      ],
      "execution_count": 8,
      "outputs": [
        {
          "output_type": "execute_result",
          "data": {
            "text/plain": [
              "(1797,)"
            ]
          },
          "metadata": {
            "tags": []
          },
          "execution_count": 8
        }
      ]
    },
    {
      "cell_type": "markdown",
      "metadata": {
        "id": "2XT4gUZTI_tx"
      },
      "source": [
        "#### 0.1 split data into train and validation"
      ]
    },
    {
      "cell_type": "code",
      "metadata": {
        "id": "7V68kk8AJX9f"
      },
      "source": [
        "from sklearn.model_selection import train_test_split"
      ],
      "execution_count": 9,
      "outputs": []
    },
    {
      "cell_type": "code",
      "metadata": {
        "id": "h4KzKifwJJbR"
      },
      "source": [
        "X_train, X_test, y_train, y_test = train_test_split(digits.data, digits.target, test_size=0.2, random_state=6)"
      ],
      "execution_count": 10,
      "outputs": []
    },
    {
      "cell_type": "code",
      "metadata": {
        "id": "Jvncu7Q_Jk1a",
        "outputId": "bdf9970f-88fe-4b7e-d605-ad2ffe5a246b",
        "colab": {
          "base_uri": "https://localhost:8080/",
          "height": 306
        }
      },
      "source": [
        "# 20% of 1797 (test_size = 0.2 or 20%)\n",
        "\n",
        "y_test"
      ],
      "execution_count": 11,
      "outputs": [
        {
          "output_type": "execute_result",
          "data": {
            "text/plain": [
              "array([1, 9, 6, 0, 8, 5, 7, 8, 4, 2, 7, 6, 2, 6, 0, 7, 4, 3, 1, 3, 7, 2,\n",
              "       2, 2, 0, 6, 2, 6, 5, 0, 0, 2, 7, 3, 5, 6, 6, 7, 6, 5, 7, 6, 2, 8,\n",
              "       2, 7, 4, 7, 6, 6, 6, 1, 6, 6, 6, 4, 1, 2, 0, 2, 4, 3, 4, 0, 4, 7,\n",
              "       5, 4, 1, 9, 5, 0, 4, 1, 0, 0, 5, 8, 3, 0, 0, 2, 8, 0, 8, 1, 4, 0,\n",
              "       8, 2, 9, 9, 1, 1, 5, 8, 4, 5, 4, 6, 0, 4, 9, 1, 1, 4, 7, 1, 6, 7,\n",
              "       5, 4, 5, 0, 5, 4, 3, 6, 4, 0, 1, 4, 5, 5, 3, 1, 2, 1, 1, 0, 7, 9,\n",
              "       1, 4, 9, 6, 9, 4, 9, 8, 7, 4, 4, 6, 6, 2, 3, 9, 3, 7, 3, 5, 3, 8,\n",
              "       5, 1, 2, 1, 1, 8, 8, 2, 6, 9, 0, 5, 3, 3, 5, 7, 7, 1, 4, 8, 3, 0,\n",
              "       4, 7, 6, 5, 0, 1, 2, 4, 9, 9, 4, 2, 2, 8, 5, 3, 2, 9, 0, 4, 8, 2,\n",
              "       3, 4, 4, 0, 5, 7, 0, 2, 3, 9, 2, 1, 8, 5, 7, 8, 7, 3, 0, 2, 9, 7,\n",
              "       7, 7, 0, 0, 2, 4, 2, 4, 8, 7, 0, 6, 2, 0, 2, 2, 9, 2, 5, 7, 5, 6,\n",
              "       0, 5, 6, 5, 3, 0, 9, 6, 2, 5, 2, 4, 3, 7, 4, 1, 9, 2, 3, 3, 1, 9,\n",
              "       8, 9, 3, 3, 5, 2, 4, 1, 8, 2, 5, 9, 6, 0, 7, 4, 4, 8, 2, 0, 9, 8,\n",
              "       5, 3, 7, 9, 0, 5, 7, 2, 1, 6, 5, 8, 1, 3, 1, 0, 8, 3, 6, 4, 6, 4,\n",
              "       1, 5, 0, 9, 7, 7, 4, 8, 3, 8, 3, 6, 3, 7, 6, 4, 5, 1, 9, 1, 5, 9,\n",
              "       0, 1, 1, 7, 0, 5, 3, 0, 6, 8, 8, 6, 0, 4, 2, 9, 2, 5, 9, 1, 6, 4,\n",
              "       2, 1, 2, 4, 3, 8, 1, 6])"
            ]
          },
          "metadata": {
            "tags": []
          },
          "execution_count": 11
        }
      ]
    },
    {
      "cell_type": "markdown",
      "metadata": {
        "id": "qA42mPojJtNN"
      },
      "source": [
        "#### 0.2 test decision tree performance"
      ]
    },
    {
      "cell_type": "code",
      "metadata": {
        "id": "LsBKcdNvKLXO"
      },
      "source": [
        "tree = DecisionTreeClassifier(random_state=0)"
      ],
      "execution_count": 13,
      "outputs": []
    },
    {
      "cell_type": "code",
      "metadata": {
        "id": "9H9NBhtsJqEA",
        "outputId": "2545eae5-83b0-48ea-fb3e-d52ed3c14719",
        "colab": {
          "base_uri": "https://localhost:8080/",
          "height": 119
        }
      },
      "source": [
        "tree.fit(X_train, y_train)"
      ],
      "execution_count": 14,
      "outputs": [
        {
          "output_type": "execute_result",
          "data": {
            "text/plain": [
              "DecisionTreeClassifier(ccp_alpha=0.0, class_weight=None, criterion='gini',\n",
              "                       max_depth=None, max_features=None, max_leaf_nodes=None,\n",
              "                       min_impurity_decrease=0.0, min_impurity_split=None,\n",
              "                       min_samples_leaf=1, min_samples_split=2,\n",
              "                       min_weight_fraction_leaf=0.0, presort='deprecated',\n",
              "                       random_state=0, splitter='best')"
            ]
          },
          "metadata": {
            "tags": []
          },
          "execution_count": 14
        }
      ]
    },
    {
      "cell_type": "code",
      "metadata": {
        "id": "qQ95qKg8JmbJ",
        "outputId": "2fd5646b-012d-4da8-80cb-76f2fda7de9f",
        "colab": {
          "base_uri": "https://localhost:8080/",
          "height": 34
        }
      },
      "source": [
        "# accuracy of ONE decision-tree\n",
        "\n",
        "tree.score(X_test,y_test)"
      ],
      "execution_count": 15,
      "outputs": [
        {
          "output_type": "execute_result",
          "data": {
            "text/plain": [
              "0.8388888888888889"
            ]
          },
          "metadata": {
            "tags": []
          },
          "execution_count": 15
        }
      ]
    },
    {
      "cell_type": "markdown",
      "metadata": {
        "id": "6n3ffM-kKuqk"
      },
      "source": [
        "### 1 Bootstrap sampling the training data"
      ]
    },
    {
      "cell_type": "code",
      "metadata": {
        "id": "EmmwDL0BKpRi"
      },
      "source": [
        "N = 100  # number of trees in the (random) forest"
      ],
      "execution_count": 30,
      "outputs": []
    },
    {
      "cell_type": "code",
      "metadata": {
        "id": "sfgulUP2LkQC"
      },
      "source": [
        "training_data = list()\n",
        "for i in range(N):\n",
        "    X_sp, X_dp, y_sp, y_dp = train_test_split(X_train, y_train, test_size=0.2, random_state = i+6)\n",
        "    training_data.append({'X':X_sp,'y':y_sp})"
      ],
      "execution_count": 31,
      "outputs": []
    },
    {
      "cell_type": "code",
      "metadata": {
        "id": "HECzPQK-YsUS"
      },
      "source": [
        "training_data"
      ],
      "execution_count": null,
      "outputs": []
    },
    {
      "cell_type": "markdown",
      "metadata": {
        "id": "Mw7wa0dbMnPR"
      },
      "source": [
        "### 2 Train separately"
      ]
    },
    {
      "cell_type": "code",
      "metadata": {
        "id": "fYu5jkrSMJ68"
      },
      "source": [
        "classifier_forest = list()\n",
        "for i in range(N):\n",
        "    tree = DecisionTreeClassifier(max_features='sqrt',random_state=i+2)\n",
        "    tree.fit(training_data[i]['X'], training_data[i]['y'])\n",
        "    classifier_forest.append(tree)"
      ],
      "execution_count": 32,
      "outputs": []
    },
    {
      "cell_type": "code",
      "metadata": {
        "id": "jvX4pfUYYxFg"
      },
      "source": [
        "classifier_forest"
      ],
      "execution_count": null,
      "outputs": []
    },
    {
      "cell_type": "markdown",
      "metadata": {
        "id": "84jMnZUqPNml"
      },
      "source": [
        "### 3 To predict, aggregating"
      ]
    },
    {
      "cell_type": "code",
      "metadata": {
        "id": "LIUJjxuqMamF"
      },
      "source": [
        "prediction = list()\n",
        "for i in range(N):\n",
        "    pred = classifier_forest[i].predict(X_test)\n",
        "    #print(pred)\n",
        "    prediction.append(pred)"
      ],
      "execution_count": 33,
      "outputs": []
    },
    {
      "cell_type": "code",
      "metadata": {
        "id": "qovnpRveZiHS",
        "outputId": "1132d45a-53c7-416b-b00d-1fe3819a318e",
        "colab": {
          "base_uri": "https://localhost:8080/",
          "height": 306
        }
      },
      "source": [
        "prediction[0]"
      ],
      "execution_count": 34,
      "outputs": [
        {
          "output_type": "execute_result",
          "data": {
            "text/plain": [
              "array([1, 9, 6, 0, 8, 5, 7, 8, 4, 2, 7, 6, 2, 6, 0, 7, 9, 3, 1, 3, 7, 2,\n",
              "       2, 2, 0, 6, 8, 6, 5, 5, 0, 2, 7, 3, 5, 3, 6, 7, 6, 5, 7, 6, 2, 8,\n",
              "       2, 7, 4, 7, 6, 6, 4, 1, 6, 8, 6, 4, 1, 2, 0, 2, 7, 3, 4, 0, 4, 7,\n",
              "       5, 7, 1, 4, 5, 0, 4, 1, 0, 0, 5, 8, 3, 0, 0, 2, 3, 0, 8, 1, 4, 0,\n",
              "       8, 2, 9, 9, 7, 1, 3, 8, 4, 3, 4, 6, 0, 4, 9, 1, 1, 4, 7, 1, 6, 7,\n",
              "       5, 6, 5, 0, 5, 4, 3, 1, 4, 0, 1, 4, 5, 5, 3, 7, 2, 7, 1, 0, 0, 9,\n",
              "       1, 8, 1, 6, 3, 4, 9, 8, 7, 7, 4, 6, 6, 2, 3, 8, 3, 7, 3, 5, 3, 8,\n",
              "       5, 1, 2, 1, 1, 8, 8, 2, 6, 8, 0, 5, 2, 3, 5, 2, 7, 1, 2, 8, 3, 0,\n",
              "       4, 7, 6, 5, 0, 1, 2, 7, 0, 9, 4, 2, 3, 8, 5, 3, 2, 9, 0, 4, 8, 2,\n",
              "       3, 4, 4, 0, 5, 7, 0, 2, 3, 9, 2, 1, 2, 5, 7, 8, 7, 3, 0, 2, 9, 7,\n",
              "       1, 7, 0, 0, 2, 7, 2, 4, 1, 7, 2, 6, 2, 8, 1, 2, 8, 2, 5, 7, 5, 6,\n",
              "       0, 5, 6, 5, 3, 5, 9, 6, 2, 5, 2, 4, 3, 7, 4, 1, 9, 2, 3, 3, 1, 9,\n",
              "       7, 9, 3, 3, 5, 9, 4, 6, 8, 2, 5, 4, 6, 0, 7, 4, 4, 5, 2, 0, 9, 8,\n",
              "       5, 8, 7, 9, 0, 6, 7, 2, 1, 6, 5, 8, 8, 3, 7, 0, 8, 3, 6, 4, 4, 4,\n",
              "       1, 5, 0, 9, 7, 7, 9, 8, 2, 8, 1, 6, 3, 7, 6, 0, 5, 1, 9, 8, 5, 9,\n",
              "       0, 3, 1, 7, 0, 5, 3, 0, 6, 8, 1, 6, 0, 4, 2, 9, 2, 5, 9, 5, 6, 4,\n",
              "       2, 1, 2, 6, 3, 8, 1, 6])"
            ]
          },
          "metadata": {
            "tags": []
          },
          "execution_count": 34
        }
      ]
    },
    {
      "cell_type": "code",
      "metadata": {
        "id": "r_qjIhQhQx1l"
      },
      "source": [
        "from scipy import stats\n",
        "import numpy as np"
      ],
      "execution_count": 25,
      "outputs": []
    },
    {
      "cell_type": "code",
      "metadata": {
        "id": "nn1pBS36TE8G"
      },
      "source": [
        "m = stats.mode(np.array(prediction))"
      ],
      "execution_count": 35,
      "outputs": []
    },
    {
      "cell_type": "code",
      "metadata": {
        "id": "XzyunAqFUznt",
        "outputId": "8f125c66-4cd1-47fa-89bf-0038d6923874",
        "colab": {
          "base_uri": "https://localhost:8080/",
          "height": 765
        }
      },
      "source": [
        "m"
      ],
      "execution_count": 36,
      "outputs": [
        {
          "output_type": "execute_result",
          "data": {
            "text/plain": [
              "ModeResult(mode=array([[1, 9, 6, 0, 8, 5, 7, 8, 4, 2, 7, 6, 2, 6, 0, 7, 4, 3, 1, 3, 7, 2,\n",
              "        2, 2, 0, 6, 2, 6, 5, 0, 0, 2, 7, 3, 5, 6, 6, 7, 6, 5, 7, 6, 2, 8,\n",
              "        2, 7, 4, 7, 6, 6, 6, 1, 6, 8, 6, 4, 1, 2, 0, 2, 4, 3, 4, 0, 4, 7,\n",
              "        5, 4, 1, 9, 5, 0, 4, 1, 0, 0, 5, 8, 3, 0, 0, 2, 8, 0, 8, 1, 4, 0,\n",
              "        8, 2, 9, 9, 1, 1, 5, 8, 4, 8, 4, 6, 0, 4, 9, 1, 1, 4, 7, 1, 6, 7,\n",
              "        5, 4, 5, 0, 5, 4, 3, 6, 4, 0, 1, 4, 5, 5, 3, 1, 2, 1, 1, 0, 7, 5,\n",
              "        1, 4, 9, 6, 8, 4, 9, 8, 7, 4, 4, 6, 6, 2, 3, 9, 3, 7, 3, 5, 3, 8,\n",
              "        5, 1, 2, 1, 1, 8, 8, 2, 6, 9, 0, 5, 3, 3, 5, 7, 7, 1, 4, 8, 3, 0,\n",
              "        4, 7, 6, 5, 0, 1, 2, 4, 9, 9, 4, 2, 2, 8, 5, 3, 2, 9, 0, 4, 8, 2,\n",
              "        3, 4, 4, 0, 5, 7, 0, 2, 3, 9, 2, 1, 8, 5, 7, 8, 7, 3, 0, 2, 9, 7,\n",
              "        7, 7, 0, 0, 2, 4, 2, 4, 8, 7, 0, 6, 2, 0, 2, 2, 9, 2, 5, 7, 5, 6,\n",
              "        0, 5, 6, 5, 3, 0, 9, 6, 2, 5, 2, 4, 3, 7, 4, 1, 9, 2, 3, 3, 1, 9,\n",
              "        7, 9, 3, 3, 5, 2, 4, 1, 8, 2, 5, 9, 6, 0, 7, 4, 4, 8, 2, 0, 9, 8,\n",
              "        5, 3, 7, 3, 0, 5, 7, 2, 1, 6, 5, 8, 1, 3, 1, 0, 8, 3, 6, 4, 6, 4,\n",
              "        1, 5, 0, 9, 7, 7, 4, 8, 3, 8, 3, 6, 3, 7, 6, 4, 5, 1, 9, 1, 5, 9,\n",
              "        0, 1, 1, 7, 0, 5, 3, 0, 6, 8, 8, 6, 0, 4, 2, 9, 2, 5, 9, 1, 6, 4,\n",
              "        2, 1, 2, 4, 3, 8, 1, 6]]), count=array([[ 91,  97,  98,  95,  92,  76,  95,  72, 100,  65,  66,  96,  64,\n",
              "         92,  86,  53,  61,  87,  70,  99,  93,  77,  69,  87, 100, 100,\n",
              "         85,  93,  89,  77,  93,  61,  85,  88,  85,  84,  98,  99,  86,\n",
              "         90,  55, 100, 100,  87,  57,  89,  76,  71,  93,  96,  94,  99,\n",
              "        100,  25,  98,  92,  80,  95,  99,  86,  64,  94,  98,  98,  90,\n",
              "         76,  90,  85,  85,  65,  78,  96,  83,  92,  91, 100,  91,  92,\n",
              "         99,  89,  85,  72,  73,  93,  32,  94,  87,  96,  56,  79,  93,\n",
              "         36,  73,  75,  46,  75,  97,  28,  89,  95,  99,  78,  50,  83,\n",
              "         85,  76,  94,  83,  89,  97,  82,  49, 100,  88,  89,  99,  91,\n",
              "         22,  77, 100,  86,  96,  89,  83,  86,  89,  90,  69,  83,  78,\n",
              "         60,  31,  86,  51,  42,  95,  43,  92,  57,  47,  57,  42,  98,\n",
              "         98,  86,  95,  85,  93,  99,  99,  49,  64,  97,  89,  79,  69,\n",
              "         85,  68,  75,  86,  64,  94,  91,  84,  94,  76,  34,  65,  81,\n",
              "         63,  99,  87,  69,  67,  95,  98,  54,  82,  96,  99,  99,  80,\n",
              "         90,  40,  65,  90,  91,  82,  58,  76,  95,  91,  70,  91,  94,\n",
              "         90,  70,  96,  98,  70,  87, 100,  90,  99,  99,  93,  92,  62,\n",
              "         60,  93,  48,  59,  64,  78,  99,  65,  96,  31,  81,  52,  88,\n",
              "         89,  99, 100,  97,  85,  95,  99,  61,  88,  76,  89, 100,  83,\n",
              "         38,  96,  56,  81,  87,  92,  72,  99,  97,  94,  84,  98,  87,\n",
              "         96,  98,  97, 100,  88,  69, 100,  49,  69,  80,  88,  52,  98,\n",
              "         70,  97,  70,  93,  38,  57,  89,  81,  88,  75,  89,  65,  58,\n",
              "         43,  93,  82, 100,  80,  98,  79,  97,  27,  99,  89,  86,  76,\n",
              "         93,  55,  82,  35,  80,  50,  74,  96,  84,  78,  81,  51,  87,\n",
              "         96,  73,  95,  89,  99,  93,  82,  99,  94,  77,  96,  66,  66,\n",
              "         94,  97,  30,  73,  25,  60,  43,  79,  64,  95,  89,  41,  88,\n",
              "         89,  99,  87,  84,  91,  76,  56,  83,  96,  93,  93,  56, 100,\n",
              "         93,  89,  76,  97, 100,  86,  72,  90,  42,  89,  91,  45,  69,\n",
              "         91,  33,  92,  91,  46,  99,  70,  92,  86]]))"
            ]
          },
          "metadata": {
            "tags": []
          },
          "execution_count": 36
        }
      ]
    },
    {
      "cell_type": "markdown",
      "metadata": {
        "id": "_Byr_FJtUbme"
      },
      "source": [
        "### 4 Evaluation"
      ]
    },
    {
      "cell_type": "code",
      "metadata": {
        "id": "rwwtz-2QUSTv"
      },
      "source": [
        "from sklearn.metrics import accuracy_score"
      ],
      "execution_count": 28,
      "outputs": []
    },
    {
      "cell_type": "code",
      "metadata": {
        "id": "MHRr17nXUS_Y",
        "outputId": "3b599168-4bb3-4662-8ec4-ad032a9edb71",
        "colab": {
          "base_uri": "https://localhost:8080/",
          "height": 34
        }
      },
      "source": [
        "# random forrest score (0.925) - when increase N=100, accuracy is (0.983); decision-tree (0.838)\n",
        "accuracy_score(y_test, m.mode.squeeze())"
      ],
      "execution_count": 37,
      "outputs": [
        {
          "output_type": "execute_result",
          "data": {
            "text/plain": [
              "0.9833333333333333"
            ]
          },
          "metadata": {
            "tags": []
          },
          "execution_count": 37
        }
      ]
    },
    {
      "cell_type": "code",
      "metadata": {
        "id": "IdsS6T5CX8fm"
      },
      "source": [
        ""
      ],
      "execution_count": null,
      "outputs": []
    }
  ]
}