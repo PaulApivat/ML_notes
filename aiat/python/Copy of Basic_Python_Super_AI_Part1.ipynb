{
 "cells": [
  {
   "cell_type": "markdown",
   "metadata": {
    "colab_type": "text",
    "id": "11Igdmb1mJOK"
   },
   "source": [
    "# variable (ตัวแปร)\n",
    "เหมือนลังเก็บของ มีป้ายแปะที่ลังเป็นชื่อตัวแปร ส่วนของข้างในคือข้อมูล"
   ]
  },
  {
   "cell_type": "markdown",
   "metadata": {
    "colab_type": "text",
    "id": "bpVeRGQ6Y4ZF"
   },
   "source": [
    "## numerical variable (ตัวแปรตัวเลข)\n",
    "\n"
   ]
  },
  {
   "cell_type": "code",
   "execution_count": null,
   "metadata": {
    "colab": {
     "base_uri": "https://localhost:8080/",
     "height": 34
    },
    "colab_type": "code",
    "executionInfo": {
     "elapsed": 521,
     "status": "ok",
     "timestamp": 1596839323681,
     "user": {
      "displayName": "Peerapon Wechsuwanmanee",
      "photoUrl": "https://lh3.googleusercontent.com/a-/AOh14GjR01io4M44a0iRysbkpTqavoqyxq9XSHYVwJLs2Q=s64",
      "userId": "13269611334844040151"
     },
     "user_tz": -120
    },
    "id": "54lYRlPUl3EA",
    "outputId": "310b16cf-309b-4845-fbe6-838e6eba3206"
   },
   "outputs": [
    {
     "data": {
      "text/plain": [
       "3"
      ]
     },
     "execution_count": 6,
     "metadata": {
      "tags": []
     },
     "output_type": "execute_result"
    }
   ],
   "source": [
    "a = 1 # ลังแปะป้ายชื่อ a ใส่ข้อมูลเป็นตัวเลข 1\n",
    "b = 2 # ลังแปะป้ายชื่อ b ใส่ข้อมูลเป็นตัวเลข 2\n",
    "c = a + b # ลังแปะป้ายชื่อ c ใส่ข้อมูลเป็นผลลัพธ์การจากการบวกกันของลัง a และลัง b ณ เวลาที่เอามาใส่\n",
    "c"
   ]
  },
  {
   "cell_type": "code",
   "execution_count": null,
   "metadata": {
    "colab": {},
    "colab_type": "code",
    "id": "qlnzaMuqNyV5"
   },
   "outputs": [],
   "source": [
    "lower_case_with_underscore = 'paul'\n",
    "camelCase = 'camelCase'"
   ]
  },
  {
   "cell_type": "markdown",
   "metadata": {
    "colab_type": "text",
    "id": "PU3W7f2VnvYV"
   },
   "source": [
    "ทุกครั้งที่เห็นเครื่องหมาย = คือการนำค่าจากทางขวามือ มาใส่ลังที่มีชื่อทางซ้ายมือเสมอ"
   ]
  },
  {
   "cell_type": "markdown",
   "metadata": {
    "colab_type": "text",
    "id": "_SkLpNdDZA-H"
   },
   "source": [
    "## string variable (ตัวแปรตัวอักษร)\n"
   ]
  },
  {
   "cell_type": "markdown",
   "metadata": {
    "colab_type": "text",
    "id": "tDJA_DbSs5io"
   },
   "source": [
    "สิ่งที่อยู่ใน `' '` หรือ `\" \" `จะนับเป็นตัวอักษรทั้งหมดแม้ว่าจะเป็นตัวเลขหรือเครื่องหมายก็ตาม\n",
    "\n",
    "การใช้ `\"` หรือ `'` ก็นับเป็น string เหมือนกัน ตัวภาษา python อนุญาตให้เราใช้ทั้งสองแบบ เผื่อในกรณีดังนี้\n",
    "\n",
    "1.   `text = \"I'm fine. Thank you.\"`\n",
    "2.   `text = 'This is an \"important\" part.'`\n",
    "\n"
   ]
  },
  {
   "cell_type": "code",
   "execution_count": 1,
   "metadata": {
    "colab": {
     "base_uri": "https://localhost:8080/",
     "height": 35
    },
    "colab_type": "code",
    "executionInfo": {
     "elapsed": 562,
     "status": "ok",
     "timestamp": 1596839554676,
     "user": {
      "displayName": "Peerapon Wechsuwanmanee",
      "photoUrl": "https://lh3.googleusercontent.com/a-/AOh14GjR01io4M44a0iRysbkpTqavoqyxq9XSHYVwJLs2Q=s64",
      "userId": "13269611334844040151"
     },
     "user_tz": -120
    },
    "id": "jHmubc0MmcF7",
    "outputId": "f3c5a142-31d6-49e1-be25-34abe773b007"
   },
   "outputs": [
    {
     "data": {
      "text/plain": [
       "'hi, Paul how are you?'"
      ]
     },
     "execution_count": 1,
     "metadata": {},
     "output_type": "execute_result"
    }
   ],
   "source": [
    "a = 'hi, Paul '\n",
    "b = 'how are you?'\n",
    "c = a + b # การ + ของ string คือการนำมาต่อกัน\n",
    "c"
   ]
  },
  {
   "cell_type": "code",
   "execution_count": 2,
   "metadata": {
    "colab": {
     "base_uri": "https://localhost:8080/",
     "height": 34
    },
    "colab_type": "code",
    "executionInfo": {
     "elapsed": 1450,
     "status": "ok",
     "timestamp": 1600483608427,
     "user": {
      "displayName": "Apivat Hanvongse",
      "photoUrl": "",
      "userId": "05736454131890343419"
     },
     "user_tz": -420
    },
    "id": "94oBBLExQDde",
    "outputId": "71d40c87-3714-4936-b735-167ed67e7817"
   },
   "outputs": [
    {
     "name": "stdout",
     "output_type": "stream",
     "text": [
      "I don't know. she said '...'.\n"
     ]
    }
   ],
   "source": [
    "d = \"I don't know. she said '...'.\"\n",
    "print(d)"
   ]
  },
  {
   "cell_type": "code",
   "execution_count": null,
   "metadata": {
    "colab": {
     "base_uri": "https://localhost:8080/",
     "height": 35
    },
    "colab_type": "code",
    "executionInfo": {
     "elapsed": 519,
     "status": "ok",
     "timestamp": 1596839601967,
     "user": {
      "displayName": "Peerapon Wechsuwanmanee",
      "photoUrl": "https://lh3.googleusercontent.com/a-/AOh14GjR01io4M44a0iRysbkpTqavoqyxq9XSHYVwJLs2Q=s64",
      "userId": "13269611334844040151"
     },
     "user_tz": -120
    },
    "id": "DiIxrLdKmu0y",
    "outputId": "4e722fbc-dfb2-4fce-f469-069c1eadebec"
   },
   "outputs": [
    {
     "data": {
      "application/vnd.google.colaboratory.intrinsic+json": {
       "type": "string"
      },
      "text/plain": [
       "'Winn has 10 USD.'"
      ]
     },
     "execution_count": 8,
     "metadata": {
      "tags": []
     },
     "output_type": "execute_result"
    }
   ],
   "source": [
    "name = 'Winn'\n",
    "money = '10 USD'\n",
    "sentence = name + ' has ' + money + '.'\n",
    "sentence"
   ]
  },
  {
   "cell_type": "markdown",
   "metadata": {
    "colab_type": "text",
    "id": "l5fGaL8snC_-"
   },
   "source": [
    "# Data types (ประเภทตัวแปร)"
   ]
  },
  {
   "cell_type": "markdown",
   "metadata": {
    "colab_type": "text",
    "id": "V7_Oc4phnPZM"
   },
   "source": [
    "## Number"
   ]
  },
  {
   "cell_type": "code",
   "execution_count": 3,
   "metadata": {
    "colab": {
     "base_uri": "https://localhost:8080/",
     "height": 85
    },
    "colab_type": "code",
    "executionInfo": {
     "elapsed": 627,
     "status": "ok",
     "timestamp": 1600483836225,
     "user": {
      "displayName": "Apivat Hanvongse",
      "photoUrl": "",
      "userId": "05736454131890343419"
     },
     "user_tz": -420
    },
    "id": "VfpYi40cnJgR",
    "outputId": "00cd7297-aba3-4f1d-b266-ab90b38f7044"
   },
   "outputs": [
    {
     "name": "stdout",
     "output_type": "stream",
     "text": [
      "4\n",
      "2.0\n",
      "<class 'int'>\n",
      "<class 'float'>\n"
     ]
    }
   ],
   "source": [
    "a = 4 # integer จำนวนเต็ม\n",
    "b = 2.0 # float จำนวนทศนิยม \n",
    "print(a) \n",
    "print(b)\n",
    "print(type(a))\n",
    "print(type(b))"
   ]
  },
  {
   "cell_type": "code",
   "execution_count": 17,
   "metadata": {
    "colab": {
     "base_uri": "https://localhost:8080/",
     "height": 34
    },
    "colab_type": "code",
    "executionInfo": {
     "elapsed": 655,
     "status": "ok",
     "timestamp": 1600484833367,
     "user": {
      "displayName": "Apivat Hanvongse",
      "photoUrl": "",
      "userId": "05736454131890343419"
     },
     "user_tz": -420
    },
    "id": "vbbm2cGTRWSx",
    "outputId": "907cd3b5-734c-4dec-c497-d189022a0f0d"
   },
   "outputs": [
    {
     "data": {
      "text/plain": [
       "23"
      ]
     },
     "execution_count": 17,
     "metadata": {
      "tags": []
     },
     "output_type": "execute_result"
    }
   ],
   "source": [
    "# converting binary to integer\n",
    "# can add numbers and binary\n",
    "\n",
    "c = 10 + 0b1101\n",
    "c"
   ]
  },
  {
   "cell_type": "code",
   "execution_count": 7,
   "metadata": {
    "colab": {
     "base_uri": "https://localhost:8080/",
     "height": 34
    },
    "colab_type": "code",
    "executionInfo": {
     "elapsed": 644,
     "status": "ok",
     "timestamp": 1600483973095,
     "user": {
      "displayName": "Apivat Hanvongse",
      "photoUrl": "",
      "userId": "05736454131890343419"
     },
     "user_tz": -420
    },
    "id": "DhgYP06KRmqj",
    "outputId": "b55fdf66-c2b7-44de-ce70-fb8b6489b6ff"
   },
   "outputs": [
    {
     "data": {
      "text/plain": [
       "(3+2j)"
      ]
     },
     "execution_count": 7,
     "metadata": {
      "tags": []
     },
     "output_type": "execute_result"
    }
   ],
   "source": [
    "d = 3 + 2j\n",
    "d"
   ]
  },
  {
   "cell_type": "markdown",
   "metadata": {
    "colab_type": "text",
    "id": "WCO6cwWdn6Hm"
   },
   "source": [
    "float ในภาษาอื่นอาจแบ่งเป็น single และ double เพื่อระบุพื้นที่ใน RAM ในการเก็บข้อมูล แต่ใน python จะใช้ double เสมอ ยกเว้นจะใช้ฟังก์ชันพิเศษจาก library numpy `numpy.float32`\n"
   ]
  },
  {
   "cell_type": "markdown",
   "metadata": {
    "colab_type": "text",
    "id": "1D3jrr9qn6Em"
   },
   "source": [
    "### Number operations"
   ]
  },
  {
   "cell_type": "code",
   "execution_count": 10,
   "metadata": {
    "colab": {
     "base_uri": "https://localhost:8080/",
     "height": 102
    },
    "colab_type": "code",
    "executionInfo": {
     "elapsed": 569,
     "status": "ok",
     "timestamp": 1600484066131,
     "user": {
      "displayName": "Apivat Hanvongse",
      "photoUrl": "",
      "userId": "05736454131890343419"
     },
     "user_tz": -420
    },
    "id": "BrGSbnArn9TB",
    "outputId": "3d920783-cee5-4243-ed6c-19b0cfd6df05"
   },
   "outputs": [
    {
     "name": "stdout",
     "output_type": "stream",
     "text": [
      "6\n",
      "8\n",
      "2.0\n",
      "16\n",
      "2.0\n"
     ]
    }
   ],
   "source": [
    "a = 4\n",
    "b = 2\n",
    "\n",
    "print(a+b)\n",
    "print(a*b)\n",
    "print(a/b)\n",
    "print(a**b)\n",
    "print(a**(1/b)) "
   ]
  },
  {
   "cell_type": "code",
   "execution_count": 16,
   "metadata": {
    "colab": {
     "base_uri": "https://localhost:8080/",
     "height": 34
    },
    "colab_type": "code",
    "executionInfo": {
     "elapsed": 592,
     "status": "ok",
     "timestamp": 1600484271068,
     "user": {
      "displayName": "Apivat Hanvongse",
      "photoUrl": "",
      "userId": "05736454131890343419"
     },
     "user_tz": -420
    },
    "id": "CSanlj1XS5ry",
    "outputId": "47b2117e-8a88-49a0-9f5a-e42a34433e4d"
   },
   "outputs": [
    {
     "data": {
      "text/plain": [
       "2"
      ]
     },
     "execution_count": 16,
     "metadata": {
      "tags": []
     },
     "output_type": "execute_result"
    }
   ],
   "source": [
    "## // rounds down\n",
    "\n",
    "5//2"
   ]
  },
  {
   "cell_type": "code",
   "execution_count": 13,
   "metadata": {
    "colab": {
     "base_uri": "https://localhost:8080/",
     "height": 34
    },
    "colab_type": "code",
    "executionInfo": {
     "elapsed": 824,
     "status": "ok",
     "timestamp": 1600484110262,
     "user": {
      "displayName": "Apivat Hanvongse",
      "photoUrl": "",
      "userId": "05736454131890343419"
     },
     "user_tz": -420
    },
    "id": "OuY-uLupSPPB",
    "outputId": "993a9bd0-3f39-4db7-a697-766a76ba3ebb"
   },
   "outputs": [
    {
     "data": {
      "text/plain": [
       "4.47213595499958"
      ]
     },
     "execution_count": 13,
     "metadata": {
      "tags": []
     },
     "output_type": "execute_result"
    }
   ],
   "source": [
    "c = (a**2 + b**2)**(1/2)\n",
    "c"
   ]
  },
  {
   "cell_type": "code",
   "execution_count": 14,
   "metadata": {
    "colab": {
     "base_uri": "https://localhost:8080/",
     "height": 34
    },
    "colab_type": "code",
    "executionInfo": {
     "elapsed": 632,
     "status": "ok",
     "timestamp": 1600484180517,
     "user": {
      "displayName": "Apivat Hanvongse",
      "photoUrl": "",
      "userId": "05736454131890343419"
     },
     "user_tz": -420
    },
    "id": "JWp8OTe7SlBW",
    "outputId": "302ac6b1-3c67-47a4-a6da-344681a7080e"
   },
   "outputs": [
    {
     "data": {
      "text/plain": [
       "48"
      ]
     },
     "execution_count": 14,
     "metadata": {
      "tags": []
     },
     "output_type": "execute_result"
    }
   ],
   "source": [
    "c = 3*a**2\n",
    "c"
   ]
  },
  {
   "cell_type": "markdown",
   "metadata": {
    "colab_type": "text",
    "id": "Mx9xisEOqUNI"
   },
   "source": [
    "**ระวัง** กรณีที่ใช้ python version 2 การหาร int กับ int จะได้ผลเป็น int"
   ]
  },
  {
   "cell_type": "code",
   "execution_count": 18,
   "metadata": {
    "colab": {
     "base_uri": "https://localhost:8080/",
     "height": 34
    },
    "colab_type": "code",
    "executionInfo": {
     "elapsed": 607,
     "status": "ok",
     "timestamp": 1600484991047,
     "user": {
      "displayName": "Apivat Hanvongse",
      "photoUrl": "",
      "userId": "05736454131890343419"
     },
     "user_tz": -420
    },
    "id": "-73ES_Z1qel_",
    "outputId": "fa25eb19-2d57-473e-c6fb-97bce252ae7e"
   },
   "outputs": [
    {
     "data": {
      "text/plain": [
       "3.5"
      ]
     },
     "execution_count": 18,
     "metadata": {
      "tags": []
     },
     "output_type": "execute_result"
    }
   ],
   "source": [
    "d = 7\n",
    "g = 2\n",
    "d/g # ได้ผลลัพธ์เป็น 2.5 แต่ python version 2 ได้เป็น 2"
   ]
  },
  {
   "cell_type": "code",
   "execution_count": 19,
   "metadata": {
    "colab": {
     "base_uri": "https://localhost:8080/",
     "height": 34
    },
    "colab_type": "code",
    "executionInfo": {
     "elapsed": 645,
     "status": "ok",
     "timestamp": 1600484995607,
     "user": {
      "displayName": "Apivat Hanvongse",
      "photoUrl": "",
      "userId": "05736454131890343419"
     },
     "user_tz": -420
    },
    "id": "3dyvh6DZv2iM",
    "outputId": "e93d2699-bd7a-4e76-9cd2-642944c6a366"
   },
   "outputs": [
    {
     "data": {
      "text/plain": [
       "1"
      ]
     },
     "execution_count": 19,
     "metadata": {
      "tags": []
     },
     "output_type": "execute_result"
    }
   ],
   "source": [
    "d%g # หารเอาเศษ"
   ]
  },
  {
   "cell_type": "markdown",
   "metadata": {
    "colab_type": "text",
    "id": "CvM8Am7Zn0eQ"
   },
   "source": [
    "## String"
   ]
  },
  {
   "cell_type": "markdown",
   "metadata": {
    "colab_type": "text",
    "id": "OmbVVjq2piJG"
   },
   "source": [
    "### String operations"
   ]
  },
  {
   "cell_type": "code",
   "execution_count": 23,
   "metadata": {
    "colab": {
     "base_uri": "https://localhost:8080/",
     "height": 34
    },
    "colab_type": "code",
    "executionInfo": {
     "elapsed": 1034,
     "status": "ok",
     "timestamp": 1600485180818,
     "user": {
      "displayName": "Apivat Hanvongse",
      "photoUrl": "",
      "userId": "05736454131890343419"
     },
     "user_tz": -420
    },
    "id": "hTrB98buovNG",
    "outputId": "6cdc239a-76ce-4a23-b2b6-62cf63847414"
   },
   "outputs": [
    {
     "name": "stdout",
     "output_type": "stream",
     "text": [
      "Paul has 10\n"
     ]
    }
   ],
   "source": [
    "# cannot add different types\n",
    "\n",
    "name = 'Paul'\n",
    "money = 10\n",
    "\n",
    "print(name + ' has ' + str(money)) # ใช้การ + เพื่อนำ string มาต่อกัน (concatenate)"
   ]
  },
  {
   "cell_type": "code",
   "execution_count": 31,
   "metadata": {
    "colab": {
     "base_uri": "https://localhost:8080/",
     "height": 34
    },
    "colab_type": "code",
    "executionInfo": {
     "elapsed": 586,
     "status": "ok",
     "timestamp": 1600485275262,
     "user": {
      "displayName": "Apivat Hanvongse",
      "photoUrl": "",
      "userId": "05736454131890343419"
     },
     "user_tz": -420
    },
    "id": "9tCvZfwdo9Yu",
    "outputId": "2765f4b6-738c-4bcc-b486-73d1f38f9ae1"
   },
   "outputs": [
    {
     "name": "stdout",
     "output_type": "stream",
     "text": [
      "Paul9\n"
     ]
    }
   ],
   "source": [
    "a = 9\n",
    "print(name + str(a)) # ตัวแปรคนละประเภทไม่สามารถนำมา + กันได้ "
   ]
  },
  {
   "cell_type": "code",
   "execution_count": 29,
   "metadata": {
    "colab": {
     "base_uri": "https://localhost:8080/",
     "height": 51
    },
    "colab_type": "code",
    "executionInfo": {
     "elapsed": 734,
     "status": "ok",
     "timestamp": 1600485240662,
     "user": {
      "displayName": "Apivat Hanvongse",
      "photoUrl": "",
      "userId": "05736454131890343419"
     },
     "user_tz": -420
    },
    "id": "WRpFPXpph5PA",
    "outputId": "af6ac7b0-3f84-46d6-e1e5-6f41e7fc5b40"
   },
   "outputs": [
    {
     "name": "stdout",
     "output_type": "stream",
     "text": [
      "I want you.\n",
      "I need you.\tI love you.\n"
     ]
    }
   ],
   "source": [
    "print('I want you.\\nI need you.\\tI love you.') # ตัวอักษรพิเศษ \\n แทนการขึ้นบรรทัดใหม่ \\t แทนการ tab"
   ]
  },
  {
   "cell_type": "markdown",
   "metadata": {
    "colab_type": "text",
    "id": "05BvrS3WDpo3"
   },
   "source": [
    "## data type transformation"
   ]
  },
  {
   "cell_type": "markdown",
   "metadata": {
    "colab_type": "text",
    "id": "k7KW6JeMD0lj"
   },
   "source": [
    "ใช้คำสั่ง `str(ตัวแปร)`, `int(ตัวแปร)`, `float(ตัวแปร)` เพื่อเปลี่ยนประเภทตัวแปรเป็น string, integer และ float ตามลำดับ"
   ]
  },
  {
   "cell_type": "code",
   "execution_count": 32,
   "metadata": {
    "colab": {
     "base_uri": "https://localhost:8080/",
     "height": 85
    },
    "colab_type": "code",
    "executionInfo": {
     "elapsed": 609,
     "status": "ok",
     "timestamp": 1600485279278,
     "user": {
      "displayName": "Apivat Hanvongse",
      "photoUrl": "",
      "userId": "05736454131890343419"
     },
     "user_tz": -420
    },
    "id": "7CMczwxsDwrQ",
    "outputId": "0115ab6d-79de-4369-a5a4-b80876f0e9d6"
   },
   "outputs": [
    {
     "name": "stdout",
     "output_type": "stream",
     "text": [
      "9\n",
      "<class 'int'>\n",
      "9\n",
      "<class 'str'>\n"
     ]
    }
   ],
   "source": [
    "print(a)\n",
    "print(type(a))\n",
    "print(str(a)) # a = '4'\n",
    "print(type(str(a)))"
   ]
  },
  {
   "cell_type": "code",
   "execution_count": 35,
   "metadata": {
    "colab": {
     "base_uri": "https://localhost:8080/",
     "height": 68
    },
    "colab_type": "code",
    "executionInfo": {
     "elapsed": 736,
     "status": "ok",
     "timestamp": 1600485488685,
     "user": {
      "displayName": "Apivat Hanvongse",
      "photoUrl": "",
      "userId": "05736454131890343419"
     },
     "user_tz": -420
    },
    "id": "zJW5YLloFA7b",
    "outputId": "6a421933-f8e4-47f6-83fc-76f660615dc2"
   },
   "outputs": [
    {
     "name": "stdout",
     "output_type": "stream",
     "text": [
      "8.401592\n",
      "3.1415925.26\n",
      "3\n"
     ]
    }
   ],
   "source": [
    "p = 3.141592\n",
    "print(p + 5.26) # float + float\n",
    "print(str(p) + str(5.26)) # str + str\n",
    "print(int(p))"
   ]
  },
  {
   "cell_type": "markdown",
   "metadata": {
    "colab_type": "text",
    "id": "1P7N2wp3HG_o"
   },
   "source": [
    "## printing string-number combination\n",
    "\n",
    "มี 4 วิธี ดังนี้"
   ]
  },
  {
   "cell_type": "markdown",
   "metadata": {
    "colab_type": "text",
    "id": "yLXeuPhnHQnx"
   },
   "source": [
    "### 1) `,`\n",
    "\n"
   ]
  },
  {
   "cell_type": "code",
   "execution_count": 33,
   "metadata": {
    "colab": {
     "base_uri": "https://localhost:8080/",
     "height": 51
    },
    "colab_type": "code",
    "executionInfo": {
     "elapsed": 671,
     "status": "ok",
     "timestamp": 1600485353023,
     "user": {
      "displayName": "Apivat Hanvongse",
      "photoUrl": "",
      "userId": "05736454131890343419"
     },
     "user_tz": -420
    },
    "id": "ZajEiQLDHNvs",
    "outputId": "98e0a427-d5f9-40d6-cc9b-ff044be74a2d"
   },
   "outputs": [
    {
     "name": "stdout",
     "output_type": "stream",
     "text": [
      "There are 9 cats in this room.\n",
      "There are 9 cats in this room.\n"
     ]
    }
   ],
   "source": [
    "# separate strings and numbers with commas\n",
    "\n",
    "print('There are',a,'cats in this room.')\n",
    "# ให้ผลเหมือนกันกับ\n",
    "print('There are '+str(a)+' cats in this room.')"
   ]
  },
  {
   "cell_type": "markdown",
   "metadata": {
    "colab_type": "text",
    "id": "HkSSUIQmJJh2"
   },
   "source": [
    "### 2) `%`\n",
    "\n",
    "วิธีนี้เริ่มหมดความนิยมแล้ว รู้ไว้เผื่อ google ไปเจอคำอธิบายเก่า ๆ\n",
    "\n",
    "\n"
   ]
  },
  {
   "cell_type": "code",
   "execution_count": null,
   "metadata": {
    "colab": {
     "base_uri": "https://localhost:8080/",
     "height": 69
    },
    "colab_type": "code",
    "executionInfo": {
     "elapsed": 511,
     "status": "ok",
     "timestamp": 1596840607880,
     "user": {
      "displayName": "Peerapon Wechsuwanmanee",
      "photoUrl": "https://lh3.googleusercontent.com/a-/AOh14GjR01io4M44a0iRysbkpTqavoqyxq9XSHYVwJLs2Q=s64",
      "userId": "13269611334844040151"
     },
     "user_tz": -120
    },
    "id": "o_Zxc_SzJI3q",
    "outputId": "671c56c0-785f-4450-a072-07c4db1e9345"
   },
   "outputs": [
    {
     "name": "stdout",
     "output_type": "stream",
     "text": [
      "Approximated Pi value is 3.141592\n",
      "Approximated Pi value is 3.1416\n",
      "My name is Winn. I've been here for 4 years\n"
     ]
    }
   ],
   "source": [
    "print(\"Approximated Pi value is %f\" % p)\n",
    "print(\"Approximated Pi value is %.4f\" % p)\n",
    "print(\"My name is %s. I've been here for %i years\" % (name, a))"
   ]
  },
  {
   "cell_type": "markdown",
   "metadata": {
    "colab_type": "text",
    "id": "Wf79klXxJQjS"
   },
   "source": [
    "### 3) .format()\n",
    "\n",
    "ค่อนข้างเป็นที่นิยม ก่อนจะมี f-string ใช้\n"
   ]
  },
  {
   "cell_type": "code",
   "execution_count": 36,
   "metadata": {
    "colab": {
     "base_uri": "https://localhost:8080/",
     "height": 102
    },
    "colab_type": "code",
    "executionInfo": {
     "elapsed": 742,
     "status": "ok",
     "timestamp": 1600485492944,
     "user": {
      "displayName": "Apivat Hanvongse",
      "photoUrl": "",
      "userId": "05736454131890343419"
     },
     "user_tz": -420
    },
    "id": "oCb_-ECDJTOQ",
    "outputId": "6a7b43a9-1ae9-437c-cf50-3510bff4ba31"
   },
   "outputs": [
    {
     "name": "stdout",
     "output_type": "stream",
     "text": [
      "Approximated Pi value is 3.141592\n",
      "Approximated Pi value is 3.1416\n",
      "My name is Paul. I've been here for 9 years\n",
      "My name is Paul. I've been here for 9.00000 years\n",
      "My name is Paul. I've been here for 9 years\n"
     ]
    }
   ],
   "source": [
    "print(\"Approximated Pi value is {}\".format(p))\n",
    "print(\"Approximated Pi value is {:.4f}\".format(p))\n",
    "print(\"My name is {}. I've been here for {} years\".format(name, a))\n",
    "print(\"My name is {n}. I've been here for {time:.5f} years\".format(n=name, time=float(a)))\n",
    "\n",
    "print(\"My name is {1}. I've been here for {0} years\".format(a, name))"
   ]
  },
  {
   "cell_type": "markdown",
   "metadata": {
    "colab_type": "text",
    "id": "94LpiwuQJTgG"
   },
   "source": [
    "### 4) f-string (ใช้ได้ตั้งแต่ python 3.6 เป็นต้นไป)"
   ]
  },
  {
   "cell_type": "code",
   "execution_count": null,
   "metadata": {
    "colab": {
     "base_uri": "https://localhost:8080/",
     "height": 86
    },
    "colab_type": "code",
    "executionInfo": {
     "elapsed": 560,
     "status": "ok",
     "timestamp": 1596741745840,
     "user": {
      "displayName": "Peerapon Wechsuwanmanee",
      "photoUrl": "https://lh3.googleusercontent.com/a-/AOh14GjR01io4M44a0iRysbkpTqavoqyxq9XSHYVwJLs2Q=s64",
      "userId": "13269611334844040151"
     },
     "user_tz": -120
    },
    "id": "6AvRJzyZOCjV",
    "outputId": "cd80afb4-4ef5-4493-9089-63ded8b25ddc"
   },
   "outputs": [
    {
     "name": "stdout",
     "output_type": "stream",
     "text": [
      "Approximated Pi value is 3.141592\n",
      "Approximated Pi value is 3.1416\n",
      "My name is winn. I've been here for 4 years\n",
      "My name is winn. I've been here for 4.00000 years\n"
     ]
    }
   ],
   "source": [
    "## f-string is most similar to string-interpolation\n",
    "\n",
    "print(f\"Approximated Pi value is {p}\")\n",
    "print(f\"Approximated Pi value is {p:.4f}\")\n",
    "print(f\"My name is {name}. I've been here for {a} years\")\n",
    "print(f\"My name is {name}. I've been here for {a:.5f} years\") # a ไม่ต้องแปลงเป็น float ก่อนก็ได้"
   ]
  },
  {
   "cell_type": "code",
   "execution_count": 38,
   "metadata": {
    "colab": {
     "base_uri": "https://localhost:8080/",
     "height": 51
    },
    "colab_type": "code",
    "executionInfo": {
     "elapsed": 680,
     "status": "ok",
     "timestamp": 1600485691596,
     "user": {
      "displayName": "Apivat Hanvongse",
      "photoUrl": "",
      "userId": "05736454131890343419"
     },
     "user_tz": -420
    },
    "id": "wsUSOZdrYLMh",
    "outputId": "58be963d-f46d-4a18-804b-d56b76aab7f3"
   },
   "outputs": [
    {
     "name": "stdout",
     "output_type": "stream",
     "text": [
      "A random Pi value is 3.149898\n",
      "My name is Paul Apivat.\n"
     ]
    }
   ],
   "source": [
    "x = 'Paul Apivat'\n",
    "y = 3.149898\n",
    "\n",
    "print(f\"A random Pi value is {y}\")\n",
    "print(f\"My name is {x}.\")\n"
   ]
  },
  {
   "cell_type": "code",
   "execution_count": null,
   "metadata": {
    "colab": {
     "base_uri": "https://localhost:8080/",
     "height": 86
    },
    "colab_type": "code",
    "executionInfo": {
     "elapsed": 557,
     "status": "ok",
     "timestamp": 1596841057707,
     "user": {
      "displayName": "Peerapon Wechsuwanmanee",
      "photoUrl": "https://lh3.googleusercontent.com/a-/AOh14GjR01io4M44a0iRysbkpTqavoqyxq9XSHYVwJLs2Q=s64",
      "userId": "13269611334844040151"
     },
     "user_tz": -120
    },
    "id": "WhXbmU4e1SAo",
    "outputId": "fbdb64dc-6b4e-4616-b8ac-bc7671fcb66b"
   },
   "outputs": [
    {
     "name": "stdout",
     "output_type": "stream",
     "text": [
      "5\n",
      "5.0\n",
      "2\n",
      "2.445\n"
     ]
    }
   ],
   "source": [
    "n1 = '5'\n",
    "n2 = '2.445'\n",
    "n3 = '3.44s'\n",
    "\n",
    "print(int(n1))\n",
    "print(float(n1))\n",
    "\n",
    "print(int(float(n2)))\n",
    "print(float(n2))\n",
    "\n"
   ]
  },
  {
   "cell_type": "markdown",
   "metadata": {
    "colab_type": "text",
    "id": "3clC3wR6pqIM"
   },
   "source": [
    "## Access character & substrings"
   ]
  },
  {
   "cell_type": "markdown",
   "metadata": {
    "colab_type": "text",
    "id": "9Iolgl1yu1Xg"
   },
   "source": [
    "ตัวแปร string ที่จริงแล้วคือการนำลังใส่ข้อมูลตัวอักษรมาผูกเรียงต่อกัน"
   ]
  },
  {
   "cell_type": "code",
   "execution_count": 43,
   "metadata": {
    "colab": {
     "base_uri": "https://localhost:8080/",
     "height": 119
    },
    "colab_type": "code",
    "executionInfo": {
     "elapsed": 622,
     "status": "ok",
     "timestamp": 1600486006784,
     "user": {
      "displayName": "Apivat Hanvongse",
      "photoUrl": "",
      "userId": "05736454131890343419"
     },
     "user_tz": -420
    },
    "id": "3ei6O8vnpvTA",
    "outputId": "10a29d01-e1b9-43ce-a560-5b777487c2ed"
   },
   "outputs": [
    {
     "name": "stdout",
     "output_type": "stream",
     "text": [
      "apivat\n",
      "a\n",
      "p\n",
      "i\n",
      "v\n"
     ]
    },
    {
     "data": {
      "text/plain": [
       "6"
      ]
     },
     "execution_count": 43,
     "metadata": {
      "tags": []
     },
     "output_type": "execute_result"
    }
   ],
   "source": [
    "name = 'apivat'\n",
    "print(name)\n",
    "print(name[0])\n",
    "print(name[1])\n",
    "print(name[2])\n",
    "print(name[3])\n",
    "len(name)"
   ]
  },
  {
   "cell_type": "code",
   "execution_count": 40,
   "metadata": {
    "colab": {
     "base_uri": "https://localhost:8080/",
     "height": 102
    },
    "colab_type": "code",
    "executionInfo": {
     "elapsed": 794,
     "status": "ok",
     "timestamp": 1600485833329,
     "user": {
      "displayName": "Apivat Hanvongse",
      "photoUrl": "",
      "userId": "05736454131890343419"
     },
     "user_tz": -420
    },
    "id": "s4OR_iDVKz_y",
    "outputId": "7ad03fe6-d283-479d-ff18-6cefd11901db"
   },
   "outputs": [
    {
     "name": "stdout",
     "output_type": "stream",
     "text": [
      " Welc\n",
      "Welcome\n",
      "room\n",
      "s roo\n",
      " Welc\n"
     ]
    }
   ],
   "source": [
    "mystr = ' Welcome to Botnoi class room'\n",
    "print(mystr[0:5]) # เลือกตั้งแต่ตัวที่ 0 ถึงตัวที่ 4\n",
    "print(mystr[1:8]) # เลือกตั้งแต่ตัวที่ 1 ถึงตัวที่ 7\n",
    "print(mystr[-4:]) # เลือกตั้งแต่ตัวที่ 4 นับจากสุดท้าย ไปจนจบ\n",
    "print(mystr[-6:-1]) # เลือกตั้งแต่ตัวที่ 6 นับจากสุดท้าย ถึงตัวที่ 2 นับจากสุดท้าย\n",
    "print(mystr[:5])  # เลือกตั้งแต่ตัวแรก ถึงตัวที่ 4"
   ]
  },
  {
   "cell_type": "code",
   "execution_count": 46,
   "metadata": {
    "colab": {
     "base_uri": "https://localhost:8080/",
     "height": 85
    },
    "colab_type": "code",
    "executionInfo": {
     "elapsed": 597,
     "status": "ok",
     "timestamp": 1600486106701,
     "user": {
      "displayName": "Apivat Hanvongse",
      "photoUrl": "",
      "userId": "05736454131890343419"
     },
     "user_tz": -420
    },
    "id": "uLL5GPVKvwAt",
    "outputId": "7ee47b1d-bdd0-4bed-9ddd-6d6a6f6e28d1"
   },
   "outputs": [
    {
     "name": "stdout",
     "output_type": "stream",
     "text": [
      " ecm\n",
      "moor ssalc iontoB ot emocleW \n",
      "lmtBn a o\n",
      "moor ssalc iontoB ot emocleW \n"
     ]
    }
   ],
   "source": [
    "# [start: end: step] ตำแหน่งของ start ต้องอยู่ท้ายซ้ายของ end เสมอ\n",
    "print(mystr[:8:2]) # เลือกตั้งแต่ตัวแรก ถึงตัวที่ 7 ขยับทีละ 2\n",
    "print(mystr[::-1]) # เลือกทุกตัว ขยับทีละ -1\n",
    "print(mystr[3::3]) # เลือกตั้งแต่ตัวที่ 3 ไปจนจบ ขยับทีละ 3\n",
    "print(mystr[::-1])"
   ]
  },
  {
   "cell_type": "code",
   "execution_count": 48,
   "metadata": {
    "colab": {
     "base_uri": "https://localhost:8080/",
     "height": 34
    },
    "colab_type": "code",
    "executionInfo": {
     "elapsed": 802,
     "status": "ok",
     "timestamp": 1600486182063,
     "user": {
      "displayName": "Apivat Hanvongse",
      "photoUrl": "",
      "userId": "05736454131890343419"
     },
     "user_tz": -420
    },
    "id": "UB4nwqjUaH3R",
    "outputId": "dde010ff-a927-41e3-ed27-2b4b48563476"
   },
   "outputs": [
    {
     "data": {
      "text/plain": [
       "True"
      ]
     },
     "execution_count": 48,
     "metadata": {
      "tags": []
     },
     "output_type": "execute_result"
    }
   ],
   "source": [
    "\"paul\" == \" paul\".strip()"
   ]
  },
  {
   "cell_type": "code",
   "execution_count": 52,
   "metadata": {
    "colab": {
     "base_uri": "https://localhost:8080/",
     "height": 34
    },
    "colab_type": "code",
    "executionInfo": {
     "elapsed": 619,
     "status": "ok",
     "timestamp": 1600486308193,
     "user": {
      "displayName": "Apivat Hanvongse",
      "photoUrl": "",
      "userId": "05736454131890343419"
     },
     "user_tz": -420
    },
    "id": "uvRTiFvIafr5",
    "outputId": "da55c59d-4a8d-413b-b6da-b22bdc44c968"
   },
   "outputs": [
    {
     "data": {
      "text/plain": [
       "True"
      ]
     },
     "execution_count": 52,
     "metadata": {
      "tags": []
     },
     "output_type": "execute_result"
    }
   ],
   "source": [
    "# Can chain functions\n",
    "# lstrip = left-side, rstrip = right-side remove spaces\n",
    "\n",
    "\"paul\" == \" PaUL\".lower().lstrip()"
   ]
  },
  {
   "cell_type": "code",
   "execution_count": null,
   "metadata": {
    "colab": {
     "base_uri": "https://localhost:8080/",
     "height": 34
    },
    "colab_type": "code",
    "executionInfo": {
     "elapsed": 501,
     "status": "ok",
     "timestamp": 1596802827870,
     "user": {
      "displayName": "Peerapon Wechsuwanmanee",
      "photoUrl": "https://lh3.googleusercontent.com/a-/AOh14GjR01io4M44a0iRysbkpTqavoqyxq9XSHYVwJLs2Q=s64",
      "userId": "13269611334844040151"
     },
     "user_tz": -120
    },
    "id": "xlu5epygLK7-",
    "outputId": "64032255-5cb9-4706-8414-934439ea621f"
   },
   "outputs": [
    {
     "data": {
      "text/plain": [
       "['Welcome', 'to', 'Botnoi', 'class', 'room']"
      ]
     },
     "execution_count": 22,
     "metadata": {
      "tags": []
     },
     "output_type": "execute_result"
    }
   ],
   "source": [
    "mystr.split() # แยกข้อความออกจากกันด้วยสิ่งที่อยู่ในวงเล็บของ split หากไม่ใส่จะใช้เว้นวรรค"
   ]
  },
  {
   "cell_type": "code",
   "execution_count": null,
   "metadata": {
    "colab": {
     "base_uri": "https://localhost:8080/",
     "height": 34
    },
    "colab_type": "code",
    "executionInfo": {
     "elapsed": 557,
     "status": "ok",
     "timestamp": 1596802818918,
     "user": {
      "displayName": "Peerapon Wechsuwanmanee",
      "photoUrl": "https://lh3.googleusercontent.com/a-/AOh14GjR01io4M44a0iRysbkpTqavoqyxq9XSHYVwJLs2Q=s64",
      "userId": "13269611334844040151"
     },
     "user_tz": -120
    },
    "id": "gDRE-Y6zLVDJ",
    "outputId": "69efbed0-6f79-48bc-83db-e9b7d5d2bfdd"
   },
   "outputs": [
    {
     "data": {
      "text/plain": [
       "[' Welcome ', ' Botnoi class room']"
      ]
     },
     "execution_count": 21,
     "metadata": {
      "tags": []
     },
     "output_type": "execute_result"
    }
   ],
   "source": [
    "mystr.split('to') # หากใส่ จะหาตัวที่ตรงกันแล้วใช้เป็นตัวแยกข้อความ"
   ]
  },
  {
   "cell_type": "code",
   "execution_count": null,
   "metadata": {
    "colab": {
     "base_uri": "https://localhost:8080/",
     "height": 35
    },
    "colab_type": "code",
    "executionInfo": {
     "elapsed": 469,
     "status": "ok",
     "timestamp": 1596802849540,
     "user": {
      "displayName": "Peerapon Wechsuwanmanee",
      "photoUrl": "https://lh3.googleusercontent.com/a-/AOh14GjR01io4M44a0iRysbkpTqavoqyxq9XSHYVwJLs2Q=s64",
      "userId": "13269611334844040151"
     },
     "user_tz": -120
    },
    "id": "OW5pcS1RLRun",
    "outputId": "98ffdfce-3061-4f7f-e087-7be808a4402d"
   },
   "outputs": [
    {
     "data": {
      "application/vnd.google.colaboratory.intrinsic+json": {
       "type": "string"
      },
      "text/plain": [
       "' welcome to botnoi class room'"
      ]
     },
     "execution_count": 23,
     "metadata": {
      "tags": []
     },
     "output_type": "execute_result"
    }
   ],
   "source": [
    "mystr.lower() # ทำให้เป็นตัวเล็ก"
   ]
  },
  {
   "cell_type": "code",
   "execution_count": null,
   "metadata": {
    "colab": {
     "base_uri": "https://localhost:8080/",
     "height": 35
    },
    "colab_type": "code",
    "executionInfo": {
     "elapsed": 464,
     "status": "ok",
     "timestamp": 1596802882715,
     "user": {
      "displayName": "Peerapon Wechsuwanmanee",
      "photoUrl": "https://lh3.googleusercontent.com/a-/AOh14GjR01io4M44a0iRysbkpTqavoqyxq9XSHYVwJLs2Q=s64",
      "userId": "13269611334844040151"
     },
     "user_tz": -120
    },
    "id": "7BqGnJXyLiH3",
    "outputId": "8960ea28-8c8f-4c3e-b6ce-d4c517cc6483"
   },
   "outputs": [
    {
     "data": {
      "application/vnd.google.colaboratory.intrinsic+json": {
       "type": "string"
      },
      "text/plain": [
       "'Welcome to Botnoi class room'"
      ]
     },
     "execution_count": 24,
     "metadata": {
      "tags": []
     },
     "output_type": "execute_result"
    }
   ],
   "source": [
    "mystr.strip() # ตัดเว้นวรรคหน้า-หลัง"
   ]
  },
  {
   "cell_type": "markdown",
   "metadata": {
    "colab_type": "text",
    "id": "CmckZOw4riFV"
   },
   "source": [
    "**List variable**"
   ]
  },
  {
   "cell_type": "code",
   "execution_count": 53,
   "metadata": {
    "colab": {
     "base_uri": "https://localhost:8080/",
     "height": 34
    },
    "colab_type": "code",
    "executionInfo": {
     "elapsed": 607,
     "status": "ok",
     "timestamp": 1600486444020,
     "user": {
      "displayName": "Apivat Hanvongse",
      "photoUrl": "",
      "userId": "05736454131890343419"
     },
     "user_tz": -420
    },
    "id": "Oc3x-E4hrlQO",
    "outputId": "5523dbc3-428e-4368-a258-21c92b657a04"
   },
   "outputs": [
    {
     "data": {
      "text/plain": [
       "[1, 2, 3, 4, 5, 'hi', 1, 3, [1, 2, 3, 4, 5]]"
      ]
     },
     "execution_count": 53,
     "metadata": {
      "tags": []
     },
     "output_type": "execute_result"
    }
   ],
   "source": [
    "# List - a container\n",
    "a = []\n",
    "\n",
    "# Tuple\n",
    "b = ()\n",
    "\n",
    "# Dictionary\n",
    "dictionary = {}\n",
    "\n",
    "# note: x buried in y\n",
    "\n",
    "x = [1,2,3,4,5]\n",
    "y = ['hi',1,3,x]\n",
    "z = x + y\n",
    "z"
   ]
  },
  {
   "cell_type": "markdown",
   "metadata": {
    "colab_type": "text",
    "id": "JwyCPrRWtEGd"
   },
   "source": [
    "How to access element in LIST"
   ]
  },
  {
   "cell_type": "code",
   "execution_count": null,
   "metadata": {
    "colab": {
     "base_uri": "https://localhost:8080/",
     "height": 34
    },
    "colab_type": "code",
    "executionInfo": {
     "elapsed": 1065,
     "status": "ok",
     "timestamp": 1591616080245,
     "user": {
      "displayName": "บอทน้อย Little bot",
      "photoUrl": "https://lh3.googleusercontent.com/a-/AOh14Gg_oKIVWfi33Hl20-CFISRlD3Yn6O6vRr0Kh3fdjBM=s64",
      "userId": "00386448689616224988"
     },
     "user_tz": -420
    },
    "id": "4j2NFF3XtHlq",
    "outputId": "91544162-481a-4139-d683-2dac03ca3ab6"
   },
   "outputs": [
    {
     "data": {
      "text/plain": [
       "[4, 5, 'hi', 1, 3, [1, 2, 3, 4, 5]]"
      ]
     },
     "execution_count": 24,
     "metadata": {
      "tags": []
     },
     "output_type": "execute_result"
    }
   ],
   "source": [
    "z[3:]"
   ]
  },
  {
   "cell_type": "code",
   "execution_count": null,
   "metadata": {
    "colab": {
     "base_uri": "https://localhost:8080/",
     "height": 34
    },
    "colab_type": "code",
    "executionInfo": {
     "elapsed": 1102,
     "status": "ok",
     "timestamp": 1591616132638,
     "user": {
      "displayName": "บอทน้อย Little bot",
      "photoUrl": "https://lh3.googleusercontent.com/a-/AOh14Gg_oKIVWfi33Hl20-CFISRlD3Yn6O6vRr0Kh3fdjBM=s64",
      "userId": "00386448689616224988"
     },
     "user_tz": -420
    },
    "id": "OJ6YNzSUtmWr",
    "outputId": "913d57da-b98d-496b-d651-9f76aefcabd7"
   },
   "outputs": [
    {
     "data": {
      "text/plain": [
       "3"
      ]
     },
     "execution_count": 26,
     "metadata": {
      "tags": []
     },
     "output_type": "execute_result"
    }
   ],
   "source": [
    "# got to 8th index, then 2nd index of that\n",
    "\n",
    "z[8][2]"
   ]
  },
  {
   "cell_type": "code",
   "execution_count": 63,
   "metadata": {
    "colab": {
     "base_uri": "https://localhost:8080/",
     "height": 34
    },
    "colab_type": "code",
    "executionInfo": {
     "elapsed": 651,
     "status": "ok",
     "timestamp": 1600486745378,
     "user": {
      "displayName": "Apivat Hanvongse",
      "photoUrl": "",
      "userId": "05736454131890343419"
     },
     "user_tz": -420
    },
    "id": "zfqNAGVBbwD4",
    "outputId": "639784bd-c13c-4f2a-e3ff-f9b78ac52ece"
   },
   "outputs": [
    {
     "data": {
      "text/plain": [
       "[2, 3, 4, 5, 6, 'hi', 3, [1, 2, 3, 4, 5]]"
      ]
     },
     "execution_count": 63,
     "metadata": {
      "tags": []
     },
     "output_type": "execute_result"
    }
   ],
   "source": [
    "#z.insert(5, 6)\n",
    "z.remove(6)\n",
    "z"
   ]
  },
  {
   "cell_type": "code",
   "execution_count": null,
   "metadata": {
    "colab": {},
    "colab_type": "code",
    "id": "OEOanBpLcOmx"
   },
   "outputs": [],
   "source": [
    "# List is used often\n",
    "# Tuple not so much - interesting\n"
   ]
  },
  {
   "cell_type": "markdown",
   "metadata": {
    "colab_type": "text",
    "id": "PjaTvvdzar5r"
   },
   "source": [
    "**My first Python lesson**\n",
    "\n"
   ]
  },
  {
   "cell_type": "markdown",
   "metadata": {
    "colab_type": "text",
    "id": "T8E5LnnpbxHW"
   },
   "source": [
    "Hello, World!\n",
    "Variables and Types\n",
    "Lists\n",
    "Basic Operators\n",
    "String Formatting\n",
    "Basic String Operations\n",
    "Conditions\n",
    "Loops\n",
    "Functions\n",
    "Classes and Objects\n",
    "Dictionaries\n",
    "Modules and Packages\n"
   ]
  },
  {
   "cell_type": "markdown",
   "metadata": {
    "colab_type": "text",
    "id": "YONe0Z-Fwl5l"
   },
   "source": [
    "**Math operators**"
   ]
  },
  {
   "cell_type": "code",
   "execution_count": null,
   "metadata": {
    "colab": {
     "base_uri": "https://localhost:8080/",
     "height": 102
    },
    "colab_type": "code",
    "executionInfo": {
     "elapsed": 1055,
     "status": "ok",
     "timestamp": 1591616430748,
     "user": {
      "displayName": "บอทน้อย Little bot",
      "photoUrl": "https://lh3.googleusercontent.com/a-/AOh14Gg_oKIVWfi33Hl20-CFISRlD3Yn6O6vRr0Kh3fdjBM=s64",
      "userId": "00386448689616224988"
     },
     "user_tz": -420
    },
    "id": "uLGsAXl6wpXh",
    "outputId": "8ec6b9e7-bb81-4863-80cf-88f67d5e2062"
   },
   "outputs": [
    {
     "name": "stdout",
     "output_type": "stream",
     "text": [
      "6\n",
      "8\n",
      "-2\n",
      "4\n",
      "8.0\n"
     ]
    }
   ],
   "source": [
    "x=2\n",
    "y=4\n",
    "z=64\n",
    "\n",
    "print(x+y)\n",
    "print(x*y)\n",
    "print(x-y)\n",
    "print(x**2)\n",
    "print(z**(1/2))"
   ]
  },
  {
   "cell_type": "markdown",
   "metadata": {
    "colab_type": "text",
    "id": "p2ulZScbxKHm"
   },
   "source": [
    "**String format**"
   ]
  },
  {
   "cell_type": "code",
   "execution_count": null,
   "metadata": {
    "colab": {
     "base_uri": "https://localhost:8080/",
     "height": 102
    },
    "colab_type": "code",
    "executionInfo": {
     "elapsed": 1044,
     "status": "ok",
     "timestamp": 1591616671482,
     "user": {
      "displayName": "บอทน้อย Little bot",
      "photoUrl": "https://lh3.googleusercontent.com/a-/AOh14Gg_oKIVWfi33Hl20-CFISRlD3Yn6O6vRr0Kh3fdjBM=s64",
      "userId": "00386448689616224988"
     },
     "user_tz": -420
    },
    "id": "9NYb0vOuxOiZ",
    "outputId": "10628fd3-0134-44c6-b961-77e007118e3f"
   },
   "outputs": [
    {
     "name": "stdout",
     "output_type": "stream",
     "text": [
      "hello world\n",
      "hel\n",
      "hello 10\n",
      "hello 10\n"
     ]
    },
    {
     "data": {
      "text/plain": [
       "20"
      ]
     },
     "execution_count": 36,
     "metadata": {
      "tags": []
     },
     "output_type": "execute_result"
    }
   ],
   "source": [
    "a = 'hello '\n",
    "b = 'world'\n",
    "print(a+b)\n",
    "print(a[0:3])\n",
    "c = '10'\n",
    "print(a+c)\n",
    "d = 10\n",
    "print(a+str(d))\n",
    "e = int(c) + d\n",
    "e "
   ]
  },
  {
   "cell_type": "code",
   "execution_count": 74,
   "metadata": {
    "colab": {
     "base_uri": "https://localhost:8080/",
     "height": 34
    },
    "colab_type": "code",
    "executionInfo": {
     "elapsed": 609,
     "status": "ok",
     "timestamp": 1600487119001,
     "user": {
      "displayName": "Apivat Hanvongse",
      "photoUrl": "",
      "userId": "05736454131890343419"
     },
     "user_tz": -420
    },
    "id": "gt6XRepDcztY",
    "outputId": "fbd0a6f3-f5e0-4caf-bdfa-0450190aafd4"
   },
   "outputs": [
    {
     "name": "stdout",
     "output_type": "stream",
     "text": [
      "this is the result: 2.0\n"
     ]
    }
   ],
   "source": [
    "# when you `return` you can assign to another variable\n",
    "# but if you only print, nothing gets assigned to another variable\n",
    "\n",
    "def sqrt(number, y):\n",
    "  result = number**(1/y)\n",
    "  print(\"this is the result:\",result)\n",
    "  #return result\n",
    "\n",
    "sqrt_result = sqrt(4,2)\n",
    "\n",
    "sqrt_result"
   ]
  },
  {
   "cell_type": "code",
   "execution_count": 75,
   "metadata": {
    "colab": {},
    "colab_type": "code",
    "executionInfo": {
     "elapsed": 1480,
     "status": "ok",
     "timestamp": 1600487219461,
     "user": {
      "displayName": "Apivat Hanvongse",
      "photoUrl": "",
      "userId": "05736454131890343419"
     },
     "user_tz": -420
    },
    "id": "I6BIfxe4d1wG"
   },
   "outputs": [],
   "source": [
    "def hellofriend():\n",
    "  namefriend = input('Please insert your name.\\n')\n",
    "  output = 'hello '+namefriend + '!'\n",
    "  return output"
   ]
  },
  {
   "cell_type": "code",
   "execution_count": 76,
   "metadata": {
    "colab": {
     "base_uri": "https://localhost:8080/",
     "height": 68
    },
    "colab_type": "code",
    "executionInfo": {
     "elapsed": 5151,
     "status": "ok",
     "timestamp": 1600487245294,
     "user": {
      "displayName": "Apivat Hanvongse",
      "photoUrl": "",
      "userId": "05736454131890343419"
     },
     "user_tz": -420
    },
    "id": "CvJQMPjzeBF2",
    "outputId": "9a9f9a95-1b49-4c6e-d1e4-942aed25c695"
   },
   "outputs": [
    {
     "name": "stdout",
     "output_type": "stream",
     "text": [
      "Please insert your name.\n",
      "Paul\n",
      "hello Paul!\n"
     ]
    }
   ],
   "source": [
    "result = hellofriend()\n",
    "print(result)"
   ]
  },
  {
   "cell_type": "code",
   "execution_count": null,
   "metadata": {
    "colab": {},
    "colab_type": "code",
    "id": "bCPC2LxRo1mU"
   },
   "outputs": [],
   "source": [
    "def addone(x):\n",
    "  ''' this is a function to add one to the input x\n",
    "      input : integer\n",
    "      output : integer\n",
    "  '''\n",
    "  return x+1\n",
    "### f(x) = x + 1"
   ]
  },
  {
   "cell_type": "code",
   "execution_count": null,
   "metadata": {
    "colab": {},
    "colab_type": "code",
    "id": "iaVkxJw4pXXd"
   },
   "outputs": [],
   "source": []
  },
  {
   "cell_type": "code",
   "execution_count": 77,
   "metadata": {
    "colab": {
     "base_uri": "https://localhost:8080/",
     "height": 69
    },
    "colab_type": "code",
    "executionInfo": {
     "elapsed": 3891,
     "status": "ok",
     "timestamp": 1600487298456,
     "user": {
      "displayName": "Apivat Hanvongse",
      "photoUrl": "",
      "userId": "05736454131890343419"
     },
     "user_tz": -420
    },
    "id": "YwqwfXukfltJ",
    "outputId": "c811d769-b120-49cb-e322-051037551c91"
   },
   "outputs": [
    {
     "name": "stdout",
     "output_type": "stream",
     "text": [
      "Please insert your name.\n",
      "paul\n"
     ]
    },
    {
     "data": {
      "application/vnd.google.colaboratory.intrinsic+json": {
       "type": "string"
      },
      "text/plain": [
       "'hello paul!'"
      ]
     },
     "execution_count": 77,
     "metadata": {
      "tags": []
     },
     "output_type": "execute_result"
    }
   ],
   "source": [
    "hellofriend()"
   ]
  },
  {
   "cell_type": "markdown",
   "metadata": {
    "colab_type": "text",
    "id": "Vc7BiJyKk5Gd"
   },
   "source": [
    "**LIST**\n",
    "It's a container that can contain any anything i.e. datatype, function, object, variables etc. "
   ]
  },
  {
   "cell_type": "code",
   "execution_count": null,
   "metadata": {
    "colab": {
     "base_uri": "https://localhost:8080/",
     "height": 34
    },
    "colab_type": "code",
    "executionInfo": {
     "elapsed": 848,
     "status": "ok",
     "timestamp": 1591599270421,
     "user": {
      "displayName": "บอทน้อย Little bot",
      "photoUrl": "https://lh3.googleusercontent.com/a-/AOh14Gg_oKIVWfi33Hl20-CFISRlD3Yn6O6vRr0Kh3fdjBM=s64",
      "userId": "00386448689616224988"
     },
     "user_tz": -420
    },
    "id": "Zvo-u74mgSok",
    "outputId": "f355541e-3fae-4083-8b24-2554780d916e"
   },
   "outputs": [
    {
     "data": {
      "text/plain": [
       "'hello'"
      ]
     },
     "execution_count": 46,
     "metadata": {
      "tags": []
     },
     "output_type": "execute_result"
    }
   ],
   "source": [
    "x = ['hello',hellofriend,3,4,5,6]\n",
    "y = [x]\n",
    "z = ['hello',x,y]\n",
    "#x[2:]\n",
    "z[2][0][0]"
   ]
  },
  {
   "cell_type": "code",
   "execution_count": null,
   "metadata": {
    "colab": {
     "base_uri": "https://localhost:8080/",
     "height": 51
    },
    "colab_type": "code",
    "executionInfo": {
     "elapsed": 880,
     "status": "ok",
     "timestamp": 1591598981865,
     "user": {
      "displayName": "บอทน้อย Little bot",
      "photoUrl": "https://lh3.googleusercontent.com/a-/AOh14Gg_oKIVWfi33Hl20-CFISRlD3Yn6O6vRr0Kh3fdjBM=s64",
      "userId": "00386448689616224988"
     },
     "user_tz": -420
    },
    "id": "3dVMsm14iyiJ",
    "outputId": "4a846f2a-e255-4cc7-cb21-2705f74f53a1"
   },
   "outputs": [
    {
     "name": "stdout",
     "output_type": "stream",
     "text": [
      "[1, 2, 3, 4, 5]\n",
      "[1, 2, 3, 4, 5, 6, 7, 8]\n"
     ]
    }
   ],
   "source": [
    "y = [1,2,3,4,5,6,7,8]\n",
    "#print(y[0:5])\n",
    "#print(len(y))\n",
    "#print(sum(y))\n",
    "print(y[0:5])\n",
    "print(y)"
   ]
  },
  {
   "cell_type": "markdown",
   "metadata": {
    "colab_type": "text",
    "id": "3qhZeGeykTTh"
   },
   "source": [
    "**Expressions**"
   ]
  },
  {
   "cell_type": "code",
   "execution_count": null,
   "metadata": {
    "colab": {
     "base_uri": "https://localhost:8080/",
     "height": 119
    },
    "colab_type": "code",
    "executionInfo": {
     "elapsed": 880,
     "status": "ok",
     "timestamp": 1591599485812,
     "user": {
      "displayName": "บอทน้อย Little bot",
      "photoUrl": "https://lh3.googleusercontent.com/a-/AOh14Gg_oKIVWfi33Hl20-CFISRlD3Yn6O6vRr0Kh3fdjBM=s64",
      "userId": "00386448689616224988"
     },
     "user_tz": -420
    },
    "id": "giEzzFDtjs67",
    "outputId": "f88ab15d-2283-4954-c6f2-a6b961cf2a75"
   },
   "outputs": [
    {
     "name": "stdout",
     "output_type": "stream",
     "text": [
      "True\n",
      "False\n",
      "False\n",
      "True\n",
      "False\n",
      "True\n"
     ]
    }
   ],
   "source": [
    "x = 5\n",
    "y = 5\n",
    "print(x == y)\n",
    "print(x != y)\n",
    "print(x < y)\n",
    "print(x <=y)\n",
    "print(x > y)\n",
    "print(x >= y)"
   ]
  },
  {
   "cell_type": "code",
   "execution_count": 85,
   "metadata": {
    "colab": {
     "base_uri": "https://localhost:8080/",
     "height": 34
    },
    "colab_type": "code",
    "executionInfo": {
     "elapsed": 621,
     "status": "ok",
     "timestamp": 1600487668897,
     "user": {
      "displayName": "Apivat Hanvongse",
      "photoUrl": "",
      "userId": "05736454131890343419"
     },
     "user_tz": -420
    },
    "id": "39TUIfcgfPNU",
    "outputId": "2cc220ed-21da-45bc-bc0e-2268c9e4ae10"
   },
   "outputs": [
    {
     "data": {
      "text/plain": [
       "True"
      ]
     },
     "execution_count": 85,
     "metadata": {
      "tags": []
     },
     "output_type": "execute_result"
    }
   ],
   "source": [
    "a = 'paul'\n",
    "b = ' Paul'\n",
    "\n",
    "def clean_text(text):\n",
    "  text = text.strip().lower()\n",
    "  return text\n",
    "\n",
    "#print(a==b.lower().lstrip())\n",
    "#print(clean_text(a)==clean_text(b))\n",
    "clean_text(a)==clean_text(b)"
   ]
  },
  {
   "cell_type": "code",
   "execution_count": 78,
   "metadata": {
    "colab": {},
    "colab_type": "code",
    "executionInfo": {
     "elapsed": 617,
     "status": "ok",
     "timestamp": 1600487468035,
     "user": {
      "displayName": "Apivat Hanvongse",
      "photoUrl": "",
      "userId": "05736454131890343419"
     },
     "user_tz": -420
    },
    "id": "dasupu_pwpDj"
   },
   "outputs": [],
   "source": [
    "x = 5\n",
    "y = 5\n",
    "z = 2\n"
   ]
  },
  {
   "cell_type": "code",
   "execution_count": 79,
   "metadata": {
    "colab": {
     "base_uri": "https://localhost:8080/",
     "height": 34
    },
    "colab_type": "code",
    "executionInfo": {
     "elapsed": 766,
     "status": "ok",
     "timestamp": 1600487477988,
     "user": {
      "displayName": "Apivat Hanvongse",
      "photoUrl": "",
      "userId": "05736454131890343419"
     },
     "user_tz": -420
    },
    "id": "NhNLgQjGtvxN",
    "outputId": "addd8ad0-d9e1-4d18-ef04-cb5e153e1a12"
   },
   "outputs": [
    {
     "data": {
      "text/plain": [
       "True"
      ]
     },
     "execution_count": 79,
     "metadata": {
      "tags": []
     },
     "output_type": "execute_result"
    }
   ],
   "source": [
    "x = 5\n",
    "y = 4\n",
    "x = y\n",
    "x == y\n"
   ]
  },
  {
   "cell_type": "code",
   "execution_count": null,
   "metadata": {
    "colab": {
     "base_uri": "https://localhost:8080/",
     "height": 34
    },
    "colab_type": "code",
    "executionInfo": {
     "elapsed": 1044,
     "status": "ok",
     "timestamp": 1591617240633,
     "user": {
      "displayName": "บอทน้อย Little bot",
      "photoUrl": "https://lh3.googleusercontent.com/a-/AOh14Gg_oKIVWfi33Hl20-CFISRlD3Yn6O6vRr0Kh3fdjBM=s64",
      "userId": "00386448689616224988"
     },
     "user_tz": -420
    },
    "id": "DntxexKjxmjr",
    "outputId": "3bad4952-6ace-4bb8-ff8e-be883ea824d3"
   },
   "outputs": [
    {
     "data": {
      "text/plain": [
       "True"
      ]
     },
     "execution_count": 52,
     "metadata": {
      "tags": []
     },
     "output_type": "execute_result"
    }
   ],
   "source": [
    "x = [1,2,3,4,5]\n",
    "(6 in x) | (x[0]<5)"
   ]
  },
  {
   "cell_type": "code",
   "execution_count": null,
   "metadata": {
    "colab": {
     "base_uri": "https://localhost:8080/",
     "height": 102
    },
    "colab_type": "code",
    "executionInfo": {
     "elapsed": 1094,
     "status": "ok",
     "timestamp": 1591412588449,
     "user": {
      "displayName": "บอทน้อย Little bot",
      "photoUrl": "https://lh3.googleusercontent.com/a-/AOh14Gg_oKIVWfi33Hl20-CFISRlD3Yn6O6vRr0Kh3fdjBM=s64",
      "userId": "00386448689616224988"
     },
     "user_tz": -420
    },
    "id": "3NhPbHK4kpFt",
    "outputId": "a0d39060-a65c-43f6-c063-d06eaacc72aa"
   },
   "outputs": [
    {
     "name": "stdout",
     "output_type": "stream",
     "text": [
      "True\n",
      "True\n",
      "False\n",
      "True\n",
      "False\n"
     ]
    }
   ],
   "source": [
    "x = [1,2,3,4,5]\n",
    "print(1 in x)\n",
    "print(len(x)<=10)\n",
    "print(len(x)>=10)\n",
    "print(sum(x)<=100)\n",
    "print(sum(x)>=100)"
   ]
  },
  {
   "cell_type": "code",
   "execution_count": null,
   "metadata": {
    "colab": {
     "base_uri": "https://localhost:8080/",
     "height": 34
    },
    "colab_type": "code",
    "executionInfo": {
     "elapsed": 1031,
     "status": "ok",
     "timestamp": 1591617313798,
     "user": {
      "displayName": "บอทน้อย Little bot",
      "photoUrl": "https://lh3.googleusercontent.com/a-/AOh14Gg_oKIVWfi33Hl20-CFISRlD3Yn6O6vRr0Kh3fdjBM=s64",
      "userId": "00386448689616224988"
     },
     "user_tz": -420
    },
    "id": "aOfV-5oJmTjV",
    "outputId": "383844fc-3756-4fb1-b011-23e4ddc7ddfc"
   },
   "outputs": [
    {
     "data": {
      "text/plain": [
       "True"
      ]
     },
     "execution_count": 54,
     "metadata": {
      "tags": []
     },
     "output_type": "execute_result"
    }
   ],
   "source": [
    "x = 'taoshinjuku'\n",
    "y = 'tao'\n",
    "x[0:3] == y"
   ]
  },
  {
   "cell_type": "markdown",
   "metadata": {
    "colab_type": "text",
    "id": "30gm5cS2lxI5"
   },
   "source": [
    "**Condition**"
   ]
  },
  {
   "cell_type": "code",
   "execution_count": 86,
   "metadata": {
    "colab": {
     "base_uri": "https://localhost:8080/",
     "height": 34
    },
    "colab_type": "code",
    "executionInfo": {
     "elapsed": 706,
     "status": "ok",
     "timestamp": 1600487691103,
     "user": {
      "displayName": "Apivat Hanvongse",
      "photoUrl": "",
      "userId": "05736454131890343419"
     },
     "user_tz": -420
    },
    "id": "NVeBA9qyl0Fe",
    "outputId": "54ced2d0-8428-4fd9-f73e-6a9a2a4bd67d"
   },
   "outputs": [
    {
     "name": "stdout",
     "output_type": "stream",
     "text": [
      "good bye\n"
     ]
    }
   ],
   "source": [
    "x = 3\n",
    "y = 2\n",
    "if x < y:\n",
    "  print('hello')\n",
    "else:\n",
    "  print('good bye')"
   ]
  },
  {
   "cell_type": "code",
   "execution_count": 91,
   "metadata": {
    "colab": {
     "base_uri": "https://localhost:8080/",
     "height": 51
    },
    "colab_type": "code",
    "executionInfo": {
     "elapsed": 3560,
     "status": "ok",
     "timestamp": 1600487835656,
     "user": {
      "displayName": "Apivat Hanvongse",
      "photoUrl": "",
      "userId": "05736454131890343419"
     },
     "user_tz": -420
    },
    "id": "44ZHsp-JgYyB",
    "outputId": "dc18cded-c9b0-415b-ceca-3b79e72dc9dc"
   },
   "outputs": [
    {
     "name": "stdout",
     "output_type": "stream",
     "text": [
      "33\n",
      "women\n"
     ]
    }
   ],
   "source": [
    "weight = int(input())\n",
    "if weight < 60:\n",
    "  print('women')\n",
    "else:\n",
    "  print('men')"
   ]
  },
  {
   "cell_type": "code",
   "execution_count": 97,
   "metadata": {
    "colab": {
     "base_uri": "https://localhost:8080/",
     "height": 52
    },
    "colab_type": "code",
    "executionInfo": {
     "elapsed": 4003,
     "status": "ok",
     "timestamp": 1600488018115,
     "user": {
      "displayName": "Apivat Hanvongse",
      "photoUrl": "",
      "userId": "05736454131890343419"
     },
     "user_tz": -420
    },
    "id": "mqEjpHeShGW1",
    "outputId": "07fcac72-d7be-4cb4-e680-f77655e7c3ce"
   },
   "outputs": [
    {
     "name": "stdout",
     "output_type": "stream",
     "text": [
      "99\n"
     ]
    },
    {
     "data": {
      "application/vnd.google.colaboratory.intrinsic+json": {
       "type": "string"
      },
      "text/plain": [
       "'men'"
      ]
     },
     "execution_count": 97,
     "metadata": {
      "tags": []
     },
     "output_type": "execute_result"
    }
   ],
   "source": [
    "weight = int(input())\n",
    "'women' if (weight < 60) else 'men'"
   ]
  },
  {
   "cell_type": "code",
   "execution_count": 95,
   "metadata": {
    "colab": {
     "base_uri": "https://localhost:8080/",
     "height": 35
    },
    "colab_type": "code",
    "executionInfo": {
     "elapsed": 1016,
     "status": "ok",
     "timestamp": 1600487920420,
     "user": {
      "displayName": "Apivat Hanvongse",
      "photoUrl": "",
      "userId": "05736454131890343419"
     },
     "user_tz": -420
    },
    "id": "nieq_wE2f-vY",
    "outputId": "89742c22-2ec1-4389-bae0-e5aa2ddabeb4"
   },
   "outputs": [
    {
     "data": {
      "application/vnd.google.colaboratory.intrinsic+json": {
       "type": "string"
      },
      "text/plain": [
       "'good bye'"
      ]
     },
     "execution_count": 95,
     "metadata": {
      "tags": []
     },
     "output_type": "execute_result"
    }
   ],
   "source": [
    "x = 3\n",
    "y = 2\n",
    "\n",
    "'hello' if (x < y) else 'good bye'"
   ]
  },
  {
   "cell_type": "code",
   "execution_count": null,
   "metadata": {
    "colab": {
     "base_uri": "https://localhost:8080/",
     "height": 34
    },
    "colab_type": "code",
    "executionInfo": {
     "elapsed": 1055,
     "status": "ok",
     "timestamp": 1591617552791,
     "user": {
      "displayName": "บอทน้อย Little bot",
      "photoUrl": "https://lh3.googleusercontent.com/a-/AOh14Gg_oKIVWfi33Hl20-CFISRlD3Yn6O6vRr0Kh3fdjBM=s64",
      "userId": "00386448689616224988"
     },
     "user_tz": -420
    },
    "id": "IOkYt5cEyviP",
    "outputId": "009c4b0c-0c55-454d-e946-9ad29aac5111"
   },
   "outputs": [
    {
     "name": "stdout",
     "output_type": "stream",
     "text": [
      "hey we have common names\n"
     ]
    }
   ],
   "source": [
    "x = 'taoshinjuku'\n",
    "y = 'taorama9'\n",
    "if x[0:4] == y [0:4]:\n",
    "  print('hey we have common names')\n",
    "else:\n",
    "  print('who are you?')"
   ]
  },
  {
   "cell_type": "code",
   "execution_count": 98,
   "metadata": {
    "colab": {
     "base_uri": "https://localhost:8080/",
     "height": 34
    },
    "colab_type": "code",
    "executionInfo": {
     "elapsed": 644,
     "status": "ok",
     "timestamp": 1600488852274,
     "user": {
      "displayName": "Apivat Hanvongse",
      "photoUrl": "",
      "userId": "05736454131890343419"
     },
     "user_tz": -420
    },
    "id": "xIRKWPwMkYze",
    "outputId": "b24ffb73-c797-44c2-dd66-457f0223526b"
   },
   "outputs": [
    {
     "name": "stdout",
     "output_type": "stream",
     "text": [
      "who are you?\n"
     ]
    }
   ],
   "source": [
    "x = 'taoshinjuku'\n",
    "y = 'taorama9'\n",
    "if x[0:6] == y [0:6]:\n",
    "  print('hey we have common names')\n",
    "else:\n",
    "  print('who are you?')"
   ]
  },
  {
   "cell_type": "code",
   "execution_count": null,
   "metadata": {
    "colab": {
     "base_uri": "https://localhost:8080/",
     "height": 51
    },
    "colab_type": "code",
    "executionInfo": {
     "elapsed": 1058,
     "status": "ok",
     "timestamp": 1591617690441,
     "user": {
      "displayName": "บอทน้อย Little bot",
      "photoUrl": "https://lh3.googleusercontent.com/a-/AOh14Gg_oKIVWfi33Hl20-CFISRlD3Yn6O6vRr0Kh3fdjBM=s64",
      "userId": "00386448689616224988"
     },
     "user_tz": -420
    },
    "id": "lPB_yQfczVli",
    "outputId": "bbf32baa-8701-4820-9444-0913bf64d8a9"
   },
   "outputs": [
    {
     "name": "stdout",
     "output_type": "stream",
     "text": [
      "False\n"
     ]
    },
    {
     "data": {
      "text/plain": [
       "1"
      ]
     },
     "execution_count": 63,
     "metadata": {
      "tags": []
     },
     "output_type": "execute_result"
    }
   ],
   "source": [
    "x = 1\n",
    "y = 2\n",
    "print(x == y)\n",
    "x"
   ]
  },
  {
   "cell_type": "code",
   "execution_count": 105,
   "metadata": {
    "colab": {},
    "colab_type": "code",
    "executionInfo": {
     "elapsed": 609,
     "status": "ok",
     "timestamp": 1600489259804,
     "user": {
      "displayName": "Apivat Hanvongse",
      "photoUrl": "",
      "userId": "05736454131890343419"
     },
     "user_tz": -420
    },
    "id": "mlKQc7hCmL7r"
   },
   "outputs": [],
   "source": [
    "# you can have multiple if-else flows in one function\n",
    "\n",
    "def howmuch():\n",
    "  mywallet = 100\n",
    "  pricetag = input('how much is that thing?\\n')\n",
    "  if pricetag.isdigit():\n",
    "    pricetag = int(pricetag)\n",
    "  else: \n",
    "    return \"wrong data type\"\n",
    "  if mywallet < pricetag:\n",
    "    return \"Sorry, may be next time.\"\n",
    "  else:\n",
    "    return \"Could I have one, please.\""
   ]
  },
  {
   "cell_type": "code",
   "execution_count": 107,
   "metadata": {
    "colab": {
     "base_uri": "https://localhost:8080/",
     "height": 69
    },
    "colab_type": "code",
    "executionInfo": {
     "elapsed": 4362,
     "status": "ok",
     "timestamp": 1600489271997,
     "user": {
      "displayName": "Apivat Hanvongse",
      "photoUrl": "",
      "userId": "05736454131890343419"
     },
     "user_tz": -420
    },
    "id": "EIosR5m6mx_K",
    "outputId": "68c3e83b-e9b2-4d01-f633-05cb915feb7b"
   },
   "outputs": [
    {
     "name": "stdout",
     "output_type": "stream",
     "text": [
      "how much is that thing?\n",
      "1000\n"
     ]
    },
    {
     "data": {
      "application/vnd.google.colaboratory.intrinsic+json": {
       "type": "string"
      },
      "text/plain": [
       "'Sorry, may be next time.'"
      ]
     },
     "execution_count": 107,
     "metadata": {
      "tags": []
     },
     "output_type": "execute_result"
    }
   ],
   "source": [
    "howmuch()"
   ]
  },
  {
   "cell_type": "code",
   "execution_count": null,
   "metadata": {
    "colab": {
     "base_uri": "https://localhost:8080/",
     "height": 187
    },
    "colab_type": "code",
    "executionInfo": {
     "elapsed": 754,
     "status": "ok",
     "timestamp": 1591617830992,
     "user": {
      "displayName": "บอทน้อย Little bot",
      "photoUrl": "https://lh3.googleusercontent.com/a-/AOh14Gg_oKIVWfi33Hl20-CFISRlD3Yn6O6vRr0Kh3fdjBM=s64",
      "userId": "00386448689616224988"
     },
     "user_tz": -420
    },
    "id": "0EMzGCgx0DS8",
    "outputId": "244fd0c6-caea-4ccb-ff7a-5e16dda3a085"
   },
   "outputs": [
    {
     "name": "stdout",
     "output_type": "stream",
     "text": [
      "สวัสดีชาวโลก\n",
      "สวัสดีชาวโลก\n",
      "สวัสดีชาวโลก\n",
      "สวัสดีชาวโลก\n",
      "สวัสดีชาวโลก\n",
      "สวัสดีชาวโลก\n",
      "สวัสดีชาวโลก\n",
      "สวัสดีชาวโลก\n",
      "สวัสดีชาวโลก\n",
      "สวัสดีชาวโลก\n"
     ]
    }
   ],
   "source": []
  },
  {
   "cell_type": "markdown",
   "metadata": {
    "colab_type": "text",
    "id": "Kuo525g6u6QQ"
   },
   "source": [
    "**for LOOP**"
   ]
  },
  {
   "cell_type": "code",
   "execution_count": 101,
   "metadata": {
    "colab": {
     "base_uri": "https://localhost:8080/",
     "height": 272
    },
    "colab_type": "code",
    "executionInfo": {
     "elapsed": 12342,
     "status": "ok",
     "timestamp": 1600489096265,
     "user": {
      "displayName": "Apivat Hanvongse",
      "photoUrl": "",
      "userId": "05736454131890343419"
     },
     "user_tz": -420
    },
    "id": "ypd_YO-Z0dI3",
    "outputId": "74d48524-36e7-4d9c-ffe2-7ef0adffe134"
   },
   "outputs": [
    {
     "name": "stdout",
     "output_type": "stream",
     "text": [
      "1\n",
      "สวัสดีชาวโลก\n",
      "paul\n",
      "2\n",
      "สวัสดีชาวโลก\n",
      "paul\n",
      "3\n",
      "สวัสดีชาวโลก\n",
      "paul\n",
      "4\n",
      "สวัสดีชาวโลก\n",
      "paul\n",
      "5\n",
      "สวัสดีชาวโลก\n",
      "paul\n"
     ]
    }
   ],
   "source": [
    "for i in [1,2,3,4,5]:\n",
    "  print(i)\n",
    "  print('สวัสดีชาวโลก')\n",
    "  input()"
   ]
  },
  {
   "cell_type": "code",
   "execution_count": 109,
   "metadata": {
    "colab": {
     "base_uri": "https://localhost:8080/",
     "height": 68
    },
    "colab_type": "code",
    "executionInfo": {
     "elapsed": 625,
     "status": "ok",
     "timestamp": 1600489440004,
     "user": {
      "displayName": "Apivat Hanvongse",
      "photoUrl": "",
      "userId": "05736454131890343419"
     },
     "user_tz": -420
    },
    "id": "njiRqDYRmhU2",
    "outputId": "5ac7e4d3-957d-4b1d-a594-93fa00934807"
   },
   "outputs": [
    {
     "name": "stdout",
     "output_type": "stream",
     "text": [
      "hello hello hello \n",
      "hello hello hello hello \n",
      "hello hello hello hello hello \n"
     ]
    }
   ],
   "source": [
    "for i in [3,4,5]:\n",
    "  print(\"hello \"*i)\n"
   ]
  },
  {
   "cell_type": "code",
   "execution_count": 110,
   "metadata": {
    "colab": {
     "base_uri": "https://localhost:8080/",
     "height": 170
    },
    "colab_type": "code",
    "executionInfo": {
     "elapsed": 666,
     "status": "ok",
     "timestamp": 1600489482548,
     "user": {
      "displayName": "Apivat Hanvongse",
      "photoUrl": "",
      "userId": "05736454131890343419"
     },
     "user_tz": -420
    },
    "id": "vd1kIWkamv73",
    "outputId": "56c10550-0325-4cde-8072-2bb0b53ea73d"
   },
   "outputs": [
    {
     "name": "stdout",
     "output_type": "stream",
     "text": [
      "winn\n",
      "tao\n",
      "arm\n",
      "met\n",
      "pint\n",
      "wan\n",
      "worachai\n",
      "bee\n",
      "wasunee\n"
     ]
    }
   ],
   "source": [
    "namelist = ['winn','tao','arm','met','pint','wan','worachai','bee','wasunee']\n",
    "for name in namelist:\n",
    "  print(name)"
   ]
  },
  {
   "cell_type": "code",
   "execution_count": 111,
   "metadata": {
    "colab": {
     "base_uri": "https://localhost:8080/",
     "height": 748
    },
    "colab_type": "code",
    "executionInfo": {
     "elapsed": 31077,
     "status": "ok",
     "timestamp": 1600489546474,
     "user": {
      "displayName": "Apivat Hanvongse",
      "photoUrl": "",
      "userId": "05736454131890343419"
     },
     "user_tz": -420
    },
    "id": "B-0Me9-X1Fvs",
    "outputId": "491092f7-212a-41e4-b231-094b9d80f0ca"
   },
   "outputs": [
    {
     "name": "stdout",
     "output_type": "stream",
     "text": [
      "winn\n",
      "w\n",
      "name initial is \"w\"\n",
      "0\n",
      "countname has been increased\n",
      "1\n",
      "1\n",
      "tao\n",
      "t\n",
      "2\n",
      "arm\n",
      "a\n",
      "e\n",
      "met\n",
      "m\n",
      "5\n",
      "pint\n",
      "p\n",
      "6\\\n",
      "wan\n",
      "w\n",
      "name initial is \"w\"\n",
      "1\n",
      "countname has been increased\n",
      "2\n",
      "7\n",
      "worachai\n",
      "w\n",
      "name initial is \"w\"\n",
      "2\n",
      "countname has been increased\n",
      "3\n",
      "3\n",
      "bee\n",
      "b\n",
      "8\n",
      "wasunee\n",
      "w\n",
      "name initial is \"w\"\n",
      "3\n",
      "countname has been increased\n",
      "4\n",
      "0\n"
     ]
    }
   ],
   "source": [
    "namelist = ['winn','tao','arm','met','pint','wan','worachai','bee','wasunee']\n",
    "countname = 0\n",
    "for name in namelist:\n",
    "  print(name)\n",
    "  nameinitial = name[0]\n",
    "  print(nameinitial)\n",
    "  if nameinitial == 'w':\n",
    "    print('name initial is \"w\"')\n",
    "    print(countname)\n",
    "    countname = countname + 1\n",
    "    print('countname has been increased')\n",
    "    print(countname)\n",
    "  input()\n"
   ]
  },
  {
   "cell_type": "code",
   "execution_count": 112,
   "metadata": {
    "colab": {
     "base_uri": "https://localhost:8080/",
     "height": 170
    },
    "colab_type": "code",
    "executionInfo": {
     "elapsed": 642,
     "status": "ok",
     "timestamp": 1600489623361,
     "user": {
      "displayName": "Apivat Hanvongse",
      "photoUrl": "",
      "userId": "05736454131890343419"
     },
     "user_tz": -420
    },
    "id": "yjsH4iVOnV9Q",
    "outputId": "66de9310-4a1c-464b-d722-a8b0e101fa78"
   },
   "outputs": [
    {
     "name": "stdout",
     "output_type": "stream",
     "text": [
      "1\n",
      "2\n",
      "3\n",
      "4\n",
      "5\n",
      "6\n",
      "7\n",
      "8\n",
      "9\n"
     ]
    }
   ],
   "source": [
    "for i in range(1,10):\n",
    "  print(i)"
   ]
  },
  {
   "cell_type": "code",
   "execution_count": 115,
   "metadata": {
    "colab": {
     "base_uri": "https://localhost:8080/",
     "height": 187
    },
    "colab_type": "code",
    "executionInfo": {
     "elapsed": 834,
     "status": "ok",
     "timestamp": 1600489694960,
     "user": {
      "displayName": "Apivat Hanvongse",
      "photoUrl": "",
      "userId": "05736454131890343419"
     },
     "user_tz": -420
    },
    "id": "fAXtXY1Hnhg1",
    "outputId": "bae91b3e-cda5-48ce-b27d-9715c397f509"
   },
   "outputs": [
    {
     "name": "stdout",
     "output_type": "stream",
     "text": [
      "1\n",
      "2\n",
      "3\n",
      "4\n",
      "5\n",
      "6\n",
      "7\n",
      "8\n",
      "9\n",
      "10\n"
     ]
    }
   ],
   "source": [
    "for i in [1,2,3,4,5,6,7,8,9,10]:\n",
    "  print(i)"
   ]
  },
  {
   "cell_type": "code",
   "execution_count": 116,
   "metadata": {
    "colab": {
     "base_uri": "https://localhost:8080/",
     "height": 170
    },
    "colab_type": "code",
    "executionInfo": {
     "elapsed": 636,
     "status": "ok",
     "timestamp": 1600489729056,
     "user": {
      "displayName": "Apivat Hanvongse",
      "photoUrl": "",
      "userId": "05736454131890343419"
     },
     "user_tz": -420
    },
    "id": "lAC390x4ntpD",
    "outputId": "7f7ecdbf-c6a8-4fb1-f066-5ea853581b56"
   },
   "outputs": [
    {
     "name": "stdout",
     "output_type": "stream",
     "text": [
      "winn\n",
      "tao\n",
      "arm\n",
      "met\n",
      "pint\n",
      "wan\n",
      "worachai\n",
      "bee\n",
      "wasunee\n"
     ]
    }
   ],
   "source": [
    "for name in namelist:\n",
    "  print(name)"
   ]
  },
  {
   "cell_type": "code",
   "execution_count": 117,
   "metadata": {
    "colab": {
     "base_uri": "https://localhost:8080/",
     "height": 170
    },
    "colab_type": "code",
    "executionInfo": {
     "elapsed": 724,
     "status": "ok",
     "timestamp": 1600489750104,
     "user": {
      "displayName": "Apivat Hanvongse",
      "photoUrl": "",
      "userId": "05736454131890343419"
     },
     "user_tz": -420
    },
    "id": "qCDvxsPWnz0g",
    "outputId": "026be132-d787-4a2a-d3cb-960394f56890"
   },
   "outputs": [
    {
     "name": "stdout",
     "output_type": "stream",
     "text": [
      "winn\n",
      "tao\n",
      "arm\n",
      "met\n",
      "pint\n",
      "wan\n",
      "worachai\n",
      "bee\n",
      "wasunee\n"
     ]
    }
   ],
   "source": [
    "for i in range(len(namelist)):\n",
    "  print(namelist[i])"
   ]
  },
  {
   "cell_type": "code",
   "execution_count": 121,
   "metadata": {
    "colab": {
     "base_uri": "https://localhost:8080/",
     "height": 170
    },
    "colab_type": "code",
    "executionInfo": {
     "elapsed": 699,
     "status": "ok",
     "timestamp": 1600489834050,
     "user": {
      "displayName": "Apivat Hanvongse",
      "photoUrl": "",
      "userId": "05736454131890343419"
     },
     "user_tz": -420
    },
    "id": "hc6UKwuIn6Fz",
    "outputId": "4db7707a-f2b2-42eb-f7c0-d28eaeb91c4b"
   },
   "outputs": [
    {
     "name": "stdout",
     "output_type": "stream",
     "text": [
      "0 winn\n",
      "1 tao\n",
      "2 arm\n",
      "3 met\n",
      "4 pint\n",
      "5 wan\n",
      "6 worachai\n",
      "7 bee\n",
      "8 wasunee\n"
     ]
    }
   ],
   "source": [
    "for index, name in enumerate(namelist):\n",
    "  print(index, name)\n",
    "  #return [0,5,6,8]"
   ]
  },
  {
   "cell_type": "code",
   "execution_count": 113,
   "metadata": {
    "colab": {
     "base_uri": "https://localhost:8080/",
     "height": 34
    },
    "colab_type": "code",
    "executionInfo": {
     "elapsed": 693,
     "status": "ok",
     "timestamp": 1600489649629,
     "user": {
      "displayName": "Apivat Hanvongse",
      "photoUrl": "",
      "userId": "05736454131890343419"
     },
     "user_tz": -420
    },
    "id": "FCS2NVyFnb98",
    "outputId": "4aa38b40-a0ca-4d05-ecd3-2924895732bd"
   },
   "outputs": [
    {
     "data": {
      "text/plain": [
       "range"
      ]
     },
     "execution_count": 113,
     "metadata": {
      "tags": []
     },
     "output_type": "execute_result"
    }
   ],
   "source": [
    "type(range(1,10))"
   ]
  },
  {
   "cell_type": "markdown",
   "metadata": {
    "colab_type": "text",
    "id": "R9x1MSAdr89h"
   },
   "source": [
    "**while LOOP**"
   ]
  },
  {
   "cell_type": "code",
   "execution_count": null,
   "metadata": {
    "colab": {
     "base_uri": "https://localhost:8080/",
     "height": 187
    },
    "colab_type": "code",
    "executionInfo": {
     "elapsed": 1043,
     "status": "ok",
     "timestamp": 1591620534392,
     "user": {
      "displayName": "บอทน้อย Little bot",
      "photoUrl": "https://lh3.googleusercontent.com/a-/AOh14Gg_oKIVWfi33Hl20-CFISRlD3Yn6O6vRr0Kh3fdjBM=s64",
      "userId": "00386448689616224988"
     },
     "user_tz": -420
    },
    "id": "ZH4T9XUAr7vV",
    "outputId": "75c7c5df-ebdc-41a6-85f4-06305508fc80"
   },
   "outputs": [
    {
     "name": "stdout",
     "output_type": "stream",
     "text": [
      "0\n",
      "1\n",
      "2\n",
      "3\n",
      "4\n",
      "5\n",
      "6\n",
      "7\n",
      "8\n",
      "9\n"
     ]
    }
   ],
   "source": [
    "i = 0\n",
    "while i < 10:\n",
    "  print(i)\n",
    "  i = i + 1\n"
   ]
  },
  {
   "cell_type": "code",
   "execution_count": 122,
   "metadata": {
    "colab": {
     "base_uri": "https://localhost:8080/",
     "height": 187
    },
    "colab_type": "code",
    "executionInfo": {
     "elapsed": 906,
     "status": "ok",
     "timestamp": 1600489892907,
     "user": {
      "displayName": "Apivat Hanvongse",
      "photoUrl": "",
      "userId": "05736454131890343419"
     },
     "user_tz": -420
    },
    "id": "UQoosNMJoXfs",
    "outputId": "c1073587-a336-4fb1-f126-c999b98cbd65"
   },
   "outputs": [
    {
     "name": "stdout",
     "output_type": "stream",
     "text": [
      "0\n",
      "1\n",
      "2\n",
      "3\n",
      "4\n",
      "5\n",
      "6\n",
      "7\n",
      "8\n",
      "9\n"
     ]
    }
   ],
   "source": [
    "for i in range(10):\n",
    "  print(i)"
   ]
  },
  {
   "cell_type": "code",
   "execution_count": null,
   "metadata": {
    "colab": {
     "base_uri": "https://localhost:8080/",
     "height": 51
    },
    "colab_type": "code",
    "executionInfo": {
     "elapsed": 1308,
     "status": "ok",
     "timestamp": 1591413926363,
     "user": {
      "displayName": "บอทน้อย Little bot",
      "photoUrl": "https://lh3.googleusercontent.com/a-/AOh14Gg_oKIVWfi33Hl20-CFISRlD3Yn6O6vRr0Kh3fdjBM=s64",
      "userId": "00386448689616224988"
     },
     "user_tz": -420
    },
    "id": "SPqJNaelqAHH",
    "outputId": "4314c35c-3c0f-4a7b-89cd-4d1bf01fedce"
   },
   "outputs": [
    {
     "name": "stdout",
     "output_type": "stream",
     "text": [
      "<class 'str'>\n",
      "<class 'int'>\n"
     ]
    }
   ],
   "source": [
    "a='10'\n",
    "print(type(a))\n",
    "a = int(a)\n",
    "print(type(a))"
   ]
  },
  {
   "cell_type": "code",
   "execution_count": null,
   "metadata": {
    "colab": {},
    "colab_type": "code",
    "id": "Wdd733Boo18x"
   },
   "outputs": [],
   "source": [
    "# other commands\n",
    "continue\n",
    "pass\n",
    "break\n"
   ]
  },
  {
   "cell_type": "code",
   "execution_count": 128,
   "metadata": {
    "colab": {
     "base_uri": "https://localhost:8080/",
     "height": 102
    },
    "colab_type": "code",
    "executionInfo": {
     "elapsed": 979,
     "status": "ok",
     "timestamp": 1600490199230,
     "user": {
      "displayName": "Apivat Hanvongse",
      "photoUrl": "",
      "userId": "05736454131890343419"
     },
     "user_tz": -420
    },
    "id": "KhKDOhqapK-d",
    "outputId": "30399300-5044-4aa6-a1be-7424f5bf5c55"
   },
   "outputs": [
    {
     "name": "stdout",
     "output_type": "stream",
     "text": [
      "0\n",
      "1\n",
      "2\n",
      "3\n",
      "4\n"
     ]
    }
   ],
   "source": [
    "# pass will include 5\n",
    "# continue will skip 5\n",
    "# break will stop before 5\n",
    "\n",
    "for i in range(10):\n",
    "  if i == 5:\n",
    "    break\n",
    "  print(i)"
   ]
  },
  {
   "cell_type": "code",
   "execution_count": null,
   "metadata": {
    "colab": {
     "base_uri": "https://localhost:8080/",
     "height": 187
    },
    "colab_type": "code",
    "executionInfo": {
     "elapsed": 902,
     "status": "ok",
     "timestamp": 1591601170129,
     "user": {
      "displayName": "บอทน้อย Little bot",
      "photoUrl": "https://lh3.googleusercontent.com/a-/AOh14Gg_oKIVWfi33Hl20-CFISRlD3Yn6O6vRr0Kh3fdjBM=s64",
      "userId": "00386448689616224988"
     },
     "user_tz": -420
    },
    "id": "pDHiEg8gu9tr",
    "outputId": "fdd01dfe-dda2-4a04-a731-0c0f261df715"
   },
   "outputs": [
    {
     "name": "stdout",
     "output_type": "stream",
     "text": [
      "2\n",
      "hi1\n",
      "4\n",
      "5\n",
      "6\n",
      "7\n",
      "8\n",
      "9\n",
      "10\n",
      "11\n"
     ]
    }
   ],
   "source": [
    "a = [1,'hi',3,4,5,6,7,[1,2],8,9,10]\n",
    "for i in a:\n",
    "  typei = type(i)\n",
    "  if typei == int:\n",
    "    print(i+1)\n",
    "  elif typei == str:\n",
    "    print(i+str(1))\n",
    "  else:\n",
    "    pass\n",
    "  #print('hello world!')"
   ]
  },
  {
   "cell_type": "code",
   "execution_count": null,
   "metadata": {
    "colab": {
     "base_uri": "https://localhost:8080/",
     "height": 34
    },
    "colab_type": "code",
    "executionInfo": {
     "elapsed": 857,
     "status": "ok",
     "timestamp": 1591601585319,
     "user": {
      "displayName": "บอทน้อย Little bot",
      "photoUrl": "https://lh3.googleusercontent.com/a-/AOh14Gg_oKIVWfi33Hl20-CFISRlD3Yn6O6vRr0Kh3fdjBM=s64",
      "userId": "00386448689616224988"
     },
     "user_tz": -420
    },
    "id": "xH12mc0dvbDo",
    "outputId": "2bd21b22-902b-404f-cba0-23888af13c8d"
   },
   "outputs": [
    {
     "data": {
      "text/plain": [
       "['choco_added', 'coffee_added', 'milk_added']"
      ]
     },
     "execution_count": 93,
     "metadata": {
      "tags": []
     },
     "output_type": "execute_result"
    }
   ],
   "source": [
    "def checkproduct(product):\n",
    "  return product+'_added'\n",
    "\n",
    "productList = ['choco','coffee','milk']\n",
    "outputList = []\n",
    "\n",
    "for product in productList:\n",
    "  output = checkproduct(product)\n",
    "  outputList.append(output)\n",
    "outputList"
   ]
  },
  {
   "cell_type": "markdown",
   "metadata": {
    "colab_type": "text",
    "id": "nOOhqWe2xrWR"
   },
   "source": [
    "**Function**"
   ]
  },
  {
   "cell_type": "code",
   "execution_count": 135,
   "metadata": {
    "colab": {},
    "colab_type": "code",
    "executionInfo": {
     "elapsed": 668,
     "status": "ok",
     "timestamp": 1600490394387,
     "user": {
      "displayName": "Apivat Hanvongse",
      "photoUrl": "",
      "userId": "05736454131890343419"
     },
     "user_tz": -420
    },
    "id": "ahb2GdcIp733"
   },
   "outputs": [],
   "source": [
    "def this_is_my_function(x,y,z=2):\n",
    "  return x + y * z\n",
    "  #print('hello')"
   ]
  },
  {
   "cell_type": "code",
   "execution_count": 136,
   "metadata": {
    "colab": {
     "base_uri": "https://localhost:8080/",
     "height": 34
    },
    "colab_type": "code",
    "executionInfo": {
     "elapsed": 660,
     "status": "ok",
     "timestamp": 1600490400505,
     "user": {
      "displayName": "Apivat Hanvongse",
      "photoUrl": "",
      "userId": "05736454131890343419"
     },
     "user_tz": -420
    },
    "id": "2ffRjEppqAfo",
    "outputId": "7e297daf-25bf-4df0-90c3-8d9c62327755"
   },
   "outputs": [
    {
     "data": {
      "text/plain": [
       "5"
      ]
     },
     "execution_count": 136,
     "metadata": {
      "tags": []
     },
     "output_type": "execute_result"
    }
   ],
   "source": [
    "this_is_my_function(1,2)"
   ]
  },
  {
   "cell_type": "code",
   "execution_count": 139,
   "metadata": {
    "colab": {},
    "colab_type": "code",
    "executionInfo": {
     "elapsed": 580,
     "status": "ok",
     "timestamp": 1600490625533,
     "user": {
      "displayName": "Apivat Hanvongse",
      "photoUrl": "",
      "userId": "05736454131890343419"
     },
     "user_tz": -420
    },
    "id": "GSLZ-5zzqmtd"
   },
   "outputs": [],
   "source": [
    "def this_is_my_function(x,y,*z):\n",
    "  case = list(z)\n",
    "  if case[0] == 'plus':\n",
    "    res = x + y\n",
    "  else:\n",
    "    res = x - y\n",
    "  if case[1] == 'int':\n",
    "    return int(res)\n",
    "  else:\n",
    "    return str(res)\n"
   ]
  },
  {
   "cell_type": "code",
   "execution_count": 142,
   "metadata": {
    "colab": {
     "base_uri": "https://localhost:8080/",
     "height": 34
    },
    "colab_type": "code",
    "executionInfo": {
     "elapsed": 637,
     "status": "ok",
     "timestamp": 1600490737668,
     "user": {
      "displayName": "Apivat Hanvongse",
      "photoUrl": "",
      "userId": "05736454131890343419"
     },
     "user_tz": -420
    },
    "id": "-rmfa7a8qu-z",
    "outputId": "52c89d67-4e9f-4a41-bf82-a2513dce0c23"
   },
   "outputs": [
    {
     "data": {
      "text/plain": [
       "str"
      ]
     },
     "execution_count": 142,
     "metadata": {
      "tags": []
     },
     "output_type": "execute_result"
    }
   ],
   "source": [
    "type(this_is_my_function(1,2,'minus', 'str'))"
   ]
  },
  {
   "cell_type": "code",
   "execution_count": null,
   "metadata": {
    "colab": {
     "base_uri": "https://localhost:8080/",
     "height": 34
    },
    "colab_type": "code",
    "executionInfo": {
     "elapsed": 1040,
     "status": "ok",
     "timestamp": 1591620818941,
     "user": {
      "displayName": "บอทน้อย Little bot",
      "photoUrl": "https://lh3.googleusercontent.com/a-/AOh14Gg_oKIVWfi33Hl20-CFISRlD3Yn6O6vRr0Kh3fdjBM=s64",
      "userId": "00386448689616224988"
     },
     "user_tz": -420
    },
    "id": "L-rs_u2b_CTD",
    "outputId": "90f01a60-fc87-472f-bd65-54a9e4ad0dd2"
   },
   "outputs": [
    {
     "data": {
      "text/plain": [
       "21"
      ]
     },
     "execution_count": 89,
     "metadata": {
      "tags": []
     },
     "output_type": "execute_result"
    }
   ],
   "source": [
    "def addonetonum(num):\n",
    "  output = num + 1\n",
    "  return output"
   ]
  },
  {
   "cell_type": "code",
   "execution_count": 154,
   "metadata": {
    "colab": {
     "base_uri": "https://localhost:8080/",
     "height": 232
    },
    "colab_type": "code",
    "executionInfo": {
     "elapsed": 668,
     "status": "error",
     "timestamp": 1600491790645,
     "user": {
      "displayName": "Apivat Hanvongse",
      "photoUrl": "",
      "userId": "05736454131890343419"
     },
     "user_tz": -420
    },
    "id": "LV0RTLLLp5dE",
    "outputId": "2e578081-3488-4627-aaf8-29fd50c8410a"
   },
   "outputs": [
    {
     "ename": "NameError",
     "evalue": "ignored",
     "output_type": "error",
     "traceback": [
      "\u001b[0;31m---------------------------------------------------------------------------\u001b[0m",
      "\u001b[0;31mNameError\u001b[0m                                 Traceback (most recent call last)",
      "\u001b[0;32m<ipython-input-154-7794f153d2a2>\u001b[0m in \u001b[0;36m<module>\u001b[0;34m()\u001b[0m\n\u001b[1;32m     10\u001b[0m     \u001b[0;32mreturn\u001b[0m \u001b[0;34m'exactly'\u001b[0m\u001b[0;34m\u001b[0m\u001b[0;34m\u001b[0m\u001b[0m\n\u001b[1;32m     11\u001b[0m \u001b[0;34m\u001b[0m\u001b[0m\n\u001b[0;32m---> 12\u001b[0;31m \u001b[0mmy_number\u001b[0m \u001b[0;34m=\u001b[0m \u001b[0mrandom\u001b[0m\u001b[0;34m.\u001b[0m\u001b[0mrandint\u001b[0m\u001b[0;34m(\u001b[0m\u001b[0;36m0\u001b[0m\u001b[0;34m,\u001b[0m\u001b[0;36m100\u001b[0m\u001b[0;34m)\u001b[0m\u001b[0;34m\u001b[0m\u001b[0;34m\u001b[0m\u001b[0m\n\u001b[0m\u001b[1;32m     13\u001b[0m \u001b[0;34m\u001b[0m\u001b[0m\n\u001b[1;32m     14\u001b[0m \u001b[0;32mwhile\u001b[0m \u001b[0;32mTrue\u001b[0m \u001b[0;34m:\u001b[0m\u001b[0;34m\u001b[0m\u001b[0;34m\u001b[0m\u001b[0m\n",
      "\u001b[0;31mNameError\u001b[0m: name 'random' is not defined"
     ]
    }
   ],
   "source": [
    "#  code guessing value\n",
    "\n",
    "def guess_number(number, my_number):\n",
    "  #my_number = 47\n",
    "  if (number < my_number):\n",
    "    return 'too low'\n",
    "  elif (number > my_number):\n",
    "    return 'too high'\n",
    "  else:\n",
    "    return 'exactly'\n",
    "\n",
    "#my_number = random.randint(0,100)\n",
    "\n",
    "while True :\n",
    "  x = int(input())\n",
    "  res = guess_number(x, my_number)\n",
    "  print(res)\n",
    "  if res == 'This is your Number.':\n",
    "    break\n",
    "  \n",
    "\n",
    "#guess_number(47)"
   ]
  },
  {
   "cell_type": "code",
   "execution_count": 156,
   "metadata": {
    "colab": {
     "base_uri": "https://localhost:8080/",
     "height": 35
    },
    "colab_type": "code",
    "executionInfo": {
     "elapsed": 912,
     "status": "ok",
     "timestamp": 1600492156901,
     "user": {
      "displayName": "Apivat Hanvongse",
      "photoUrl": "",
      "userId": "05736454131890343419"
     },
     "user_tz": -420
    },
    "id": "USvoIPv5s9TX",
    "outputId": "c64f5ead-9f3e-45ba-ba35-c59a13152af7"
   },
   "outputs": [
    {
     "data": {
      "application/vnd.google.colaboratory.intrinsic+json": {
       "type": "string"
      },
      "text/plain": [
       "'too low'"
      ]
     },
     "execution_count": 156,
     "metadata": {
      "tags": []
     },
     "output_type": "execute_result"
    }
   ],
   "source": [
    "# one liner\n",
    "\n",
    "def guess_number(number):\n",
    "  my_number = 48\n",
    "  return 'too low' if (number < my_number) else 'too high' if (number > my_number) else 'exactly'\n",
    "\n",
    "guess_number(37)"
   ]
  },
  {
   "cell_type": "code",
   "execution_count": null,
   "metadata": {
    "colab": {
     "base_uri": "https://localhost:8080/",
     "height": 34
    },
    "colab_type": "code",
    "executionInfo": {
     "elapsed": 1303,
     "status": "ok",
     "timestamp": 1591620944115,
     "user": {
      "displayName": "บอทน้อย Little bot",
      "photoUrl": "https://lh3.googleusercontent.com/a-/AOh14Gg_oKIVWfi33Hl20-CFISRlD3Yn6O6vRr0Kh3fdjBM=s64",
      "userId": "00386448689616224988"
     },
     "user_tz": -420
    },
    "id": "iOJZXyy9_uQn",
    "outputId": "8d2b3027-2117-4066-8fee-50239bc74b2d"
   },
   "outputs": [
    {
     "data": {
      "text/plain": [
       "30"
      ]
     },
     "execution_count": 91,
     "metadata": {
      "tags": []
     },
     "output_type": "execute_result"
    }
   ],
   "source": [
    "def sumtwonumbers(num1,num2):\n",
    "  output = num1 + num2\n",
    "  return output\n",
    "\n",
    "sumtwonumbers(10,20)"
   ]
  },
  {
   "cell_type": "code",
   "execution_count": null,
   "metadata": {
    "colab": {},
    "colab_type": "code",
    "id": "WiZaQDtAAILj"
   },
   "outputs": [],
   "source": [
    "def getsumfromlist(numList):\n",
    "  totalsum = 0\n",
    "  for num in numList:\n",
    "    totalsum = totalsum + num\n",
    "  return totalsum"
   ]
  },
  {
   "cell_type": "code",
   "execution_count": null,
   "metadata": {
    "colab": {
     "base_uri": "https://localhost:8080/",
     "height": 34
    },
    "colab_type": "code",
    "executionInfo": {
     "elapsed": 1136,
     "status": "ok",
     "timestamp": 1591621069658,
     "user": {
      "displayName": "บอทน้อย Little bot",
      "photoUrl": "https://lh3.googleusercontent.com/a-/AOh14Gg_oKIVWfi33Hl20-CFISRlD3Yn6O6vRr0Kh3fdjBM=s64",
      "userId": "00386448689616224988"
     },
     "user_tz": -420
    },
    "id": "tdzRzvpvAdSK",
    "outputId": "7a2af3b1-e3f8-42e1-92f5-c5cacf11ed78"
   },
   "outputs": [
    {
     "data": {
      "text/plain": [
       "14"
      ]
     },
     "execution_count": 93,
     "metadata": {
      "tags": []
     },
     "output_type": "execute_result"
    }
   ],
   "source": [
    "numList = [1,5,2,3,1,2]\n",
    "getsumfromlist(numList)"
   ]
  },
  {
   "cell_type": "code",
   "execution_count": null,
   "metadata": {
    "colab": {},
    "colab_type": "code",
    "id": "MwjROP1JAoFQ"
   },
   "outputs": [],
   "source": [
    "def getmeanfromlist(numList):\n",
    "  totalsum = 0\n",
    "  totalnum = 0\n",
    "  for num in numList:\n",
    "    totalsum = totalsum + num\n",
    "    totalnum = totalnum + 1\n",
    "  meanlist = totalsum/totalnum\n",
    "  return meanlist"
   ]
  },
  {
   "cell_type": "code",
   "execution_count": null,
   "metadata": {
    "colab": {
     "base_uri": "https://localhost:8080/",
     "height": 34
    },
    "colab_type": "code",
    "executionInfo": {
     "elapsed": 1125,
     "status": "ok",
     "timestamp": 1591621227955,
     "user": {
      "displayName": "บอทน้อย Little bot",
      "photoUrl": "https://lh3.googleusercontent.com/a-/AOh14Gg_oKIVWfi33Hl20-CFISRlD3Yn6O6vRr0Kh3fdjBM=s64",
      "userId": "00386448689616224988"
     },
     "user_tz": -420
    },
    "id": "tAjWEUGHA8TK",
    "outputId": "0f49c1ed-b2c8-469c-fa21-24cfa565597f"
   },
   "outputs": [
    {
     "data": {
      "text/plain": [
       "3.2857142857142856"
      ]
     },
     "execution_count": 96,
     "metadata": {
      "tags": []
     },
     "output_type": "execute_result"
    }
   ],
   "source": [
    "numlist = [3,4,3,2,4,4,3]\n",
    "getmeanfromlist(numlist)"
   ]
  },
  {
   "cell_type": "code",
   "execution_count": null,
   "metadata": {
    "colab": {},
    "colab_type": "code",
    "id": "qfyLa1Wfxs3K"
   },
   "outputs": [],
   "source": [
    "def guessmynumber():\n",
    "  mynum = 27\n",
    "  output = ''\n",
    "  while output != 'correct!':\n",
    "    print('Please insert your guess.')\n",
    "    numguess = int(input())\n",
    "    if numguess == mynum:\n",
    "      output = 'correct!'\n",
    "    else:\n",
    "      if numguess < mynum:\n",
    "        output = 'Your guess is smaller.'\n",
    "      else:\n",
    "        output = 'Your guess is larger.'\n",
    "    print(output)\n",
    "    print('\\n')\n",
    "  return output"
   ]
  },
  {
   "cell_type": "code",
   "execution_count": null,
   "metadata": {
    "colab": {
     "base_uri": "https://localhost:8080/",
     "height": 629
    },
    "colab_type": "code",
    "executionInfo": {
     "elapsed": 52659,
     "status": "ok",
     "timestamp": 1591621480913,
     "user": {
      "displayName": "บอทน้อย Little bot",
      "photoUrl": "https://lh3.googleusercontent.com/a-/AOh14Gg_oKIVWfi33Hl20-CFISRlD3Yn6O6vRr0Kh3fdjBM=s64",
      "userId": "00386448689616224988"
     },
     "user_tz": -420
    },
    "id": "WAWlqfKlxuOE",
    "outputId": "8a0b3441-14c8-4d39-9db8-fcd0c81b96b8"
   },
   "outputs": [
    {
     "name": "stdout",
     "output_type": "stream",
     "text": [
      "Please insert your guess.\n",
      "100\n",
      "Your guess is larger.\n",
      "\n",
      "\n",
      "Please insert your guess.\n",
      "8\n",
      "Your guess is smaller.\n",
      "\n",
      "\n",
      "Please insert your guess.\n",
      "15\n",
      "Your guess is smaller.\n",
      "\n",
      "\n",
      "Please insert your guess.\n",
      "30\n",
      "Your guess is larger.\n",
      "\n",
      "\n",
      "Please insert your guess.\n",
      "28\n",
      "Your guess is larger.\n",
      "\n",
      "\n",
      "Please insert your guess.\n",
      "25\n",
      "Your guess is smaller.\n",
      "\n",
      "\n",
      "Please insert your guess.\n",
      "27\n",
      "correct!\n",
      "\n",
      "\n"
     ]
    },
    {
     "data": {
      "text/plain": [
       "'correct!'"
      ]
     },
     "execution_count": 99,
     "metadata": {
      "tags": []
     },
     "output_type": "execute_result"
    }
   ],
   "source": [
    "guessmynumber()"
   ]
  },
  {
   "cell_type": "code",
   "execution_count": null,
   "metadata": {
    "colab": {
     "base_uri": "https://localhost:8080/",
     "height": 102
    },
    "colab_type": "code",
    "executionInfo": {
     "elapsed": 2389,
     "status": "ok",
     "timestamp": 1591621659755,
     "user": {
      "displayName": "บอทน้อย Little bot",
      "photoUrl": "https://lh3.googleusercontent.com/a-/AOh14Gg_oKIVWfi33Hl20-CFISRlD3Yn6O6vRr0Kh3fdjBM=s64",
      "userId": "00386448689616224988"
     },
     "user_tz": -420
    },
    "id": "WZtNox2T1CM4",
    "outputId": "e7ec2020-8bde-427c-e743-9dc3b81c9d15"
   },
   "outputs": [
    {
     "data": {
      "text/plain": [
       "{'appId': '0001',\n",
       " 'businessType': 'สวนอาหาร',\n",
       " 'shopId': 'S0000069015',\n",
       " 'shopName': 'ริมคลอง ลาบก้อย',\n",
       " 'subcategory': '06_ECONOMICS_G4_01'}"
      ]
     },
     "execution_count": 100,
     "metadata": {
      "tags": []
     },
     "output_type": "execute_result"
    }
   ],
   "source": [
    "import requests\n",
    "url = 'https://api-customer.thaichana.com/shop/0001/S0000069015'\n",
    "output = requests.get(url).json()\n",
    "output"
   ]
  },
  {
   "cell_type": "code",
   "execution_count": null,
   "metadata": {
    "colab": {
     "base_uri": "https://localhost:8080/",
     "height": 102
    },
    "colab_type": "code",
    "executionInfo": {
     "elapsed": 2531,
     "status": "ok",
     "timestamp": 1591621778535,
     "user": {
      "displayName": "บอทน้อย Little bot",
      "photoUrl": "https://lh3.googleusercontent.com/a-/AOh14Gg_oKIVWfi33Hl20-CFISRlD3Yn6O6vRr0Kh3fdjBM=s64",
      "userId": "00386448689616224988"
     },
     "user_tz": -420
    },
    "id": "ZuxlQFpkC4zP",
    "outputId": "326045eb-b839-4000-8529-aee4e3fa54c3"
   },
   "outputs": [
    {
     "data": {
      "text/plain": [
       "{'appId': '0001',\n",
       " 'businessType': 'สวนอาหาร',\n",
       " 'shopId': 'S0000069015',\n",
       " 'shopName': 'ริมคลอง ลาบก้อย',\n",
       " 'subcategory': '06_ECONOMICS_G4_01'}"
      ]
     },
     "execution_count": 101,
     "metadata": {
      "tags": []
     },
     "output_type": "execute_result"
    }
   ],
   "source": [
    "sid = '0000069015'\n",
    "baseurl = 'https://api-customer.thaichana.com/shop/0001/S'\n",
    "url = baseurl + sid\n",
    "output = requests.get(url).json()\n",
    "output"
   ]
  },
  {
   "cell_type": "code",
   "execution_count": null,
   "metadata": {
    "colab": {},
    "colab_type": "code",
    "id": "TjaOHXtlDT-a"
   },
   "outputs": [],
   "source": [
    "import requests\n",
    "def getthaichanadata():\n",
    "  baseurl = 'https://api-customer.thaichana.com/shop/0001/S'\n",
    "  datashop = []\n",
    "  for i in list(range(1,10)):\n",
    "    sid = str(i)\n",
    "    #print(sid)\n",
    "    #fullurl = baseurl + sid\n",
    "    #print(fullurl)\n",
    "    numzero = 10 - len(sid)\n",
    "    zerostring = '0'*numzero\n",
    "    sid = zerostring + sid\n",
    "    #print(sid)\n",
    "    url = baseurl + sid\n",
    "    print(url)\n",
    "    output = requests.get(url).json()\n",
    "    datashop.append(output)\n",
    "  return datashop\n",
    "#getthaichanadata()\n",
    "  "
   ]
  },
  {
   "cell_type": "code",
   "execution_count": null,
   "metadata": {
    "colab": {
     "base_uri": "https://localhost:8080/",
     "height": 595
    },
    "colab_type": "code",
    "executionInfo": {
     "elapsed": 6044,
     "status": "ok",
     "timestamp": 1591623373035,
     "user": {
      "displayName": "บอทน้อย Little bot",
      "photoUrl": "https://lh3.googleusercontent.com/a-/AOh14Gg_oKIVWfi33Hl20-CFISRlD3Yn6O6vRr0Kh3fdjBM=s64",
      "userId": "00386448689616224988"
     },
     "user_tz": -420
    },
    "id": "4Tg6WNA2FDM8",
    "outputId": "b3f3ebbc-7364-459b-8902-a3d17aa13371"
   },
   "outputs": [
    {
     "name": "stdout",
     "output_type": "stream",
     "text": [
      "https://api-customer.thaichana.com/shop/0001/S0000000001\n",
      "https://api-customer.thaichana.com/shop/0001/S0000000002\n",
      "https://api-customer.thaichana.com/shop/0001/S0000000003\n",
      "https://api-customer.thaichana.com/shop/0001/S0000000004\n",
      "https://api-customer.thaichana.com/shop/0001/S0000000005\n",
      "https://api-customer.thaichana.com/shop/0001/S0000000006\n",
      "https://api-customer.thaichana.com/shop/0001/S0000000007\n",
      "https://api-customer.thaichana.com/shop/0001/S0000000008\n",
      "https://api-customer.thaichana.com/shop/0001/S0000000009\n"
     ]
    },
    {
     "data": {
      "text/plain": [
       "[{'appId': '0001',\n",
       "  'businessType': 'จุดขึ้นวินมอเตอร์ไซค์',\n",
       "  'shopId': 'S0000000001',\n",
       "  'shopName': 'บาเบอร์ เดอ เคทีบี 2',\n",
       "  'subcategory': '08_ECONOMICS_G5_01'},\n",
       " {'error': 'Shop is not found.', 'status': 'error'},\n",
       " {'appId': '0001', 'shopId': 'S0000000003', 'status': 'DELETED'},\n",
       " {'appId': '0001',\n",
       "  'businessType': 'ธนาคาร',\n",
       "  'shopId': 'S0000000004',\n",
       "  'shopName': 'บมจ.ธนาคารกรุงไทย สาขาสีลม',\n",
       "  'subcategory': '01_ECONOMICS_02'},\n",
       " {'error': 'Shop is not found.', 'status': 'error'},\n",
       " {'error': 'Shop is not found.', 'status': 'error'},\n",
       " {'appId': '0001',\n",
       "  'businessType': 'ธนาคาร',\n",
       "  'shopId': 'S0000000007',\n",
       "  'shopName': 'บมจ.ธนาคารกรุงไทย สาขาแก้งคร้อ',\n",
       "  'subcategory': '01_ECONOMICS_02'},\n",
       " {'appId': '0001',\n",
       "  'businessType': 'ธนาคาร',\n",
       "  'shopId': 'S0000000008',\n",
       "  'shopName': 'ธนาคารกรุงไทย สาขาปทุมวัน',\n",
       "  'subcategory': '01_ECONOMICS_02'},\n",
       " {'error': 'Shop is not found.', 'status': 'error'}]"
      ]
     },
     "execution_count": 21,
     "metadata": {
      "tags": []
     },
     "output_type": "execute_result"
    }
   ],
   "source": [
    "a=getthaichanadata()\n",
    "a"
   ]
  },
  {
   "cell_type": "code",
   "execution_count": null,
   "metadata": {
    "colab": {
     "base_uri": "https://localhost:8080/",
     "height": 102
    },
    "colab_type": "code",
    "executionInfo": {
     "elapsed": 1064,
     "status": "ok",
     "timestamp": 1591622366473,
     "user": {
      "displayName": "บอทน้อย Little bot",
      "photoUrl": "https://lh3.googleusercontent.com/a-/AOh14Gg_oKIVWfi33Hl20-CFISRlD3Yn6O6vRr0Kh3fdjBM=s64",
      "userId": "00386448689616224988"
     },
     "user_tz": -420
    },
    "id": "dHnBQ0HPFb74",
    "outputId": "b0bba9a8-836e-4cbd-e585-30be47b3953a"
   },
   "outputs": [
    {
     "data": {
      "text/plain": [
       "{'appId': '0001',\n",
       " 'businessType': 'ธนาคาร',\n",
       " 'shopId': 'S0000000024',\n",
       " 'shopName': 'บมจ.ธนาคารกรุงไทย สาขาอุบลรัตน์',\n",
       " 'subcategory': '01_ECONOMICS_02'}"
      ]
     },
     "execution_count": 117,
     "metadata": {
      "tags": []
     },
     "output_type": "execute_result"
    }
   ],
   "source": [
    "a[23]"
   ]
  },
  {
   "cell_type": "code",
   "execution_count": null,
   "metadata": {
    "colab": {
     "base_uri": "https://localhost:8080/",
     "height": 34
    },
    "colab_type": "code",
    "executionInfo": {
     "elapsed": 1296,
     "status": "ok",
     "timestamp": 1591622035798,
     "user": {
      "displayName": "บอทน้อย Little bot",
      "photoUrl": "https://lh3.googleusercontent.com/a-/AOh14Gg_oKIVWfi33Hl20-CFISRlD3Yn6O6vRr0Kh3fdjBM=s64",
      "userId": "00386448689616224988"
     },
     "user_tz": -420
    },
    "id": "xBvk2vhwEMWH",
    "outputId": "cd82e1ce-8cee-40fa-e872-5527298d7bb6"
   },
   "outputs": [
    {
     "data": {
      "text/plain": [
       "'00000000'"
      ]
     },
     "execution_count": 107,
     "metadata": {
      "tags": []
     },
     "output_type": "execute_result"
    }
   ],
   "source": [
    "'0'*8"
   ]
  },
  {
   "cell_type": "markdown",
   "metadata": {
    "colab_type": "text",
    "id": "amsEGczd1LQR"
   },
   "source": [
    "**Exercise**"
   ]
  },
  {
   "cell_type": "markdown",
   "metadata": {
    "colab_type": "text",
    "id": "dKr0LMUPGTyx"
   },
   "source": [
    "ให้สร้าง เงื่อนไข รักสามเศร้า เลือกรักใครได้แค่คนเดียว\n",
    "\n",
    "โดยรับ Input เป็นชื่อ\n",
    "\n",
    "หากเป็นชื่อ โกแฮรี ให้บอกว่า ผมรักคุณ\n",
    "\n",
    "หากเป็นชื่อ ลำยอง ให้บอกว่า\n",
    "เราเป็นได้แค่พี่น้อง\n",
    "\n",
    "หากเป็นชื่อ อื่นๆ ให้บอกว่า ผมไม่รู้จักคุณ"
   ]
  },
  {
   "cell_type": "code",
   "execution_count": null,
   "metadata": {
    "colab": {},
    "colab_type": "code",
    "id": "COdwIOz4GTYJ"
   },
   "outputs": [],
   "source": [
    "def trianglelove(name):\n",
    "  if name == 'โกแฮรี':\n",
    "    return 'ผมรักคุณ'\n",
    "  elif name == 'ลำยอง':\n",
    "    return 'เราเป็นได้แค่พี่น้อง'\n",
    "  else:\n",
    "    return 'ผมไม่รู้จักคุณ'\n"
   ]
  },
  {
   "cell_type": "code",
   "execution_count": null,
   "metadata": {
    "colab": {
     "base_uri": "https://localhost:8080/",
     "height": 34
    },
    "colab_type": "code",
    "executionInfo": {
     "elapsed": 1069,
     "status": "ok",
     "timestamp": 1591625331686,
     "user": {
      "displayName": "บอทน้อย Little bot",
      "photoUrl": "https://lh3.googleusercontent.com/a-/AOh14Gg_oKIVWfi33Hl20-CFISRlD3Yn6O6vRr0Kh3fdjBM=s64",
      "userId": "00386448689616224988"
     },
     "user_tz": -420
    },
    "id": "atxdmaC-Qpuw",
    "outputId": "4df34498-c2dc-41c1-f1f1-e080a02484ad"
   },
   "outputs": [
    {
     "data": {
      "text/plain": [
       "'ผมไม่รู้จักคุณ'"
      ]
     },
     "execution_count": 26,
     "metadata": {
      "tags": []
     },
     "output_type": "execute_result"
    }
   ],
   "source": [
    "trianglelove('เต๋า')"
   ]
  },
  {
   "cell_type": "markdown",
   "metadata": {
    "colab_type": "text",
    "id": "pxgapIReKO-a"
   },
   "source": [
    "ให้เขียน function รับค่าตัวเลขเข้ามา 2 ตัว \n",
    "แล้วให้หาผลรวมทั้งหมดระหว่างค่าของตัวเลขทั้ง 2 ตัวนั้น\n",
    "อย่างเช่น \n",
    "f(a,b) เมื่อ a=2, b=4\n",
    "ผลลัพธ์ที่ได้จาก function นี้จะต้องได้เท่ากับ 9 ซึ่งมาจาก 2+3+4\n",
    "หรือ\n",
    " f(a,b) เมื่อ a=5, b=1\n",
    "ผลลัพธ์ที่ได้จาก function นี้จะต้องได้เท่ากับ 15 ซึ่งมาจาก 1+2+3+4+5"
   ]
  },
  {
   "cell_type": "code",
   "execution_count": null,
   "metadata": {
    "colab": {},
    "colab_type": "code",
    "id": "L4EdsChiJ7XB"
   },
   "outputs": [],
   "source": [
    "def getsumofallnumberbetween(num1,num2):\n",
    "  if num1 > num2:\n",
    "    num1, num2 = num2, num1\n",
    "  sumnum = 0\n",
    "  for num in range(num1,num2+1):\n",
    "    sumnum = sumnum + num\n",
    "    #print(num)\n",
    "  return sumnum"
   ]
  },
  {
   "cell_type": "code",
   "execution_count": null,
   "metadata": {
    "colab": {
     "base_uri": "https://localhost:8080/",
     "height": 34
    },
    "colab_type": "code",
    "executionInfo": {
     "elapsed": 1076,
     "status": "ok",
     "timestamp": 1591625720246,
     "user": {
      "displayName": "บอทน้อย Little bot",
      "photoUrl": "https://lh3.googleusercontent.com/a-/AOh14Gg_oKIVWfi33Hl20-CFISRlD3Yn6O6vRr0Kh3fdjBM=s64",
      "userId": "00386448689616224988"
     },
     "user_tz": -420
    },
    "id": "mSaoFf6ORGPY",
    "outputId": "cf7cb2d9-6a76-4c5f-db0c-d6b44734fe65"
   },
   "outputs": [
    {
     "data": {
      "text/plain": [
       "55"
      ]
     },
     "execution_count": 46,
     "metadata": {
      "tags": []
     },
     "output_type": "execute_result"
    }
   ],
   "source": [
    "getsumofallnumberbetween(1,10)"
   ]
  },
  {
   "cell_type": "markdown",
   "metadata": {
    "colab_type": "text",
    "id": "Ix1UXbs-HEaR"
   },
   "source": [
    "จงเขียนฟังก์ชั่นหาค่าตัวเลขที่น้อยที่สุดใน LIST \n",
    "\n"
   ]
  },
  {
   "cell_type": "code",
   "execution_count": null,
   "metadata": {
    "colab": {},
    "colab_type": "code",
    "id": "cNzSGx7YKjN5"
   },
   "outputs": [],
   "source": [
    "def getsmallestnuminlist(numList):\n",
    "  smallestnum = 100000000000000\n",
    "  for num in numList:\n",
    "    if type(num)==str:\n",
    "      continue\n",
    "    if num < smallestnum:\n",
    "      smallestnum = num\n",
    "\n",
    "  return smallestnum"
   ]
  },
  {
   "cell_type": "code",
   "execution_count": null,
   "metadata": {
    "colab": {
     "base_uri": "https://localhost:8080/",
     "height": 34
    },
    "colab_type": "code",
    "executionInfo": {
     "elapsed": 673,
     "status": "ok",
     "timestamp": 1591626078790,
     "user": {
      "displayName": "บอทน้อย Little bot",
      "photoUrl": "https://lh3.googleusercontent.com/a-/AOh14Gg_oKIVWfi33Hl20-CFISRlD3Yn6O6vRr0Kh3fdjBM=s64",
      "userId": "00386448689616224988"
     },
     "user_tz": -420
    },
    "id": "FYEXlP3wSpVK",
    "outputId": "532f9fb1-a659-468e-af8b-4ef92c1fa5f2"
   },
   "outputs": [
    {
     "data": {
      "text/plain": [
       "-1"
      ]
     },
     "execution_count": 63,
     "metadata": {
      "tags": []
     },
     "output_type": "execute_result"
    }
   ],
   "source": [
    "numList = [10,5,0,21,412,'df',2,123,123,-1,29]\n",
    "getsmallestnuminlist(numList)"
   ]
  },
  {
   "cell_type": "markdown",
   "metadata": {
    "colab_type": "text",
    "id": "GMdfInK6KxAI"
   },
   "source": [
    "จงเขียนฟังก์ชันที่สกัดตัวเลขที่หาร 2 ลงตัว รับ input เป็น list"
   ]
  },
  {
   "cell_type": "code",
   "execution_count": null,
   "metadata": {
    "colab": {},
    "colab_type": "code",
    "id": "zf1jpS8vK5KZ"
   },
   "outputs": [],
   "source": [
    "def getevennum(numList):\n",
    "  evenList = []\n",
    "  for num in numList:\n",
    "    if num%3 == 0:\n",
    "      evenList.append(num)\n",
    "  return evenList"
   ]
  },
  {
   "cell_type": "code",
   "execution_count": null,
   "metadata": {
    "colab": {
     "base_uri": "https://localhost:8080/",
     "height": 34
    },
    "colab_type": "code",
    "executionInfo": {
     "elapsed": 1154,
     "status": "ok",
     "timestamp": 1591626272901,
     "user": {
      "displayName": "บอทน้อย Little bot",
      "photoUrl": "https://lh3.googleusercontent.com/a-/AOh14Gg_oKIVWfi33Hl20-CFISRlD3Yn6O6vRr0Kh3fdjBM=s64",
      "userId": "00386448689616224988"
     },
     "user_tz": -420
    },
    "id": "uIdmnNRfUB06",
    "outputId": "b30a04b5-7ee5-4a82-d7b1-d0a2acf54550"
   },
   "outputs": [
    {
     "data": {
      "text/plain": [
       "[3, 6, 9]"
      ]
     },
     "execution_count": 71,
     "metadata": {
      "tags": []
     },
     "output_type": "execute_result"
    }
   ],
   "source": [
    "getevennum([1,2,3,4,5,6,7,8,9,10])"
   ]
  },
  {
   "cell_type": "markdown",
   "metadata": {
    "colab_type": "text",
    "id": "e6X0h_4QHFFy"
   },
   "source": []
  },
  {
   "cell_type": "markdown",
   "metadata": {
    "colab_type": "text",
    "id": "m9l-34ug5Obr"
   },
   "source": [
    "1. จงหาผลรวมของตัวเลขที่อยู่ใน alist (ให้รวมตัวเลขที่เป็น format string ด้วย)"
   ]
  },
  {
   "cell_type": "code",
   "execution_count": null,
   "metadata": {
    "colab": {
     "base_uri": "https://localhost:8080/",
     "height": 34
    },
    "colab_type": "code",
    "executionInfo": {
     "elapsed": 899,
     "status": "ok",
     "timestamp": 1591604409460,
     "user": {
      "displayName": "บอทน้อย Little bot",
      "photoUrl": "https://lh3.googleusercontent.com/a-/AOh14Gg_oKIVWfi33Hl20-CFISRlD3Yn6O6vRr0Kh3fdjBM=s64",
      "userId": "00386448689616224988"
     },
     "user_tz": -420
    },
    "id": "gxWaFuHS5NB_",
    "outputId": "6ddff9fe-f895-4dc5-9d75-33fd5dd27ff6"
   },
   "outputs": [
    {
     "data": {
      "text/plain": [
       "55"
      ]
     },
     "execution_count": 113,
     "metadata": {
      "tags": []
     },
     "output_type": "execute_result"
    }
   ],
   "source": [
    "alist = ['hello',1,'b','2',4,1,'how',5,2,10,'are','you',4,3,'2','1','20']\n",
    "def sumnum():\n",
    "  result = 0\n",
    "  for a in alist:\n",
    "    if type(a)==int:\n",
    "      result = result + a\n",
    "    elif type(a)==str:\n",
    "      try:\n",
    "        a = int(a)\n",
    "        result = result + a\n",
    "      except:\n",
    "        pass\n",
    "      else:\n",
    "        pass\n",
    "  return result\n",
    "sumnum()"
   ]
  },
  {
   "cell_type": "markdown",
   "metadata": {
    "colab_type": "text",
    "id": "H2rJ9GYo6Man"
   },
   "source": [
    "2. จงเขียนฟังก์ชั่นหาค่าตัวเลขที่สูงที่สุดใน \n",
    "\n",
    "*   List item\n",
    "*   List item\n",
    "\n",
    "alist\n",
    "\n"
   ]
  },
  {
   "cell_type": "code",
   "execution_count": null,
   "metadata": {
    "colab": {
     "base_uri": "https://localhost:8080/",
     "height": 198
    },
    "colab_type": "code",
    "executionInfo": {
     "elapsed": 904,
     "status": "error",
     "timestamp": 1591604706002,
     "user": {
      "displayName": "บอทน้อย Little bot",
      "photoUrl": "https://lh3.googleusercontent.com/a-/AOh14Gg_oKIVWfi33Hl20-CFISRlD3Yn6O6vRr0Kh3fdjBM=s64",
      "userId": "00386448689616224988"
     },
     "user_tz": -420
    },
    "id": "XTe5KN1U5NXz",
    "outputId": "20fae738-a617-4a29-bcbc-cc90eccaeb81"
   },
   "outputs": [
    {
     "ename": "NameError",
     "evalue": "ignored",
     "output_type": "error",
     "traceback": [
      "\u001b[0;31m---------------------------------------------------------------------------\u001b[0m",
      "\u001b[0;31mNameError\u001b[0m                                 Traceback (most recent call last)",
      "\u001b[0;32m<ipython-input-115-55dd1da5bee5>\u001b[0m in \u001b[0;36m<module>\u001b[0;34m()\u001b[0m\n\u001b[1;32m      7\u001b[0m   \u001b[0;32mreturn\u001b[0m \u001b[0mmaxval\u001b[0m\u001b[0;34m\u001b[0m\u001b[0;34m\u001b[0m\u001b[0m\n\u001b[1;32m      8\u001b[0m \u001b[0mgetmax\u001b[0m\u001b[0;34m(\u001b[0m\u001b[0;34m)\u001b[0m\u001b[0;34m\u001b[0m\u001b[0;34m\u001b[0m\u001b[0m\n\u001b[0;32m----> 9\u001b[0;31m \u001b[0mint2\u001b[0m\u001b[0;34m(\u001b[0m\u001b[0;36m52\u001b[0m\u001b[0;34m)\u001b[0m\u001b[0;34m\u001b[0m\u001b[0;34m\u001b[0m\u001b[0m\n\u001b[0m",
      "\u001b[0;31mNameError\u001b[0m: name 'int2' is not defined"
     ]
    }
   ],
   "source": [
    "alist = [1,5,2,10,2,5,3,2,6,0,20,84,20,10,4,23,294,400,290,10]\n",
    "def getmax():\n",
    "  maxval = -1\n",
    "  for a in alist:\n",
    "    if a > maxval:\n",
    "      maxval = a\n",
    "  return maxval\n",
    "getmax()"
   ]
  },
  {
   "cell_type": "markdown",
   "metadata": {
    "colab_type": "text",
    "id": "65ZEf0_K60JG"
   },
   "source": [
    "3. จงเขียนฟังก์ชันหาตำแหน่งของตัวเลขที่น้อยที่สุดใน alist"
   ]
  },
  {
   "cell_type": "code",
   "execution_count": null,
   "metadata": {
    "colab": {
     "base_uri": "https://localhost:8080/",
     "height": 34
    },
    "colab_type": "code",
    "executionInfo": {
     "elapsed": 1014,
     "status": "ok",
     "timestamp": 1591604860494,
     "user": {
      "displayName": "บอทน้อย Little bot",
      "photoUrl": "https://lh3.googleusercontent.com/a-/AOh14Gg_oKIVWfi33Hl20-CFISRlD3Yn6O6vRr0Kh3fdjBM=s64",
      "userId": "00386448689616224988"
     },
     "user_tz": -420
    },
    "id": "CxrCxzoY5NiQ",
    "outputId": "de664738-362a-4009-99d6-82fad1ebcf49"
   },
   "outputs": [
    {
     "data": {
      "text/plain": [
       "9"
      ]
     },
     "execution_count": 119,
     "metadata": {
      "tags": []
     },
     "output_type": "execute_result"
    }
   ],
   "source": [
    "alist = [1,5,2,10,2,5,3,2,6,0,20,84,20,10,4,23,294,400,290,10]\n",
    "def getminpos():\n",
    "  minval = 10000\n",
    "  minind = 0\n",
    "  for i in range(len(alist)):\n",
    "    #print(i)\n",
    "    numbi = alist[i]\n",
    "    if numbi < minval:\n",
    "      minval = numbi\n",
    "      minind = i\n",
    "  return minind\n",
    "getminpos()"
   ]
  },
  {
   "cell_type": "code",
   "execution_count": null,
   "metadata": {
    "colab": {},
    "colab_type": "code",
    "id": "8q50G4nKDANG"
   },
   "outputs": [],
   "source": [
    "a = 'hello'"
   ]
  },
  {
   "cell_type": "code",
   "execution_count": null,
   "metadata": {
    "colab": {},
    "colab_type": "code",
    "id": "5hqN3dJFDkkD"
   },
   "outputs": [],
   "source": [
    "namelist = ['Winslet, Miss. Kate','Dawson, Mr. Jack','Voravuthikunchai, Mr. Winn','Voravuthikunchai, Master. Prin']"
   ]
  },
  {
   "cell_type": "code",
   "execution_count": null,
   "metadata": {
    "colab": {},
    "colab_type": "code",
    "id": "uik3DdJOF_6T"
   },
   "outputs": [],
   "source": [
    "def getinitiallist(namelist):\n",
    "  initialList = []\n",
    "  for name in namelist:\n",
    "    nsplit = name.split(',')[1].split('.')[0]\n",
    "    initialList.append(nsplit)\n",
    "  return initialList"
   ]
  },
  {
   "cell_type": "markdown",
   "metadata": {
    "colab_type": "text",
    "id": "Nx0XuNke7PRB"
   },
   "source": []
  },
  {
   "cell_type": "code",
   "execution_count": null,
   "metadata": {
    "colab": {
     "base_uri": "https://localhost:8080/",
     "height": 34
    },
    "colab_type": "code",
    "executionInfo": {
     "elapsed": 912,
     "status": "ok",
     "timestamp": 1591606103456,
     "user": {
      "displayName": "บอทน้อย Little bot",
      "photoUrl": "https://lh3.googleusercontent.com/a-/AOh14Gg_oKIVWfi33Hl20-CFISRlD3Yn6O6vRr0Kh3fdjBM=s64",
      "userId": "00386448689616224988"
     },
     "user_tz": -420
    },
    "id": "rHMtFV7I5Nqf",
    "outputId": "39b4b2de-7f9e-4be6-93c7-5c5c7720ec22"
   },
   "outputs": [
    {
     "data": {
      "text/plain": [
       "[' Miss', ' Mr', ' Mr', ' Master']"
      ]
     },
     "execution_count": 166,
     "metadata": {
      "tags": []
     },
     "output_type": "execute_result"
    }
   ],
   "source": [
    "getinitiallist(namelist)"
   ]
  },
  {
   "cell_type": "code",
   "execution_count": null,
   "metadata": {
    "colab": {},
    "colab_type": "code",
    "id": "y1Yio4R45NyH"
   },
   "outputs": [],
   "source": [
    "a = [10,2,30]\n",
    "\n"
   ]
  },
  {
   "cell_type": "code",
   "execution_count": null,
   "metadata": {
    "colab": {
     "base_uri": "https://localhost:8080/",
     "height": 34
    },
    "colab_type": "code",
    "executionInfo": {
     "elapsed": 867,
     "status": "ok",
     "timestamp": 1591606409196,
     "user": {
      "displayName": "บอทน้อย Little bot",
      "photoUrl": "https://lh3.googleusercontent.com/a-/AOh14Gg_oKIVWfi33Hl20-CFISRlD3Yn6O6vRr0Kh3fdjBM=s64",
      "userId": "00386448689616224988"
     },
     "user_tz": -420
    },
    "id": "eEEfJ-vlHxQp",
    "outputId": "b14c5ec1-af62-48bf-b688-95292e46a04b"
   },
   "outputs": [
    {
     "data": {
      "text/plain": [
       "11.775681155103795"
      ]
     },
     "execution_count": 183,
     "metadata": {
      "tags": []
     },
     "output_type": "execute_result"
    }
   ],
   "source": [
    "import numpy as np\n",
    "a = np.array(a)\n",
    "a.std()"
   ]
  },
  {
   "cell_type": "markdown",
   "metadata": {
    "colab_type": "text",
    "id": "sPVu5PRC127-"
   },
   "source": [
    "1. เขียนฟังก์ชันรับตัวแปร 2 ตัว แล้ว return ผลรวมของตัวแปรทั้งสองนั้น\n"
   ]
  },
  {
   "cell_type": "code",
   "execution_count": null,
   "metadata": {
    "colab": {
     "base_uri": "https://localhost:8080/",
     "height": 102
    },
    "colab_type": "code",
    "executionInfo": {
     "elapsed": 8782,
     "status": "ok",
     "timestamp": 1591418006987,
     "user": {
      "displayName": "Natthaphat Itthiwaranurak",
      "photoUrl": "https://lh3.googleusercontent.com/a-/AOh14GjSzxYFkDfseJKpJ3cRi7XBpLHFCK-BVwdMyrvoPw=s64",
      "userId": "10026343638164926725"
     },
     "user_tz": -480
    },
    "id": "2hCxjodo4piG",
    "outputId": "f147fc31-8b69-4ea2-cc0a-3c099747f922"
   },
   "outputs": [
    {
     "name": "stdout",
     "output_type": "stream",
     "text": [
      "Please enter number 1 :\n",
      "2\n",
      "Please enter number 2 :\n",
      "3\n",
      "The sum is 5\n"
     ]
    }
   ],
   "source": [
    "def cal():\n",
    "  print('Please enter number 1 :')\n",
    "  input1 = int(input())\n",
    "  print('Please enter number 2 :')\n",
    "  input2 = int(input())\n",
    "  print ('The sum is ' + str(input1 + input2))\n",
    "  output = input1 + input2\n",
    "  return output\n",
    "cal()"
   ]
  },
  {
   "cell_type": "markdown",
   "metadata": {
    "colab_type": "text",
    "id": "xYMu7Tn01uEK"
   },
   "source": [
    "2. เขียนฟังก์ชันรับตัวแปร 2 ตัว แล้ว return ผลลบของตัวแปรทั้งสองนั้น"
   ]
  },
  {
   "cell_type": "code",
   "execution_count": null,
   "metadata": {
    "colab": {
     "base_uri": "https://localhost:8080/",
     "height": 102
    },
    "colab_type": "code",
    "executionInfo": {
     "elapsed": 6369,
     "status": "ok",
     "timestamp": 1591418023270,
     "user": {
      "displayName": "Natthaphat Itthiwaranurak",
      "photoUrl": "https://lh3.googleusercontent.com/a-/AOh14GjSzxYFkDfseJKpJ3cRi7XBpLHFCK-BVwdMyrvoPw=s64",
      "userId": "10026343638164926725"
     },
     "user_tz": -480
    },
    "id": "Zqcn3j1t4qE5",
    "outputId": "6b0e9ceb-0132-4bf4-d5fb-8ed9407489c4"
   },
   "outputs": [
    {
     "name": "stdout",
     "output_type": "stream",
     "text": [
      "Please enter number 1 :\n",
      "5\n",
      "Please enter number 2 :\n",
      "4\n",
      "The subtraction is 1\n"
     ]
    }
   ],
   "source": [
    "def cal():\n",
    "  print('Please enter number 1 :')\n",
    "  input1 = int(input())\n",
    "  print('Please enter number 2 :')\n",
    "  input2 = int(input())\n",
    "  print ('The subtraction is ' + str(input1 - input2))\n",
    "cal()"
   ]
  },
  {
   "cell_type": "markdown",
   "metadata": {
    "colab_type": "text",
    "id": "B3ikU6XJ2cUU"
   },
   "source": [
    "3. เขียนฟังก์ชันรับตัวแปรเป็น string แล้ว return ความยาวของ string\n"
   ]
  },
  {
   "cell_type": "code",
   "execution_count": null,
   "metadata": {
    "colab": {
     "base_uri": "https://localhost:8080/",
     "height": 68
    },
    "colab_type": "code",
    "executionInfo": {
     "elapsed": 6131,
     "status": "ok",
     "timestamp": 1591418121480,
     "user": {
      "displayName": "Natthaphat Itthiwaranurak",
      "photoUrl": "https://lh3.googleusercontent.com/a-/AOh14GjSzxYFkDfseJKpJ3cRi7XBpLHFCK-BVwdMyrvoPw=s64",
      "userId": "10026343638164926725"
     },
     "user_tz": -480
    },
    "id": "shoob8XU4qrB",
    "outputId": "2ac65fe6-d8ae-49a6-a1d2-686659e549c8"
   },
   "outputs": [
    {
     "name": "stdout",
     "output_type": "stream",
     "text": [
      "Please type sth :\n",
      "hello world\n",
      "11\n"
     ]
    }
   ],
   "source": [
    "def callen():\n",
    "  print('Please type sth :')\n",
    "  msg = input()\n",
    "  print(len(msg))\n",
    "callen()"
   ]
  },
  {
   "cell_type": "markdown",
   "metadata": {
    "colab_type": "text",
    "id": "Uvj4fbY-2eTU"
   },
   "source": [
    "4. เขียนฟังก์ชั่นรับตัวแปรสองตัว ตัวแรกเป็น string ตัวที่สองเป็น ตัวเลข n แล้ว print ตัวแปรแรก เป็นจำนวน n ครั้ง"
   ]
  },
  {
   "cell_type": "code",
   "execution_count": null,
   "metadata": {
    "colab": {
     "base_uri": "https://localhost:8080/",
     "height": 136
    },
    "colab_type": "code",
    "executionInfo": {
     "elapsed": 6003,
     "status": "ok",
     "timestamp": 1591418594597,
     "user": {
      "displayName": "Natthaphat Itthiwaranurak",
      "photoUrl": "https://lh3.googleusercontent.com/a-/AOh14GjSzxYFkDfseJKpJ3cRi7XBpLHFCK-BVwdMyrvoPw=s64",
      "userId": "10026343638164926725"
     },
     "user_tz": -480
    },
    "id": "3MwJP1kd4rUo",
    "outputId": "ab4d206b-2994-429c-f215-3aff65b37c8c"
   },
   "outputs": [
    {
     "name": "stdout",
     "output_type": "stream",
     "text": [
      "Please enter number 1 :\n",
      "guide\n",
      "Please enter number 2 :\n",
      "3\n",
      "guide\n",
      "guide\n",
      "guide\n"
     ]
    }
   ],
   "source": [
    "def myloop():\n",
    "  print('Please enter number 1 :')\n",
    "  input1 = input()\n",
    "  print('Please enter number 2 :')\n",
    "  input2 = int(input())\n",
    "  i = 0\n",
    "  while i < input2:\n",
    "    print(input1)\n",
    "    i = i + 1\n",
    "myloop()"
   ]
  },
  {
   "cell_type": "markdown",
   "metadata": {
    "colab_type": "text",
    "id": "gzyxb6X73A2r"
   },
   "source": [
    "5. เขียนโปรแกรมทายชื่ออาหารที่ชอบ โดยให้แสดงรายการอาหารที่ให้คนทายเห็น ให้ตั้งค่ารายการอาหารที่เราชอบในโปรแกรม ถ้าคนทายทายถูกให้บอกว่า \"ถูกต้องนะคร๊าป\" ถ้าทายผิดให้บอกว่า \"ผิดครับ\"\n"
   ]
  },
  {
   "cell_type": "code",
   "execution_count": null,
   "metadata": {
    "colab": {
     "base_uri": "https://localhost:8080/",
     "height": 85
    },
    "colab_type": "code",
    "executionInfo": {
     "elapsed": 4154,
     "status": "ok",
     "timestamp": 1591418799163,
     "user": {
      "displayName": "Natthaphat Itthiwaranurak",
      "photoUrl": "https://lh3.googleusercontent.com/a-/AOh14GjSzxYFkDfseJKpJ3cRi7XBpLHFCK-BVwdMyrvoPw=s64",
      "userId": "10026343638164926725"
     },
     "user_tz": -480
    },
    "id": "HH0uwOQn3OY6",
    "outputId": "6bb89df9-8a60-44cf-884f-974fffee6689"
   },
   "outputs": [
    {
     "name": "stdout",
     "output_type": "stream",
     "text": [
      "Please enter foodname :\n",
      "padthai\n",
      "padthai\n",
      "ถูกต้องนะคร๊าป\n"
     ]
    }
   ],
   "source": [
    "def guessfood():\n",
    "  my_fav_food = 'padthai'\n",
    "  print('Please enter foodname :')\n",
    "  guessfood = input()\n",
    "  if guessfood == my_fav_food:\n",
    "    print(guessfood)\n",
    "    print(\"ถูกต้องนะคร๊าป\")\n",
    "  else:\n",
    "    print(guessfood)\n",
    "    print(\"ผิดครับ\")\n",
    "guessfood()"
   ]
  },
  {
   "cell_type": "markdown",
   "metadata": {
    "colab_type": "text",
    "id": "gi21DoO_3Qc_"
   },
   "source": [
    "6. เขียนโปรแกรมเพื่อหาตำแหน่งของเลข 81 ใน numbers = [\n",
    "    386, 462, 47, 418, 907, 344, 236, 375, 823, 566, 597, 978, 328, 615, 953, 345, \n",
    "    399, 162, 758, 219, 918, 237, 412, 566, 826, 248, 866, 950, 626, 949, 687, 217, \n",
    "    815, 67, 104, 58, 512, 24, 892, 894, 767, 553, 81, 379, 843, 831, 445, 742, 717, \n",
    "    958,743, 527\n",
    "    ]"
   ]
  },
  {
   "cell_type": "code",
   "execution_count": null,
   "metadata": {
    "colab": {},
    "colab_type": "code",
    "id": "NYWywGH43sRn"
   },
   "outputs": [],
   "source": [
    "def find_index():\n",
    "  numbers = [ 386, 462, 47, 418, 907, 344, 236, 375, 823, 566, 597, 978, 328, 615, 953, \\\n",
    "            345, 399, 162, 758, 219, 918, 237, 412, 566, 826, 248, 866, 950, 626, 949, \\\n",
    "            687, 217, 815, 67, 104, 58, 512, 24, 892, 894, 767, 553, 81, 379, 843, 831, \\\n",
    "            445, 742, 717, 958,743, 527 ]\n",
    "\n",
    "  for i in range(len(numbers)):\n",
    "    if number[i] == 81:\n",
    "      return i"
   ]
  },
  {
   "cell_type": "code",
   "execution_count": null,
   "metadata": {
    "colab": {
     "base_uri": "https://localhost:8080/",
     "height": 266
    },
    "colab_type": "code",
    "executionInfo": {
     "elapsed": 1141,
     "status": "error",
     "timestamp": 1591420245604,
     "user": {
      "displayName": "Natthaphat Itthiwaranurak",
      "photoUrl": "https://lh3.googleusercontent.com/a-/AOh14GjSzxYFkDfseJKpJ3cRi7XBpLHFCK-BVwdMyrvoPw=s64",
      "userId": "10026343638164926725"
     },
     "user_tz": -480
    },
    "id": "s_2nQdN9-p5k",
    "outputId": "31a47011-445b-4b30-b518-cbddb24bb2f1"
   },
   "outputs": [
    {
     "ename": "NameError",
     "evalue": "ignored",
     "output_type": "error",
     "traceback": [
      "\u001b[0;31m---------------------------------------------------------------------------\u001b[0m",
      "\u001b[0;31mNameError\u001b[0m                                 Traceback (most recent call last)",
      "\u001b[0;32m<ipython-input-13-3fff8b534adb>\u001b[0m in \u001b[0;36m<module>\u001b[0;34m()\u001b[0m\n\u001b[0;32m----> 1\u001b[0;31m \u001b[0mfind_index\u001b[0m\u001b[0;34m(\u001b[0m\u001b[0;34m)\u001b[0m\u001b[0;34m\u001b[0m\u001b[0;34m\u001b[0m\u001b[0m\n\u001b[0m",
      "\u001b[0;32m<ipython-input-12-c3d998155b29>\u001b[0m in \u001b[0;36mfind_index\u001b[0;34m()\u001b[0m\n\u001b[1;32m      3\u001b[0m \u001b[0;34m\u001b[0m\u001b[0m\n\u001b[1;32m      4\u001b[0m   \u001b[0;32mfor\u001b[0m \u001b[0mi\u001b[0m \u001b[0;32min\u001b[0m \u001b[0mrange\u001b[0m\u001b[0;34m(\u001b[0m\u001b[0mlen\u001b[0m\u001b[0;34m(\u001b[0m\u001b[0mnumbers\u001b[0m\u001b[0;34m)\u001b[0m\u001b[0;34m)\u001b[0m\u001b[0;34m:\u001b[0m\u001b[0;34m\u001b[0m\u001b[0;34m\u001b[0m\u001b[0m\n\u001b[0;32m----> 5\u001b[0;31m     \u001b[0;32mif\u001b[0m \u001b[0mnumber\u001b[0m\u001b[0;34m[\u001b[0m\u001b[0mi\u001b[0m\u001b[0;34m]\u001b[0m \u001b[0;34m==\u001b[0m \u001b[0;36m81\u001b[0m\u001b[0;34m:\u001b[0m\u001b[0;34m\u001b[0m\u001b[0;34m\u001b[0m\u001b[0m\n\u001b[0m\u001b[1;32m      6\u001b[0m       \u001b[0;32mreturn\u001b[0m \u001b[0mi\u001b[0m\u001b[0;34m\u001b[0m\u001b[0;34m\u001b[0m\u001b[0m\n",
      "\u001b[0;31mNameError\u001b[0m: name 'number' is not defined"
     ]
    }
   ],
   "source": [
    "\n"
   ]
  }
 ],
 "metadata": {
  "colab": {
   "collapsed_sections": [],
   "name": "Copy of Basic_Python_Super_AI_Part1.ipynb",
   "provenance": [
    {
     "file_id": "1e3r2rKP8Zo31DAXL-2hn5B-ZW1R885uQ",
     "timestamp": 1600483138870
    },
    {
     "file_id": "1XTL87iMJ8D87G0xfiRTrYp5U_a9q89Fx",
     "timestamp": 1600428813078
    },
    {
     "file_id": "1nOgnf-Beu4_-qB0_ublhAkD9SP3SERcv",
     "timestamp": 1591622721620
    },
    {
     "file_id": "1ITfueDT_eNmOARWT5jWS0fAMkLkge9uA",
     "timestamp": 1591595877506
    },
    {
     "file_id": "1Y38v16vXgG5KHLE0nwd5yJsU4vDxRK-J",
     "timestamp": 1591417737733
    }
   ]
  },
  "kernelspec": {
   "display_name": "Python 3",
   "language": "python",
   "name": "python3"
  },
  "language_info": {
   "codemirror_mode": {
    "name": "ipython",
    "version": 3
   },
   "file_extension": ".py",
   "mimetype": "text/x-python",
   "name": "python",
   "nbconvert_exporter": "python",
   "pygments_lexer": "ipython3",
   "version": "3.8.3"
  }
 },
 "nbformat": 4,
 "nbformat_minor": 1
}
