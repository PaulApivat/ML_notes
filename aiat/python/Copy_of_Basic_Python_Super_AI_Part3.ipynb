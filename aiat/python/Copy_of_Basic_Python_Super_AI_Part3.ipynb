{
  "nbformat": 4,
  "nbformat_minor": 0,
  "metadata": {
    "colab": {
      "name": "Copy of Basic_Python_Super_AI_Part3.ipynb",
      "provenance": [],
      "collapsed_sections": []
    },
    "kernelspec": {
      "display_name": "Python 3",
      "language": "python",
      "name": "python3"
    },
    "language_info": {
      "codemirror_mode": {
        "name": "ipython",
        "version": 3
      },
      "file_extension": ".py",
      "mimetype": "text/x-python",
      "name": "python",
      "nbconvert_exporter": "python",
      "pygments_lexer": "ipython3",
      "version": "3.7.6"
    }
  },
  "cells": [
    {
      "cell_type": "markdown",
      "metadata": {
        "id": "C_1F1xc6eq_X",
        "colab_type": "text"
      },
      "source": [
        "หัวข้อ\n",
        "\n",
        "1.   ทบทวน Dict ,Object\n",
        "2.   อะไรคือ library\n",
        "3.   Numpy\n",
        "4.   Pandas\n",
        "5.   Matplotlib\n",
        "\n"
      ]
    },
    {
      "cell_type": "markdown",
      "metadata": {
        "id": "T0pad1vefDpN",
        "colab_type": "text"
      },
      "source": [
        "# 1.ทบทวน"
      ]
    },
    {
      "cell_type": "markdown",
      "metadata": {
        "id": "zLfjy11Kfqi_",
        "colab_type": "text"
      },
      "source": [
        "Dict Vs list\n",
        "\n",
        "*   List ใช้สำหรับข้อมูลที่สนใจลำดับ หรือชุดข้อมูลใดๆ ที่ไม่มี keys\n",
        "*   dict ใช้สำหรับข้อมูลที่มี key และ value \n",
        "\n"
      ]
    },
    {
      "cell_type": "code",
      "metadata": {
        "id": "e5hL7subhMye",
        "colab_type": "code",
        "colab": {
          "base_uri": "https://localhost:8080/",
          "height": 51
        },
        "outputId": "bdf939a3-e088-444f-8c76-1c9108be48ea"
      },
      "source": [
        "name_list = [\"ricky\",\"tao\",\"winn\"]\n",
        "print(name_list)\n",
        "name_list.append(\"arm\")\n",
        "print(name_list)"
      ],
      "execution_count": 1,
      "outputs": [
        {
          "output_type": "stream",
          "text": [
            "['ricky', 'tao', 'winn']\n",
            "['ricky', 'tao', 'winn', 'arm']\n"
          ],
          "name": "stdout"
        }
      ]
    },
    {
      "cell_type": "code",
      "metadata": {
        "id": "67b9jNrOVulA",
        "colab_type": "code",
        "colab": {
          "base_uri": "https://localhost:8080/",
          "height": 34
        },
        "outputId": "c7cf1dd8-6ac2-4b18-abf7-11ce1650f386"
      },
      "source": [
        "new_list = ['milin', 'marvin', 'pim', 'paul']\n",
        "print(new_list)\n"
      ],
      "execution_count": 2,
      "outputs": [
        {
          "output_type": "stream",
          "text": [
            "['milin', 'marvin', 'pim', 'paul']\n"
          ],
          "name": "stdout"
        }
      ]
    },
    {
      "cell_type": "code",
      "metadata": {
        "id": "3apDKV7Qgerf",
        "colab_type": "code",
        "colab": {
          "base_uri": "https://localhost:8080/",
          "height": 51
        },
        "outputId": "fdc6a361-d687-47c5-aef2-a71a7c5384d7"
      },
      "source": [
        "mydic ={ 'tao': '0811111111', 'ricky': '0812312341', 'winn': '0618201998'}\n",
        "print(mydic)\n",
        "mydic[\"arm\"] = \"08222222222\"\n",
        "print(mydic)"
      ],
      "execution_count": 5,
      "outputs": [
        {
          "output_type": "stream",
          "text": [
            "{'tao': '0811111111', 'ricky': '0812312341', 'winn': '0618201998'}\n",
            "{'tao': '0811111111', 'ricky': '0812312341', 'winn': '0618201998', 'arm': '08222222222'}\n"
          ],
          "name": "stdout"
        }
      ]
    },
    {
      "cell_type": "code",
      "metadata": {
        "id": "dyfxkbThV9mw",
        "colab_type": "code",
        "colab": {
          "base_uri": "https://localhost:8080/",
          "height": 35
        },
        "outputId": "44a35bc3-b8a4-4a45-f5eb-0035b0982b2b"
      },
      "source": [
        "mydic['tao']"
      ],
      "execution_count": 7,
      "outputs": [
        {
          "output_type": "execute_result",
          "data": {
            "application/vnd.google.colaboratory.intrinsic+json": {
              "type": "string"
            },
            "text/plain": [
              "'0811111111'"
            ]
          },
          "metadata": {
            "tags": []
          },
          "execution_count": 7
        }
      ]
    },
    {
      "cell_type": "code",
      "metadata": {
        "id": "0MvLTSm4gu5P",
        "colab_type": "code",
        "colab": {
          "base_uri": "https://localhost:8080/",
          "height": 34
        },
        "outputId": "e3229113-c0a4-4030-9e3c-bfa6979ded43"
      },
      "source": [
        "mydic[\"ricky\"]"
      ],
      "execution_count": null,
      "outputs": [
        {
          "output_type": "execute_result",
          "data": {
            "text/plain": [
              "'0812312341'"
            ]
          },
          "metadata": {
            "tags": []
          },
          "execution_count": 4
        }
      ]
    },
    {
      "cell_type": "code",
      "metadata": {
        "id": "kV9SAkUpgrU7",
        "colab_type": "code",
        "colab": {
          "base_uri": "https://localhost:8080/",
          "height": 34
        },
        "outputId": "38a3f603-dfc2-409f-f1e7-900991b53bf2"
      },
      "source": [
        "mydic[\"arm\"] = \"000000000\"\n",
        "print(mydic)"
      ],
      "execution_count": null,
      "outputs": [
        {
          "output_type": "stream",
          "text": [
            "{'tao': '0811111111', 'ricky': '0812312341', 'winn': '0618201998', 'arm': '000000000'}\n"
          ],
          "name": "stdout"
        }
      ]
    },
    {
      "cell_type": "code",
      "metadata": {
        "id": "u2ERi084g1H4",
        "colab_type": "code",
        "colab": {
          "base_uri": "https://localhost:8080/",
          "height": 34
        },
        "outputId": "774c7171-503e-488e-a3d7-7499ae0511fc"
      },
      "source": [
        "mydic[\"ricky\"] = \"999999999\"\n",
        "print(mydic)"
      ],
      "execution_count": 8,
      "outputs": [
        {
          "output_type": "stream",
          "text": [
            "{'tao': '0811111111', 'ricky': '999999999', 'winn': '0618201998', 'arm': '08222222222'}\n"
          ],
          "name": "stdout"
        }
      ]
    },
    {
      "cell_type": "code",
      "metadata": {
        "id": "sXWkDt62WRmr",
        "colab_type": "code",
        "colab": {
          "base_uri": "https://localhost:8080/",
          "height": 181
        },
        "outputId": "539c9cc1-dfcc-45ed-b888-b48696cdf5f8"
      },
      "source": [
        "mydic.values()\n",
        "mydic.keys()"
      ],
      "execution_count": 16,
      "outputs": [
        {
          "output_type": "error",
          "ename": "TypeError",
          "evalue": "ignored",
          "traceback": [
            "\u001b[0;31m---------------------------------------------------------------------------\u001b[0m",
            "\u001b[0;31mTypeError\u001b[0m                                 Traceback (most recent call last)",
            "\u001b[0;32m<ipython-input-16-2b966dbcb527>\u001b[0m in \u001b[0;36m<module>\u001b[0;34m()\u001b[0m\n\u001b[1;32m      1\u001b[0m \u001b[0mmydic\u001b[0m\u001b[0;34m.\u001b[0m\u001b[0mvalues\u001b[0m\u001b[0;34m(\u001b[0m\u001b[0;34m)\u001b[0m\u001b[0;34m\u001b[0m\u001b[0;34m\u001b[0m\u001b[0m\n\u001b[0;32m----> 2\u001b[0;31m \u001b[0mmydic\u001b[0m\u001b[0;34m.\u001b[0m\u001b[0mkeys\u001b[0m\u001b[0;34m(\u001b[0m\u001b[0;34m)\u001b[0m\u001b[0;34m[\u001b[0m\u001b[0;36m0\u001b[0m\u001b[0;34m]\u001b[0m\u001b[0;34m\u001b[0m\u001b[0;34m\u001b[0m\u001b[0m\n\u001b[0m",
            "\u001b[0;31mTypeError\u001b[0m: 'dict_keys' object does not support indexing"
          ]
        }
      ]
    },
    {
      "cell_type": "markdown",
      "metadata": {
        "id": "Q7R6o7ZPWBvd",
        "colab_type": "text"
      },
      "source": [
        "list vs tuple"
      ]
    },
    {
      "cell_type": "markdown",
      "metadata": {
        "id": "_D4XJWLtWl3j",
        "colab_type": "text"
      },
      "source": [
        "- tuple เมื่อประกาศแล้ว ไม่สามารถแก้ไขค่าของสมาชิก หรือเพิ่มจำนวนสมาชิกได้\n",
        "- list ไม่สามารถใช้เป็น key สำหรับ dictionary ได้ แต่ tuple สามารถใช้เป็น key สำหรับ dictionary ได้"
      ]
    },
    {
      "cell_type": "code",
      "metadata": {
        "id": "JicL69VsWEsk",
        "colab_type": "code",
        "colab": {
          "base_uri": "https://localhost:8080/",
          "height": 84
        },
        "outputId": "6d6c7846-02ce-43e7-ba32-49d8843dd6fc"
      },
      "source": [
        "x, y, z =  2, 5, 0 \n",
        "position_tuple = (x,y,z)\n",
        "position_list = [x, y, z]\n",
        "\n",
        "print(position_tuple)\n",
        "print(position_tuple[1])\n",
        "\n",
        "print(position_list)\n",
        "print(position_list[1])"
      ],
      "execution_count": null,
      "outputs": [
        {
          "output_type": "stream",
          "text": [
            "(2, 5, 0)\n",
            "5\n",
            "[2, 5, 0]\n",
            "5\n"
          ],
          "name": "stdout"
        }
      ]
    },
    {
      "cell_type": "code",
      "metadata": {
        "id": "YGG-JrV-Y8hi",
        "colab_type": "code",
        "colab": {
          "base_uri": "https://localhost:8080/",
          "height": 34
        },
        "outputId": "19b4d618-324a-4a4c-a222-abf7af61a72c"
      },
      "source": [
        "# you can find index value of Tuple & List, but not Dictionary\n",
        "new_tuple = (59,69,79)\n",
        "new_tuple[2]\n",
        "new_list = [88, 78, 48]\n",
        "new_list[2]"
      ],
      "execution_count": 40,
      "outputs": [
        {
          "output_type": "execute_result",
          "data": {
            "text/plain": [
              "48"
            ]
          },
          "metadata": {
            "tags": []
          },
          "execution_count": 40
        }
      ]
    },
    {
      "cell_type": "code",
      "metadata": {
        "id": "1v1ctDQiXCeq",
        "colab_type": "code",
        "colab": {
          "base_uri": "https://localhost:8080/",
          "height": 50
        },
        "outputId": "c753941a-d063-4a4b-ae2b-bb5bbae35c4f"
      },
      "source": [
        "position_list[2] = 1\n",
        "print(position_list)\n",
        "position_list.append(0)\n",
        "print(position_list)"
      ],
      "execution_count": null,
      "outputs": [
        {
          "output_type": "stream",
          "text": [
            "[2, 5, 1]\n",
            "[2, 5, 1, 0]\n"
          ],
          "name": "stdout"
        }
      ]
    },
    {
      "cell_type": "code",
      "metadata": {
        "id": "c6WGvzfhXZGi",
        "colab_type": "code",
        "colab": {
          "base_uri": "https://localhost:8080/",
          "height": 163
        },
        "outputId": "1ef87b78-5ac8-4a0d-9907-6d7f3ab56928"
      },
      "source": [
        "position_tuple[2] = 1"
      ],
      "execution_count": null,
      "outputs": [
        {
          "output_type": "error",
          "ename": "TypeError",
          "evalue": "ignored",
          "traceback": [
            "\u001b[0;31m---------------------------------------------------------------------------\u001b[0m",
            "\u001b[0;31mTypeError\u001b[0m                                 Traceback (most recent call last)",
            "\u001b[0;32m<ipython-input-9-22bde36e9bb1>\u001b[0m in \u001b[0;36m<module>\u001b[0;34m()\u001b[0m\n\u001b[0;32m----> 1\u001b[0;31m \u001b[0mposition_tuple\u001b[0m\u001b[0;34m[\u001b[0m\u001b[0;36m2\u001b[0m\u001b[0;34m]\u001b[0m \u001b[0;34m=\u001b[0m \u001b[0;36m1\u001b[0m\u001b[0;34m\u001b[0m\u001b[0;34m\u001b[0m\u001b[0m\n\u001b[0m",
            "\u001b[0;31mTypeError\u001b[0m: 'tuple' object does not support item assignment"
          ]
        }
      ]
    },
    {
      "cell_type": "code",
      "metadata": {
        "id": "hZAlg6h2XhwA",
        "colab_type": "code",
        "colab": {
          "base_uri": "https://localhost:8080/",
          "height": 164
        },
        "outputId": "5e132ec5-e6f6-4384-fa33-90439ad9431f"
      },
      "source": [
        "sweet_dict = {[\"เค้ก\", \"สตอเบอรี่\"]: 40}"
      ],
      "execution_count": 17,
      "outputs": [
        {
          "output_type": "error",
          "ename": "TypeError",
          "evalue": "ignored",
          "traceback": [
            "\u001b[0;31m---------------------------------------------------------------------------\u001b[0m",
            "\u001b[0;31mTypeError\u001b[0m                                 Traceback (most recent call last)",
            "\u001b[0;32m<ipython-input-17-080a55805e64>\u001b[0m in \u001b[0;36m<module>\u001b[0;34m()\u001b[0m\n\u001b[0;32m----> 1\u001b[0;31m \u001b[0msweet_dict\u001b[0m \u001b[0;34m=\u001b[0m \u001b[0;34m{\u001b[0m\u001b[0;34m[\u001b[0m\u001b[0;34m\"เค้ก\"\u001b[0m\u001b[0;34m,\u001b[0m \u001b[0;34m\"สตอเบอรี่\"\u001b[0m\u001b[0;34m]\u001b[0m\u001b[0;34m:\u001b[0m \u001b[0;36m40\u001b[0m\u001b[0;34m}\u001b[0m\u001b[0;34m\u001b[0m\u001b[0;34m\u001b[0m\u001b[0m\n\u001b[0m",
            "\u001b[0;31mTypeError\u001b[0m: unhashable type: 'list'"
          ]
        }
      ]
    },
    {
      "cell_type": "code",
      "metadata": {
        "id": "h12YsjdIX2uR",
        "colab_type": "code",
        "colab": {
          "base_uri": "https://localhost:8080/",
          "height": 34
        },
        "outputId": "a24ae229-ef64-4d88-a56d-8a3e88525d4c"
      },
      "source": [
        "sweet_dict = {(\"เค้ก\", \"สตอเบอรี่\"): 40, (\"เค้ก\", \"บลูเบอรี่\"): 35, (\"แยมโรล\", \"ส้ม\"): 25, (\"แยมโรล\", \"ใบเตย\"): 20}\n",
        "print(sweet_dict)"
      ],
      "execution_count": 19,
      "outputs": [
        {
          "output_type": "stream",
          "text": [
            "{('เค้ก', 'สตอเบอรี่'): 40, ('เค้ก', 'บลูเบอรี่'): 35, ('แยมโรล', 'ส้ม'): 25, ('แยมโรล', 'ใบเตย'): 20}\n"
          ],
          "name": "stdout"
        }
      ]
    },
    {
      "cell_type": "code",
      "metadata": {
        "id": "CM5WYQEdXG2m",
        "colab_type": "code",
        "colab": {
          "base_uri": "https://localhost:8080/",
          "height": 34
        },
        "outputId": "13c1692d-f580-4cb8-873a-bc61c288de09"
      },
      "source": [
        "sweet_dict.keys()\n",
        "#sweet_dict.values()"
      ],
      "execution_count": 24,
      "outputs": [
        {
          "output_type": "execute_result",
          "data": {
            "text/plain": [
              "dict_keys([('เค้ก', 'สตอเบอรี่'), ('เค้ก', 'บลูเบอรี่'), ('แยมโรล', 'ส้ม'), ('แยมโรล', 'ใบเตย')])"
            ]
          },
          "metadata": {
            "tags": []
          },
          "execution_count": 24
        }
      ]
    },
    {
      "cell_type": "markdown",
      "metadata": {
        "id": "r3bUalFqheYl",
        "colab_type": "text"
      },
      "source": [
        "Object"
      ]
    },
    {
      "cell_type": "code",
      "metadata": {
        "id": "1yFv9GkEhm5H",
        "colab_type": "code",
        "colab": {}
      },
      "source": [
        "class car:\n",
        "  def __init__(self,brand,horsePower,color):\n",
        "    self.brand = brand\n",
        "    self.horsePower = horsePower\n",
        "    self.color = color\n",
        "    self.currentPosition = 0\n",
        " \n",
        "  def start(self):\n",
        "    print(\"start the car\")\n",
        "  def moveForward(self):\n",
        "    self.currentPosition = self.currentPosition + self.horsePower\n",
        "  def moveBackward(self):\n",
        "    self.currentPosition = self.currentPosition - self.horsePower"
      ],
      "execution_count": 25,
      "outputs": []
    },
    {
      "cell_type": "code",
      "metadata": {
        "id": "nAZELSo1h1c7",
        "colab_type": "code",
        "colab": {}
      },
      "source": [
        "car_ricky = car(\"honda\",200,\"red\")\n",
        "car_tao = car(\"toyota\",300,\"blue\")\n",
        "car_paul = car(\"mazda\",400,\"grey\")"
      ],
      "execution_count": 26,
      "outputs": []
    },
    {
      "cell_type": "code",
      "metadata": {
        "id": "Q6LMJPFUvN7N",
        "colab_type": "code",
        "colab": {
          "base_uri": "https://localhost:8080/",
          "height": 136
        },
        "outputId": "d22ed364-3aee-442d-b8f9-5e8d84829be5"
      },
      "source": [
        "print(car_tao.currentPosition)\n",
        "car_tao.start()\n",
        "car_tao.moveForward()\n",
        "print(car_tao.currentPosition)\n",
        "print(\"Paul's car is a:\", car_paul.brand)\n",
        "print(\"Paul's horsepower is:\", car_paul.horsePower)\n",
        "#car_paul.moveForward()\n",
        "print(\"Paul's current position is:\", car_paul.currentPosition)\n",
        "car_paul.moveBackward()\n",
        "print(\"Paul's current position is:\", car_paul.currentPosition)"
      ],
      "execution_count": 36,
      "outputs": [
        {
          "output_type": "stream",
          "text": [
            "2700\n",
            "start the car\n",
            "3000\n",
            "Paul's car is a: mazda\n",
            "Paul's horsepower is: 400\n",
            "Paul's current position is: 1600\n",
            "Paul's current position is: 1200\n"
          ],
          "name": "stdout"
        }
      ]
    },
    {
      "cell_type": "markdown",
      "metadata": {
        "id": "fifkCFyRihN6",
        "colab_type": "text"
      },
      "source": [
        "# 2. Library คืออะไร\n"
      ]
    },
    {
      "cell_type": "markdown",
      "metadata": {
        "id": "lVIrX_jEilD7",
        "colab_type": "text"
      },
      "source": [
        "library คือ โปรแกรมสำเร็จรูปที่เก็บฟังก์ชันการทำงานที่บางอย่างไว้ ทำให้โปรแกรมเมอร์ไม่จำเป็นที่จะต้องเขียนโค้ดขึ้นมาใหม่เองทั้งหมด "
      ]
    },
    {
      "cell_type": "code",
      "metadata": {
        "id": "OUev6qddi4zb",
        "colab_type": "code",
        "colab": {
          "base_uri": "https://localhost:8080/",
          "height": 34
        },
        "outputId": "30aaa147-c9dc-490c-d57d-6cb43022801c"
      },
      "source": [
        "#หากต้องการเขียนโปรแกรมหาค่า mean\n",
        "number_list = [1,2,3,4,5,6,7,8,9,10]\n",
        "\n",
        "sum_num = 0\n",
        "count_num = len(number_list)\n",
        "for num in number_list:\n",
        "  sum_num = sum_num + num\n",
        "result = sum_num/count_num\n",
        "print(result)\n"
      ],
      "execution_count": null,
      "outputs": [
        {
          "output_type": "stream",
          "text": [
            "5.5\n"
          ],
          "name": "stdout"
        }
      ]
    },
    {
      "cell_type": "code",
      "metadata": {
        "id": "bih3aE0Ca5Hg",
        "colab_type": "code",
        "colab": {
          "base_uri": "https://localhost:8080/",
          "height": 34
        },
        "outputId": "bdc6892e-b525-4999-a8d2-746f75847524"
      },
      "source": [
        "#หากต้องการเขียนโปรแกรมหาค่า mean\n",
        "number_list2 = [10,20,30,40,50,60,70,80,90,100]\n",
        "\n",
        "sum_num = 0\n",
        "count_num = len(number_list2)\n",
        "for num in number_list2:\n",
        "  sum_num = sum_num + num\n",
        "print(sum_num/count_num)\n",
        "#result = sum_num/count_num\n",
        "#print(result) \n"
      ],
      "execution_count": 57,
      "outputs": [
        {
          "output_type": "stream",
          "text": [
            "55.0\n"
          ],
          "name": "stdout"
        }
      ]
    },
    {
      "cell_type": "code",
      "metadata": {
        "id": "-pCs4lPUcT93",
        "colab_type": "code",
        "colab": {
          "base_uri": "https://localhost:8080/",
          "height": 374
        },
        "outputId": "0711519a-8643-4c4a-85cd-32d45a14c42f"
      },
      "source": [
        "# Detailed breakdown\n",
        "number_list2 = [10,20,30,40,50,60,70,80,90,100]\n",
        "\n",
        "sum_num = 0\n",
        "count_num = len(number_list2)\n",
        "for num in number_list2:\n",
        "  print(num)\n",
        "  print(sum_num)\n",
        "  sum_num = sum_num + num\n",
        "print(sum_num/count_num)\n"
      ],
      "execution_count": 58,
      "outputs": [
        {
          "output_type": "stream",
          "text": [
            "10\n",
            "0\n",
            "20\n",
            "10\n",
            "30\n",
            "30\n",
            "40\n",
            "60\n",
            "50\n",
            "100\n",
            "60\n",
            "150\n",
            "70\n",
            "210\n",
            "80\n",
            "280\n",
            "90\n",
            "360\n",
            "100\n",
            "450\n",
            "55.0\n"
          ],
          "name": "stdout"
        }
      ]
    },
    {
      "cell_type": "code",
      "metadata": {
        "id": "1-AeUAIgbsRU",
        "colab_type": "code",
        "colab": {
          "base_uri": "https://localhost:8080/",
          "height": 34
        },
        "outputId": "932c900e-1098-43cf-d805-d57239f941e7"
      },
      "source": [
        "import numpy as np\n",
        "np.mean(number_list2)"
      ],
      "execution_count": 50,
      "outputs": [
        {
          "output_type": "execute_result",
          "data": {
            "text/plain": [
              "55.0"
            ]
          },
          "metadata": {
            "tags": []
          },
          "execution_count": 50
        }
      ]
    },
    {
      "cell_type": "code",
      "metadata": {
        "id": "pAaiLzUIjZxu",
        "colab_type": "code",
        "colab": {
          "base_uri": "https://localhost:8080/",
          "height": 34
        },
        "outputId": "42b6b50c-c34b-4f5b-e76d-ffc2822c2a59"
      },
      "source": [
        "import numpy as np\n",
        "np.mean(number_list)"
      ],
      "execution_count": null,
      "outputs": [
        {
          "output_type": "execute_result",
          "data": {
            "text/plain": [
              "5.5"
            ]
          },
          "metadata": {
            "tags": []
          },
          "execution_count": 20
        }
      ]
    },
    {
      "cell_type": "code",
      "metadata": {
        "id": "Su-pe8m9dOPB",
        "colab_type": "code",
        "colab": {}
      },
      "source": [
        "# Everything in Python is an Object\n",
        "# object as a string\n",
        "\n",
        "a = 'hello'\n",
        "\n"
      ],
      "execution_count": 59,
      "outputs": []
    },
    {
      "cell_type": "code",
      "metadata": {
        "id": "ShApYdUFdYjn",
        "colab_type": "code",
        "colab": {
          "base_uri": "https://localhost:8080/",
          "height": 35
        },
        "outputId": "c8b5e4e8-6880-4750-ae87-b939bc72e258"
      },
      "source": [
        "# Everything in Python is an Object\n",
        "a.capitalize()  #capitlaize first letter\n",
        "a.split('e')  #split at 'e'\n",
        "a.upper()   #capitalize all letters"
      ],
      "execution_count": 63,
      "outputs": [
        {
          "output_type": "execute_result",
          "data": {
            "application/vnd.google.colaboratory.intrinsic+json": {
              "type": "string"
            },
            "text/plain": [
              "'HELLO'"
            ]
          },
          "metadata": {
            "tags": []
          },
          "execution_count": 63
        }
      ]
    },
    {
      "cell_type": "code",
      "metadata": {
        "id": "2oYdfDwgdv6P",
        "colab_type": "code",
        "colab": {}
      },
      "source": [
        "# Everything is an object, even integers\n",
        "b = 130495\n"
      ],
      "execution_count": 66,
      "outputs": []
    },
    {
      "cell_type": "code",
      "metadata": {
        "id": "PQJEnogIdyQS",
        "colab_type": "code",
        "colab": {
          "base_uri": "https://localhost:8080/",
          "height": 34
        },
        "outputId": "075656a4-a7c1-4a58-9e26-2fac1cbe77f4"
      },
      "source": [
        "b.bit_length()\n"
      ],
      "execution_count": 67,
      "outputs": [
        {
          "output_type": "execute_result",
          "data": {
            "text/plain": [
              "17"
            ]
          },
          "metadata": {
            "tags": []
          },
          "execution_count": 67
        }
      ]
    },
    {
      "cell_type": "code",
      "metadata": {
        "id": "LwLuko2zd9_2",
        "colab_type": "code",
        "colab": {}
      },
      "source": [
        "# Everything is an object, even Lists\n",
        "c = [1,2,3,4,5]"
      ],
      "execution_count": 68,
      "outputs": []
    },
    {
      "cell_type": "code",
      "metadata": {
        "id": "PKZb5A13eCbH",
        "colab_type": "code",
        "colab": {}
      },
      "source": [
        "# .append() is a function that works on Lists (objects)\n",
        "c.append(69)"
      ],
      "execution_count": 69,
      "outputs": []
    },
    {
      "cell_type": "code",
      "metadata": {
        "id": "tOaqT6nBeLwH",
        "colab_type": "code",
        "colab": {
          "base_uri": "https://localhost:8080/",
          "height": 34
        },
        "outputId": "6b77374e-6c64-4b32-ee71-1b672f9fb671"
      },
      "source": [
        "print(c)"
      ],
      "execution_count": 70,
      "outputs": [
        {
          "output_type": "stream",
          "text": [
            "[1, 2, 3, 4, 5, 69]\n"
          ],
          "name": "stdout"
        }
      ]
    },
    {
      "cell_type": "code",
      "metadata": {
        "id": "MgOANwOLeTll",
        "colab_type": "code",
        "colab": {
          "base_uri": "https://localhost:8080/",
          "height": 34
        },
        "outputId": "3b4e8199-165d-47e3-97e1-98d6ac58409c"
      },
      "source": [
        "# using numpy array\n",
        "\n",
        "cr = np.array(c)\n",
        "print(cr)\n"
      ],
      "execution_count": 72,
      "outputs": [
        {
          "output_type": "stream",
          "text": [
            "[ 1  2  3  4  5 69]\n"
          ],
          "name": "stdout"
        }
      ]
    },
    {
      "cell_type": "code",
      "metadata": {
        "id": "f8URtnmBefHr",
        "colab_type": "code",
        "colab": {
          "base_uri": "https://localhost:8080/",
          "height": 34
        },
        "outputId": "9fff8066-3530-4089-d8ac-0507e00badb6"
      },
      "source": [
        "# numpy.ndarray is Similar (but not exactly same as ) List\n",
        "# people who developed for numpy have written functions for numpy.ndarray that's NOT available to pure Lists\n",
        "\n",
        "type(cr)"
      ],
      "execution_count": 73,
      "outputs": [
        {
          "output_type": "execute_result",
          "data": {
            "text/plain": [
              "numpy.ndarray"
            ]
          },
          "metadata": {
            "tags": []
          },
          "execution_count": 73
        }
      ]
    },
    {
      "cell_type": "code",
      "metadata": {
        "id": "zVD6qsFuevVC",
        "colab_type": "code",
        "colab": {
          "base_uri": "https://localhost:8080/",
          "height": 34
        },
        "outputId": "2daeb80f-3d23-486a-f5bf-c36bc45025ad"
      },
      "source": [
        "c == cr"
      ],
      "execution_count": 74,
      "outputs": [
        {
          "output_type": "execute_result",
          "data": {
            "text/plain": [
              "array([ True,  True,  True,  True,  True,  True])"
            ]
          },
          "metadata": {
            "tags": []
          },
          "execution_count": 74
        }
      ]
    },
    {
      "cell_type": "code",
      "metadata": {
        "id": "WpnwUIj3e0uf",
        "colab_type": "code",
        "colab": {
          "base_uri": "https://localhost:8080/",
          "height": 198
        },
        "outputId": "d53e0b73-6c0d-4148-df11-bcf601281f80"
      },
      "source": [
        "# The max() function is aviable to both Lists and Numpy Array\n",
        "max(c)\n",
        "\n",
        "# cumulative sum\n",
        "cr.cumsum()\n",
        "\n",
        "# 'list' object has no attribute 'cumsum'\n",
        "c.cumsum()"
      ],
      "execution_count": 80,
      "outputs": [
        {
          "output_type": "error",
          "ename": "AttributeError",
          "evalue": "ignored",
          "traceback": [
            "\u001b[0;31m---------------------------------------------------------------------------\u001b[0m",
            "\u001b[0;31mAttributeError\u001b[0m                            Traceback (most recent call last)",
            "\u001b[0;32m<ipython-input-80-886476b13954>\u001b[0m in \u001b[0;36m<module>\u001b[0;34m()\u001b[0m\n\u001b[1;32m      5\u001b[0m \u001b[0mcr\u001b[0m\u001b[0;34m.\u001b[0m\u001b[0mcumsum\u001b[0m\u001b[0;34m(\u001b[0m\u001b[0;34m)\u001b[0m\u001b[0;34m\u001b[0m\u001b[0;34m\u001b[0m\u001b[0m\n\u001b[1;32m      6\u001b[0m \u001b[0;34m\u001b[0m\u001b[0m\n\u001b[0;32m----> 7\u001b[0;31m \u001b[0mc\u001b[0m\u001b[0;34m.\u001b[0m\u001b[0mcumsum\u001b[0m\u001b[0;34m(\u001b[0m\u001b[0;34m)\u001b[0m\u001b[0;34m\u001b[0m\u001b[0;34m\u001b[0m\u001b[0m\n\u001b[0m",
            "\u001b[0;31mAttributeError\u001b[0m: 'list' object has no attribute 'cumsum'"
          ]
        }
      ]
    },
    {
      "cell_type": "code",
      "metadata": {
        "id": "UFunOcolfG9L",
        "colab_type": "code",
        "colab": {
          "base_uri": "https://localhost:8080/",
          "height": 34
        },
        "outputId": "0b1c431f-7fc7-407d-e0aa-73cc98a05d84"
      },
      "source": [
        "type(c)  # List\n",
        "type(cr) #numpy.ndarray"
      ],
      "execution_count": 79,
      "outputs": [
        {
          "output_type": "execute_result",
          "data": {
            "text/plain": [
              "numpy.ndarray"
            ]
          },
          "metadata": {
            "tags": []
          },
          "execution_count": 79
        }
      ]
    },
    {
      "cell_type": "code",
      "metadata": {
        "id": "kMvHd3Fdfdr4",
        "colab_type": "code",
        "colab": {
          "base_uri": "https://localhost:8080/",
          "height": 34
        },
        "outputId": "c341e8f2-8b06-4215-c97f-c487e914eae2"
      },
      "source": [
        "d_array = np.array(['hi', 'hello', 'sawasdee'])\n",
        "type(d_array)"
      ],
      "execution_count": 83,
      "outputs": [
        {
          "output_type": "execute_result",
          "data": {
            "text/plain": [
              "numpy.ndarray"
            ]
          },
          "metadata": {
            "tags": []
          },
          "execution_count": 83
        }
      ]
    },
    {
      "cell_type": "code",
      "metadata": {
        "id": "en7HiEVWfo5r",
        "colab_type": "code",
        "colab": {
          "base_uri": "https://localhost:8080/",
          "height": 35
        },
        "outputId": "79c30c69-21d6-4bfe-b364-a29482ab65b9"
      },
      "source": [
        "# can Index Numpy Array\n",
        "\n",
        "d_array[0]"
      ],
      "execution_count": 84,
      "outputs": [
        {
          "output_type": "execute_result",
          "data": {
            "application/vnd.google.colaboratory.intrinsic+json": {
              "type": "string"
            },
            "text/plain": [
              "'hi'"
            ]
          },
          "metadata": {
            "tags": []
          },
          "execution_count": 84
        }
      ]
    },
    {
      "cell_type": "code",
      "metadata": {
        "id": "2-401_QZf3GY",
        "colab_type": "code",
        "colab": {}
      },
      "source": [
        "# Creating Matrix from  Numpy Array\n",
        "\n",
        "matrix = np.array([[0,1,2],[3,4,5],[6,7,8]])"
      ],
      "execution_count": 85,
      "outputs": []
    },
    {
      "cell_type": "code",
      "metadata": {
        "id": "u9yng1rdgJNC",
        "colab_type": "code",
        "colab": {
          "base_uri": "https://localhost:8080/",
          "height": 68
        },
        "outputId": "2415a904-64fc-45af-fdb3-e65ab57b6c17"
      },
      "source": [
        "matrix\n"
      ],
      "execution_count": 86,
      "outputs": [
        {
          "output_type": "execute_result",
          "data": {
            "text/plain": [
              "array([[0, 1, 2],\n",
              "       [3, 4, 5],\n",
              "       [6, 7, 8]])"
            ]
          },
          "metadata": {
            "tags": []
          },
          "execution_count": 86
        }
      ]
    },
    {
      "cell_type": "code",
      "metadata": {
        "id": "JIRn1dUXgOjt",
        "colab_type": "code",
        "colab": {
          "base_uri": "https://localhost:8080/",
          "height": 51
        },
        "outputId": "eef2b2cd-35ae-4647-c7c8-6e5cffdacafd"
      },
      "source": [
        "# accessing ROWS and COLUMNS for Matrix\n",
        "# numpy is ROW-first, COLUMNS-second\n",
        "# similar to base-R subsetting ??\n",
        "\n",
        "matrix[2,0]  #6\n",
        "matrix[:,0]  # entire first column\n",
        "matrix[0,:]  # entire first row\n",
        "matrix[0:2,:] # entire first TWO rows\n",
        "matrix[0:2, 0:2]  #first two rows and columns (only)"
      ],
      "execution_count": 95,
      "outputs": [
        {
          "output_type": "execute_result",
          "data": {
            "text/plain": [
              "array([[0, 1],\n",
              "       [3, 4]])"
            ]
          },
          "metadata": {
            "tags": []
          },
          "execution_count": 95
        }
      ]
    },
    {
      "cell_type": "code",
      "metadata": {
        "id": "wu5uN-GviRk6",
        "colab_type": "code",
        "colab": {}
      },
      "source": [
        "# ways to get help on the numpy library\n",
        "\n",
        "help(np.random.randint)\n",
        "np.random.randint?"
      ],
      "execution_count": null,
      "outputs": []
    },
    {
      "cell_type": "code",
      "metadata": {
        "id": "wA1pPo8XipVp",
        "colab_type": "code",
        "colab": {
          "base_uri": "https://localhost:8080/",
          "height": 187
        },
        "outputId": "3c37c5e4-7109-4f32-f876-16d165b6ee17"
      },
      "source": [
        "# Creating Random number (INTEGER) Matrix\n",
        "# used fairly often in Machine Learning\n",
        "\n",
        "np.random.randint(0,10,[10,10])"
      ],
      "execution_count": 104,
      "outputs": [
        {
          "output_type": "execute_result",
          "data": {
            "text/plain": [
              "array([[4, 3, 9, 8, 2, 3, 7, 5, 5, 0],\n",
              "       [4, 0, 7, 0, 8, 0, 1, 7, 8, 6],\n",
              "       [0, 0, 9, 5, 3, 3, 8, 0, 9, 3],\n",
              "       [9, 8, 7, 7, 4, 6, 3, 7, 3, 5],\n",
              "       [3, 7, 9, 0, 3, 3, 1, 5, 0, 7],\n",
              "       [1, 0, 8, 2, 1, 8, 9, 5, 3, 7],\n",
              "       [2, 3, 8, 7, 3, 7, 0, 1, 6, 2],\n",
              "       [4, 1, 4, 8, 1, 1, 6, 3, 7, 4],\n",
              "       [8, 8, 7, 7, 8, 7, 7, 6, 9, 6],\n",
              "       [9, 4, 9, 8, 5, 7, 7, 1, 7, 0]])"
            ]
          },
          "metadata": {
            "tags": []
          },
          "execution_count": 104
        }
      ]
    },
    {
      "cell_type": "code",
      "metadata": {
        "id": "mIR-XlITjCO8",
        "colab_type": "code",
        "colab": {
          "base_uri": "https://localhost:8080/",
          "height": 102
        },
        "outputId": "2cff076a-1427-442c-bcc2-9e2397119ff8"
      },
      "source": [
        "# creating random number FLOAT matrix\n",
        "\n",
        "np.random.random([5,5])"
      ],
      "execution_count": 103,
      "outputs": [
        {
          "output_type": "execute_result",
          "data": {
            "text/plain": [
              "array([[0.58075282, 0.96163491, 0.81223757, 0.22927409, 0.48803526],\n",
              "       [0.50954596, 0.99100025, 0.19500997, 0.27072709, 0.40838614],\n",
              "       [0.99262873, 0.44733217, 0.61082392, 0.19579153, 0.81964244],\n",
              "       [0.71740893, 0.96903216, 0.43661811, 0.74958451, 0.4867887 ],\n",
              "       [0.18844945, 0.62005739, 0.11099807, 0.63273379, 0.1549175 ]])"
            ]
          },
          "metadata": {
            "tags": []
          },
          "execution_count": 103
        }
      ]
    },
    {
      "cell_type": "code",
      "metadata": {
        "id": "b_Eo07tuj7Qw",
        "colab_type": "code",
        "colab": {
          "base_uri": "https://localhost:8080/",
          "height": 187
        },
        "outputId": "42510a76-0bd3-4f09-93a3-77498e1c1e97"
      },
      "source": [
        "img_matrix = np.random.randint(0,10,[10,10])\n",
        "img_matrix"
      ],
      "execution_count": 106,
      "outputs": [
        {
          "output_type": "execute_result",
          "data": {
            "text/plain": [
              "array([[2, 2, 7, 5, 6, 2, 8, 1, 6, 3],\n",
              "       [3, 0, 5, 7, 9, 9, 6, 6, 0, 6],\n",
              "       [3, 3, 1, 1, 2, 8, 8, 9, 8, 0],\n",
              "       [1, 7, 7, 9, 7, 2, 5, 2, 6, 2],\n",
              "       [8, 0, 5, 7, 9, 2, 8, 3, 1, 6],\n",
              "       [3, 4, 1, 4, 2, 9, 5, 5, 6, 3],\n",
              "       [8, 7, 9, 9, 7, 0, 8, 8, 2, 1],\n",
              "       [7, 9, 3, 6, 2, 5, 5, 4, 9, 2],\n",
              "       [0, 5, 5, 2, 7, 9, 6, 0, 6, 2],\n",
              "       [8, 6, 4, 7, 6, 9, 8, 4, 4, 0]])"
            ]
          },
          "metadata": {
            "tags": []
          },
          "execution_count": 106
        }
      ]
    },
    {
      "cell_type": "code",
      "metadata": {
        "id": "ctyxK-BakW5v",
        "colab_type": "code",
        "colab": {
          "base_uri": "https://localhost:8080/",
          "height": 68
        },
        "outputId": "fd444534-3341-4358-aa3d-66aacf0c1a6b"
      },
      "source": [
        "small_matrix = np.array([[1,0,0],[0,1,0],[0,0,1]])\n",
        "small_matrix"
      ],
      "execution_count": 107,
      "outputs": [
        {
          "output_type": "execute_result",
          "data": {
            "text/plain": [
              "array([[1, 0, 0],\n",
              "       [0, 1, 0],\n",
              "       [0, 0, 1]])"
            ]
          },
          "metadata": {
            "tags": []
          },
          "execution_count": 107
        }
      ]
    },
    {
      "cell_type": "code",
      "metadata": {
        "id": "P_FAkD73ku1W",
        "colab_type": "code",
        "colab": {
          "base_uri": "https://localhost:8080/",
          "height": 68
        },
        "outputId": "e260d00d-91b8-4d77-f444-d8f8e37d459c"
      },
      "source": [
        "# small region of larger matrix\n",
        "\n",
        "img_matrix[0:3,0:3]"
      ],
      "execution_count": 108,
      "outputs": [
        {
          "output_type": "execute_result",
          "data": {
            "text/plain": [
              "array([[2, 2, 7],\n",
              "       [3, 0, 5],\n",
              "       [3, 3, 1]])"
            ]
          },
          "metadata": {
            "tags": []
          },
          "execution_count": 108
        }
      ]
    },
    {
      "cell_type": "code",
      "metadata": {
        "id": "B_BCjE3zk8zA",
        "colab_type": "code",
        "colab": {
          "base_uri": "https://localhost:8080/",
          "height": 68
        },
        "outputId": "0051740e-7bd6-45bd-dbfb-4036cda6d434"
      },
      "source": [
        "# multiply matrices\n",
        "\n",
        "img_matrix[0:3,0:3]*small_matrix"
      ],
      "execution_count": 109,
      "outputs": [
        {
          "output_type": "execute_result",
          "data": {
            "text/plain": [
              "array([[2, 0, 0],\n",
              "       [0, 0, 0],\n",
              "       [0, 0, 1]])"
            ]
          },
          "metadata": {
            "tags": []
          },
          "execution_count": 109
        }
      ]
    },
    {
      "cell_type": "code",
      "metadata": {
        "id": "j1i4US5KlEGg",
        "colab_type": "code",
        "colab": {
          "base_uri": "https://localhost:8080/",
          "height": 34
        },
        "outputId": "4458a4da-7707-438b-a110-f1df266dca3a"
      },
      "source": [
        "# then sum ==> How to do Convolution Neural Network\n",
        "\n",
        "(img_matrix[0:3,0:3]*small_matrix).sum()\n",
        "\n",
        "# move to (img_matr)\n",
        "(img_matrix[0:3,6:9]*small_matrix).sum()\n",
        "#(img_matrix[0:3,7:10]*small_matrix).sum()\n",
        "\n",
        "# write a forloop to loop through entire matrix,"
      ],
      "execution_count": 115,
      "outputs": [
        {
          "output_type": "execute_result",
          "data": {
            "text/plain": [
              "22"
            ]
          },
          "metadata": {
            "tags": []
          },
          "execution_count": 115
        }
      ]
    },
    {
      "cell_type": "code",
      "metadata": {
        "id": "DcdVS9JTmefU",
        "colab_type": "code",
        "colab": {
          "base_uri": "https://localhost:8080/",
          "height": 153
        },
        "outputId": "07dd2c65-7fb3-4d79-9272-7d20c3ca53f8"
      },
      "source": [
        "img_matrix = np.random.randint(0,10,[10,10])\n",
        "small_matrix = np.array([[1,0,0],[0,1,0],[0,0,1]])\n",
        "c = []\n",
        "for i in range(8):\n",
        "  d = []\n",
        "  for j in range(8):\n",
        "    # moving the sub-matrix from left to right\n",
        "    temp = (img_matrix[i:i+3, j:j+3]*small_matrix).sum()\n",
        "    d.append(temp)\n",
        "  c.append(d)\n",
        "print(np.array(c))\n",
        "\n",
        "# nested for-loop, range(), numpy.array, matrices, to create Convolution Neural Network ?? whoa\n"
      ],
      "execution_count": 118,
      "outputs": [
        {
          "output_type": "stream",
          "text": [
            "[[12  5 14  8 13  9  6 10]\n",
            " [ 8  4 12 13 11 12  6  6]\n",
            " [ 9 12  9 19 17 15  9  5]\n",
            " [22  3 17 14 24 14  8 16]\n",
            " [ 7 15  9 21 22 16 11 14]\n",
            " [11 10 15 11 18 18 15  9]\n",
            " [ 6 12 15  6 17 12 17  8]\n",
            " [ 9 12 11 16 11 13  8 14]]\n"
          ],
          "name": "stdout"
        }
      ]
    },
    {
      "cell_type": "code",
      "metadata": {
        "id": "7XYwS0cdo3ws",
        "colab_type": "code",
        "colab": {}
      },
      "source": [
        "## Ajarn Win Solution\n",
        "## There's a large image\n",
        "## There's a small image\n",
        "## use small image ot filter (convlute) the large impage\n",
        "\n",
        "def convimg(oimg,filt):\n",
        "  # filter width, filter height\n",
        "  fh, fw = filt.shape\n",
        "  # image width, image height\n",
        "  ih, iw = oimg.shape\n",
        "  # want seven columns (iw-fw+1 = 7)\n",
        "  newimg = []\n",
        "  # going to lower rows (j in range)\n",
        "  for j in range(ih-fh+1):\n",
        "    newrow = []\n",
        "    for i in range(iw-fw+1):\n",
        "      # sub image = smaller images\n",
        "      # change to j:j+fh for lower rows\n",
        "      simg = oimg[j:j+fh,i:i+fw]\n",
        "      # sub conv\n",
        "      scov = (simg*filt).sum()\n",
        "      #print(\"sub image\", simg)\n",
        "      #print(\"filter\", filt)\n",
        "      #print(\"sub conv\", scov)\n",
        "      newrow.append(scov)\n",
        "    newimg.append(newrow)\n",
        "  return np.array(newimg)\n",
        "    #print(i)\n",
        "  #return filt.shape\n",
        "  #return oimg,filt\n"
      ],
      "execution_count": 139,
      "outputs": []
    },
    {
      "cell_type": "code",
      "metadata": {
        "id": "wl61XwkgqD8O",
        "colab_type": "code",
        "colab": {
          "base_uri": "https://localhost:8080/",
          "height": 153
        },
        "outputId": "25757ac0-bafc-4bf2-83e9-0db3f506f296"
      },
      "source": [
        "convimg(img_matrix, small_matrix)"
      ],
      "execution_count": 140,
      "outputs": [
        {
          "output_type": "execute_result",
          "data": {
            "text/plain": [
              "array([[12,  5, 14,  8, 13,  9,  6, 10],\n",
              "       [ 8,  4, 12, 13, 11, 12,  6,  6],\n",
              "       [ 9, 12,  9, 19, 17, 15,  9,  5],\n",
              "       [22,  3, 17, 14, 24, 14,  8, 16],\n",
              "       [ 7, 15,  9, 21, 22, 16, 11, 14],\n",
              "       [11, 10, 15, 11, 18, 18, 15,  9],\n",
              "       [ 6, 12, 15,  6, 17, 12, 17,  8],\n",
              "       [ 9, 12, 11, 16, 11, 13,  8, 14]])"
            ]
          },
          "metadata": {
            "tags": []
          },
          "execution_count": 140
        }
      ]
    },
    {
      "cell_type": "code",
      "metadata": {
        "id": "wKhG3YasuHNk",
        "colab_type": "code",
        "colab": {}
      },
      "source": [
        "## account for random number issue\n",
        "a = np.arange(100)\n",
        "a = a.reshape(10,10)"
      ],
      "execution_count": null,
      "outputs": []
    },
    {
      "cell_type": "code",
      "metadata": {
        "id": "vt9qM596lUri",
        "colab_type": "code",
        "colab": {}
      },
      "source": [
        "# Using SLIDING WINDOW Algorithm to slide through Matrix\n",
        "\n"
      ],
      "execution_count": null,
      "outputs": []
    },
    {
      "cell_type": "markdown",
      "metadata": {
        "id": "yPQLdnqsjjAW",
        "colab_type": "text"
      },
      "source": [
        "หากต้องการลง library เพื่ม ให้ใช้คำสั่ง pip install\n",
        "\n",
        "\n"
      ]
    },
    {
      "cell_type": "code",
      "metadata": {
        "id": "cxu68lcLjiWC",
        "colab_type": "code",
        "colab": {}
      },
      "source": [
        "!pip install pythainlp"
      ],
      "execution_count": null,
      "outputs": []
    },
    {
      "cell_type": "markdown",
      "metadata": {
        "colab_type": "text",
        "id": "3cfrOV4dL9hW"
      },
      "source": [
        "#3.Numpy"
      ]
    },
    {
      "cell_type": "markdown",
      "metadata": {
        "colab_type": "text",
        "id": "0vJLt3JRL9eR"
      },
      "source": [
        "\n",
        "Original source:\n",
        "\n",
        "https://cs231n.github.io/python-numpy-tutorial/"
      ]
    },
    {
      "cell_type": "markdown",
      "metadata": {
        "colab_type": "text",
        "id": "fY12nHhyL9hX"
      },
      "source": [
        "Numpy is the core library for scientific computing in Python. It provides a high-performance multidimensional array object, and tools for working with these arrays. If you are already familiar with MATLAB, you might find this [tutorial](http://wiki.scipy.org/NumPy_for_Matlab_Users) useful to get started with Numpy."
      ]
    },
    {
      "cell_type": "markdown",
      "metadata": {
        "id": "SQijS8moZmA6",
        "colab_type": "text"
      },
      "source": [
        "Matrix 3 x 3\n",
        "\n",
        "[ 1 2 3 \n",
        "\n",
        "  4 5 6\n",
        "\n",
        "  7 8 9 ]"
      ]
    },
    {
      "cell_type": "markdown",
      "metadata": {
        "colab_type": "text",
        "id": "lZMyAdqhL9hY"
      },
      "source": [
        "To use Numpy, we first need to import the `numpy` package:"
      ]
    },
    {
      "cell_type": "code",
      "metadata": {
        "colab_type": "code",
        "id": "58QdX8BLL9hZ",
        "colab": {}
      },
      "source": [
        "import numpy as np"
      ],
      "execution_count": null,
      "outputs": []
    },
    {
      "cell_type": "markdown",
      "metadata": {
        "colab_type": "text",
        "id": "DDx6v1EdL9hb"
      },
      "source": [
        "###Arrays"
      ]
    },
    {
      "cell_type": "markdown",
      "metadata": {
        "colab_type": "text",
        "id": "f-Zv3f7LL9hc"
      },
      "source": [
        "A numpy array is a grid of values, all of the same type, and is indexed by a tuple of nonnegative integers. The number of dimensions is the rank of the array; the shape of an array is a tuple of integers giving the size of the array along each dimension."
      ]
    },
    {
      "cell_type": "markdown",
      "metadata": {
        "colab_type": "text",
        "id": "_eMTRnZRL9hc"
      },
      "source": [
        "We can initialize numpy arrays from nested Python lists, and access elements using square brackets:"
      ]
    },
    {
      "cell_type": "code",
      "metadata": {
        "colab_type": "code",
        "id": "-l3JrGxCL9hc",
        "colab": {
          "base_uri": "https://localhost:8080/",
          "height": 34
        },
        "outputId": "ba8388f4-660b-4974-fd77-5f20bd36338c"
      },
      "source": [
        "# Create a array 1x3 Dimension\n",
        "a = np.array([1,2,3])\n",
        "print(a)"
      ],
      "execution_count": null,
      "outputs": [
        {
          "output_type": "stream",
          "text": [
            "[1 2 3]\n"
          ],
          "name": "stdout"
        }
      ]
    },
    {
      "cell_type": "code",
      "metadata": {
        "id": "X0K8GEghe7fU",
        "colab_type": "code",
        "colab": {
          "base_uri": "https://localhost:8080/",
          "height": 34
        },
        "outputId": "9b20e869-39b0-4490-afce-4caa5e373f12"
      },
      "source": [
        "a_list = [1,2,3]\n",
        "b_list = [4,5,6]\n",
        "print(a_list+b_list)"
      ],
      "execution_count": null,
      "outputs": [
        {
          "output_type": "stream",
          "text": [
            "[1, 2, 3, 4, 5, 6]\n"
          ],
          "name": "stdout"
        }
      ]
    },
    {
      "cell_type": "code",
      "metadata": {
        "id": "XocFRygffH0h",
        "colab_type": "code",
        "colab": {
          "base_uri": "https://localhost:8080/",
          "height": 34
        },
        "outputId": "c7ed1833-08c3-4701-e3fd-f72120ff33e5"
      },
      "source": [
        "print(a+a_list)"
      ],
      "execution_count": null,
      "outputs": [
        {
          "output_type": "stream",
          "text": [
            "[2 4 6]\n"
          ],
          "name": "stdout"
        }
      ]
    },
    {
      "cell_type": "code",
      "metadata": {
        "id": "Kf7Y3-aAzaFc",
        "colab_type": "code",
        "colab": {
          "base_uri": "https://localhost:8080/",
          "height": 34
        },
        "outputId": "92b71d27-2294-4f27-f1a1-1908281f6568"
      },
      "source": [
        "# variable type\n",
        "type(a)"
      ],
      "execution_count": null,
      "outputs": [
        {
          "output_type": "execute_result",
          "data": {
            "text/plain": [
              "numpy.ndarray"
            ]
          },
          "metadata": {
            "tags": []
          },
          "execution_count": 25
        }
      ]
    },
    {
      "cell_type": "code",
      "metadata": {
        "id": "90k-NRLFzrva",
        "colab_type": "code",
        "colab": {
          "base_uri": "https://localhost:8080/",
          "height": 50
        },
        "outputId": "b835269e-5361-4c7f-f269-1a02b542cdf6"
      },
      "source": [
        "# array dimension\n",
        "print(a.shape)\n",
        "print(np.shape(a))"
      ],
      "execution_count": null,
      "outputs": [
        {
          "output_type": "stream",
          "text": [
            "(3,)\n",
            "(3,)\n"
          ],
          "name": "stdout"
        }
      ]
    },
    {
      "cell_type": "code",
      "metadata": {
        "colab_type": "code",
        "id": "ma6mk-kdL9hh",
        "colab": {
          "base_uri": "https://localhost:8080/",
          "height": 50
        },
        "outputId": "798b6288-cc27-400a-ce00-f0222e8cbece"
      },
      "source": [
        "# Create a array 2 x 3\n",
        "b = np.array([[1, 2, 3], [4, 5, 6]])\n",
        "print(b)"
      ],
      "execution_count": null,
      "outputs": [
        {
          "output_type": "stream",
          "text": [
            "[[1 2 3]\n",
            " [4 5 6]]\n"
          ],
          "name": "stdout"
        }
      ]
    },
    {
      "cell_type": "code",
      "metadata": {
        "id": "onoCw6qffYm6",
        "colab_type": "code",
        "colab": {
          "base_uri": "https://localhost:8080/",
          "height": 67
        },
        "outputId": "252c46f0-dd34-459d-f34d-dc17d0f5277e"
      },
      "source": [
        "print(a_list)\n",
        "print(b+a_list)"
      ],
      "execution_count": null,
      "outputs": [
        {
          "output_type": "stream",
          "text": [
            "[1, 2, 3]\n",
            "[[2 4 6]\n",
            " [5 7 9]]\n"
          ],
          "name": "stdout"
        }
      ]
    },
    {
      "cell_type": "code",
      "metadata": {
        "colab_type": "code",
        "id": "ymfSHAwtL9hj",
        "colab": {
          "base_uri": "https://localhost:8080/",
          "height": 34
        },
        "outputId": "5dd85887-e613-47ed-9629-766bbc2eac49"
      },
      "source": [
        "# array dimension\n",
        "np.shape(b)"
      ],
      "execution_count": null,
      "outputs": [
        {
          "output_type": "execute_result",
          "data": {
            "text/plain": [
              "(2, 3)"
            ]
          },
          "metadata": {
            "tags": []
          },
          "execution_count": 29
        }
      ]
    },
    {
      "cell_type": "code",
      "metadata": {
        "id": "x0pN21NJfi9Z",
        "colab_type": "code",
        "colab": {
          "base_uri": "https://localhost:8080/",
          "height": 34
        },
        "outputId": "ed4c9dc4-03b0-4965-f2dd-aa56b7d55fd7"
      },
      "source": [
        "b.shape"
      ],
      "execution_count": null,
      "outputs": [
        {
          "output_type": "execute_result",
          "data": {
            "text/plain": [
              "(2, 3)"
            ]
          },
          "metadata": {
            "tags": []
          },
          "execution_count": 30
        }
      ]
    },
    {
      "cell_type": "markdown",
      "metadata": {
        "colab_type": "text",
        "id": "F2qwdyvuL9hn"
      },
      "source": [
        "Numpy also provides many functions to create arrays:"
      ]
    },
    {
      "cell_type": "code",
      "metadata": {
        "colab_type": "code",
        "id": "mVTN_EBqL9hn",
        "colab": {
          "base_uri": "https://localhost:8080/",
          "height": 67
        },
        "outputId": "7e8b43c0-c38d-45ff-bc89-55bbbb4687c2"
      },
      "source": [
        "# Create an array of all zeros\n",
        "a = np.zeros((3, 3))\n",
        "print(a)"
      ],
      "execution_count": null,
      "outputs": [
        {
          "output_type": "stream",
          "text": [
            "[[0. 0. 0.]\n",
            " [0. 0. 0.]\n",
            " [0. 0. 0.]]\n"
          ],
          "name": "stdout"
        }
      ]
    },
    {
      "cell_type": "code",
      "metadata": {
        "colab_type": "code",
        "id": "skiKlNmlL9h5",
        "colab": {
          "base_uri": "https://localhost:8080/",
          "height": 50
        },
        "outputId": "3bf326c4-93e9-493d-a876-3401c9545ee2"
      },
      "source": [
        "# Create an array of all ones\n",
        "b = np.ones((2,3))\n",
        "print(b)"
      ],
      "execution_count": null,
      "outputs": [
        {
          "output_type": "stream",
          "text": [
            "[[1. 1. 1.]\n",
            " [1. 1. 1.]]\n"
          ],
          "name": "stdout"
        }
      ]
    },
    {
      "cell_type": "code",
      "metadata": {
        "colab_type": "code",
        "id": "HtFsr03bL9h7",
        "colab": {
          "base_uri": "https://localhost:8080/",
          "height": 101
        },
        "outputId": "8539775f-26ba-453e-cad0-153f8676c9c2"
      },
      "source": [
        "# Create a constant array\n",
        "c = np.full((5,5), 10)\n",
        "print(c)"
      ],
      "execution_count": null,
      "outputs": [
        {
          "output_type": "stream",
          "text": [
            "[[10 10 10 10 10]\n",
            " [10 10 10 10 10]\n",
            " [10 10 10 10 10]\n",
            " [10 10 10 10 10]\n",
            " [10 10 10 10 10]]\n"
          ],
          "name": "stdout"
        }
      ]
    },
    {
      "cell_type": "code",
      "metadata": {
        "id": "3vtl1H2YgLHO",
        "colab_type": "code",
        "colab": {
          "base_uri": "https://localhost:8080/",
          "height": 101
        },
        "outputId": "ff07e703-07cf-48f1-e5a3-842188d69d60"
      },
      "source": [
        "c = np.ones((5,5)) * 3\n",
        "print(c)"
      ],
      "execution_count": null,
      "outputs": [
        {
          "output_type": "stream",
          "text": [
            "[[3. 3. 3. 3. 3.]\n",
            " [3. 3. 3. 3. 3.]\n",
            " [3. 3. 3. 3. 3.]\n",
            " [3. 3. 3. 3. 3.]\n",
            " [3. 3. 3. 3. 3.]]\n"
          ],
          "name": "stdout"
        }
      ]
    },
    {
      "cell_type": "code",
      "metadata": {
        "colab_type": "code",
        "id": "-QcALHvkL9h9",
        "colab": {
          "base_uri": "https://localhost:8080/",
          "height": 101
        },
        "outputId": "ab1b7ecf-ca3a-4d28-e5d4-263b637efd3d"
      },
      "source": [
        "# Create a 5x5 identity matrix\n",
        "d = np.eye(5)\n",
        "print(d)"
      ],
      "execution_count": null,
      "outputs": [
        {
          "output_type": "stream",
          "text": [
            "[[1. 0. 0. 0. 0.]\n",
            " [0. 1. 0. 0. 0.]\n",
            " [0. 0. 1. 0. 0.]\n",
            " [0. 0. 0. 1. 0.]\n",
            " [0. 0. 0. 0. 1.]]\n"
          ],
          "name": "stdout"
        }
      ]
    },
    {
      "cell_type": "code",
      "metadata": {
        "colab_type": "code",
        "id": "RCpaYg9qL9iA",
        "colab": {
          "base_uri": "https://localhost:8080/",
          "height": 84
        },
        "outputId": "5bf31953-49c5-4f5d-8418-4b564a353aed"
      },
      "source": [
        "# Create an array filled with random values\n",
        "e = np.random.random((4,4))\n",
        "print(e)"
      ],
      "execution_count": null,
      "outputs": [
        {
          "output_type": "stream",
          "text": [
            "[[0.2134827  0.23809382 0.56739225 0.86577262]\n",
            " [0.25493549 0.11133226 0.093012   0.40229045]\n",
            " [0.34601726 0.39635408 0.45971892 0.18549708]\n",
            " [0.37078498 0.95684778 0.54311944 0.05762326]]\n"
          ],
          "name": "stdout"
        }
      ]
    },
    {
      "cell_type": "code",
      "metadata": {
        "id": "Fne6vM4kg8_w",
        "colab_type": "code",
        "colab": {
          "base_uri": "https://localhost:8080/",
          "height": 84
        },
        "outputId": "e61c5979-4559-419e-fe64-bed7fe69b7bf"
      },
      "source": [
        "e = np.random.random((4,4))\n",
        "print(e)"
      ],
      "execution_count": null,
      "outputs": [
        {
          "output_type": "stream",
          "text": [
            "[[0.74219418 0.31433079 0.55734528 0.2589698 ]\n",
            " [0.92092067 0.43770553 0.72237831 0.39227844]\n",
            " [0.68230168 0.11938006 0.18897331 0.68341389]\n",
            " [0.8309148  0.13299072 0.54012034 0.0516339 ]]\n"
          ],
          "name": "stdout"
        }
      ]
    },
    {
      "cell_type": "code",
      "metadata": {
        "id": "9At7QoXNgy-e",
        "colab_type": "code",
        "colab": {
          "base_uri": "https://localhost:8080/",
          "height": 84
        },
        "outputId": "a941a9c7-e6a7-4401-be77-abd9f6061a45"
      },
      "source": [
        "np.random.seed(0)\n",
        "e = np.random.random((4,4))\n",
        "print(e)"
      ],
      "execution_count": null,
      "outputs": [
        {
          "output_type": "stream",
          "text": [
            "[[0.5488135  0.71518937 0.60276338 0.54488318]\n",
            " [0.4236548  0.64589411 0.43758721 0.891773  ]\n",
            " [0.96366276 0.38344152 0.79172504 0.52889492]\n",
            " [0.56804456 0.92559664 0.07103606 0.0871293 ]]\n"
          ],
          "name": "stdout"
        }
      ]
    },
    {
      "cell_type": "code",
      "metadata": {
        "id": "X8t0JxMkg4KE",
        "colab_type": "code",
        "colab": {
          "base_uri": "https://localhost:8080/",
          "height": 84
        },
        "outputId": "c121a086-74d5-4112-9e9a-1387018e7157"
      },
      "source": [
        "np.random.seed(0)\n",
        "e = np.random.random((4,4))\n",
        "print(e)"
      ],
      "execution_count": null,
      "outputs": [
        {
          "output_type": "stream",
          "text": [
            "[[0.5488135  0.71518937 0.60276338 0.54488318]\n",
            " [0.4236548  0.64589411 0.43758721 0.891773  ]\n",
            " [0.96366276 0.38344152 0.79172504 0.52889492]\n",
            " [0.56804456 0.92559664 0.07103606 0.0871293 ]]\n"
          ],
          "name": "stdout"
        }
      ]
    },
    {
      "cell_type": "code",
      "metadata": {
        "id": "_h86-99fcnkp",
        "colab_type": "code",
        "colab": {
          "base_uri": "https://localhost:8080/",
          "height": 84
        },
        "outputId": "791ae655-3209-4368-9f4c-966943b0465e"
      },
      "source": [
        "np.random.seed(1)\n",
        "e = np.random.random((4,4))\n",
        "print(e)"
      ],
      "execution_count": null,
      "outputs": [
        {
          "output_type": "stream",
          "text": [
            "[[4.17022005e-01 7.20324493e-01 1.14374817e-04 3.02332573e-01]\n",
            " [1.46755891e-01 9.23385948e-02 1.86260211e-01 3.45560727e-01]\n",
            " [3.96767474e-01 5.38816734e-01 4.19194514e-01 6.85219500e-01]\n",
            " [2.04452250e-01 8.78117436e-01 2.73875932e-02 6.70467510e-01]]\n"
          ],
          "name": "stdout"
        }
      ]
    },
    {
      "cell_type": "code",
      "metadata": {
        "id": "Y0jHUs5qgMyJ",
        "colab_type": "code",
        "colab": {
          "base_uri": "https://localhost:8080/",
          "height": 84
        },
        "outputId": "630120df-afc6-44b5-ba6b-bd990c6da9d8"
      },
      "source": [
        "np.random.seed(1)\n",
        "e = np.random.random((4,4))\n",
        "print(e)"
      ],
      "execution_count": null,
      "outputs": [
        {
          "output_type": "stream",
          "text": [
            "[[4.17022005e-01 7.20324493e-01 1.14374817e-04 3.02332573e-01]\n",
            " [1.46755891e-01 9.23385948e-02 1.86260211e-01 3.45560727e-01]\n",
            " [3.96767474e-01 5.38816734e-01 4.19194514e-01 6.85219500e-01]\n",
            " [2.04452250e-01 8.78117436e-01 2.73875932e-02 6.70467510e-01]]\n"
          ],
          "name": "stdout"
        }
      ]
    },
    {
      "cell_type": "code",
      "metadata": {
        "id": "EzGaBA7Q-BB2",
        "colab_type": "code",
        "colab": {
          "base_uri": "https://localhost:8080/",
          "height": 34
        },
        "outputId": "82c1bf11-7f8a-4a0a-b703-6997515c36bb"
      },
      "source": [
        "# Create an array from a number range\n",
        "f = np.arange(start=1, stop=10, step=2) # Stop(excluding from range)\n",
        "print(f)"
      ],
      "execution_count": null,
      "outputs": [
        {
          "output_type": "stream",
          "text": [
            "[1 3 5 7 9]\n"
          ],
          "name": "stdout"
        }
      ]
    },
    {
      "cell_type": "markdown",
      "metadata": {
        "colab_type": "text",
        "id": "jI5qcSDfL9iC"
      },
      "source": [
        "###Array indexing"
      ]
    },
    {
      "cell_type": "markdown",
      "metadata": {
        "colab_type": "text",
        "id": "M-E4MUeVL9iC"
      },
      "source": [
        "Numpy offers several ways to index into arrays."
      ]
    },
    {
      "cell_type": "markdown",
      "metadata": {
        "colab_type": "text",
        "id": "QYv4JyIEL9iD"
      },
      "source": [
        "Slicing: Similar to Python lists, numpy arrays can be sliced. Since arrays may be multidimensional, you must specify a slice for each dimension of the array:"
      ]
    },
    {
      "cell_type": "code",
      "metadata": {
        "colab_type": "code",
        "id": "wLWA0udwL9iD",
        "colab": {
          "base_uri": "https://localhost:8080/",
          "height": 67
        },
        "outputId": "1f97cd10-c6fe-4639-bd7c-9effdd832d21"
      },
      "source": [
        "# Create the following rank 2 array with shape (3, 4)\n",
        "a = np.array([[1, 2, 3, 4], [5, 6, 7, 8], [9, 10 , 11, 12]])\n",
        "print(a)"
      ],
      "execution_count": null,
      "outputs": [
        {
          "output_type": "stream",
          "text": [
            "[[ 1  2  3  4]\n",
            " [ 5  6  7  8]\n",
            " [ 9 10 11 12]]\n"
          ],
          "name": "stdout"
        }
      ]
    },
    {
      "cell_type": "code",
      "metadata": {
        "id": "nPOE61CygXNC",
        "colab_type": "code",
        "colab": {
          "base_uri": "https://localhost:8080/",
          "height": 50
        },
        "outputId": "172faf29-79d2-4fee-8445-6f5cc1bb3432"
      },
      "source": [
        "print(a[0])\n",
        "print(a[1][1])"
      ],
      "execution_count": null,
      "outputs": [
        {
          "output_type": "stream",
          "text": [
            "[1 2 3 4]\n",
            "6\n"
          ],
          "name": "stdout"
        }
      ]
    },
    {
      "cell_type": "code",
      "metadata": {
        "id": "Ss2aqOTq0ciq",
        "colab_type": "code",
        "colab": {
          "base_uri": "https://localhost:8080/",
          "height": 50
        },
        "outputId": "76837a15-b483-40f1-c60b-25482ee8da88"
      },
      "source": [
        "# Use slicing to pull out the subarray consisting of the first 2 rows and columns 1 and 2\n",
        "# array[start_row : stop_row (exclude), start_column : stop_column(exclude)]\n",
        "a[0:2, 0:2]"
      ],
      "execution_count": null,
      "outputs": [
        {
          "output_type": "execute_result",
          "data": {
            "text/plain": [
              "array([[1, 2],\n",
              "       [5, 6]])"
            ]
          },
          "metadata": {
            "tags": []
          },
          "execution_count": 48
        }
      ]
    },
    {
      "cell_type": "code",
      "metadata": {
        "id": "Y_s1okeliyg-",
        "colab_type": "code",
        "colab": {
          "base_uri": "https://localhost:8080/",
          "height": 50
        },
        "outputId": "e9ea2122-c0c8-4d69-ee04-8e05e9646a88"
      },
      "source": [
        "a[1: , 2: ]"
      ],
      "execution_count": null,
      "outputs": [
        {
          "output_type": "execute_result",
          "data": {
            "text/plain": [
              "array([[ 7,  8],\n",
              "       [11, 12]])"
            ]
          },
          "metadata": {
            "tags": []
          },
          "execution_count": 49
        }
      ]
    },
    {
      "cell_type": "code",
      "metadata": {
        "id": "tI1SIXxrjJ8Z",
        "colab_type": "code",
        "colab": {
          "base_uri": "https://localhost:8080/",
          "height": 50
        },
        "outputId": "fec0bf61-7a79-44c2-8e57-25b3c1203f38"
      },
      "source": [
        "b = a[:2 , 1:3]\n",
        "print(b)"
      ],
      "execution_count": null,
      "outputs": [
        {
          "output_type": "stream",
          "text": [
            "[[2 3]\n",
            " [6 7]]\n"
          ],
          "name": "stdout"
        }
      ]
    },
    {
      "cell_type": "markdown",
      "metadata": {
        "colab_type": "text",
        "id": "KahhtZKYL9iF"
      },
      "source": [
        "A slice of an array is a view into the same data, so modifying it will modify the original array."
      ]
    },
    {
      "cell_type": "code",
      "metadata": {
        "colab_type": "code",
        "id": "1kmtaFHuL9iG",
        "colab": {
          "base_uri": "https://localhost:8080/",
          "height": 67
        },
        "outputId": "dac844dd-41db-4752-a06c-aba6d784ad05"
      },
      "source": [
        "print(a)"
      ],
      "execution_count": null,
      "outputs": [
        {
          "output_type": "stream",
          "text": [
            "[[ 1  2  3  4]\n",
            " [ 5  6  7  8]\n",
            " [ 9 10 11 12]]\n"
          ],
          "name": "stdout"
        }
      ]
    },
    {
      "cell_type": "code",
      "metadata": {
        "id": "ml7xr0zcjY6N",
        "colab_type": "code",
        "colab": {
          "base_uri": "https://localhost:8080/",
          "height": 34
        },
        "outputId": "cbe37ddb-4b96-4ebc-9349-f45671d8f806"
      },
      "source": [
        "print(a[0,1])"
      ],
      "execution_count": null,
      "outputs": [
        {
          "output_type": "stream",
          "text": [
            "2\n"
          ],
          "name": "stdout"
        }
      ]
    },
    {
      "cell_type": "code",
      "metadata": {
        "id": "EEqrGYLs1J8z",
        "colab_type": "code",
        "colab": {
          "base_uri": "https://localhost:8080/",
          "height": 34
        },
        "outputId": "a9a804df-aa9a-41a9-dca8-67d7fb63257c"
      },
      "source": [
        "# b[0, 0] is the same piece of data as a[0, 1]\n",
        "print(b[0, 0])"
      ],
      "execution_count": null,
      "outputs": [
        {
          "output_type": "stream",
          "text": [
            "2\n"
          ],
          "name": "stdout"
        }
      ]
    },
    {
      "cell_type": "code",
      "metadata": {
        "id": "Kz_IBbd6jkom",
        "colab_type": "code",
        "colab": {}
      },
      "source": [
        "b[0,0] = 70"
      ],
      "execution_count": null,
      "outputs": []
    },
    {
      "cell_type": "code",
      "metadata": {
        "id": "9qjCALn-1Ywy",
        "colab_type": "code",
        "colab": {
          "base_uri": "https://localhost:8080/",
          "height": 50
        },
        "outputId": "35150124-dbc9-4a80-fc5c-e2b54cbf4026"
      },
      "source": [
        "print(b)"
      ],
      "execution_count": null,
      "outputs": [
        {
          "output_type": "stream",
          "text": [
            "[[70  3]\n",
            " [ 6  7]]\n"
          ],
          "name": "stdout"
        }
      ]
    },
    {
      "cell_type": "code",
      "metadata": {
        "id": "3fY4aV3Vjq1j",
        "colab_type": "code",
        "colab": {
          "base_uri": "https://localhost:8080/",
          "height": 67
        },
        "outputId": "914ca725-6c74-48fc-efb0-c7972b5d21ab"
      },
      "source": [
        "print(a)"
      ],
      "execution_count": null,
      "outputs": [
        {
          "output_type": "stream",
          "text": [
            "[[ 1 70  3  4]\n",
            " [ 5  6  7  8]\n",
            " [ 9 10 11 12]]\n"
          ],
          "name": "stdout"
        }
      ]
    },
    {
      "cell_type": "markdown",
      "metadata": {
        "colab_type": "text",
        "id": "kaE8dBGgL9id"
      },
      "source": [
        "Boolean array indexing: Boolean array indexing lets you pick out arbitrary elements of an array. Frequently this type of indexing is used to select the elements of an array that satisfy some condition. Here is an example:"
      ]
    },
    {
      "cell_type": "code",
      "metadata": {
        "colab_type": "code",
        "id": "32PusjtKL9id",
        "colab": {
          "base_uri": "https://localhost:8080/",
          "height": 67
        },
        "outputId": "9fe35519-181e-4474-9b86-76e37506f65c"
      },
      "source": [
        "a = np.array([[1,2], [3,4], [5,6]])\n",
        "print(a)"
      ],
      "execution_count": null,
      "outputs": [
        {
          "output_type": "stream",
          "text": [
            "[[1 2]\n",
            " [3 4]\n",
            " [5 6]]\n"
          ],
          "name": "stdout"
        }
      ]
    },
    {
      "cell_type": "code",
      "metadata": {
        "id": "9OjzkuXC20kG",
        "colab_type": "code",
        "colab": {
          "base_uri": "https://localhost:8080/",
          "height": 67
        },
        "outputId": "fd241641-f3b7-4dd1-d455-a3d61f884e7b"
      },
      "source": [
        "# Find the elements of a that are bigger than 2;\n",
        "# this returns a numpy array of Booleans of the same\n",
        "# shape as a, where each slot of bool_idx tells\n",
        "# whether that element of a is > 2.\n",
        "bool_idx = (a > 2)\n",
        "print(bool_idx)"
      ],
      "execution_count": null,
      "outputs": [
        {
          "output_type": "stream",
          "text": [
            "[[False False]\n",
            " [ True  True]\n",
            " [ True  True]]\n"
          ],
          "name": "stdout"
        }
      ]
    },
    {
      "cell_type": "code",
      "metadata": {
        "colab_type": "code",
        "id": "cb2IRMXaL9if",
        "colab": {
          "base_uri": "https://localhost:8080/",
          "height": 34
        },
        "outputId": "58ef5cb3-7917-47ce-fc34-cc5b00e7561d"
      },
      "source": [
        "# We use boolean array indexing to construct a rank 1 array\n",
        "# consisting of the elements of a corresponding to the True values\n",
        "# of bool_idx\n",
        "print(a[bool_idx])"
      ],
      "execution_count": null,
      "outputs": [
        {
          "output_type": "stream",
          "text": [
            "[3 4 5 6]\n"
          ],
          "name": "stdout"
        }
      ]
    },
    {
      "cell_type": "code",
      "metadata": {
        "id": "5zimtEOp246o",
        "colab_type": "code",
        "colab": {
          "base_uri": "https://localhost:8080/",
          "height": 34
        },
        "outputId": "92643232-0127-4a70-eafa-a0cc8824da95"
      },
      "source": [
        "# We can do all of the above in a single concise statement:\n",
        "print(a[a>2])"
      ],
      "execution_count": null,
      "outputs": [
        {
          "output_type": "stream",
          "text": [
            "[3 4 5 6]\n"
          ],
          "name": "stdout"
        }
      ]
    },
    {
      "cell_type": "code",
      "metadata": {
        "id": "z9sg0IkLka0U",
        "colab_type": "code",
        "colab": {
          "base_uri": "https://localhost:8080/",
          "height": 84
        },
        "outputId": "3256c74d-802d-4e4f-da61-1b04366b8898"
      },
      "source": [
        "a = np.array([[1, 2, 3, 4], [5, 6, 7, 8], [9, 10 , 11, 12]])\n",
        "print(a.shape)\n",
        "print(a)"
      ],
      "execution_count": null,
      "outputs": [
        {
          "output_type": "stream",
          "text": [
            "(3, 4)\n",
            "[[ 1  2  3  4]\n",
            " [ 5  6  7  8]\n",
            " [ 9 10 11 12]]\n"
          ],
          "name": "stdout"
        }
      ]
    },
    {
      "cell_type": "code",
      "metadata": {
        "id": "zTyVKaSWiBOd",
        "colab_type": "code",
        "colab": {
          "base_uri": "https://localhost:8080/",
          "height": 67
        },
        "outputId": "49b73807-fdf2-48e5-f1b3-3f531ff2032a"
      },
      "source": [
        "print(a.reshape(2,6))\n",
        "print(a.reshape(2,6).shape)"
      ],
      "execution_count": null,
      "outputs": [
        {
          "output_type": "stream",
          "text": [
            "[[ 1  2  3  4  5  6]\n",
            " [ 7  8  9 10 11 12]]\n",
            "(2, 6)\n"
          ],
          "name": "stdout"
        }
      ]
    },
    {
      "cell_type": "code",
      "metadata": {
        "id": "R4hJ4a5Mki2B",
        "colab_type": "code",
        "colab": {
          "base_uri": "https://localhost:8080/",
          "height": 84
        },
        "outputId": "08a0d09f-9520-4116-af11-67c9cf87598d"
      },
      "source": [
        "print(a[a>2].reshape(4,1))"
      ],
      "execution_count": null,
      "outputs": [
        {
          "output_type": "stream",
          "text": [
            "[[3]\n",
            " [4]\n",
            " [5]\n",
            " [6]]\n"
          ],
          "name": "stdout"
        }
      ]
    },
    {
      "cell_type": "markdown",
      "metadata": {
        "colab_type": "text",
        "id": "jTctwqdQL9ih"
      },
      "source": [
        "###Datatypes"
      ]
    },
    {
      "cell_type": "markdown",
      "metadata": {
        "colab_type": "text",
        "id": "kSZQ1WkIL9ih"
      },
      "source": [
        "Every numpy array is a grid of elements of the same type. Numpy provides a large set of numeric datatypes that you can use to construct arrays. Numpy tries to guess a datatype when you create an array, but functions that construct arrays usually also include an optional argument to explicitly specify the datatype. Here is an example:"
      ]
    },
    {
      "cell_type": "code",
      "metadata": {
        "colab_type": "code",
        "id": "4za4O0m5L9ih",
        "colab": {
          "base_uri": "https://localhost:8080/",
          "height": 34
        },
        "outputId": "3de68399-a227-44ff-dbd9-5ad2a4e0d45d"
      },
      "source": [
        "x = np.array([1, 2])  # Let numpy choose the datatype\n",
        "y = np.array([1.0, 2.0])  # Let numpy choose the datatype\n",
        "z = np.array([1, 2], dtype=np.int64)  # Force a particular datatype\n",
        "\n",
        "cartao = car(\"toyota\",300,\"blue\")\n",
        "o = np.array([1, \"1\", \"1.2\", cartao])\n",
        "\n",
        "print(x.dtype, y.dtype, z.dtype, o.dtype)"
      ],
      "execution_count": null,
      "outputs": [
        {
          "output_type": "stream",
          "text": [
            "int64 float64 int64 object\n"
          ],
          "name": "stdout"
        }
      ]
    },
    {
      "cell_type": "markdown",
      "metadata": {
        "colab_type": "text",
        "id": "RLVIsZQpL9ik"
      },
      "source": [
        "You can read all about numpy datatypes in the documentation [link1](http://docs.scipy.org/doc/numpy/reference/arrays.dtypes.html) or [link2.](https://docs.scipy.org/doc/numpy-1.10.1/user/basics.types.html)"
      ]
    },
    {
      "cell_type": "markdown",
      "metadata": {
        "colab_type": "text",
        "id": "TuB-fdhIL9ik"
      },
      "source": [
        "###Array math"
      ]
    },
    {
      "cell_type": "markdown",
      "metadata": {
        "colab_type": "text",
        "id": "18e8V8elL9ik"
      },
      "source": [
        "Basic mathematical functions operate elementwise on arrays, and are available both as operator overloads and as functions in the numpy module:"
      ]
    },
    {
      "cell_type": "code",
      "metadata": {
        "colab_type": "code",
        "id": "gHKvBrSKL9il",
        "colab": {
          "base_uri": "https://localhost:8080/",
          "height": 50
        },
        "outputId": "23db16e6-ed47-4ff8-e189-cc556a08e97a"
      },
      "source": [
        "x = np.array([[3,3],[3,3]], dtype=np.float64)\n",
        "print(x)"
      ],
      "execution_count": null,
      "outputs": [
        {
          "output_type": "stream",
          "text": [
            "[[3. 3.]\n",
            " [3. 3.]]\n"
          ],
          "name": "stdout"
        }
      ]
    },
    {
      "cell_type": "code",
      "metadata": {
        "id": "UB_An4i74Pn6",
        "colab_type": "code",
        "colab": {
          "base_uri": "https://localhost:8080/",
          "height": 50
        },
        "outputId": "c8107250-107a-4959-a30b-326e83f1889b"
      },
      "source": [
        "y = np.array([[2,2],[2,2]], dtype=np.float64)\n",
        "print(y)"
      ],
      "execution_count": null,
      "outputs": [
        {
          "output_type": "stream",
          "text": [
            "[[2. 2.]\n",
            " [2. 2.]]\n"
          ],
          "name": "stdout"
        }
      ]
    },
    {
      "cell_type": "code",
      "metadata": {
        "id": "DaGLMhti4Kcs",
        "colab_type": "code",
        "colab": {
          "base_uri": "https://localhost:8080/",
          "height": 50
        },
        "outputId": "a802b2d2-8d02-4f2b-de48-a65ebbb911e5"
      },
      "source": [
        "# Elementwise sum\n",
        "print(x + y)"
      ],
      "execution_count": null,
      "outputs": [
        {
          "output_type": "stream",
          "text": [
            "[[5. 5.]\n",
            " [5. 5.]]\n"
          ],
          "name": "stdout"
        }
      ]
    },
    {
      "cell_type": "code",
      "metadata": {
        "id": "jXPx49Dq4Xct",
        "colab_type": "code",
        "colab": {
          "base_uri": "https://localhost:8080/",
          "height": 50
        },
        "outputId": "7a3278d4-aed7-4ea2-c076-3783b3f8a7dd"
      },
      "source": [
        "# Elementwise sum\n",
        "print(np.add(x, y))"
      ],
      "execution_count": null,
      "outputs": [
        {
          "output_type": "stream",
          "text": [
            "[[5. 5.]\n",
            " [5. 5.]]\n"
          ],
          "name": "stdout"
        }
      ]
    },
    {
      "cell_type": "code",
      "metadata": {
        "colab_type": "code",
        "id": "1fZtIAMxL9in",
        "colab": {
          "base_uri": "https://localhost:8080/",
          "height": 50
        },
        "outputId": "8a86c26b-67fb-40e4-beb2-818387dd820a"
      },
      "source": [
        "# Elementwise difference\n",
        "print(x-y)"
      ],
      "execution_count": null,
      "outputs": [
        {
          "output_type": "stream",
          "text": [
            "[[1. 1.]\n",
            " [1. 1.]]\n"
          ],
          "name": "stdout"
        }
      ]
    },
    {
      "cell_type": "code",
      "metadata": {
        "id": "lLnAvuBo4eMM",
        "colab_type": "code",
        "colab": {
          "base_uri": "https://localhost:8080/",
          "height": 50
        },
        "outputId": "87da3eac-c44d-4d62-e828-27ea4807d9f9"
      },
      "source": [
        "# Elementwise difference\n",
        "print(np.subtract(x, y))"
      ],
      "execution_count": null,
      "outputs": [
        {
          "output_type": "stream",
          "text": [
            "[[1. 1.]\n",
            " [1. 1.]]\n"
          ],
          "name": "stdout"
        }
      ]
    },
    {
      "cell_type": "code",
      "metadata": {
        "colab_type": "code",
        "id": "nil4AScML9io",
        "colab": {
          "base_uri": "https://localhost:8080/",
          "height": 50
        },
        "outputId": "01383cfd-0c80-4012-8ea4-6db592ddd5b9"
      },
      "source": [
        "# Elementwise product\n",
        "print(x * y)"
      ],
      "execution_count": null,
      "outputs": [
        {
          "output_type": "stream",
          "text": [
            "[[6. 6.]\n",
            " [6. 6.]]\n"
          ],
          "name": "stdout"
        }
      ]
    },
    {
      "cell_type": "code",
      "metadata": {
        "id": "fahM-1FL4kKJ",
        "colab_type": "code",
        "colab": {
          "base_uri": "https://localhost:8080/",
          "height": 50
        },
        "outputId": "cb07c2d6-48a5-4bed-9d30-4d9ce0b8569f"
      },
      "source": [
        "# Elementwise product\n",
        "print(np.multiply(x, y))"
      ],
      "execution_count": null,
      "outputs": [
        {
          "output_type": "stream",
          "text": [
            "[[6. 6.]\n",
            " [6. 6.]]\n"
          ],
          "name": "stdout"
        }
      ]
    },
    {
      "cell_type": "code",
      "metadata": {
        "colab_type": "code",
        "id": "0JoA4lH6L9ip",
        "colab": {
          "base_uri": "https://localhost:8080/",
          "height": 50
        },
        "outputId": "00eff326-d564-4ce4-dfbd-d6add71fa480"
      },
      "source": [
        "# Elementwise division\n",
        "print(x/y)"
      ],
      "execution_count": null,
      "outputs": [
        {
          "output_type": "stream",
          "text": [
            "[[1.5 1.5]\n",
            " [1.5 1.5]]\n"
          ],
          "name": "stdout"
        }
      ]
    },
    {
      "cell_type": "code",
      "metadata": {
        "id": "WsoGK09T4qAn",
        "colab_type": "code",
        "colab": {
          "base_uri": "https://localhost:8080/",
          "height": 50
        },
        "outputId": "a8b021c0-cec0-41c8-953a-ab138b5851e5"
      },
      "source": [
        "# Elementwise division\n",
        "print(np.divide(x, y))"
      ],
      "execution_count": null,
      "outputs": [
        {
          "output_type": "stream",
          "text": [
            "[[1.5 1.5]\n",
            " [1.5 1.5]]\n"
          ],
          "name": "stdout"
        }
      ]
    },
    {
      "cell_type": "markdown",
      "metadata": {
        "colab_type": "text",
        "id": "a5d_uujuL9it"
      },
      "source": [
        ""
      ]
    },
    {
      "cell_type": "code",
      "metadata": {
        "colab_type": "code",
        "id": "I3FnmoSeL9iu",
        "colab": {
          "base_uri": "https://localhost:8080/",
          "height": 50
        },
        "outputId": "3cbb4537-fc5d-452c-f3f4-6098cf84be90"
      },
      "source": [
        "v = np.array([1,2])\n",
        "w = np.array([10, 20])\n",
        "# (1*10)+(2*20)\n",
        "# Inner product of vectors; both produce \n",
        "print(np.dot(v, w))\n",
        "print(v.dot(w))"
      ],
      "execution_count": null,
      "outputs": [
        {
          "output_type": "stream",
          "text": [
            "50\n",
            "50\n"
          ],
          "name": "stdout"
        }
      ]
    },
    {
      "cell_type": "markdown",
      "metadata": {
        "colab_type": "text",
        "id": "vmxPbrHASVeA"
      },
      "source": [
        "You can also use the `@` operator which is equivalent to numpy's `dot` operator."
      ]
    },
    {
      "cell_type": "code",
      "metadata": {
        "colab_type": "code",
        "id": "3V_3NzNEL9iy",
        "colab": {
          "base_uri": "https://localhost:8080/",
          "height": 50
        },
        "outputId": "f848fba9-66af-42eb-f218-98bfa838d297"
      },
      "source": [
        "# Matrix / matrix product; both produce the rank 2 array\n",
        "x = np.array([[1,2],[3,4]])\n",
        "y = np.array([[5,6],[7,8]])\n",
        "\n",
        "print(np.dot(x, y))"
      ],
      "execution_count": null,
      "outputs": [
        {
          "output_type": "stream",
          "text": [
            "[[19 22]\n",
            " [43 50]]\n"
          ],
          "name": "stdout"
        }
      ]
    },
    {
      "cell_type": "markdown",
      "metadata": {
        "colab_type": "text",
        "id": "FbE-1If_L9i0"
      },
      "source": [
        "Numpy provides many useful functions for performing computations on arrays; one of the most useful is `sum`:"
      ]
    },
    {
      "cell_type": "code",
      "metadata": {
        "colab_type": "code",
        "id": "DZUdZvPrL9i0",
        "colab": {
          "base_uri": "https://localhost:8080/",
          "height": 50
        },
        "outputId": "677dd2e4-48f3-4507-9f37-bd0f5477d8a1"
      },
      "source": [
        "x = np.array([[1,2],[3,4]])\n",
        "print(x)"
      ],
      "execution_count": null,
      "outputs": [
        {
          "output_type": "stream",
          "text": [
            "[[1 2]\n",
            " [3 4]]\n"
          ],
          "name": "stdout"
        }
      ]
    },
    {
      "cell_type": "code",
      "metadata": {
        "id": "nqSNmvuq6HLt",
        "colab_type": "code",
        "colab": {
          "base_uri": "https://localhost:8080/",
          "height": 34
        },
        "outputId": "c09e37e8-c3fa-4d6c-94ab-1a72ccfc867b"
      },
      "source": [
        "# Compute sum of all elements\n",
        "print(x.sum())"
      ],
      "execution_count": null,
      "outputs": [
        {
          "output_type": "stream",
          "text": [
            "10\n"
          ],
          "name": "stdout"
        }
      ]
    },
    {
      "cell_type": "code",
      "metadata": {
        "id": "V4Ytlhid6LY8",
        "colab_type": "code",
        "colab": {
          "base_uri": "https://localhost:8080/",
          "height": 34
        },
        "outputId": "85ac212e-2467-430e-d70b-e6b2ca43ffe3"
      },
      "source": [
        "# Compute sum of each column\n",
        "print(x.sum(axis=0))"
      ],
      "execution_count": null,
      "outputs": [
        {
          "output_type": "stream",
          "text": [
            "[4 6]\n"
          ],
          "name": "stdout"
        }
      ]
    },
    {
      "cell_type": "code",
      "metadata": {
        "id": "LI8aicTw6VU-",
        "colab_type": "code",
        "colab": {
          "base_uri": "https://localhost:8080/",
          "height": 34
        },
        "outputId": "d93a4bb6-e414-4c97-bcc2-9080db8f88c0"
      },
      "source": [
        "# Compute sum of each row\n",
        "print(x.sum(axis=1))"
      ],
      "execution_count": null,
      "outputs": [
        {
          "output_type": "stream",
          "text": [
            "[3 7]\n"
          ],
          "name": "stdout"
        }
      ]
    },
    {
      "cell_type": "code",
      "metadata": {
        "id": "noXbNT6dn2aH",
        "colab_type": "code",
        "colab": {
          "base_uri": "https://localhost:8080/",
          "height": 34
        },
        "outputId": "deeb3d90-cb6f-4b93-c4c9-5db19239517f"
      },
      "source": [
        "print(np.sum(x, axis=1))"
      ],
      "execution_count": null,
      "outputs": [
        {
          "output_type": "stream",
          "text": [
            "[3 7]\n"
          ],
          "name": "stdout"
        }
      ]
    },
    {
      "cell_type": "code",
      "metadata": {
        "id": "SZeDQr7Cn8E9",
        "colab_type": "code",
        "colab": {
          "base_uri": "https://localhost:8080/",
          "height": 34
        },
        "outputId": "7d31adb8-0f5c-4d4b-8b85-8d5e1828b4af"
      },
      "source": [
        "print(x.mean())"
      ],
      "execution_count": null,
      "outputs": [
        {
          "output_type": "stream",
          "text": [
            "2.5\n"
          ],
          "name": "stdout"
        }
      ]
    },
    {
      "cell_type": "code",
      "metadata": {
        "id": "m4JK2WAaoCXx",
        "colab_type": "code",
        "colab": {
          "base_uri": "https://localhost:8080/",
          "height": 34
        },
        "outputId": "3da41124-e0f0-4702-a496-965ab7c04059"
      },
      "source": [
        "print(x.max())"
      ],
      "execution_count": null,
      "outputs": [
        {
          "output_type": "stream",
          "text": [
            "4\n"
          ],
          "name": "stdout"
        }
      ]
    },
    {
      "cell_type": "code",
      "metadata": {
        "id": "edqZhtOmoFYN",
        "colab_type": "code",
        "colab": {
          "base_uri": "https://localhost:8080/",
          "height": 34
        },
        "outputId": "7542885c-c0d3-41b3-fc4a-afe263274735"
      },
      "source": [
        "print(x.min())"
      ],
      "execution_count": null,
      "outputs": [
        {
          "output_type": "stream",
          "text": [
            "1\n"
          ],
          "name": "stdout"
        }
      ]
    },
    {
      "cell_type": "markdown",
      "metadata": {
        "colab_type": "text",
        "id": "iF3ZtwVNL9jQ"
      },
      "source": [
        "This brief overview has touched on many of the important things that you need to know about numpy, but is far from complete. Check out the [numpy reference](http://docs.scipy.org/doc/numpy/reference/) to find out much more about numpy."
      ]
    },
    {
      "cell_type": "markdown",
      "metadata": {
        "id": "yM-qMfGoki6m",
        "colab_type": "text"
      },
      "source": [
        "**Ex** Numpy"
      ]
    },
    {
      "cell_type": "markdown",
      "metadata": {
        "id": "fmnlEyzelhz1",
        "colab_type": "text"
      },
      "source": [
        "1. จงสร้าง numpy array ที่มีแต่เลขคู่ ที่มีค่าอยู่ในช่วง 0 - 100"
      ]
    },
    {
      "cell_type": "code",
      "metadata": {
        "id": "QR_RaSDTl733",
        "colab_type": "code",
        "colab": {
          "base_uri": "https://localhost:8080/",
          "height": 67
        },
        "outputId": "51d1a23b-8b77-4494-e63a-39af315553db"
      },
      "source": [
        "import numpy as np\n",
        "a = np.arange(start=0, stop = 101, step = 2)\n",
        "print(a)"
      ],
      "execution_count": null,
      "outputs": [
        {
          "output_type": "stream",
          "text": [
            "[  0   2   4   6   8  10  12  14  16  18  20  22  24  26  28  30  32  34\n",
            "  36  38  40  42  44  46  48  50  52  54  56  58  60  62  64  66  68  70\n",
            "  72  74  76  78  80  82  84  86  88  90  92  94  96  98 100]\n"
          ],
          "name": "stdout"
        }
      ]
    },
    {
      "cell_type": "markdown",
      "metadata": {
        "id": "5a_MCF7yl84Y",
        "colab_type": "text"
      },
      "source": [
        "2. ให้นำค่า index แรก, index กลาง, และ index สุดท้าย ของ array จากข้อที่ 1 มาบวกกัน"
      ]
    },
    {
      "cell_type": "code",
      "metadata": {
        "id": "nj2SDLiZmvJU",
        "colab_type": "code",
        "colab": {
          "base_uri": "https://localhost:8080/",
          "height": 101
        },
        "outputId": "a1f845b5-7f72-4b36-9ee2-489b946a78ff"
      },
      "source": [
        "print(a.shape)\n",
        "start_index = 0\n",
        "mid_index = int(a.shape[0]/2)\n",
        "last_index = a.shape[0]-1\n",
        "print(a[0])\n",
        "print(a[mid_index])\n",
        "print(a[last_index])\n",
        "sum = a[0] + a[mid_index] + a[last_index]\n",
        "print(sum) "
      ],
      "execution_count": null,
      "outputs": [
        {
          "output_type": "stream",
          "text": [
            "(51,)\n",
            "0\n",
            "50\n",
            "100\n",
            "150\n"
          ],
          "name": "stdout"
        }
      ]
    },
    {
      "cell_type": "markdown",
      "metadata": {
        "id": "bk6Nobs3mQFT",
        "colab_type": "text"
      },
      "source": [
        "3. จงสร้าง array ขนาด 2 มิติ ขนาด 5 x 5 โดยแต่ละค่าจะเป็นค่า random "
      ]
    },
    {
      "cell_type": "code",
      "metadata": {
        "id": "dtmiQRVgmubP",
        "colab_type": "code",
        "colab": {
          "base_uri": "https://localhost:8080/",
          "height": 185
        },
        "outputId": "918aa6c6-7adc-4df6-cd17-0494e04ece1f"
      },
      "source": [
        "np.random.seed(0)\n",
        "a = np.random.random((5,5))\n",
        "print(a)\n",
        "np.random.seed(0)\n",
        "a = np.random.rand(5,5)\n",
        "print(a)"
      ],
      "execution_count": null,
      "outputs": [
        {
          "output_type": "stream",
          "text": [
            "[[0.5488135  0.71518937 0.60276338 0.54488318 0.4236548 ]\n",
            " [0.64589411 0.43758721 0.891773   0.96366276 0.38344152]\n",
            " [0.79172504 0.52889492 0.56804456 0.92559664 0.07103606]\n",
            " [0.0871293  0.0202184  0.83261985 0.77815675 0.87001215]\n",
            " [0.97861834 0.79915856 0.46147936 0.78052918 0.11827443]]\n",
            "[[0.5488135  0.71518937 0.60276338 0.54488318 0.4236548 ]\n",
            " [0.64589411 0.43758721 0.891773   0.96366276 0.38344152]\n",
            " [0.79172504 0.52889492 0.56804456 0.92559664 0.07103606]\n",
            " [0.0871293  0.0202184  0.83261985 0.77815675 0.87001215]\n",
            " [0.97861834 0.79915856 0.46147936 0.78052918 0.11827443]]\n"
          ],
          "name": "stdout"
        }
      ]
    },
    {
      "cell_type": "markdown",
      "metadata": {
        "id": "NI8cl6AcmxKS",
        "colab_type": "text"
      },
      "source": [
        "4. จงหาค่าผมรวมของ array ที่สร้างจากข้อ 3 \n",
        "- ผลรวมของสมาชิกทั้ง array\n",
        "- ผลรวมเฉพาะแกน axis ที่ 0\n",
        "- ผลรวมเฉพาะแกน axis ที่ 1"
      ]
    },
    {
      "cell_type": "code",
      "metadata": {
        "id": "nr5dS7OInClx",
        "colab_type": "code",
        "colab": {
          "base_uri": "https://localhost:8080/",
          "height": 67
        },
        "outputId": "37d9369e-ecae-44b9-9fc0-06ea437bb589"
      },
      "source": [
        "print(np.sum(a))\n",
        "print(np.sum(a, axis=0))\n",
        "print(np.sum(a, axis=1))"
      ],
      "execution_count": null,
      "outputs": [
        {
          "output_type": "stream",
          "text": [
            "14.769156361309756\n",
            "[3.0521803  2.50104846 3.35668015 3.99282851 1.86641895]\n",
            "[2.83530423 3.3223586  2.88529722 2.58813644 3.13805987]\n"
          ],
          "name": "stdout"
        }
      ]
    },
    {
      "cell_type": "code",
      "metadata": {
        "id": "JOS5Y-5aIvqq",
        "colab_type": "code",
        "colab": {
          "base_uri": "https://localhost:8080/",
          "height": 50
        },
        "outputId": "851a4faf-5b5f-44a7-d255-f79751a764eb"
      },
      "source": [
        "sum_axis0_0 = 0.5488135+0.64589411+0.79172504+0.0871293+0.97861834\n",
        "sum_axis1_0 = 0.5488135+0.71518937+0.60276338+0.54488318+0.4236548\n",
        "print(sum_axis0_0)\n",
        "print(sum_axis1_0)"
      ],
      "execution_count": null,
      "outputs": [
        {
          "output_type": "stream",
          "text": [
            "3.0521802900000004\n",
            "2.8353042299999998\n"
          ],
          "name": "stdout"
        }
      ]
    },
    {
      "cell_type": "markdown",
      "metadata": {
        "id": "XKQ58dpvKF-C",
        "colab_type": "text"
      },
      "source": [
        "\n",
        "หน้าตาของ array แต่ละมิติ\n",
        "https://miro.medium.com/max/2000/1*Ikn1J6siiiCSk4ivYUhdgw.png\n",
        "credit: https://medium.com/datadriveninvestor/artificial-intelligence-series-part-2-numpy-walkthrough-64461f26af4f"
      ]
    },
    {
      "cell_type": "markdown",
      "metadata": {
        "id": "FgkYrotEk1If",
        "colab_type": "text"
      },
      "source": [
        "#4. Pandas"
      ]
    },
    {
      "cell_type": "code",
      "metadata": {
        "id": "T7ZOQ0ejk_Wj",
        "colab_type": "code",
        "colab": {}
      },
      "source": [
        "import pandas as pd"
      ],
      "execution_count": 141,
      "outputs": []
    },
    {
      "cell_type": "markdown",
      "metadata": {
        "id": "IFmXZWLSlims",
        "colab_type": "text"
      },
      "source": [
        "### Load data\n"
      ]
    },
    {
      "cell_type": "code",
      "metadata": {
        "id": "f1bG7hYnl9Hi",
        "colab_type": "code",
        "colab": {
          "base_uri": "https://localhost:8080/",
          "height": 85
        },
        "outputId": "7c20b86e-9512-4fc2-844f-6144f5a88f4e"
      },
      "source": [
        "!gdown --id 1tltwco2WkDMXnyhmUOz5FDG0P7X42VbF"
      ],
      "execution_count": 142,
      "outputs": [
        {
          "output_type": "stream",
          "text": [
            "Downloading...\n",
            "From: https://drive.google.com/uc?id=1tltwco2WkDMXnyhmUOz5FDG0P7X42VbF\n",
            "To: /content/DigiDB_digimonlist.csv\n",
            "\r  0% 0.00/15.5k [00:00<?, ?B/s]\r100% 15.5k/15.5k [00:00<00:00, 27.9MB/s]\n"
          ],
          "name": "stdout"
        }
      ]
    },
    {
      "cell_type": "code",
      "metadata": {
        "id": "r14AbcIvmDOV",
        "colab_type": "code",
        "colab": {}
      },
      "source": [
        "# read csv\n",
        "df = pd.read_csv('DigiDB_digimonlist.csv')"
      ],
      "execution_count": 143,
      "outputs": []
    },
    {
      "cell_type": "code",
      "metadata": {
        "id": "pQ51by93mEjP",
        "colab_type": "code",
        "colab": {
          "base_uri": "https://localhost:8080/",
          "height": 34
        },
        "outputId": "ab7762b3-3b12-4077-8b9f-704fa32079a3"
      },
      "source": [
        "type(df)"
      ],
      "execution_count": 145,
      "outputs": [
        {
          "output_type": "execute_result",
          "data": {
            "text/plain": [
              "pandas.core.frame.DataFrame"
            ]
          },
          "metadata": {
            "tags": []
          },
          "execution_count": 145
        }
      ]
    },
    {
      "cell_type": "code",
      "metadata": {
        "id": "ZudJ0GHYmFeW",
        "colab_type": "code",
        "colab": {
          "base_uri": "https://localhost:8080/",
          "height": 159
        },
        "outputId": "90018e38-7228-47b6-aae7-81c88a9d7c9c"
      },
      "source": [
        "df.head(3)"
      ],
      "execution_count": 144,
      "outputs": [
        {
          "output_type": "execute_result",
          "data": {
            "text/html": [
              "<div>\n",
              "<style scoped>\n",
              "    .dataframe tbody tr th:only-of-type {\n",
              "        vertical-align: middle;\n",
              "    }\n",
              "\n",
              "    .dataframe tbody tr th {\n",
              "        vertical-align: top;\n",
              "    }\n",
              "\n",
              "    .dataframe thead th {\n",
              "        text-align: right;\n",
              "    }\n",
              "</style>\n",
              "<table border=\"1\" class=\"dataframe\">\n",
              "  <thead>\n",
              "    <tr style=\"text-align: right;\">\n",
              "      <th></th>\n",
              "      <th>Number</th>\n",
              "      <th>Digimon</th>\n",
              "      <th>Stage</th>\n",
              "      <th>Type</th>\n",
              "      <th>Attribute</th>\n",
              "      <th>Memory</th>\n",
              "      <th>Equip Slots</th>\n",
              "      <th>Lv 50 HP</th>\n",
              "      <th>Lv50 SP</th>\n",
              "      <th>Lv50 Atk</th>\n",
              "      <th>Lv50 Def</th>\n",
              "      <th>Lv50 Int</th>\n",
              "      <th>Lv50 Spd</th>\n",
              "    </tr>\n",
              "  </thead>\n",
              "  <tbody>\n",
              "    <tr>\n",
              "      <th>0</th>\n",
              "      <td>1</td>\n",
              "      <td>Kuramon</td>\n",
              "      <td>Baby</td>\n",
              "      <td>Free</td>\n",
              "      <td>Neutral</td>\n",
              "      <td>2</td>\n",
              "      <td>0</td>\n",
              "      <td>590.0</td>\n",
              "      <td>77</td>\n",
              "      <td>79</td>\n",
              "      <td>69</td>\n",
              "      <td>68</td>\n",
              "      <td>95</td>\n",
              "    </tr>\n",
              "    <tr>\n",
              "      <th>1</th>\n",
              "      <td>2</td>\n",
              "      <td>Pabumon</td>\n",
              "      <td>Baby</td>\n",
              "      <td>Free</td>\n",
              "      <td>Neutral</td>\n",
              "      <td>2</td>\n",
              "      <td>0</td>\n",
              "      <td>950.0</td>\n",
              "      <td>62</td>\n",
              "      <td>76</td>\n",
              "      <td>76</td>\n",
              "      <td>69</td>\n",
              "      <td>68</td>\n",
              "    </tr>\n",
              "    <tr>\n",
              "      <th>2</th>\n",
              "      <td>3</td>\n",
              "      <td>Punimon</td>\n",
              "      <td>Baby</td>\n",
              "      <td>Free</td>\n",
              "      <td>Neutral</td>\n",
              "      <td>2</td>\n",
              "      <td>0</td>\n",
              "      <td>870.0</td>\n",
              "      <td>50</td>\n",
              "      <td>97</td>\n",
              "      <td>87</td>\n",
              "      <td>50</td>\n",
              "      <td>75</td>\n",
              "    </tr>\n",
              "  </tbody>\n",
              "</table>\n",
              "</div>"
            ],
            "text/plain": [
              "   Number  Digimon Stage  Type  ... Lv50 Atk  Lv50 Def  Lv50 Int  Lv50 Spd\n",
              "0       1  Kuramon  Baby  Free  ...       79        69        68        95\n",
              "1       2  Pabumon  Baby  Free  ...       76        76        69        68\n",
              "2       3  Punimon  Baby  Free  ...       97        87        50        75\n",
              "\n",
              "[3 rows x 13 columns]"
            ]
          },
          "metadata": {
            "tags": []
          },
          "execution_count": 144
        }
      ]
    },
    {
      "cell_type": "code",
      "metadata": {
        "id": "sM-QrNbXmHoo",
        "colab_type": "code",
        "colab": {
          "base_uri": "https://localhost:8080/",
          "height": 224
        },
        "outputId": "47dd2d45-3b19-41f1-bb61-fc63a414bbea"
      },
      "source": [
        "df.tail(4)"
      ],
      "execution_count": 146,
      "outputs": [
        {
          "output_type": "execute_result",
          "data": {
            "text/html": [
              "<div>\n",
              "<style scoped>\n",
              "    .dataframe tbody tr th:only-of-type {\n",
              "        vertical-align: middle;\n",
              "    }\n",
              "\n",
              "    .dataframe tbody tr th {\n",
              "        vertical-align: top;\n",
              "    }\n",
              "\n",
              "    .dataframe thead th {\n",
              "        text-align: right;\n",
              "    }\n",
              "</style>\n",
              "<table border=\"1\" class=\"dataframe\">\n",
              "  <thead>\n",
              "    <tr style=\"text-align: right;\">\n",
              "      <th></th>\n",
              "      <th>Number</th>\n",
              "      <th>Digimon</th>\n",
              "      <th>Stage</th>\n",
              "      <th>Type</th>\n",
              "      <th>Attribute</th>\n",
              "      <th>Memory</th>\n",
              "      <th>Equip Slots</th>\n",
              "      <th>Lv 50 HP</th>\n",
              "      <th>Lv50 SP</th>\n",
              "      <th>Lv50 Atk</th>\n",
              "      <th>Lv50 Def</th>\n",
              "      <th>Lv50 Int</th>\n",
              "      <th>Lv50 Spd</th>\n",
              "    </tr>\n",
              "  </thead>\n",
              "  <tbody>\n",
              "    <tr>\n",
              "      <th>245</th>\n",
              "      <td>246</td>\n",
              "      <td>ShineGreymon BM</td>\n",
              "      <td>Mega</td>\n",
              "      <td>Vaccine</td>\n",
              "      <td>Fire</td>\n",
              "      <td>22</td>\n",
              "      <td>2</td>\n",
              "      <td>1980.0</td>\n",
              "      <td>114</td>\n",
              "      <td>228</td>\n",
              "      <td>104</td>\n",
              "      <td>84</td>\n",
              "      <td>168</td>\n",
              "    </tr>\n",
              "    <tr>\n",
              "      <th>246</th>\n",
              "      <td>247</td>\n",
              "      <td>MirageGaogamon BM</td>\n",
              "      <td>Mega</td>\n",
              "      <td>Data</td>\n",
              "      <td>Light</td>\n",
              "      <td>20</td>\n",
              "      <td>2</td>\n",
              "      <td>1440.0</td>\n",
              "      <td>124</td>\n",
              "      <td>178</td>\n",
              "      <td>104</td>\n",
              "      <td>158</td>\n",
              "      <td>174</td>\n",
              "    </tr>\n",
              "    <tr>\n",
              "      <th>247</th>\n",
              "      <td>248</td>\n",
              "      <td>Ravemon BM</td>\n",
              "      <td>Mega</td>\n",
              "      <td>Vaccine</td>\n",
              "      <td>Wind</td>\n",
              "      <td>20</td>\n",
              "      <td>2</td>\n",
              "      <td>1040.0</td>\n",
              "      <td>133</td>\n",
              "      <td>149</td>\n",
              "      <td>139</td>\n",
              "      <td>144</td>\n",
              "      <td>213</td>\n",
              "    </tr>\n",
              "    <tr>\n",
              "      <th>248</th>\n",
              "      <td>249</td>\n",
              "      <td>Rosemon BM</td>\n",
              "      <td>Mega</td>\n",
              "      <td>Data</td>\n",
              "      <td>Plant</td>\n",
              "      <td>20</td>\n",
              "      <td>2</td>\n",
              "      <td>1480.0</td>\n",
              "      <td>143</td>\n",
              "      <td>149</td>\n",
              "      <td>139</td>\n",
              "      <td>159</td>\n",
              "      <td>143</td>\n",
              "    </tr>\n",
              "  </tbody>\n",
              "</table>\n",
              "</div>"
            ],
            "text/plain": [
              "     Number            Digimon Stage  ... Lv50 Def Lv50 Int  Lv50 Spd\n",
              "245     246    ShineGreymon BM  Mega  ...      104       84       168\n",
              "246     247  MirageGaogamon BM  Mega  ...      104      158       174\n",
              "247     248         Ravemon BM  Mega  ...      139      144       213\n",
              "248     249         Rosemon BM  Mega  ...      139      159       143\n",
              "\n",
              "[4 rows x 13 columns]"
            ]
          },
          "metadata": {
            "tags": []
          },
          "execution_count": 146
        }
      ]
    },
    {
      "cell_type": "code",
      "metadata": {
        "id": "nIglSQ88mItO",
        "colab_type": "code",
        "colab": {
          "base_uri": "https://localhost:8080/",
          "height": 238
        },
        "outputId": "1b51a665-bc8d-4f87-a987-8978e1ad2699"
      },
      "source": [
        "# sampling of five rows\n",
        "\n",
        "df.sample(5)"
      ],
      "execution_count": 147,
      "outputs": [
        {
          "output_type": "execute_result",
          "data": {
            "text/html": [
              "<div>\n",
              "<style scoped>\n",
              "    .dataframe tbody tr th:only-of-type {\n",
              "        vertical-align: middle;\n",
              "    }\n",
              "\n",
              "    .dataframe tbody tr th {\n",
              "        vertical-align: top;\n",
              "    }\n",
              "\n",
              "    .dataframe thead th {\n",
              "        text-align: right;\n",
              "    }\n",
              "</style>\n",
              "<table border=\"1\" class=\"dataframe\">\n",
              "  <thead>\n",
              "    <tr style=\"text-align: right;\">\n",
              "      <th></th>\n",
              "      <th>Number</th>\n",
              "      <th>Digimon</th>\n",
              "      <th>Stage</th>\n",
              "      <th>Type</th>\n",
              "      <th>Attribute</th>\n",
              "      <th>Memory</th>\n",
              "      <th>Equip Slots</th>\n",
              "      <th>Lv 50 HP</th>\n",
              "      <th>Lv50 SP</th>\n",
              "      <th>Lv50 Atk</th>\n",
              "      <th>Lv50 Def</th>\n",
              "      <th>Lv50 Int</th>\n",
              "      <th>Lv50 Spd</th>\n",
              "    </tr>\n",
              "  </thead>\n",
              "  <tbody>\n",
              "    <tr>\n",
              "      <th>10</th>\n",
              "      <td>11</td>\n",
              "      <td>Nyaromon</td>\n",
              "      <td>In-Training</td>\n",
              "      <td>Free</td>\n",
              "      <td>Light</td>\n",
              "      <td>3</td>\n",
              "      <td>0</td>\n",
              "      <td>540.0</td>\n",
              "      <td>107</td>\n",
              "      <td>54</td>\n",
              "      <td>64</td>\n",
              "      <td>103</td>\n",
              "      <td>94</td>\n",
              "    </tr>\n",
              "    <tr>\n",
              "      <th>208</th>\n",
              "      <td>209</td>\n",
              "      <td>PrinceMamemon</td>\n",
              "      <td>Mega</td>\n",
              "      <td>Data</td>\n",
              "      <td>Neutral</td>\n",
              "      <td>16</td>\n",
              "      <td>3</td>\n",
              "      <td>1630.0</td>\n",
              "      <td>137</td>\n",
              "      <td>104</td>\n",
              "      <td>173</td>\n",
              "      <td>109</td>\n",
              "      <td>130</td>\n",
              "    </tr>\n",
              "    <tr>\n",
              "      <th>142</th>\n",
              "      <td>143</td>\n",
              "      <td>BlueMeramon</td>\n",
              "      <td>Ultimate</td>\n",
              "      <td>Virus</td>\n",
              "      <td>Fire</td>\n",
              "      <td>12</td>\n",
              "      <td>2</td>\n",
              "      <td>1140.0</td>\n",
              "      <td>109</td>\n",
              "      <td>148</td>\n",
              "      <td>94</td>\n",
              "      <td>133</td>\n",
              "      <td>119</td>\n",
              "    </tr>\n",
              "    <tr>\n",
              "      <th>157</th>\n",
              "      <td>158</td>\n",
              "      <td>RizeGreymon</td>\n",
              "      <td>Ultimate</td>\n",
              "      <td>Vaccine</td>\n",
              "      <td>Fire</td>\n",
              "      <td>14</td>\n",
              "      <td>1</td>\n",
              "      <td>1530.0</td>\n",
              "      <td>94</td>\n",
              "      <td>178</td>\n",
              "      <td>109</td>\n",
              "      <td>69</td>\n",
              "      <td>143</td>\n",
              "    </tr>\n",
              "    <tr>\n",
              "      <th>213</th>\n",
              "      <td>214</td>\n",
              "      <td>Hououmon</td>\n",
              "      <td>Mega</td>\n",
              "      <td>Vaccine</td>\n",
              "      <td>Fire</td>\n",
              "      <td>18</td>\n",
              "      <td>3</td>\n",
              "      <td>1390.0</td>\n",
              "      <td>173</td>\n",
              "      <td>84</td>\n",
              "      <td>99</td>\n",
              "      <td>193</td>\n",
              "      <td>158</td>\n",
              "    </tr>\n",
              "  </tbody>\n",
              "</table>\n",
              "</div>"
            ],
            "text/plain": [
              "     Number        Digimon        Stage  ... Lv50 Def Lv50 Int  Lv50 Spd\n",
              "10       11       Nyaromon  In-Training  ...       64      103        94\n",
              "208     209  PrinceMamemon         Mega  ...      173      109       130\n",
              "142     143    BlueMeramon     Ultimate  ...       94      133       119\n",
              "157     158    RizeGreymon     Ultimate  ...      109       69       143\n",
              "213     214       Hououmon         Mega  ...       99      193       158\n",
              "\n",
              "[5 rows x 13 columns]"
            ]
          },
          "metadata": {
            "tags": []
          },
          "execution_count": 147
        }
      ]
    },
    {
      "cell_type": "code",
      "metadata": {
        "id": "o4jwuMqYmKC8",
        "colab_type": "code",
        "colab": {
          "base_uri": "https://localhost:8080/",
          "height": 85
        },
        "outputId": "3dc9d825-3b0e-4d32-c271-0bba3abfa717"
      },
      "source": [
        "# column names\n",
        "\n",
        "df.columns"
      ],
      "execution_count": 148,
      "outputs": [
        {
          "output_type": "execute_result",
          "data": {
            "text/plain": [
              "Index(['Number', 'Digimon', 'Stage', 'Type', 'Attribute', 'Memory',\n",
              "       'Equip Slots', 'Lv 50 HP', 'Lv50 SP', 'Lv50 Atk', 'Lv50 Def',\n",
              "       'Lv50 Int', 'Lv50 Spd'],\n",
              "      dtype='object')"
            ]
          },
          "metadata": {
            "tags": []
          },
          "execution_count": 148
        }
      ]
    },
    {
      "cell_type": "code",
      "metadata": {
        "id": "VCKdjTsYw6Zm",
        "colab_type": "code",
        "colab": {
          "base_uri": "https://localhost:8080/",
          "height": 419
        },
        "outputId": "188ecdd4-b521-4527-a7a7-4b0f2be44447"
      },
      "source": [
        "# grab specific columns\n",
        "# grab two column is LIST WITHIN LIST [[]]\n",
        "# grab one column is just list\n",
        "\n",
        "df[['Digimon', 'Type']]"
      ],
      "execution_count": 151,
      "outputs": [
        {
          "output_type": "execute_result",
          "data": {
            "text/html": [
              "<div>\n",
              "<style scoped>\n",
              "    .dataframe tbody tr th:only-of-type {\n",
              "        vertical-align: middle;\n",
              "    }\n",
              "\n",
              "    .dataframe tbody tr th {\n",
              "        vertical-align: top;\n",
              "    }\n",
              "\n",
              "    .dataframe thead th {\n",
              "        text-align: right;\n",
              "    }\n",
              "</style>\n",
              "<table border=\"1\" class=\"dataframe\">\n",
              "  <thead>\n",
              "    <tr style=\"text-align: right;\">\n",
              "      <th></th>\n",
              "      <th>Digimon</th>\n",
              "      <th>Type</th>\n",
              "    </tr>\n",
              "  </thead>\n",
              "  <tbody>\n",
              "    <tr>\n",
              "      <th>0</th>\n",
              "      <td>Kuramon</td>\n",
              "      <td>Free</td>\n",
              "    </tr>\n",
              "    <tr>\n",
              "      <th>1</th>\n",
              "      <td>Pabumon</td>\n",
              "      <td>Free</td>\n",
              "    </tr>\n",
              "    <tr>\n",
              "      <th>2</th>\n",
              "      <td>Punimon</td>\n",
              "      <td>Free</td>\n",
              "    </tr>\n",
              "    <tr>\n",
              "      <th>3</th>\n",
              "      <td>Botamon</td>\n",
              "      <td>Free</td>\n",
              "    </tr>\n",
              "    <tr>\n",
              "      <th>4</th>\n",
              "      <td>Poyomon</td>\n",
              "      <td>Free</td>\n",
              "    </tr>\n",
              "    <tr>\n",
              "      <th>...</th>\n",
              "      <td>...</td>\n",
              "      <td>...</td>\n",
              "    </tr>\n",
              "    <tr>\n",
              "      <th>244</th>\n",
              "      <td>Valkyrimon</td>\n",
              "      <td>Free</td>\n",
              "    </tr>\n",
              "    <tr>\n",
              "      <th>245</th>\n",
              "      <td>ShineGreymon BM</td>\n",
              "      <td>Vaccine</td>\n",
              "    </tr>\n",
              "    <tr>\n",
              "      <th>246</th>\n",
              "      <td>MirageGaogamon BM</td>\n",
              "      <td>Data</td>\n",
              "    </tr>\n",
              "    <tr>\n",
              "      <th>247</th>\n",
              "      <td>Ravemon BM</td>\n",
              "      <td>Vaccine</td>\n",
              "    </tr>\n",
              "    <tr>\n",
              "      <th>248</th>\n",
              "      <td>Rosemon BM</td>\n",
              "      <td>Data</td>\n",
              "    </tr>\n",
              "  </tbody>\n",
              "</table>\n",
              "<p>249 rows × 2 columns</p>\n",
              "</div>"
            ],
            "text/plain": [
              "               Digimon     Type\n",
              "0              Kuramon     Free\n",
              "1              Pabumon     Free\n",
              "2              Punimon     Free\n",
              "3              Botamon     Free\n",
              "4              Poyomon     Free\n",
              "..                 ...      ...\n",
              "244         Valkyrimon     Free\n",
              "245    ShineGreymon BM  Vaccine\n",
              "246  MirageGaogamon BM     Data\n",
              "247         Ravemon BM  Vaccine\n",
              "248         Rosemon BM     Data\n",
              "\n",
              "[249 rows x 2 columns]"
            ]
          },
          "metadata": {
            "tags": []
          },
          "execution_count": 151
        }
      ]
    },
    {
      "cell_type": "markdown",
      "metadata": {
        "id": "fKLlLp86mKkh",
        "colab_type": "text"
      },
      "source": [
        "### Count NA/NaN values in each column\n"
      ]
    },
    {
      "cell_type": "code",
      "metadata": {
        "id": "WJDFwzZHmOlV",
        "colab_type": "code",
        "colab": {
          "base_uri": "https://localhost:8080/",
          "height": 255
        },
        "outputId": "2834f722-0b65-4b04-fa4e-ca1d27a012d4"
      },
      "source": [
        "# Find ALL missing values in all Columns\n",
        "\n",
        "df.isna().sum()"
      ],
      "execution_count": 152,
      "outputs": [
        {
          "output_type": "execute_result",
          "data": {
            "text/plain": [
              "Number         0\n",
              "Digimon        0\n",
              "Stage          3\n",
              "Type           4\n",
              "Attribute      0\n",
              "Memory         0\n",
              "Equip Slots    0\n",
              "Lv 50 HP       4\n",
              "Lv50 SP        0\n",
              "Lv50 Atk       0\n",
              "Lv50 Def       0\n",
              "Lv50 Int       0\n",
              "Lv50 Spd       0\n",
              "dtype: int64"
            ]
          },
          "metadata": {
            "tags": []
          },
          "execution_count": 152
        }
      ]
    },
    {
      "cell_type": "markdown",
      "metadata": {
        "id": "JUQ98NWqmRQd",
        "colab_type": "text"
      },
      "source": [
        "###Fill missing values with mode\n"
      ]
    },
    {
      "cell_type": "code",
      "metadata": {
        "id": "i1tFzpQYmTfA",
        "colab_type": "code",
        "colab": {
          "base_uri": "https://localhost:8080/",
          "height": 102
        },
        "outputId": "a091c7aa-19af-4b89-ee52-f9845e24c795"
      },
      "source": [
        "# similar to group_by 'Type', then tally\n",
        "df['Type'].value_counts()"
      ],
      "execution_count": 153,
      "outputs": [
        {
          "output_type": "execute_result",
          "data": {
            "text/plain": [
              "Virus      82\n",
              "Vaccine    69\n",
              "Data       60\n",
              "Free       34\n",
              "Name: Type, dtype: int64"
            ]
          },
          "metadata": {
            "tags": []
          },
          "execution_count": 153
        }
      ]
    },
    {
      "cell_type": "code",
      "metadata": {
        "id": "oHiFSBkkmUlX",
        "colab_type": "code",
        "colab": {
          "base_uri": "https://localhost:8080/",
          "height": 35
        },
        "outputId": "4122b549-0683-4ce4-ce9a-c45b0a50e1cc"
      },
      "source": [
        "# which subgroup has the most rows\n",
        "df['Type'].mode()[0]"
      ],
      "execution_count": 157,
      "outputs": [
        {
          "output_type": "execute_result",
          "data": {
            "application/vnd.google.colaboratory.intrinsic+json": {
              "type": "string"
            },
            "text/plain": [
              "'Virus'"
            ]
          },
          "metadata": {
            "tags": []
          },
          "execution_count": 157
        }
      ]
    },
    {
      "cell_type": "code",
      "metadata": {
        "id": "IvWYtKwemVgD",
        "colab_type": "code",
        "colab": {
          "base_uri": "https://localhost:8080/",
          "height": 102
        },
        "outputId": "9c115742-897d-405e-f00a-a5ad6d716552"
      },
      "source": [
        "df['Type'].fillna('Error').value_counts()"
      ],
      "execution_count": 156,
      "outputs": [
        {
          "output_type": "execute_result",
          "data": {
            "text/plain": [
              "Virus      86\n",
              "Vaccine    69\n",
              "Data       60\n",
              "Free       34\n",
              "Name: Type, dtype: int64"
            ]
          },
          "metadata": {
            "tags": []
          },
          "execution_count": 156
        }
      ]
    },
    {
      "cell_type": "code",
      "metadata": {
        "id": "nTFOHmQemXEs",
        "colab_type": "code",
        "colab": {
          "base_uri": "https://localhost:8080/",
          "height": 85
        },
        "outputId": "95c7b88b-f22e-40d6-bc62-ca8f14525ce1"
      },
      "source": [
        "df.columns"
      ],
      "execution_count": 155,
      "outputs": [
        {
          "output_type": "execute_result",
          "data": {
            "text/plain": [
              "Index(['Number', 'Digimon', 'Stage', 'Type', 'Attribute', 'Memory',\n",
              "       'Equip Slots', 'Lv 50 HP', 'Lv50 SP', 'Lv50 Atk', 'Lv50 Def',\n",
              "       'Lv50 Int', 'Lv50 Spd'],\n",
              "      dtype='object')"
            ]
          },
          "metadata": {
            "tags": []
          },
          "execution_count": 155
        }
      ]
    },
    {
      "cell_type": "code",
      "metadata": {
        "id": "zZXMptLMmY0F",
        "colab_type": "code",
        "colab": {}
      },
      "source": [
        "for col in df.columns:\n",
        "  col_mode = df[col].mode()[0]\n",
        "  # print(col, col_mode)\n",
        "  df[col] = df[col].fillna(col_mode)"
      ],
      "execution_count": 154,
      "outputs": []
    },
    {
      "cell_type": "code",
      "metadata": {
        "id": "nTfQj_QBmaBc",
        "colab_type": "code",
        "colab": {}
      },
      "source": [
        "df.isna().sum()"
      ],
      "execution_count": null,
      "outputs": []
    },
    {
      "cell_type": "markdown",
      "metadata": {
        "id": "fJUHXyTAmbvK",
        "colab_type": "text"
      },
      "source": [
        "###Show descriptive or summary statistics\n"
      ]
    },
    {
      "cell_type": "code",
      "metadata": {
        "id": "M-oILH8imda7",
        "colab_type": "code",
        "colab": {}
      },
      "source": [
        "df.describe()"
      ],
      "execution_count": null,
      "outputs": []
    },
    {
      "cell_type": "markdown",
      "metadata": {
        "id": "dFaUp-Dfmf4F",
        "colab_type": "text"
      },
      "source": [
        "###Count the number of digimon\n"
      ]
    },
    {
      "cell_type": "code",
      "metadata": {
        "id": "TAWDgoSUmhW8",
        "colab_type": "code",
        "colab": {}
      },
      "source": [
        "df['Stage'].value_counts()"
      ],
      "execution_count": null,
      "outputs": []
    },
    {
      "cell_type": "code",
      "metadata": {
        "id": "lYeonHqHmh3w",
        "colab_type": "code",
        "colab": {}
      },
      "source": [
        "df.Stage.value_counts()"
      ],
      "execution_count": null,
      "outputs": []
    },
    {
      "cell_type": "markdown",
      "metadata": {
        "id": "k4BPlD-tmlCI",
        "colab_type": "text"
      },
      "source": [
        "###Show average digimon's status\n"
      ]
    },
    {
      "cell_type": "code",
      "metadata": {
        "id": "rLr8G8NpmnbB",
        "colab_type": "code",
        "colab": {
          "base_uri": "https://localhost:8080/",
          "height": 204
        },
        "outputId": "99aa0e14-f2e8-4219-9f12-7d8031644a42"
      },
      "source": [
        "# group by 'Type' and find average values for all other columns\n",
        "\n",
        "df.groupby(by='Type').mean()"
      ],
      "execution_count": 158,
      "outputs": [
        {
          "output_type": "execute_result",
          "data": {
            "text/html": [
              "<div>\n",
              "<style scoped>\n",
              "    .dataframe tbody tr th:only-of-type {\n",
              "        vertical-align: middle;\n",
              "    }\n",
              "\n",
              "    .dataframe tbody tr th {\n",
              "        vertical-align: top;\n",
              "    }\n",
              "\n",
              "    .dataframe thead th {\n",
              "        text-align: right;\n",
              "    }\n",
              "</style>\n",
              "<table border=\"1\" class=\"dataframe\">\n",
              "  <thead>\n",
              "    <tr style=\"text-align: right;\">\n",
              "      <th></th>\n",
              "      <th>Number</th>\n",
              "      <th>Memory</th>\n",
              "      <th>Equip Slots</th>\n",
              "      <th>Lv 50 HP</th>\n",
              "      <th>Lv50 SP</th>\n",
              "      <th>Lv50 Atk</th>\n",
              "      <th>Lv50 Def</th>\n",
              "      <th>Lv50 Int</th>\n",
              "      <th>Lv50 Spd</th>\n",
              "    </tr>\n",
              "    <tr>\n",
              "      <th>Type</th>\n",
              "      <th></th>\n",
              "      <th></th>\n",
              "      <th></th>\n",
              "      <th></th>\n",
              "      <th></th>\n",
              "      <th></th>\n",
              "      <th></th>\n",
              "      <th></th>\n",
              "      <th></th>\n",
              "    </tr>\n",
              "  </thead>\n",
              "  <tbody>\n",
              "    <tr>\n",
              "      <th>Data</th>\n",
              "      <td>132.550000</td>\n",
              "      <td>12.166667</td>\n",
              "      <td>1.850000</td>\n",
              "      <td>1198.833333</td>\n",
              "      <td>113.600000</td>\n",
              "      <td>120.366667</td>\n",
              "      <td>117.150000</td>\n",
              "      <td>118.966667</td>\n",
              "      <td>124.716667</td>\n",
              "    </tr>\n",
              "    <tr>\n",
              "      <th>Free</th>\n",
              "      <td>73.970588</td>\n",
              "      <td>8.058824</td>\n",
              "      <td>0.882353</td>\n",
              "      <td>1068.235294</td>\n",
              "      <td>92.882353</td>\n",
              "      <td>114.000000</td>\n",
              "      <td>96.764706</td>\n",
              "      <td>87.323529</td>\n",
              "      <td>108.058824</td>\n",
              "    </tr>\n",
              "    <tr>\n",
              "      <th>Vaccine</th>\n",
              "      <td>137.246377</td>\n",
              "      <td>13.449275</td>\n",
              "      <td>1.579710</td>\n",
              "      <td>1241.594203</td>\n",
              "      <td>115.521739</td>\n",
              "      <td>128.521739</td>\n",
              "      <td>120.275362</td>\n",
              "      <td>118.289855</td>\n",
              "      <td>128.840580</td>\n",
              "    </tr>\n",
              "    <tr>\n",
              "      <th>Virus</th>\n",
              "      <td>130.081395</td>\n",
              "      <td>12.244186</td>\n",
              "      <td>1.651163</td>\n",
              "      <td>1276.744186</td>\n",
              "      <td>109.186047</td>\n",
              "      <td>128.360465</td>\n",
              "      <td>120.465116</td>\n",
              "      <td>113.697674</td>\n",
              "      <td>115.500000</td>\n",
              "    </tr>\n",
              "  </tbody>\n",
              "</table>\n",
              "</div>"
            ],
            "text/plain": [
              "             Number     Memory  Equip Slots  ...    Lv50 Def    Lv50 Int    Lv50 Spd\n",
              "Type                                         ...                                    \n",
              "Data     132.550000  12.166667     1.850000  ...  117.150000  118.966667  124.716667\n",
              "Free      73.970588   8.058824     0.882353  ...   96.764706   87.323529  108.058824\n",
              "Vaccine  137.246377  13.449275     1.579710  ...  120.275362  118.289855  128.840580\n",
              "Virus    130.081395  12.244186     1.651163  ...  120.465116  113.697674  115.500000\n",
              "\n",
              "[4 rows x 9 columns]"
            ]
          },
          "metadata": {
            "tags": []
          },
          "execution_count": 158
        }
      ]
    },
    {
      "cell_type": "code",
      "metadata": {
        "id": "DURg6GvMmosM",
        "colab_type": "code",
        "colab": {}
      },
      "source": [
        "df.groupby(by='Type').max()"
      ],
      "execution_count": null,
      "outputs": []
    },
    {
      "cell_type": "code",
      "metadata": {
        "id": "yTqprEqrmpyO",
        "colab_type": "code",
        "colab": {}
      },
      "source": [
        "df.groupby(by='Type').agg(['mean', 'min', 'max'])"
      ],
      "execution_count": null,
      "outputs": []
    },
    {
      "cell_type": "markdown",
      "metadata": {
        "id": "V7gly28Hmq6Q",
        "colab_type": "text"
      },
      "source": [
        "###Sort the dataframe by HP\n"
      ]
    },
    {
      "cell_type": "code",
      "metadata": {
        "id": "wlSWQ-aSmu3Y",
        "colab_type": "code",
        "colab": {
          "base_uri": "https://localhost:8080/",
          "height": 238
        },
        "outputId": "b584958e-b9af-4dc3-da1a-69d42c48b38a"
      },
      "source": [
        "# sort by one column\n",
        "\n",
        "df.sort_values(by='Lv 50 HP', ascending=False).head()"
      ],
      "execution_count": 159,
      "outputs": [
        {
          "output_type": "execute_result",
          "data": {
            "text/html": [
              "<div>\n",
              "<style scoped>\n",
              "    .dataframe tbody tr th:only-of-type {\n",
              "        vertical-align: middle;\n",
              "    }\n",
              "\n",
              "    .dataframe tbody tr th {\n",
              "        vertical-align: top;\n",
              "    }\n",
              "\n",
              "    .dataframe thead th {\n",
              "        text-align: right;\n",
              "    }\n",
              "</style>\n",
              "<table border=\"1\" class=\"dataframe\">\n",
              "  <thead>\n",
              "    <tr style=\"text-align: right;\">\n",
              "      <th></th>\n",
              "      <th>Number</th>\n",
              "      <th>Digimon</th>\n",
              "      <th>Stage</th>\n",
              "      <th>Type</th>\n",
              "      <th>Attribute</th>\n",
              "      <th>Memory</th>\n",
              "      <th>Equip Slots</th>\n",
              "      <th>Lv 50 HP</th>\n",
              "      <th>Lv50 SP</th>\n",
              "      <th>Lv50 Atk</th>\n",
              "      <th>Lv50 Def</th>\n",
              "      <th>Lv50 Int</th>\n",
              "      <th>Lv50 Spd</th>\n",
              "    </tr>\n",
              "  </thead>\n",
              "  <tbody>\n",
              "    <tr>\n",
              "      <th>178</th>\n",
              "      <td>179</td>\n",
              "      <td>Gankoomon</td>\n",
              "      <td>Mega</td>\n",
              "      <td>Data</td>\n",
              "      <td>Fire</td>\n",
              "      <td>22</td>\n",
              "      <td>1</td>\n",
              "      <td>2080.0</td>\n",
              "      <td>90</td>\n",
              "      <td>188</td>\n",
              "      <td>163</td>\n",
              "      <td>109</td>\n",
              "      <td>138</td>\n",
              "    </tr>\n",
              "    <tr>\n",
              "      <th>133</th>\n",
              "      <td>134</td>\n",
              "      <td>ShogunGekomon</td>\n",
              "      <td>Ultimate</td>\n",
              "      <td>Virus</td>\n",
              "      <td>Water</td>\n",
              "      <td>12</td>\n",
              "      <td>2</td>\n",
              "      <td>1980.0</td>\n",
              "      <td>96</td>\n",
              "      <td>113</td>\n",
              "      <td>113</td>\n",
              "      <td>99</td>\n",
              "      <td>97</td>\n",
              "    </tr>\n",
              "    <tr>\n",
              "      <th>245</th>\n",
              "      <td>246</td>\n",
              "      <td>ShineGreymon BM</td>\n",
              "      <td>Mega</td>\n",
              "      <td>Vaccine</td>\n",
              "      <td>Fire</td>\n",
              "      <td>22</td>\n",
              "      <td>2</td>\n",
              "      <td>1980.0</td>\n",
              "      <td>114</td>\n",
              "      <td>228</td>\n",
              "      <td>104</td>\n",
              "      <td>84</td>\n",
              "      <td>168</td>\n",
              "    </tr>\n",
              "    <tr>\n",
              "      <th>193</th>\n",
              "      <td>194</td>\n",
              "      <td>Titamon</td>\n",
              "      <td>Mega</td>\n",
              "      <td>Virus</td>\n",
              "      <td>Earth</td>\n",
              "      <td>18</td>\n",
              "      <td>3</td>\n",
              "      <td>1930.0</td>\n",
              "      <td>99</td>\n",
              "      <td>183</td>\n",
              "      <td>128</td>\n",
              "      <td>114</td>\n",
              "      <td>129</td>\n",
              "    </tr>\n",
              "    <tr>\n",
              "      <th>187</th>\n",
              "      <td>188</td>\n",
              "      <td>ShineGreymon</td>\n",
              "      <td>Mega</td>\n",
              "      <td>Vaccine</td>\n",
              "      <td>Light</td>\n",
              "      <td>20</td>\n",
              "      <td>2</td>\n",
              "      <td>1880.0</td>\n",
              "      <td>114</td>\n",
              "      <td>203</td>\n",
              "      <td>109</td>\n",
              "      <td>84</td>\n",
              "      <td>158</td>\n",
              "    </tr>\n",
              "  </tbody>\n",
              "</table>\n",
              "</div>"
            ],
            "text/plain": [
              "     Number          Digimon     Stage  ... Lv50 Def Lv50 Int  Lv50 Spd\n",
              "178     179        Gankoomon      Mega  ...      163      109       138\n",
              "133     134    ShogunGekomon  Ultimate  ...      113       99        97\n",
              "245     246  ShineGreymon BM      Mega  ...      104       84       168\n",
              "193     194          Titamon      Mega  ...      128      114       129\n",
              "187     188     ShineGreymon      Mega  ...      109       84       158\n",
              "\n",
              "[5 rows x 13 columns]"
            ]
          },
          "metadata": {
            "tags": []
          },
          "execution_count": 159
        }
      ]
    },
    {
      "cell_type": "markdown",
      "metadata": {
        "id": "V-Kiiwhymyva",
        "colab_type": "text"
      },
      "source": [
        "###Select only the virus digimons\n"
      ]
    },
    {
      "cell_type": "code",
      "metadata": {
        "id": "pcbAtx9nm2qe",
        "colab_type": "code",
        "colab": {}
      },
      "source": [
        "bool_idx = (df['Type'] == 'Virus')\n",
        "bool_idx"
      ],
      "execution_count": null,
      "outputs": []
    },
    {
      "cell_type": "code",
      "metadata": {
        "id": "3Qf1vI7um5AN",
        "colab_type": "code",
        "colab": {}
      },
      "source": [
        "df[bool_idx]"
      ],
      "execution_count": null,
      "outputs": []
    },
    {
      "cell_type": "code",
      "metadata": {
        "id": "G9qvJ7yOm7UH",
        "colab_type": "code",
        "colab": {}
      },
      "source": [
        "df[bool_idx]['Type'].value_counts()"
      ],
      "execution_count": null,
      "outputs": []
    },
    {
      "cell_type": "code",
      "metadata": {
        "id": "zoTUEbnwm7yS",
        "colab_type": "code",
        "colab": {}
      },
      "source": [
        "con1 = (df['Stage'] == 'Mega')\n",
        "con2 = (df['Memory'] > 10)\n",
        "\n",
        "df[con1 & con2]"
      ],
      "execution_count": null,
      "outputs": []
    },
    {
      "cell_type": "code",
      "metadata": {
        "id": "8PjFgsb3m-_c",
        "colab_type": "code",
        "colab": {}
      },
      "source": [
        "df[con1 | con2]"
      ],
      "execution_count": null,
      "outputs": []
    },
    {
      "cell_type": "markdown",
      "metadata": {
        "id": "Hl7YepTwnCQF",
        "colab_type": "text"
      },
      "source": [
        "###Create a new column called total_status\n"
      ]
    },
    {
      "cell_type": "code",
      "metadata": {
        "id": "0ZCg2TypnDPP",
        "colab_type": "code",
        "colab": {
          "base_uri": "https://localhost:8080/",
          "height": 85
        },
        "outputId": "9ee67d85-8d62-4bb5-93f5-7b5add13d119"
      },
      "source": [
        "df.columns"
      ],
      "execution_count": 161,
      "outputs": [
        {
          "output_type": "execute_result",
          "data": {
            "text/plain": [
              "Index(['Number', 'Digimon', 'Stage', 'Type', 'Attribute', 'Memory',\n",
              "       'Equip Slots', 'Lv 50 HP', 'Lv50 SP', 'Lv50 Atk', 'Lv50 Def',\n",
              "       'Lv50 Int', 'Lv50 Spd'],\n",
              "      dtype='object')"
            ]
          },
          "metadata": {
            "tags": []
          },
          "execution_count": 161
        }
      ]
    },
    {
      "cell_type": "code",
      "metadata": {
        "id": "wx_-kJOtnETU",
        "colab_type": "code",
        "colab": {
          "base_uri": "https://localhost:8080/",
          "height": 238
        },
        "outputId": "10a66f2e-0d14-4a7f-af0f-75a953b8aa15"
      },
      "source": [
        "df['total_status'] = 0\n",
        "df.head()"
      ],
      "execution_count": 162,
      "outputs": [
        {
          "output_type": "execute_result",
          "data": {
            "text/html": [
              "<div>\n",
              "<style scoped>\n",
              "    .dataframe tbody tr th:only-of-type {\n",
              "        vertical-align: middle;\n",
              "    }\n",
              "\n",
              "    .dataframe tbody tr th {\n",
              "        vertical-align: top;\n",
              "    }\n",
              "\n",
              "    .dataframe thead th {\n",
              "        text-align: right;\n",
              "    }\n",
              "</style>\n",
              "<table border=\"1\" class=\"dataframe\">\n",
              "  <thead>\n",
              "    <tr style=\"text-align: right;\">\n",
              "      <th></th>\n",
              "      <th>Number</th>\n",
              "      <th>Digimon</th>\n",
              "      <th>Stage</th>\n",
              "      <th>Type</th>\n",
              "      <th>Attribute</th>\n",
              "      <th>Memory</th>\n",
              "      <th>Equip Slots</th>\n",
              "      <th>Lv 50 HP</th>\n",
              "      <th>Lv50 SP</th>\n",
              "      <th>Lv50 Atk</th>\n",
              "      <th>Lv50 Def</th>\n",
              "      <th>Lv50 Int</th>\n",
              "      <th>Lv50 Spd</th>\n",
              "      <th>total_status</th>\n",
              "    </tr>\n",
              "  </thead>\n",
              "  <tbody>\n",
              "    <tr>\n",
              "      <th>0</th>\n",
              "      <td>1</td>\n",
              "      <td>Kuramon</td>\n",
              "      <td>Baby</td>\n",
              "      <td>Free</td>\n",
              "      <td>Neutral</td>\n",
              "      <td>2</td>\n",
              "      <td>0</td>\n",
              "      <td>590.0</td>\n",
              "      <td>77</td>\n",
              "      <td>79</td>\n",
              "      <td>69</td>\n",
              "      <td>68</td>\n",
              "      <td>95</td>\n",
              "      <td>0</td>\n",
              "    </tr>\n",
              "    <tr>\n",
              "      <th>1</th>\n",
              "      <td>2</td>\n",
              "      <td>Pabumon</td>\n",
              "      <td>Baby</td>\n",
              "      <td>Free</td>\n",
              "      <td>Neutral</td>\n",
              "      <td>2</td>\n",
              "      <td>0</td>\n",
              "      <td>950.0</td>\n",
              "      <td>62</td>\n",
              "      <td>76</td>\n",
              "      <td>76</td>\n",
              "      <td>69</td>\n",
              "      <td>68</td>\n",
              "      <td>0</td>\n",
              "    </tr>\n",
              "    <tr>\n",
              "      <th>2</th>\n",
              "      <td>3</td>\n",
              "      <td>Punimon</td>\n",
              "      <td>Baby</td>\n",
              "      <td>Free</td>\n",
              "      <td>Neutral</td>\n",
              "      <td>2</td>\n",
              "      <td>0</td>\n",
              "      <td>870.0</td>\n",
              "      <td>50</td>\n",
              "      <td>97</td>\n",
              "      <td>87</td>\n",
              "      <td>50</td>\n",
              "      <td>75</td>\n",
              "      <td>0</td>\n",
              "    </tr>\n",
              "    <tr>\n",
              "      <th>3</th>\n",
              "      <td>4</td>\n",
              "      <td>Botamon</td>\n",
              "      <td>Baby</td>\n",
              "      <td>Free</td>\n",
              "      <td>Neutral</td>\n",
              "      <td>2</td>\n",
              "      <td>0</td>\n",
              "      <td>690.0</td>\n",
              "      <td>68</td>\n",
              "      <td>77</td>\n",
              "      <td>95</td>\n",
              "      <td>76</td>\n",
              "      <td>61</td>\n",
              "      <td>0</td>\n",
              "    </tr>\n",
              "    <tr>\n",
              "      <th>4</th>\n",
              "      <td>5</td>\n",
              "      <td>Poyomon</td>\n",
              "      <td>Baby</td>\n",
              "      <td>Free</td>\n",
              "      <td>Neutral</td>\n",
              "      <td>2</td>\n",
              "      <td>0</td>\n",
              "      <td>540.0</td>\n",
              "      <td>98</td>\n",
              "      <td>54</td>\n",
              "      <td>59</td>\n",
              "      <td>95</td>\n",
              "      <td>86</td>\n",
              "      <td>0</td>\n",
              "    </tr>\n",
              "  </tbody>\n",
              "</table>\n",
              "</div>"
            ],
            "text/plain": [
              "   Number  Digimon Stage  Type  ... Lv50 Def  Lv50 Int  Lv50 Spd  total_status\n",
              "0       1  Kuramon  Baby  Free  ...       69        68        95             0\n",
              "1       2  Pabumon  Baby  Free  ...       76        69        68             0\n",
              "2       3  Punimon  Baby  Free  ...       87        50        75             0\n",
              "3       4  Botamon  Baby  Free  ...       95        76        61             0\n",
              "4       5  Poyomon  Baby  Free  ...       59        95        86             0\n",
              "\n",
              "[5 rows x 14 columns]"
            ]
          },
          "metadata": {
            "tags": []
          },
          "execution_count": 162
        }
      ]
    },
    {
      "cell_type": "code",
      "metadata": {
        "id": "CyvFB25xnGhK",
        "colab_type": "code",
        "colab": {
          "base_uri": "https://localhost:8080/",
          "height": 238
        },
        "outputId": "bc0fe283-0796-47e7-cfef-1767295487ab"
      },
      "source": [
        "# using For-Loops INSIDE PANDAS\n",
        "\n",
        "status_cols = ['Lv 50 HP', 'Lv50 SP', 'Lv50 Atk', 'Lv50 Def','Lv50 Int', 'Lv50 Spd']\n",
        "\n",
        "for col in status_cols:\n",
        "  df['total_status'] += df[col]\n",
        "df.head()"
      ],
      "execution_count": 163,
      "outputs": [
        {
          "output_type": "execute_result",
          "data": {
            "text/html": [
              "<div>\n",
              "<style scoped>\n",
              "    .dataframe tbody tr th:only-of-type {\n",
              "        vertical-align: middle;\n",
              "    }\n",
              "\n",
              "    .dataframe tbody tr th {\n",
              "        vertical-align: top;\n",
              "    }\n",
              "\n",
              "    .dataframe thead th {\n",
              "        text-align: right;\n",
              "    }\n",
              "</style>\n",
              "<table border=\"1\" class=\"dataframe\">\n",
              "  <thead>\n",
              "    <tr style=\"text-align: right;\">\n",
              "      <th></th>\n",
              "      <th>Number</th>\n",
              "      <th>Digimon</th>\n",
              "      <th>Stage</th>\n",
              "      <th>Type</th>\n",
              "      <th>Attribute</th>\n",
              "      <th>Memory</th>\n",
              "      <th>Equip Slots</th>\n",
              "      <th>Lv 50 HP</th>\n",
              "      <th>Lv50 SP</th>\n",
              "      <th>Lv50 Atk</th>\n",
              "      <th>Lv50 Def</th>\n",
              "      <th>Lv50 Int</th>\n",
              "      <th>Lv50 Spd</th>\n",
              "      <th>total_status</th>\n",
              "    </tr>\n",
              "  </thead>\n",
              "  <tbody>\n",
              "    <tr>\n",
              "      <th>0</th>\n",
              "      <td>1</td>\n",
              "      <td>Kuramon</td>\n",
              "      <td>Baby</td>\n",
              "      <td>Free</td>\n",
              "      <td>Neutral</td>\n",
              "      <td>2</td>\n",
              "      <td>0</td>\n",
              "      <td>590.0</td>\n",
              "      <td>77</td>\n",
              "      <td>79</td>\n",
              "      <td>69</td>\n",
              "      <td>68</td>\n",
              "      <td>95</td>\n",
              "      <td>978.0</td>\n",
              "    </tr>\n",
              "    <tr>\n",
              "      <th>1</th>\n",
              "      <td>2</td>\n",
              "      <td>Pabumon</td>\n",
              "      <td>Baby</td>\n",
              "      <td>Free</td>\n",
              "      <td>Neutral</td>\n",
              "      <td>2</td>\n",
              "      <td>0</td>\n",
              "      <td>950.0</td>\n",
              "      <td>62</td>\n",
              "      <td>76</td>\n",
              "      <td>76</td>\n",
              "      <td>69</td>\n",
              "      <td>68</td>\n",
              "      <td>1301.0</td>\n",
              "    </tr>\n",
              "    <tr>\n",
              "      <th>2</th>\n",
              "      <td>3</td>\n",
              "      <td>Punimon</td>\n",
              "      <td>Baby</td>\n",
              "      <td>Free</td>\n",
              "      <td>Neutral</td>\n",
              "      <td>2</td>\n",
              "      <td>0</td>\n",
              "      <td>870.0</td>\n",
              "      <td>50</td>\n",
              "      <td>97</td>\n",
              "      <td>87</td>\n",
              "      <td>50</td>\n",
              "      <td>75</td>\n",
              "      <td>1229.0</td>\n",
              "    </tr>\n",
              "    <tr>\n",
              "      <th>3</th>\n",
              "      <td>4</td>\n",
              "      <td>Botamon</td>\n",
              "      <td>Baby</td>\n",
              "      <td>Free</td>\n",
              "      <td>Neutral</td>\n",
              "      <td>2</td>\n",
              "      <td>0</td>\n",
              "      <td>690.0</td>\n",
              "      <td>68</td>\n",
              "      <td>77</td>\n",
              "      <td>95</td>\n",
              "      <td>76</td>\n",
              "      <td>61</td>\n",
              "      <td>1067.0</td>\n",
              "    </tr>\n",
              "    <tr>\n",
              "      <th>4</th>\n",
              "      <td>5</td>\n",
              "      <td>Poyomon</td>\n",
              "      <td>Baby</td>\n",
              "      <td>Free</td>\n",
              "      <td>Neutral</td>\n",
              "      <td>2</td>\n",
              "      <td>0</td>\n",
              "      <td>540.0</td>\n",
              "      <td>98</td>\n",
              "      <td>54</td>\n",
              "      <td>59</td>\n",
              "      <td>95</td>\n",
              "      <td>86</td>\n",
              "      <td>932.0</td>\n",
              "    </tr>\n",
              "  </tbody>\n",
              "</table>\n",
              "</div>"
            ],
            "text/plain": [
              "   Number  Digimon Stage  Type  ... Lv50 Def  Lv50 Int  Lv50 Spd  total_status\n",
              "0       1  Kuramon  Baby  Free  ...       69        68        95         978.0\n",
              "1       2  Pabumon  Baby  Free  ...       76        69        68        1301.0\n",
              "2       3  Punimon  Baby  Free  ...       87        50        75        1229.0\n",
              "3       4  Botamon  Baby  Free  ...       95        76        61        1067.0\n",
              "4       5  Poyomon  Baby  Free  ...       59        95        86         932.0\n",
              "\n",
              "[5 rows x 14 columns]"
            ]
          },
          "metadata": {
            "tags": []
          },
          "execution_count": 163
        }
      ]
    },
    {
      "cell_type": "markdown",
      "metadata": {
        "id": "wXuEJ9CUnObG",
        "colab_type": "text"
      },
      "source": [
        "###Merge table\n"
      ]
    },
    {
      "cell_type": "code",
      "metadata": {
        "id": "kK8ZMCLVnPiG",
        "colab_type": "code",
        "colab": {}
      },
      "source": [
        "df2 = df.groupby(by='Attribute').mean().reset_index()\n",
        "df2 = df2[['Attribute', 'Memory']]\n",
        "df2.columns = ['Attribute', 'AvgMemory']\n",
        "df2"
      ],
      "execution_count": null,
      "outputs": []
    },
    {
      "cell_type": "code",
      "metadata": {
        "id": "8ZrcCkDOngzo",
        "colab_type": "code",
        "colab": {}
      },
      "source": [
        "df.sample(5)"
      ],
      "execution_count": null,
      "outputs": []
    },
    {
      "cell_type": "code",
      "metadata": {
        "id": "R_SbC29gnXQl",
        "colab_type": "code",
        "colab": {}
      },
      "source": [
        "merge_df = pd.merge(df, df2, on='Attribute', how='left')"
      ],
      "execution_count": null,
      "outputs": []
    },
    {
      "cell_type": "code",
      "metadata": {
        "id": "cpmSM7yeneZJ",
        "colab_type": "code",
        "colab": {}
      },
      "source": [
        "merge_df.sample(5)"
      ],
      "execution_count": null,
      "outputs": []
    },
    {
      "cell_type": "markdown",
      "metadata": {
        "id": "iyWAqxEsn4k-",
        "colab_type": "text"
      },
      "source": [
        "###Plot graph\n"
      ]
    },
    {
      "cell_type": "code",
      "metadata": {
        "id": "Bf3JAtR4n-Ds",
        "colab_type": "code",
        "colab": {}
      },
      "source": [
        "import matplotlib.pyplot as plt"
      ],
      "execution_count": null,
      "outputs": []
    },
    {
      "cell_type": "markdown",
      "metadata": {
        "id": "zlCDUZLjn6q5",
        "colab_type": "text"
      },
      "source": [
        "####Histrogram\n"
      ]
    },
    {
      "cell_type": "code",
      "metadata": {
        "id": "rSJ2nMFsn-w6",
        "colab_type": "code",
        "colab": {}
      },
      "source": [
        "df['total_status'].hist(bins=50)\n",
        "plt.show()"
      ],
      "execution_count": null,
      "outputs": []
    },
    {
      "cell_type": "code",
      "metadata": {
        "id": "ZEyEBoOToINA",
        "colab_type": "code",
        "colab": {}
      },
      "source": [
        "df['total_status'].hist(bins=50, alpha=0.5)\n",
        "plt.show()"
      ],
      "execution_count": null,
      "outputs": []
    },
    {
      "cell_type": "code",
      "metadata": {
        "id": "zqnQWSnPoFBb",
        "colab_type": "code",
        "colab": {}
      },
      "source": [
        "status_cols = ['Lv50 SP', 'Lv50 Atk', 'Lv50 Def','Lv50 Int', 'Lv50 Spd']\n",
        "for col in status_cols:\n",
        "  df[col].hist(alpha=0.4, bins=50)\n",
        "\n",
        "plt.legend(status_cols)\n",
        "plt.show()"
      ],
      "execution_count": null,
      "outputs": []
    },
    {
      "cell_type": "markdown",
      "metadata": {
        "id": "Y9nCqbscoM07",
        "colab_type": "text"
      },
      "source": [
        "####Scatter plot\n"
      ]
    },
    {
      "cell_type": "code",
      "metadata": {
        "id": "5pWxgtccoOp5",
        "colab_type": "code",
        "colab": {}
      },
      "source": [
        "df.plot.scatter(x='Lv50 Atk', y='Lv50 Def')"
      ],
      "execution_count": null,
      "outputs": []
    },
    {
      "cell_type": "code",
      "metadata": {
        "id": "Hn4YPh42oROp",
        "colab_type": "code",
        "colab": {}
      },
      "source": [
        "df.plot.scatter(x='Lv50 Atk', y='Lv50 Spd')"
      ],
      "execution_count": null,
      "outputs": []
    },
    {
      "cell_type": "code",
      "metadata": {
        "id": "H6tYtuW7oXV0",
        "colab_type": "code",
        "colab": {}
      },
      "source": [
        "df.plot.scatter(x='Lv50 Atk', y='Lv50 Def')\n",
        "df.plot.scatter(x='Lv50 Atk', y='Lv50 Spd')"
      ],
      "execution_count": null,
      "outputs": []
    },
    {
      "cell_type": "code",
      "metadata": {
        "id": "-c5KufH4oZol",
        "colab_type": "code",
        "colab": {}
      },
      "source": [
        "df.plot.scatter(x='Lv50 Atk', y='Lv50 Def', c='Memory')"
      ],
      "execution_count": null,
      "outputs": []
    },
    {
      "cell_type": "code",
      "metadata": {
        "id": "RQfVb3pYoTFZ",
        "colab_type": "code",
        "colab": {}
      },
      "source": [
        "df.plot.scatter(x='Memory', y='Lv50 Spd')"
      ],
      "execution_count": null,
      "outputs": []
    },
    {
      "cell_type": "markdown",
      "metadata": {
        "id": "_hIkWEVmobsB",
        "colab_type": "text"
      },
      "source": [
        "####Box plot\n"
      ]
    },
    {
      "cell_type": "code",
      "metadata": {
        "id": "HAPLHr1NodvC",
        "colab_type": "code",
        "colab": {}
      },
      "source": [
        "df[status_cols].boxplot()"
      ],
      "execution_count": null,
      "outputs": []
    },
    {
      "cell_type": "markdown",
      "metadata": {
        "id": "3g5RURhZofHq",
        "colab_type": "text"
      },
      "source": [
        "####Bar plot\n"
      ]
    },
    {
      "cell_type": "code",
      "metadata": {
        "id": "wmRD5uVdoguK",
        "colab_type": "code",
        "colab": {}
      },
      "source": [
        "df[status_cols].mean().plot.bar()"
      ],
      "execution_count": null,
      "outputs": []
    },
    {
      "cell_type": "code",
      "metadata": {
        "id": "DjDu9Xcxolo1",
        "colab_type": "code",
        "colab": {}
      },
      "source": [
        "df[status_cols].mean().plot.barh()"
      ],
      "execution_count": null,
      "outputs": []
    },
    {
      "cell_type": "markdown",
      "metadata": {
        "colab_type": "text",
        "id": "tEINf4bEL9jR"
      },
      "source": [
        "#5.Matplotlib"
      ]
    },
    {
      "cell_type": "markdown",
      "metadata": {
        "colab_type": "text",
        "id": "0hgVWLaXL9jR"
      },
      "source": [
        "Matplotlib is a plotting library. In this section give a brief introduction to the `matplotlib.pyplot` module, which provides a plotting system similar to that of MATLAB."
      ]
    },
    {
      "cell_type": "code",
      "metadata": {
        "colab_type": "code",
        "id": "cmh_7c6KL9jR",
        "colab": {}
      },
      "source": [
        "import numpy as np\n",
        "import matplotlib.pyplot as plt"
      ],
      "execution_count": null,
      "outputs": []
    },
    {
      "cell_type": "markdown",
      "metadata": {
        "colab_type": "text",
        "id": "U5Z_oMoLL9jV"
      },
      "source": [
        "###Plotting"
      ]
    },
    {
      "cell_type": "markdown",
      "metadata": {
        "colab_type": "text",
        "id": "6QyFJ7dhL9jV"
      },
      "source": [
        "The most important function in `matplotlib` is plot, which allows you to plot 2D data. Here is a simple example:"
      ]
    },
    {
      "cell_type": "code",
      "metadata": {
        "colab_type": "code",
        "id": "pua52BGeL9jW",
        "colab": {
          "base_uri": "https://localhost:8080/",
          "height": 282
        },
        "outputId": "6566ddd7-58c8-4668-99ef-558f1239d341"
      },
      "source": [
        "# Compute the x and y coordinates for points on a sine curve\n",
        "x = np.arange(start=0, stop = 3*np.pi, step = 0.1)\n",
        "y = np.sin(x)\n",
        "\n",
        "# Plot the points using matplotlib\n",
        "plt.plot(x, y)"
      ],
      "execution_count": null,
      "outputs": [
        {
          "output_type": "execute_result",
          "data": {
            "text/plain": [
              "[<matplotlib.lines.Line2D at 0x7f7e93b94b38>]"
            ]
          },
          "metadata": {
            "tags": []
          },
          "execution_count": 11
        },
        {
          "output_type": "display_data",
          "data": {
            "image/png": "[encoded data removed]",
            "text/plain": [
              "<Figure size 432x288 with 1 Axes>"
            ]
          },
          "metadata": {
            "tags": [],
            "needs_background": "light"
          }
        }
      ]
    },
    {
      "cell_type": "markdown",
      "metadata": {
        "colab_type": "text",
        "id": "9W2VAcLiL9jX"
      },
      "source": [
        "With just a little bit of extra work we can easily plot multiple lines at once, and add a title, legend, and axis labels:"
      ]
    },
    {
      "cell_type": "code",
      "metadata": {
        "colab_type": "code",
        "id": "TfCQHJ5AL9jY",
        "colab": {
          "base_uri": "https://localhost:8080/",
          "height": 312
        },
        "outputId": "ebd3eed2-821c-4b42-cb00-6b0cfeead242"
      },
      "source": [
        "y_sin = np.sin(x)\n",
        "y_cos = np.cos(x)\n",
        "\n",
        "# Plot the points using matplotlib\n",
        "plt.plot(x, y_sin)\n",
        "plt.plot(x, y_cos)\n",
        "plt.xlabel('x axis')\n",
        "plt.ylabel('y axis')\n",
        "plt.legend(['Sine', 'Cosine'])\n",
        "plt.title('Sine and Cosine')"
      ],
      "execution_count": null,
      "outputs": [
        {
          "output_type": "execute_result",
          "data": {
            "text/plain": [
              "Text(0.5, 1.0, 'Sine and Cosine')"
            ]
          },
          "metadata": {
            "tags": []
          },
          "execution_count": 12
        },
        {
          "output_type": "display_data",
          "data": {
            "image/png": "[encoded data removed]",
            "text/plain": [
              "<Figure size 432x288 with 1 Axes>"
            ]
          },
          "metadata": {
            "tags": [],
            "needs_background": "light"
          }
        }
      ]
    },
    {
      "cell_type": "markdown",
      "metadata": {
        "colab_type": "text",
        "id": "R5IeAY03L9ja"
      },
      "source": [
        "###Subplots "
      ]
    },
    {
      "cell_type": "markdown",
      "metadata": {
        "colab_type": "text",
        "id": "CfUzwJg0L9ja"
      },
      "source": [
        "You can plot different things in the same figure using the subplot function. Here is an example:"
      ]
    },
    {
      "cell_type": "code",
      "metadata": {
        "colab_type": "code",
        "id": "dM23yGH9L9ja",
        "colab": {
          "base_uri": "https://localhost:8080/",
          "height": 298
        },
        "outputId": "ab9a42f2-43ec-427a-a8d8-03bc2c33b1d8"
      },
      "source": [
        "# Compute the x and y coordinates for points on sine and cosine curves\n",
        "x = np.arange(0, 3 * np.pi, 0.1)\n",
        "y_sin = np.sin(x)\n",
        "y_cos = np.cos(x)\n",
        "\n",
        "# Set up a subplot grid that has height 2 and width 1,\n",
        "# and set the first such subplot as active.\n",
        "plt.subplot(2,2, 1)\n",
        "\n",
        "# Make the first plot\n",
        "plt.plot(x, y_sin)\n",
        "plt.title('Sine')\n",
        "\n",
        "# Set the second subplot as active, and make the second plot.\n",
        "plt.subplot(2,2, 4)\n",
        "\n",
        "# Show the figure.\n",
        "plt.plot(x, y_cos)\n",
        "plt.title('Cosine')"
      ],
      "execution_count": null,
      "outputs": [
        {
          "output_type": "execute_result",
          "data": {
            "text/plain": [
              "Text(0.5, 1.0, 'Cosine')"
            ]
          },
          "metadata": {
            "tags": []
          },
          "execution_count": 16
        },
        {
          "output_type": "display_data",
          "data": {
            "image/png": "[encoded data removed]",
            "text/plain": [
              "<Figure size 432x288 with 2 Axes>"
            ]
          },
          "metadata": {
            "tags": [],
            "needs_background": "light"
          }
        }
      ]
    },
    {
      "cell_type": "code",
      "metadata": {
        "id": "O8FK0Cu6sgq7",
        "colab_type": "code",
        "colab": {
          "base_uri": "https://localhost:8080/",
          "height": 298
        },
        "outputId": "bd6fede3-9b19-47f4-a69d-911f1a2fadd9"
      },
      "source": [
        "# Compute the x and y coordinates for points on sine and cosine curves\n",
        "x = np.arange(0, 3 * np.pi, 0.1)\n",
        "y_sin = np.sin(x)\n",
        "y_cos = np.cos(x)\n",
        "\n",
        "# Set up a subplot grid that has height 2 and width 1,\n",
        "# and set the first such subplot as active.\n",
        "plt.subplot(3,1, 1)\n",
        "\n",
        "# Make the first plot\n",
        "plt.plot(x, y_sin)\n",
        "plt.title('Sine')\n",
        "\n",
        "# Set the second subplot as active, and make the second plot.\n",
        "plt.subplot(3,1, 2)\n",
        "\n",
        "# Show the figure.\n",
        "plt.plot(x, y_cos)\n",
        "plt.title('Cosine')\n",
        "\n",
        "\n",
        "# Set the second subplot as active, and make the second plot.\n",
        "plt.subplot(3,1, 3)\n",
        "\n",
        "# Show the figure.\n",
        "plt.plot(x, y_cos+y_sin)\n",
        "plt.title('Cosine')"
      ],
      "execution_count": null,
      "outputs": [
        {
          "output_type": "execute_result",
          "data": {
            "text/plain": [
              "Text(0.5, 1.0, 'Cosine')"
            ]
          },
          "metadata": {
            "tags": []
          },
          "execution_count": 14
        },
        {
          "output_type": "display_data",
          "data": {
            "image/png": "[encoded data removed]",
            "text/plain": [
              "<Figure size 432x288 with 3 Axes>"
            ]
          },
          "metadata": {
            "tags": [],
            "needs_background": "light"
          }
        }
      ]
    },
    {
      "cell_type": "markdown",
      "metadata": {
        "colab_type": "text",
        "id": "gLtsST5SL9jc"
      },
      "source": [
        "You can read much more about the `subplot` function in the [documentation](http://matplotlib.org/api/pyplot_api.html#matplotlib.pyplot.subplot)."
      ]
    }
  ]
}