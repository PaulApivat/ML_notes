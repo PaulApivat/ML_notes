{
 "cells": [
  {
   "cell_type": "code",
   "execution_count": null,
   "metadata": {},
   "outputs": [],
   "source": [
    "# 0. เขียนโปรแกรมหาค่าสูงสุด\n",
    "#    ในลิสต์\n",
    "# 1. เขียน 8 puzzle \n",
    "# 2. เขียน depth-first search \n",
    "#     พร้อม อะนิเมชั่น\n",
    "# 3. เลือกข้อมูล 1 อย่างจาก \n",
    "#     Kaggle มาทำการ visualize\n",
    "#     ข้อมูลในรูปแบบกราฟต่างๆ"
   ]
  },
  {
   "cell_type": "code",
   "execution_count": 34,
   "metadata": {},
   "outputs": [
    {
     "data": {
      "text/plain": [
       "90"
      ]
     },
     "execution_count": 34,
     "metadata": {},
     "output_type": "execute_result"
    }
   ],
   "source": [
    "# 0. เขียนโปรแกรมหาค่าสูงสุด\n",
    "#    ในลิสต์\n",
    "\n",
    "max_list = [23,54,78,66,32,44,90]\n",
    "\n",
    "\n",
    "def find_max_number(the_list):\n",
    "    return max(the_list)\n",
    "\n",
    "find_max_number(max_list)"
   ]
  },
  {
   "cell_type": "code",
   "execution_count": 9,
   "metadata": {},
   "outputs": [
    {
     "name": "stdout",
     "output_type": "stream",
     "text": [
      "[[1, 2, 3], [8, 0, 4], [7, 6, 5]]\n",
      "[[2, 8, 1], [0, 4, 3], [7, 6, 5]]\n"
     ]
    }
   ],
   "source": [
    "### Start & End Matrix - for 8 puzzle\n",
    "\n",
    "start = [[1,2,3],\n",
    "         [8,0,4],\n",
    "         [7,6,5]]\n",
    "\n",
    "end = [[2,8,1],\n",
    "       [0,4,3],\n",
    "       [7,6,5]]\n",
    "\n",
    "\n",
    "print(start)\n",
    "print(end)"
   ]
  },
  {
   "cell_type": "code",
   "execution_count": 14,
   "metadata": {},
   "outputs": [
    {
     "name": "stdout",
     "output_type": "stream",
     "text": [
      "Enter the start state matrix \n",
      "\n",
      "[1,2,3]\n",
      "[8,0,4]\n",
      "[7,6,5]\n",
      "Enter the goal state matrix \n",
      "\n",
      "[2,8,1]\n",
      "[0,4,3]\n",
      "[7,6,5]\n"
     ]
    },
    {
     "ename": "IndexError",
     "evalue": "list index out of range",
     "output_type": "error",
     "traceback": [
      "\u001b[0;31m---------------------------------------------------------------------------\u001b[0m",
      "\u001b[0;31mIndexError\u001b[0m                                Traceback (most recent call last)",
      "\u001b[0;32m<ipython-input-14-50e50b0c3ff6>\u001b[0m in \u001b[0;36m<module>\u001b[0;34m\u001b[0m\n\u001b[1;32m    120\u001b[0m \u001b[0;34m\u001b[0m\u001b[0m\n\u001b[1;32m    121\u001b[0m \u001b[0mpuz\u001b[0m \u001b[0;34m=\u001b[0m \u001b[0mPuzzle\u001b[0m\u001b[0;34m(\u001b[0m\u001b[0;36m3\u001b[0m\u001b[0;34m)\u001b[0m\u001b[0;34m\u001b[0m\u001b[0;34m\u001b[0m\u001b[0m\n\u001b[0;32m--> 122\u001b[0;31m \u001b[0mpuz\u001b[0m\u001b[0;34m.\u001b[0m\u001b[0mprocess\u001b[0m\u001b[0;34m(\u001b[0m\u001b[0;34m)\u001b[0m\u001b[0;34m\u001b[0m\u001b[0;34m\u001b[0m\u001b[0m\n\u001b[0m",
      "\u001b[0;32m<ipython-input-14-50e50b0c3ff6>\u001b[0m in \u001b[0;36mprocess\u001b[0;34m(self)\u001b[0m\n\u001b[1;32m     92\u001b[0m \u001b[0;34m\u001b[0m\u001b[0m\n\u001b[1;32m     93\u001b[0m         \u001b[0mstart\u001b[0m \u001b[0;34m=\u001b[0m \u001b[0mNode\u001b[0m\u001b[0;34m(\u001b[0m\u001b[0mstart\u001b[0m\u001b[0;34m,\u001b[0m\u001b[0;36m0\u001b[0m\u001b[0;34m,\u001b[0m\u001b[0;36m0\u001b[0m\u001b[0;34m)\u001b[0m\u001b[0;34m\u001b[0m\u001b[0;34m\u001b[0m\u001b[0m\n\u001b[0;32m---> 94\u001b[0;31m         \u001b[0mstart\u001b[0m\u001b[0;34m.\u001b[0m\u001b[0mfval\u001b[0m \u001b[0;34m=\u001b[0m \u001b[0mself\u001b[0m\u001b[0;34m.\u001b[0m\u001b[0mf\u001b[0m\u001b[0;34m(\u001b[0m\u001b[0mstart\u001b[0m\u001b[0;34m,\u001b[0m\u001b[0mgoal\u001b[0m\u001b[0;34m)\u001b[0m\u001b[0;34m\u001b[0m\u001b[0;34m\u001b[0m\u001b[0m\n\u001b[0m\u001b[1;32m     95\u001b[0m         \u001b[0;34m\"\"\" Put the start node in the open list\"\"\"\u001b[0m\u001b[0;34m\u001b[0m\u001b[0;34m\u001b[0m\u001b[0m\n\u001b[1;32m     96\u001b[0m         \u001b[0mself\u001b[0m\u001b[0;34m.\u001b[0m\u001b[0mopen\u001b[0m\u001b[0;34m.\u001b[0m\u001b[0mappend\u001b[0m\u001b[0;34m(\u001b[0m\u001b[0mstart\u001b[0m\u001b[0;34m)\u001b[0m\u001b[0;34m\u001b[0m\u001b[0;34m\u001b[0m\u001b[0m\n",
      "\u001b[0;32m<ipython-input-14-50e50b0c3ff6>\u001b[0m in \u001b[0;36mf\u001b[0;34m(self, start, goal)\u001b[0m\n\u001b[1;32m     72\u001b[0m     \u001b[0;32mdef\u001b[0m \u001b[0mf\u001b[0m\u001b[0;34m(\u001b[0m\u001b[0mself\u001b[0m\u001b[0;34m,\u001b[0m\u001b[0mstart\u001b[0m\u001b[0;34m,\u001b[0m\u001b[0mgoal\u001b[0m\u001b[0;34m)\u001b[0m\u001b[0;34m:\u001b[0m\u001b[0;34m\u001b[0m\u001b[0;34m\u001b[0m\u001b[0m\n\u001b[1;32m     73\u001b[0m         \u001b[0;34m\"\"\" Heuristic Function to calculate hueristic value f(x) = h(x) + g(x) \"\"\"\u001b[0m\u001b[0;34m\u001b[0m\u001b[0;34m\u001b[0m\u001b[0m\n\u001b[0;32m---> 74\u001b[0;31m         \u001b[0;32mreturn\u001b[0m \u001b[0mself\u001b[0m\u001b[0;34m.\u001b[0m\u001b[0mh\u001b[0m\u001b[0;34m(\u001b[0m\u001b[0mstart\u001b[0m\u001b[0;34m.\u001b[0m\u001b[0mdata\u001b[0m\u001b[0;34m,\u001b[0m\u001b[0mgoal\u001b[0m\u001b[0;34m)\u001b[0m\u001b[0;34m+\u001b[0m\u001b[0mstart\u001b[0m\u001b[0;34m.\u001b[0m\u001b[0mlevel\u001b[0m\u001b[0;34m\u001b[0m\u001b[0;34m\u001b[0m\u001b[0m\n\u001b[0m\u001b[1;32m     75\u001b[0m \u001b[0;34m\u001b[0m\u001b[0m\n\u001b[1;32m     76\u001b[0m     \u001b[0;32mdef\u001b[0m \u001b[0mh\u001b[0m\u001b[0;34m(\u001b[0m\u001b[0mself\u001b[0m\u001b[0;34m,\u001b[0m\u001b[0mstart\u001b[0m\u001b[0;34m,\u001b[0m\u001b[0mgoal\u001b[0m\u001b[0;34m)\u001b[0m\u001b[0;34m:\u001b[0m\u001b[0;34m\u001b[0m\u001b[0;34m\u001b[0m\u001b[0m\n",
      "\u001b[0;32m<ipython-input-14-50e50b0c3ff6>\u001b[0m in \u001b[0;36mh\u001b[0;34m(self, start, goal)\u001b[0m\n\u001b[1;32m     79\u001b[0m         \u001b[0;32mfor\u001b[0m \u001b[0mi\u001b[0m \u001b[0;32min\u001b[0m \u001b[0mrange\u001b[0m\u001b[0;34m(\u001b[0m\u001b[0;36m0\u001b[0m\u001b[0;34m,\u001b[0m\u001b[0mself\u001b[0m\u001b[0;34m.\u001b[0m\u001b[0mn\u001b[0m\u001b[0;34m)\u001b[0m\u001b[0;34m:\u001b[0m\u001b[0;34m\u001b[0m\u001b[0;34m\u001b[0m\u001b[0m\n\u001b[1;32m     80\u001b[0m             \u001b[0;32mfor\u001b[0m \u001b[0mj\u001b[0m \u001b[0;32min\u001b[0m \u001b[0mrange\u001b[0m\u001b[0;34m(\u001b[0m\u001b[0;36m0\u001b[0m\u001b[0;34m,\u001b[0m\u001b[0mself\u001b[0m\u001b[0;34m.\u001b[0m\u001b[0mn\u001b[0m\u001b[0;34m)\u001b[0m\u001b[0;34m:\u001b[0m\u001b[0;34m\u001b[0m\u001b[0;34m\u001b[0m\u001b[0m\n\u001b[0;32m---> 81\u001b[0;31m                 \u001b[0;32mif\u001b[0m \u001b[0mstart\u001b[0m\u001b[0;34m[\u001b[0m\u001b[0mi\u001b[0m\u001b[0;34m]\u001b[0m\u001b[0;34m[\u001b[0m\u001b[0mj\u001b[0m\u001b[0;34m]\u001b[0m \u001b[0;34m!=\u001b[0m \u001b[0mgoal\u001b[0m\u001b[0;34m[\u001b[0m\u001b[0mi\u001b[0m\u001b[0;34m]\u001b[0m\u001b[0;34m[\u001b[0m\u001b[0mj\u001b[0m\u001b[0;34m]\u001b[0m \u001b[0;32mand\u001b[0m \u001b[0mstart\u001b[0m\u001b[0;34m[\u001b[0m\u001b[0mi\u001b[0m\u001b[0;34m]\u001b[0m\u001b[0;34m[\u001b[0m\u001b[0mj\u001b[0m\u001b[0;34m]\u001b[0m \u001b[0;34m!=\u001b[0m \u001b[0;34m'_'\u001b[0m\u001b[0;34m:\u001b[0m\u001b[0;34m\u001b[0m\u001b[0;34m\u001b[0m\u001b[0m\n\u001b[0m\u001b[1;32m     82\u001b[0m                     \u001b[0mtemp\u001b[0m \u001b[0;34m+=\u001b[0m \u001b[0;36m1\u001b[0m\u001b[0;34m\u001b[0m\u001b[0;34m\u001b[0m\u001b[0m\n\u001b[1;32m     83\u001b[0m         \u001b[0;32mreturn\u001b[0m \u001b[0mtemp\u001b[0m\u001b[0;34m\u001b[0m\u001b[0;34m\u001b[0m\u001b[0m\n",
      "\u001b[0;31mIndexError\u001b[0m: list index out of range"
     ]
    }
   ],
   "source": [
    "### 8 Puzzle\n",
    "\n",
    "class Node:\n",
    "    def __init__(self,data,level,fval):\n",
    "        \"\"\" Initialize the node with the data, level of the node and the calculated fvalue \"\"\"\n",
    "        self.data = data\n",
    "        self.level = level\n",
    "        self.fval = fval\n",
    "\n",
    "    def generate_child(self):\n",
    "        \"\"\" Generate child nodes from the given node by moving the blank space\n",
    "            either in the four directions {up,down,left,right} \"\"\"\n",
    "        x,y = self.find(self.data,'_')\n",
    "        \"\"\" val_list contains position values for moving the blank space in either of\n",
    "            the 4 directions [up,down,left,right] respectively. \"\"\"\n",
    "        val_list = [[x,y-1],[x,y+1],[x-1,y],[x+1,y]]\n",
    "        children = []\n",
    "        for i in val_list:\n",
    "            child = self.shuffle(self.data,x,y,i[0],i[1])\n",
    "            if child is not None:\n",
    "                child_node = Node(child,self.level+1,0)\n",
    "                children.append(child_node)\n",
    "        return children\n",
    "        \n",
    "    def shuffle(self,puz,x1,y1,x2,y2):\n",
    "        \"\"\" Move the blank space in the given direction and if the position value are out\n",
    "            of limits the return None \"\"\"\n",
    "        if x2 >= 0 and x2 < len(self.data) and y2 >= 0 and y2 < len(self.data):\n",
    "            temp_puz = []\n",
    "            temp_puz = self.copy(puz)\n",
    "            temp = temp_puz[x2][y2]\n",
    "            temp_puz[x2][y2] = temp_puz[x1][y1]\n",
    "            temp_puz[x1][y1] = temp\n",
    "            return temp_puz\n",
    "        else:\n",
    "            return None\n",
    "            \n",
    "\n",
    "    def copy(self,root):\n",
    "        \"\"\" Copy function to create a similar matrix of the given node\"\"\"\n",
    "        temp = []\n",
    "        for i in root:\n",
    "            t = []\n",
    "            for j in i:\n",
    "                t.append(j)\n",
    "            temp.append(t)\n",
    "        return temp    \n",
    "            \n",
    "    def find(self,puz,x):\n",
    "        \"\"\" Specifically used to find the position of the blank space \"\"\"\n",
    "        for i in range(0,len(self.data)):\n",
    "            for j in range(0,len(self.data)):\n",
    "                if puz[i][j] == x:\n",
    "                    return i,j\n",
    "\n",
    "\n",
    "class Puzzle:\n",
    "    def __init__(self,size):\n",
    "        \"\"\" Initialize the puzzle size by the specified size,open and closed lists to empty \"\"\"\n",
    "        self.n = size\n",
    "        self.open = []\n",
    "        self.closed = []\n",
    "\n",
    "    def accept(self):\n",
    "        \"\"\" Accepts the puzzle from the user \"\"\"\n",
    "        puz = []\n",
    "        for i in range(0,self.n):\n",
    "            temp = input().split(\" \")\n",
    "            puz.append(temp)\n",
    "        return puz\n",
    "\n",
    "    def f(self,start,goal):\n",
    "        \"\"\" Heuristic Function to calculate hueristic value f(x) = h(x) + g(x) \"\"\"\n",
    "        return self.h(start.data,goal)+start.level\n",
    "\n",
    "    def h(self,start,goal):\n",
    "        \"\"\" Calculates the different between the given puzzles \"\"\"\n",
    "        temp = 0\n",
    "        for i in range(0,self.n):\n",
    "            for j in range(0,self.n):\n",
    "                if start[i][j] != goal[i][j] and start[i][j] != '_':\n",
    "                    temp += 1\n",
    "        return temp\n",
    "        \n",
    "\n",
    "    def process(self):\n",
    "        \"\"\" Accept Start and Goal Puzzle state\"\"\"\n",
    "        print(\"Enter the start state matrix \\n\")\n",
    "        start = self.accept()\n",
    "        print(\"Enter the goal state matrix \\n\")        \n",
    "        goal = self.accept()\n",
    "\n",
    "        start = Node(start,0,0)\n",
    "        start.fval = self.f(start,goal)\n",
    "        \"\"\" Put the start node in the open list\"\"\"\n",
    "        self.open.append(start)\n",
    "        print(\"\\n\\n\")\n",
    "        while True:\n",
    "            cur = self.open[0]\n",
    "            print(\"\")\n",
    "            print(\"  | \")\n",
    "            print(\"  | \")\n",
    "            print(\" \\\\\\'/ \\n\")\n",
    "            for i in cur.data:\n",
    "                for j in i:\n",
    "                    print(j,end=\" \")\n",
    "                print(\"\")\n",
    "            \"\"\" If the difference between current and goal node is 0 we have reached the goal node\"\"\"\n",
    "            if(self.h(cur.data,goal) == 0):\n",
    "                break\n",
    "            for i in cur.generate_child():\n",
    "                i.fval = self.f(i,goal)\n",
    "                self.open.append(i)\n",
    "            self.closed.append(cur)\n",
    "            del self.open[0]\n",
    "\n",
    "            \"\"\" sort the opne list based on f value \"\"\"\n",
    "            self.open.sort(key = lambda x:x.fval,reverse=False)\n",
    "\n",
    "\n",
    "puz = Puzzle(3)\n",
    "puz.process()"
   ]
  },
  {
   "cell_type": "code",
   "execution_count": 6,
   "metadata": {},
   "outputs": [
    {
     "data": {
      "text/plain": [
       "{'A': ['B', 'C'], 'B': ['C'], 'C': ['D']}"
      ]
     },
     "execution_count": 6,
     "metadata": {},
     "output_type": "execute_result"
    }
   ],
   "source": [
    "# Adjacency List (dictionary)\n",
    "\n",
    "adj_list = {\"A\": [\"B\", \"C\"],\n",
    "          \"B\": [\"C\"],\n",
    "          \"C\": [\"D\"]}\n",
    "\n",
    "adj_list"
   ]
  },
  {
   "cell_type": "code",
   "execution_count": null,
   "metadata": {},
   "outputs": [],
   "source": []
  },
  {
   "cell_type": "code",
   "execution_count": 9,
   "metadata": {},
   "outputs": [],
   "source": [
    "# Adjacency List 2 (dictionary)\n",
    "\n",
    "adj_list2 = {\n",
    "    'A': ['B', 'C'],\n",
    "    'B': ['D', 'E'],\n",
    "    'C': ['F'],\n",
    "    'D': [],\n",
    "    'E': ['F'],\n",
    "    'F': []\n",
    "}\n",
    "\n"
   ]
  },
  {
   "cell_type": "code",
   "execution_count": 27,
   "metadata": {},
   "outputs": [
    {
     "data": {
      "text/plain": [
       "[0, 2, 5, 4, 6, 1, 3]"
      ]
     },
     "execution_count": 27,
     "metadata": {},
     "output_type": "execute_result"
    }
   ],
   "source": [
    "# Adjacency List 3 (list)\n",
    "\n",
    "vertex_list = ['0', '1', '2', '3', '4', '5', '6']\n",
    "\n",
    "edge_list = [(0,1), (0,2), (1,0), (1,3), (2,0),\n",
    "             (2,4), (2,5), (3,1), (4,2), (4,6), \n",
    "             (5,2), (6,4)]\n",
    "\n",
    "\n",
    "\n",
    "    \n",
    "#adj_list3\n",
    "\n",
    "graphs = (vertex_list, edge_list)\n",
    "#print(graphs)\n",
    "\n",
    "def dfs(graph, start):\n",
    "    vertex_list, edge_list = graph\n",
    "    visited_vertex = []\n",
    "    stack = [start]\n",
    "    adj_list3 = [[] for vertex in vertex_list]\n",
    "    \n",
    "    for edge in edge_list:\n",
    "        adj_list3[edge[0]].append(edge[1])\n",
    "        \n",
    "    while stack:\n",
    "        current = stack.pop()\n",
    "        for neighbor in adj_list3[current]:\n",
    "            if not neighbor in visited_vertex:\n",
    "                stack.append(neighbor)\n",
    "        visited_vertex.append(current)\n",
    "    return visited_vertex\n",
    "\n",
    "dfs(graphs, 0)\n",
    "\n"
   ]
  },
  {
   "cell_type": "code",
   "execution_count": 51,
   "metadata": {},
   "outputs": [
    {
     "name": "stdout",
     "output_type": "stream",
     "text": [
      "A\n",
      "B\n",
      "D\n",
      "E\n",
      "F\n",
      "C\n"
     ]
    }
   ],
   "source": [
    "# Depth First Search (recursive, for dictionary)\n",
    "\n",
    "visited = [] # Empty list to keep track of visited nodes.\n",
    "\n",
    "# if unvisited, mark as visited and repeat for adjacent nodes\n",
    "# repeat for all nodes\n",
    "# source is \"A\"\n",
    "\n",
    "def dfs(visited, graph, node):\n",
    "    if node not in visited:\n",
    "        print(node)\n",
    "        visited.append(node)\n",
    "        # for the adjacent nodes\n",
    "        for adjacent in graph[node]:\n",
    "            # invoke function again\n",
    "            dfs(visited, graph, adjacent)\n",
    "\n",
    "# call function on adj_list2 (graph)\n",
    "dfs(visited, adj_list2, 'A')\n",
    "\n",
    "\n",
    "\n",
    "#adj_list2['A']"
   ]
  },
  {
   "cell_type": "code",
   "execution_count": null,
   "metadata": {},
   "outputs": [],
   "source": []
  },
  {
   "cell_type": "code",
   "execution_count": 10,
   "metadata": {},
   "outputs": [
    {
     "data": {
      "text/plain": [
       "'A C F B E D'"
      ]
     },
     "execution_count": 10,
     "metadata": {},
     "output_type": "execute_result"
    }
   ],
   "source": [
    "# 2. เขียน depth-first search \n",
    "# Depth first search for adj_list\n",
    "\n",
    "def dfs_non_recursive(graph, source):\n",
    "\n",
    "       if source is None or source not in graph:\n",
    "\n",
    "           return \"Invalid input\"\n",
    "\n",
    "       path = []\n",
    "\n",
    "       stack = [source]\n",
    "\n",
    "       while(len(stack) != 0):\n",
    "\n",
    "           s = stack.pop()\n",
    "\n",
    "           if s not in path:\n",
    "\n",
    "               path.append(s)\n",
    "\n",
    "           if s not in graph:\n",
    "\n",
    "               #leaf node\n",
    "               continue\n",
    "\n",
    "           for neighbor in graph[s]:\n",
    "\n",
    "               stack.append(neighbor)\n",
    "\n",
    "       return \" \".join(path)\n",
    "\n",
    "\n",
    "dfs_non_recursive(adj_list2, 'A')\n"
   ]
  },
  {
   "cell_type": "code",
   "execution_count": null,
   "metadata": {},
   "outputs": [],
   "source": []
  }
 ],
 "metadata": {
  "kernelspec": {
   "display_name": "Python 3",
   "language": "python",
   "name": "python3"
  },
  "language_info": {
   "codemirror_mode": {
    "name": "ipython",
    "version": 3
   },
   "file_extension": ".py",
   "mimetype": "text/x-python",
   "name": "python",
   "nbconvert_exporter": "python",
   "pygments_lexer": "ipython3",
   "version": "3.8.3"
  }
 },
 "nbformat": 4,
 "nbformat_minor": 4
}
