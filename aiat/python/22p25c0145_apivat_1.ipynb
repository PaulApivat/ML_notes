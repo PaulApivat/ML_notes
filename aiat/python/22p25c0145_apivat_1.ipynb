{
 "cells": [
  {
   "cell_type": "code",
   "execution_count": null,
   "metadata": {},
   "outputs": [],
   "source": [
    "# 0. เขียนโปรแกรมหาค่าสูงสุด\n",
    "#    ในลิสต์\n",
    "# 1. เขียน 8 puzzle \n",
    "# 2. เขียน depth-first search \n",
    "#     พร้อม อะนิเมชั่น\n",
    "# 3. เลือกข้อมูล 1 อย่างจาก \n",
    "#     Kaggle มาทำการ visualize\n",
    "#     ข้อมูลในรูปแบบกราฟต่างๆ"
   ]
  },
  {
   "cell_type": "code",
   "execution_count": 3,
   "metadata": {},
   "outputs": [
    {
     "data": {
      "text/plain": [
       "90"
      ]
     },
     "execution_count": 3,
     "metadata": {},
     "output_type": "execute_result"
    }
   ],
   "source": [
    "# 0. เขียนโปรแกรมหาค่าสูงสุด\n",
    "#    ในลิสต์\n",
    "\n",
    "max_list = [23,54,78,66,32,44,90]\n",
    "\n",
    "\n",
    "def find_max_number(the_list):\n",
    "    return max(the_list)\n",
    "\n",
    "find_max_number(max_list)"
   ]
  },
  {
   "cell_type": "code",
   "execution_count": 5,
   "metadata": {},
   "outputs": [
    {
     "data": {
      "text/plain": [
       "{'A': ['B', 'C'], 'B': ['C'], 'C': ['D']}"
      ]
     },
     "execution_count": 5,
     "metadata": {},
     "output_type": "execute_result"
    }
   ],
   "source": [
    "# Adjacency List\n",
    "\n",
    "adj_list = {\"A\": [\"B\", \"C\"],\n",
    "          \"B\": [\"C\"],\n",
    "          \"C\": [\"D\"]}\n",
    "\n",
    "adj_list"
   ]
  },
  {
   "cell_type": "code",
   "execution_count": 15,
   "metadata": {},
   "outputs": [
    {
     "data": {
      "text/html": [
       "<div>\n",
       "<style scoped>\n",
       "    .dataframe tbody tr th:only-of-type {\n",
       "        vertical-align: middle;\n",
       "    }\n",
       "\n",
       "    .dataframe tbody tr th {\n",
       "        vertical-align: top;\n",
       "    }\n",
       "\n",
       "    .dataframe thead th {\n",
       "        text-align: right;\n",
       "    }\n",
       "</style>\n",
       "<table border=\"1\" class=\"dataframe\">\n",
       "  <thead>\n",
       "    <tr style=\"text-align: right;\">\n",
       "      <th></th>\n",
       "      <th>C</th>\n",
       "      <th>A</th>\n",
       "      <th>B</th>\n",
       "      <th>D</th>\n",
       "    </tr>\n",
       "  </thead>\n",
       "  <tbody>\n",
       "    <tr>\n",
       "      <th>0</th>\n",
       "      <td>0</td>\n",
       "      <td>1</td>\n",
       "      <td>1</td>\n",
       "      <td>1</td>\n",
       "    </tr>\n",
       "    <tr>\n",
       "      <th>1</th>\n",
       "      <td>1</td>\n",
       "      <td>0</td>\n",
       "      <td>1</td>\n",
       "      <td>0</td>\n",
       "    </tr>\n",
       "    <tr>\n",
       "      <th>2</th>\n",
       "      <td>1</td>\n",
       "      <td>1</td>\n",
       "      <td>0</td>\n",
       "      <td>0</td>\n",
       "    </tr>\n",
       "    <tr>\n",
       "      <th>3</th>\n",
       "      <td>1</td>\n",
       "      <td>0</td>\n",
       "      <td>0</td>\n",
       "      <td>0</td>\n",
       "    </tr>\n",
       "  </tbody>\n",
       "</table>\n",
       "</div>"
      ],
      "text/plain": [
       "   C  A  B  D\n",
       "0  0  1  1  1\n",
       "1  1  0  1  0\n",
       "2  1  1  0  0\n",
       "3  1  0  0  0"
      ]
     },
     "execution_count": 15,
     "metadata": {},
     "output_type": "execute_result"
    }
   ],
   "source": [
    "# Adjacency dataframe\n",
    "\n",
    "import pandas as pd\n",
    "\n",
    "adj_df = pd.DataFrame({\"C\": [0,1,1,1],\n",
    "                           \"A\": [1,0,1,0],\n",
    "                           \"B\": [1,1,0,0],\n",
    "                           \"D\": [1,0,0,0]})\n",
    "\n",
    "adj_df"
   ]
  },
  {
   "cell_type": "code",
   "execution_count": 18,
   "metadata": {},
   "outputs": [
    {
     "data": {
      "text/plain": [
       "array([[0, 1, 1, 1],\n",
       "       [1, 0, 1, 0],\n",
       "       [1, 1, 0, 0],\n",
       "       [1, 0, 0, 0]])"
      ]
     },
     "execution_count": 18,
     "metadata": {},
     "output_type": "execute_result"
    }
   ],
   "source": [
    "# Convert dataframe to numpy array\n",
    "\n",
    "import numpy as np\n",
    "\n",
    "adj_array = adj_df.to_numpy()\n",
    "\n",
    "adj_array"
   ]
  },
  {
   "cell_type": "code",
   "execution_count": 22,
   "metadata": {},
   "outputs": [
    {
     "data": {
      "text/plain": [
       "'A C D B'"
      ]
     },
     "execution_count": 22,
     "metadata": {},
     "output_type": "execute_result"
    }
   ],
   "source": [
    "# Depth first search for adj_list\n",
    "\n",
    "def dfs_non_recursive(graph, source):\n",
    "\n",
    "       if source is None or source not in graph:\n",
    "\n",
    "           return \"Invalid input\"\n",
    "\n",
    "       path = []\n",
    "\n",
    "       stack = [source]\n",
    "\n",
    "       while(len(stack) != 0):\n",
    "\n",
    "           s = stack.pop()\n",
    "\n",
    "           if s not in path:\n",
    "\n",
    "               path.append(s)\n",
    "\n",
    "           if s not in graph:\n",
    "\n",
    "               #leaf node\n",
    "               continue\n",
    "\n",
    "           for neighbor in graph[s]:\n",
    "\n",
    "               stack.append(neighbor)\n",
    "\n",
    "       return \" \".join(path)\n",
    "\n",
    "\n",
    "dfs_non_recursive(adj_list, \"A\")\n"
   ]
  }
 ],
 "metadata": {
  "kernelspec": {
   "display_name": "Python 3",
   "language": "python",
   "name": "python3"
  },
  "language_info": {
   "codemirror_mode": {
    "name": "ipython",
    "version": 3
   },
   "file_extension": ".py",
   "mimetype": "text/x-python",
   "name": "python",
   "nbconvert_exporter": "python",
   "pygments_lexer": "ipython3",
   "version": "3.8.3"
  }
 },
 "nbformat": 4,
 "nbformat_minor": 4
}
