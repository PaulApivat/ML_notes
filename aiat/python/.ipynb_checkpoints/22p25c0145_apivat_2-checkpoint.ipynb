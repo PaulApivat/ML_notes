{
 "cells": [
  {
   "cell_type": "code",
   "execution_count": 1,
   "metadata": {},
   "outputs": [
    {
     "data": {
      "text/plain": [
       "(['winn', 'thanarak', 'wanida'], 3)"
      ]
     },
     "execution_count": 1,
     "metadata": {},
     "output_type": "execute_result"
    }
   ],
   "source": [
    "#Quiz (A Win) \n",
    "\n",
    "namelist = ['winn', 'thanarak', 'somchai', 'ricky', 'tao', 'wanida', 'peerapol']\n",
    "\n",
    "def countletters(alphabet):\n",
    "  count = 0\n",
    "  subnameList = []\n",
    "  for name in namelist:\n",
    "    if alphabet in name:\n",
    "      subnameList.append(name)\n",
    "      count = count + 1\n",
    "  return subnameList, count\n",
    "\n",
    "countletters('n')"
   ]
  }
 ],
 "metadata": {
  "kernelspec": {
   "display_name": "Python 3",
   "language": "python",
   "name": "python3"
  },
  "language_info": {
   "codemirror_mode": {
    "name": "ipython",
    "version": 3
   },
   "file_extension": ".py",
   "mimetype": "text/x-python",
   "name": "python",
   "nbconvert_exporter": "python",
   "pygments_lexer": "ipython3",
   "version": "3.8.3"
  }
 },
 "nbformat": 4,
 "nbformat_minor": 4
}
