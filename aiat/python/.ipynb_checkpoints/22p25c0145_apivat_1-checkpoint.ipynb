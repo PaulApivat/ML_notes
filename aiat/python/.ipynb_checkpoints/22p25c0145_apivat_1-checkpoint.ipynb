{
 "cells": [
  {
   "cell_type": "code",
   "execution_count": null,
   "metadata": {},
   "outputs": [],
   "source": [
    "# 0. เขียนโปรแกรมหาค่าสูงสุด\n",
    "#    ในลิสต์\n",
    "# 1. เขียน 8 puzzle \n",
    "# 2. เขียน depth-first search \n",
    "#     พร้อม อะนิเมชั่น\n",
    "# 3. เลือกข้อมูล 1 อย่างจาก \n",
    "#     Kaggle มาทำการ visualize\n",
    "#     ข้อมูลในรูปแบบกราฟต่างๆ"
   ]
  },
  {
   "cell_type": "code",
   "execution_count": 3,
   "metadata": {},
   "outputs": [
    {
     "data": {
      "text/plain": [
       "90"
      ]
     },
     "execution_count": 3,
     "metadata": {},
     "output_type": "execute_result"
    }
   ],
   "source": [
    "# 0. เขียนโปรแกรมหาค่าสูงสุด\n",
    "#    ในลิสต์\n",
    "\n",
    "max_list = [23,54,78,66,32,44,90]\n",
    "\n",
    "\n",
    "def find_max_number(the_list):\n",
    "    return max(the_list)\n",
    "\n",
    "find_max_number(max_list)"
   ]
  },
  {
   "cell_type": "code",
   "execution_count": 26,
   "metadata": {},
   "outputs": [
    {
     "data": {
      "text/plain": [
       "{'A': ['B', 'C'], 'B': ['C'], 'C': ['D']}"
      ]
     },
     "execution_count": 26,
     "metadata": {},
     "output_type": "execute_result"
    }
   ],
   "source": [
    "# Adjacency List (dictionary)\n",
    "\n",
    "adj_list = {\"A\": [\"B\", \"C\"],\n",
    "          \"B\": [\"C\"],\n",
    "          \"C\": [\"D\"]}\n",
    "\n",
    "adj_list"
   ]
  },
  {
   "cell_type": "code",
   "execution_count": null,
   "metadata": {},
   "outputs": [],
   "source": []
  },
  {
   "cell_type": "code",
   "execution_count": 2,
   "metadata": {},
   "outputs": [
    {
     "name": "stdout",
     "output_type": "stream",
     "text": [
      "{'A': ['B', 'C'], 'B': ['D', 'E'], 'C': ['F'], 'D': [], 'E': ['F'], 'F': []}\n"
     ]
    }
   ],
   "source": [
    "# Adjacency List 2 (dictionary)\n",
    "\n",
    "adj_list2 = {\n",
    "    'A': ['B', 'C'],\n",
    "    'B': ['D', 'E'],\n",
    "    'C': ['F'],\n",
    "    'D': [],\n",
    "    'E': ['F'],\n",
    "    'F': []\n",
    "}\n",
    "\n"
   ]
  },
  {
   "cell_type": "code",
   "execution_count": 48,
   "metadata": {},
   "outputs": [
    {
     "data": {
      "text/plain": [
       "[2, 5, 4, 6, 0, 1, 3]"
      ]
     },
     "execution_count": 48,
     "metadata": {},
     "output_type": "execute_result"
    }
   ],
   "source": [
    "# Adjacency List 3 (list)\n",
    "\n",
    "vertex_list = ['0', '1', '2', '3', '4', '5', '6']\n",
    "\n",
    "edge_list = [(0,1), (0,2), (1,0), (1,3), (2,0),\n",
    "             (2,4), (2,5), (3,1), (4,2), (4,6), \n",
    "             (5,2), (6,4)]\n",
    "\n",
    "\n",
    "\n",
    "    \n",
    "#adj_list3\n",
    "\n",
    "graphs = (vertex_list, edge_list)\n",
    "#print(graphs)\n",
    "\n",
    "def dfs(graph, start):\n",
    "    vertex_list, edge_list = graph\n",
    "    visited_vertex = []\n",
    "    stack = [start]\n",
    "    adj_list3 = [[] for vertex in vertex_list]\n",
    "    \n",
    "    for edge in edge_list:\n",
    "        adj_list3[edge[0]].append(edge[1])\n",
    "        \n",
    "    while stack:\n",
    "        current = stack.pop()\n",
    "        for neighbor in adj_list3[current]:\n",
    "            if not neighbor in visited_vertex:\n",
    "                stack.append(neighbor)\n",
    "        visited_vertex.append(current)\n",
    "    return visited_vertex\n",
    "\n",
    "dfs(graphs, 2)"
   ]
  },
  {
   "cell_type": "code",
   "execution_count": 51,
   "metadata": {},
   "outputs": [
    {
     "name": "stdout",
     "output_type": "stream",
     "text": [
      "A\n",
      "B\n",
      "D\n",
      "E\n",
      "F\n",
      "C\n"
     ]
    }
   ],
   "source": [
    "# Depth First Search (recursive, for dictionary)\n",
    "\n",
    "visited = [] # Empty list to keep track of visited nodes.\n",
    "\n",
    "# if unvisited, mark as visited and repeat for adjacent nodes\n",
    "# repeat for all nodes\n",
    "# source is \"A\"\n",
    "\n",
    "def dfs(visited, graph, node):\n",
    "    if node not in visited:\n",
    "        print(node)\n",
    "        visited.append(node)\n",
    "        # for the adjacent nodes\n",
    "        for adjacent in graph[node]:\n",
    "            # invoke function again\n",
    "            dfs(visited, graph, adjacent)\n",
    "\n",
    "# call function on adj_list2 (graph)\n",
    "dfs(visited, adj_list2, 'A')\n",
    "\n",
    "\n",
    "\n",
    "#adj_list2['A']"
   ]
  },
  {
   "cell_type": "code",
   "execution_count": 41,
   "metadata": {},
   "outputs": [
    {
     "ename": "NameError",
     "evalue": "name 'stack' is not defined",
     "output_type": "error",
     "traceback": [
      "\u001b[0;31m---------------------------------------------------------------------------\u001b[0m",
      "\u001b[0;31mNameError\u001b[0m                                 Traceback (most recent call last)",
      "\u001b[0;32m<ipython-input-41-ec263b72c80d>\u001b[0m in \u001b[0;36m<module>\u001b[0;34m\u001b[0m\n\u001b[1;32m      1\u001b[0m \u001b[0;31m## Depth First Search (another implementation)\u001b[0m\u001b[0;34m\u001b[0m\u001b[0;34m\u001b[0m\u001b[0;34m\u001b[0m\u001b[0m\n\u001b[1;32m      2\u001b[0m \u001b[0;34m\u001b[0m\u001b[0m\n\u001b[0;32m----> 3\u001b[0;31m \u001b[0mstack\u001b[0m\u001b[0;34m[\u001b[0m\u001b[0;36m0\u001b[0m\u001b[0;34m]\u001b[0m\u001b[0;34m\u001b[0m\u001b[0;34m\u001b[0m\u001b[0m\n\u001b[0m\u001b[1;32m      4\u001b[0m \u001b[0;34m\u001b[0m\u001b[0m\n\u001b[1;32m      5\u001b[0m \u001b[0;32mwhile\u001b[0m \u001b[0mstack\u001b[0m\u001b[0;34m:\u001b[0m\u001b[0;34m\u001b[0m\u001b[0;34m\u001b[0m\u001b[0m\n",
      "\u001b[0;31mNameError\u001b[0m: name 'stack' is not defined"
     ]
    }
   ],
   "source": [
    "## Depth First Search (another implementation)\n",
    "\n"
   ]
  },
  {
   "cell_type": "code",
   "execution_count": null,
   "metadata": {},
   "outputs": [],
   "source": []
  },
  {
   "cell_type": "code",
   "execution_count": 38,
   "metadata": {},
   "outputs": [
    {
     "data": {
      "text/plain": [
       "'A C F B E D'"
      ]
     },
     "execution_count": 38,
     "metadata": {},
     "output_type": "execute_result"
    }
   ],
   "source": [
    "# 2. เขียน depth-first search \n",
    "# Depth first search for adj_list\n",
    "\n",
    "def dfs_non_recursive(graph, source):\n",
    "\n",
    "       if source is None or source not in graph:\n",
    "\n",
    "           return \"Invalid input\"\n",
    "\n",
    "       path = []\n",
    "\n",
    "       stack = [source]\n",
    "\n",
    "       while(len(stack) != 0):\n",
    "\n",
    "           s = stack.pop()\n",
    "\n",
    "           if s not in path:\n",
    "\n",
    "               path.append(s)\n",
    "\n",
    "           if s not in graph:\n",
    "\n",
    "               #leaf node\n",
    "               continue\n",
    "\n",
    "           for neighbor in graph[s]:\n",
    "\n",
    "               stack.append(neighbor)\n",
    "\n",
    "       return \" \".join(path)\n",
    "\n",
    "\n",
    "dfs_non_recursive(adj_list2, \"A\")\n"
   ]
  },
  {
   "cell_type": "code",
   "execution_count": null,
   "metadata": {},
   "outputs": [],
   "source": []
  }
 ],
 "metadata": {
  "kernelspec": {
   "display_name": "Python 3",
   "language": "python",
   "name": "python3"
  },
  "language_info": {
   "codemirror_mode": {
    "name": "ipython",
    "version": 3
   },
   "file_extension": ".py",
   "mimetype": "text/x-python",
   "name": "python",
   "nbconvert_exporter": "python",
   "pygments_lexer": "ipython3",
   "version": "3.8.3"
  }
 },
 "nbformat": 4,
 "nbformat_minor": 4
}
